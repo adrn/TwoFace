{
 "cells": [
  {
   "cell_type": "code",
   "execution_count": null,
   "metadata": {},
   "outputs": [],
   "source": [
    "import os\n",
    "from os import path\n",
    "from astropy.time import Time\n",
    "from astropy.io import fits, ascii\n",
    "import astropy.units as u\n",
    "from astropy.table import Table\n",
    "from astropy.constants import G\n",
    "\n",
    "import numpy as np\n",
    "import matplotlib.pyplot as plt\n",
    "%matplotlib inline\n",
    "import h5py\n",
    "from sqlalchemy import func\n",
    "from scipy.optimize import root\n",
    "from scipy.stats import scoreatpercentile\n",
    "import tqdm\n",
    "\n",
    "from thejoker import JokerSamples\n",
    "from thejoker.sampler import JokerParams, TheJoker\n",
    "from thejoker.plot import plot_rv_curves\n",
    "\n",
    "from twoface.config import TWOFACE_CACHE_PATH\n",
    "from twoface.db import (db_connect, AllStar, AllVisit, AllVisitToAllStar, RedClump,\n",
    "                        StarResult, Status, JokerRun, initialize_db)\n",
    "from twoface.data import APOGEERVData\n",
    "from twoface.plot import plot_data_orbits"
   ]
  },
  {
   "cell_type": "code",
   "execution_count": null,
   "metadata": {
    "collapsed": true
   },
   "outputs": [],
   "source": [
    "TWOFACE_CACHE_PATH = path.abspath('../cache/')\n",
    "samples_file = path.join(TWOFACE_CACHE_PATH, 'apogee-jitter.hdf5')"
   ]
  },
  {
   "cell_type": "code",
   "execution_count": null,
   "metadata": {
    "collapsed": true
   },
   "outputs": [],
   "source": [
    "Session, _ = db_connect(path.join(TWOFACE_CACHE_PATH, 'apogee.sqlite'))\n",
    "session = Session()"
   ]
  },
  {
   "cell_type": "code",
   "execution_count": null,
   "metadata": {},
   "outputs": [],
   "source": [
    "stars = session.query(AllStar).join(StarResult, Status, AllVisitToAllStar, AllVisit)\\\n",
    "                              .filter(Status.id > 0)\\\n",
    "                              .filter(AllStar.logg > 0)\\\n",
    "                              .group_by(AllStar.apstar_id)\\\n",
    "                              .having(func.count(AllVisit.id) >= 12)\\\n",
    "                              .all()\n",
    "len(stars)"
   ]
  },
  {
   "cell_type": "code",
   "execution_count": null,
   "metadata": {},
   "outputs": [],
   "source": [
    "%%time\n",
    "\n",
    "rows = None\n",
    "with h5py.File(samples_file, 'r') as f:\n",
    "    for star in stars:\n",
    "        samples = JokerSamples.from_hdf5(f[star.apogee_id])\n",
    "        loggs = [star.logg] * len(samples)\n",
    "        \n",
    "        this_rows = list(zip(loggs, \n",
    "                             samples['P'].to(u.day).value,\n",
    "                             samples['e'].value))\n",
    "        \n",
    "        if rows is None:\n",
    "            rows = this_rows\n",
    "        else:\n",
    "            rows = rows + this_rows\n",
    "            \n",
    "tbl = np.array(rows, dtype=[('logg', float), ('P', float), ('e', float)])"
   ]
  },
  {
   "cell_type": "code",
   "execution_count": null,
   "metadata": {},
   "outputs": [],
   "source": [
    "fig, ax = plt.subplots(1, 1, figsize=(6, 6))\n",
    "ax.plot(tbl['P'], tbl['logg'], marker='.', \n",
    "        linestyle='none', alpha=0.1, ms=2)\n",
    "\n",
    "# -- P curves --\n",
    "logg = np.linspace(0, 4, 1024)\n",
    "g = 10**logg * u.cm/u.s**2\n",
    "\n",
    "for M1 in [0.5, 1., 2] * u.Msun:\n",
    "    R = np.sqrt(G * M1 / g).to(u.au)\n",
    "\n",
    "    P = (2*np.pi * np.sqrt(R**3 / (G * M1))).to(u.day).value\n",
    "    ax.plot(P, logg, marker='', \n",
    "            label='{0:.1f} {1:latex_inline}'.format(M1.value, M1.unit))\n",
    "\n",
    "ax.legend(loc='upper right')\n",
    "    \n",
    "ax.set_xscale('log')\n",
    "ax.set_xlim(1, 32768)\n",
    "ax.set_ylim(3.55, 0)\n",
    "ax.set_xlabel('$P$ [day]')\n",
    "ax.set_ylabel('$\\log g$')\n",
    "    \n",
    "fig.tight_layout()"
   ]
  },
  {
   "cell_type": "code",
   "execution_count": null,
   "metadata": {},
   "outputs": [],
   "source": [
    "stars2 = session.query(AllStar).join(StarResult, Status)\\\n",
    "                               .filter(Status.id == 2).all()\n",
    "len(stars2)"
   ]
  },
  {
   "cell_type": "code",
   "execution_count": null,
   "metadata": {},
   "outputs": [],
   "source": [
    "%%time\n",
    "\n",
    "rows = None\n",
    "with h5py.File(samples_file, 'r') as f:\n",
    "    for star in stars2:\n",
    "        samples = JokerSamples.from_hdf5(f[star.apogee_id])\n",
    "        loggs = [star.logg] * len(samples)\n",
    "        \n",
    "        this_rows = list(zip(loggs, \n",
    "                             samples['P'].to(u.day).value,\n",
    "                             samples['e'].value))\n",
    "        \n",
    "        if rows is None:\n",
    "            rows = this_rows\n",
    "        else:\n",
    "            rows = rows + this_rows\n",
    "            \n",
    "tbl2 = np.array(rows, dtype=[('logg', float), ('P', float), ('e', float)])"
   ]
  },
  {
   "cell_type": "code",
   "execution_count": null,
   "metadata": {},
   "outputs": [],
   "source": [
    "fig, ax = plt.subplots(1, 1, figsize=(6, 6))\n",
    "ax.plot(tbl2['P'], tbl2['logg'], marker='.', \n",
    "        linestyle='none', alpha=0.4, ms=6)\n",
    "\n",
    "# -- P curves --\n",
    "logg = np.linspace(0, 4, 1024)\n",
    "g = 10**logg * u.cm/u.s**2\n",
    "\n",
    "for M1 in [0.5, 1., 2] * u.Msun:\n",
    "    R = np.sqrt(G * M1 / g).to(u.au)\n",
    "\n",
    "    P = (2*np.pi * np.sqrt(R**3 / (G * M1))).to(u.day).value\n",
    "    ax.plot(P, logg, marker='', \n",
    "            label='{0:.1f} {1:latex_inline}'.format(M1.value, M1.unit))\n",
    "\n",
    "ax.legend(loc='upper right')\n",
    "    \n",
    "ax.set_xscale('log')\n",
    "ax.set_xlim(1, 32768)\n",
    "ax.set_ylim(3.55, 0)\n",
    "ax.set_xlabel('$P$ [day]')\n",
    "ax.set_ylabel('$\\log g$')\n",
    "    \n",
    "fig.tight_layout()"
   ]
  },
  {
   "cell_type": "code",
   "execution_count": null,
   "metadata": {
    "collapsed": true
   },
   "outputs": [],
   "source": []
  }
 ],
 "metadata": {
  "anaconda-cloud": {},
  "kernelspec": {
   "display_name": "Python [conda env:twoface]",
   "language": "python",
   "name": "conda-env-twoface-py"
  },
  "language_info": {
   "codemirror_mode": {
    "name": "ipython",
    "version": 3
   },
   "file_extension": ".py",
   "mimetype": "text/x-python",
   "name": "python",
   "nbconvert_exporter": "python",
   "pygments_lexer": "ipython3",
   "version": "3.6.4"
  }
 },
 "nbformat": 4,
 "nbformat_minor": 2
}