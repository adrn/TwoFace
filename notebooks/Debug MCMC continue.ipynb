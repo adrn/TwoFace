{
 "cells": [
  {
   "cell_type": "code",
   "execution_count": null,
   "metadata": {
    "collapsed": true
   },
   "outputs": [],
   "source": [
    "import os\n",
    "from os import path\n",
    "from astropy.time import Time\n",
    "from astropy.io import fits, ascii\n",
    "import astropy.units as u\n",
    "from astropy.table import Table\n",
    "from astropy.constants import G\n",
    "from astropy.stats import median_absolute_deviation\n",
    "\n",
    "import numpy as np\n",
    "import matplotlib.pyplot as plt\n",
    "%matplotlib inline\n",
    "from matplotlib.gridspec import GridSpec\n",
    "import h5py\n",
    "import schwimmbad\n",
    "\n",
    "from thejoker import JokerSamples, JokerParams, TheJoker\n",
    "from thejoker.sampler.mcmc import TheJokerMCMCModel\n",
    "from thejoker.plot import plot_rv_curves\n",
    "\n",
    "from twoface.config import TWOFACE_CACHE_PATH\n",
    "from twoface.db import (db_connect, AllStar, AllVisit, AllVisitToAllStar, RedClump,\n",
    "                        StarResult, Status, JokerRun, initialize_db)\n",
    "from twoface.data import APOGEERVData\n",
    "from twoface.plot import plot_data_orbits\n",
    "from twoface.samples_analysis import unimodal_P"
   ]
  },
  {
   "cell_type": "code",
   "execution_count": null,
   "metadata": {
    "collapsed": true
   },
   "outputs": [],
   "source": [
    "samples_file = path.join(TWOFACE_CACHE_PATH, 'apogee-jitter.hdf5')"
   ]
  },
  {
   "cell_type": "code",
   "execution_count": null,
   "metadata": {
    "collapsed": true
   },
   "outputs": [],
   "source": [
    "Session, _ = db_connect(path.join(TWOFACE_CACHE_PATH, 'apogee.sqlite'))\n",
    "session = Session()"
   ]
  },
  {
   "cell_type": "code",
   "execution_count": null,
   "metadata": {
    "collapsed": true
   },
   "outputs": [],
   "source": [
    "run = session.query(JokerRun).filter(JokerRun.name == 'apogee-jitter').one()\n",
    "params = run.get_joker_params()"
   ]
  },
  {
   "cell_type": "code",
   "execution_count": null,
   "metadata": {
    "collapsed": true
   },
   "outputs": [],
   "source": [
    "# needs mcmc\n",
    "stars = session.query(AllStar).join(StarResult, JokerRun, Status)\\\n",
    "               .filter(JokerRun.name == 'apogee-jitter')\\\n",
    "               .filter(Status.id == 2).all()\n",
    "len(stars)"
   ]
  },
  {
   "cell_type": "code",
   "execution_count": null,
   "metadata": {
    "collapsed": true
   },
   "outputs": [],
   "source": [
    "star = stars[1]\n",
    "\n",
    "data = star.apogeervdata()\n",
    "with h5py.File(samples_file) as f:\n",
    "    samples0 = JokerSamples.from_hdf5(f[star.apogee_id])\n",
    "\n",
    "_ = plot_data_orbits(data, samples0, xlim_choice='tight')"
   ]
  },
  {
   "cell_type": "code",
   "execution_count": null,
   "metadata": {
    "collapsed": true
   },
   "outputs": [],
   "source": [
    "%%time\n",
    "\n",
    "with schwimmbad.MultiPool() as pool:\n",
    "    joker = TheJoker(params, pool=pool)\n",
    "    model, samples, sampler = joker.mcmc_sample(data, samples0, n_steps=32768,\n",
    "                                                n_walkers=256, n_burn=1024,\n",
    "                                                return_sampler=True)"
   ]
  },
  {
   "cell_type": "code",
   "execution_count": null,
   "metadata": {
    "collapsed": true
   },
   "outputs": [],
   "source": [
    "ndim = sampler.chain.shape[-1]\n",
    "\n",
    "fig, axes = plt.subplots(ndim, 3, figsize=(12, 16))\n",
    "for k in range(ndim):\n",
    "    for walker in sampler.chain[..., k]:\n",
    "        axes[k, 0].plot(walker, marker='', drawstyle='steps-mid', alpha=0.1)\n",
    "        \n",
    "    axes[k, 1].plot(np.median(sampler.chain[..., k], axis=0),\n",
    "                    marker='', drawstyle='steps-mid')\n",
    "    \n",
    "    # std = np.std(sampler.chain[..., k], axis=0)\n",
    "    std = 1.5 * median_absolute_deviation(sampler.chain[..., k], axis=0)\n",
    "    axes[k, 2].plot(std, marker='', drawstyle='steps-mid')\n",
    "    \n",
    "fig.tight_layout()"
   ]
  },
  {
   "cell_type": "code",
   "execution_count": null,
   "metadata": {
    "collapsed": true
   },
   "outputs": [],
   "source": [
    "plt.scatter(samples['P'].value, samples['e'].value, alpha=0.5, linewidth=0)"
   ]
  },
  {
   "cell_type": "code",
   "execution_count": null,
   "metadata": {
    "collapsed": true
   },
   "outputs": [],
   "source": []
  },
  {
   "cell_type": "code",
   "execution_count": null,
   "metadata": {
    "collapsed": true
   },
   "outputs": [],
   "source": [
    "_ = plot_data_orbits(data, samples0, xlim_choice='tight')\n",
    "_ = plot_data_orbits(data, samples, xlim_choice='tight', highlight_P_extrema=False)"
   ]
  },
  {
   "cell_type": "markdown",
   "metadata": {},
   "source": [
    "---"
   ]
  },
  {
   "cell_type": "code",
   "execution_count": null,
   "metadata": {
    "collapsed": true
   },
   "outputs": [],
   "source": [
    "import astropy.units as u\n",
    "from astropy.stats import median_absolute_deviation\n",
    "import numpy as np\n",
    "import matplotlib.pyplot as plt\n",
    "%matplotlib inline\n",
    "import glob\n",
    "import pickle\n",
    "from os import path"
   ]
  },
  {
   "cell_type": "code",
   "execution_count": null,
   "metadata": {
    "collapsed": true
   },
   "outputs": [],
   "source": [
    "names = [r'$\\ln P$', r'$\\sqrt{K}\\,\\cos M_0$', r'$\\sqrt{K}\\,\\sin M_0$', \n",
    "         r'$\\sqrt{e}\\,\\cos \\omega$', r'$\\sqrt{e}\\,\\sin \\omega$', \n",
    "         r'$\\ln s^2$', '$v_0$']"
   ]
  },
  {
   "cell_type": "code",
   "execution_count": null,
   "metadata": {
    "collapsed": true
   },
   "outputs": [],
   "source": [
    "for filename in glob.glob('../scripts/test-mcmc-*.pickle'):\n",
    "    with open(filename, 'rb') as f:\n",
    "        sampler = pickle.load(f)\n",
    "\n",
    "    ndim = sampler.chain.shape[-1]\n",
    "\n",
    "    fig, axes = plt.subplots(ndim, 3, figsize=(12, 16))\n",
    "    for k in range(ndim):\n",
    "        axes[k, 0].set_ylabel(names[k])\n",
    "        axes[k, 0].plot(sampler.chain[..., k].T, marker='', drawstyle='steps-mid', \n",
    "                        alpha=0.1, rasterized=True)\n",
    "        axes[k, 1].plot(np.median(sampler.chain[..., k], axis=0),\n",
    "                        marker='', drawstyle='steps-mid')\n",
    "\n",
    "        # std = np.std(sampler.chain[..., k], axis=0)\n",
    "        std = 1.5 * median_absolute_deviation(sampler.chain[..., k], axis=0)\n",
    "        axes[k, 2].plot(std, marker='', drawstyle='steps-mid')\n",
    "\n",
    "    axes[0, 0].set_title('walkers')\n",
    "    axes[0, 1].set_title('med(walkers)')\n",
    "    axes[0, 2].set_title('1.5 MAD(walkers)')\n",
    "\n",
    "    fig.tight_layout()\n",
    "    fig.savefig('../scripts/{0}.png'.format(path.splitext(path.basename(filename))[0]), dpi=250)\n",
    "    plt.close('all')"
   ]
  },
  {
   "cell_type": "code",
   "execution_count": null,
   "metadata": {
    "collapsed": true
   },
   "outputs": [],
   "source": [
    "for filename in glob.glob('../scripts/test-mcmc-*.pickle'):\n",
    "    *_, apogee_id = path.splitext(filename)[0].split('-')\n",
    "    star = session.query(AllStar).filter(AllStar.apogee_id == apogee_id).limit(1).one()\n",
    "    data = star.apogeervdata()\n",
    "    model = TheJokerMCMCModel(joker_params=params, data=data)\n",
    "    \n",
    "    with open(filename, 'rb') as f:\n",
    "        sampler = pickle.load(f)\n",
    "    \n",
    "    samples = model.unpack_samples_mcmc(sampler.chain[:, -1])\n",
    "    samples.t0 = Time(data._t0_bmjd, format='mjd', scale='tcb')\n",
    "    \n",
    "    fig = plot_data_orbits(data, samples, n_orbits=256)\n",
    "    fig.savefig('../scripts/{0}-samples.png'.format(apogee_id), dpi=260)\n",
    "    plt.close('all')"
   ]
  },
  {
   "cell_type": "code",
   "execution_count": null,
   "metadata": {
    "collapsed": true
   },
   "outputs": [],
   "source": []
  },
  {
   "cell_type": "code",
   "execution_count": null,
   "metadata": {
    "collapsed": true
   },
   "outputs": [],
   "source": []
  },
  {
   "cell_type": "code",
   "execution_count": null,
   "metadata": {
    "collapsed": true
   },
   "outputs": [],
   "source": []
  }
 ],
 "metadata": {
  "anaconda-cloud": {},
  "kernelspec": {
   "display_name": "Python [conda env:twoface]",
   "language": "python",
   "name": "conda-env-twoface-py"
  },
  "language_info": {
   "codemirror_mode": {
    "name": "ipython",
    "version": 3
   },
   "file_extension": ".py",
   "mimetype": "text/x-python",
   "name": "python",
   "nbconvert_exporter": "python",
   "pygments_lexer": "ipython3",
   "version": "3.6.2"
  }
 },
 "nbformat": 4,
 "nbformat_minor": 2
}