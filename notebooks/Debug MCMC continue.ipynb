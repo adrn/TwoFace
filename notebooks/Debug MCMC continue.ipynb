{
 "cells": [
  {
   "cell_type": "code",
   "execution_count": null,
   "metadata": {
    "collapsed": true
   },
   "outputs": [],
   "source": [
    "import os\n",
    "from os import path\n",
    "from astropy.time import Time\n",
    "from astropy.io import fits, ascii\n",
    "import astropy.units as u\n",
    "from astropy.table import Table\n",
    "from astropy.constants import G\n",
    "\n",
    "import numpy as np\n",
    "import matplotlib.pyplot as plt\n",
    "%matplotlib inline\n",
    "from matplotlib.gridspec import GridSpec\n",
    "import h5py\n",
    "import schwimmbad\n",
    "\n",
    "from thejoker import JokerSamples\n",
    "from thejoker.sampler import JokerParams, TheJoker\n",
    "from thejoker.plot import plot_rv_curves\n",
    "\n",
    "from twoface.config import TWOFACE_CACHE_PATH\n",
    "from twoface.db import (db_connect, AllStar, AllVisit, AllVisitToAllStar, RedClump,\n",
    "                        StarResult, Status, JokerRun, initialize_db)\n",
    "from twoface.data import APOGEERVData\n",
    "from twoface.plot import plot_data_orbits\n",
    "from twoface.samples_analysis import unimodal_P"
   ]
  },
  {
   "cell_type": "code",
   "execution_count": null,
   "metadata": {
    "collapsed": true
   },
   "outputs": [],
   "source": [
    "samples_file = path.join(TWOFACE_CACHE_PATH, 'apogee-jitter.hdf5')"
   ]
  },
  {
   "cell_type": "code",
   "execution_count": null,
   "metadata": {
    "collapsed": true
   },
   "outputs": [],
   "source": [
    "Session, _ = db_connect(path.join(TWOFACE_CACHE_PATH, 'apogee.sqlite'))\n",
    "session = Session()"
   ]
  },
  {
   "cell_type": "code",
   "execution_count": null,
   "metadata": {},
   "outputs": [],
   "source": [
    "run = session.query(JokerRun).filter(JokerRun.name == 'apogee-jitter').one()\n",
    "params = run.get_joker_params()"
   ]
  },
  {
   "cell_type": "code",
   "execution_count": null,
   "metadata": {},
   "outputs": [],
   "source": [
    "# needs mcmc\n",
    "stars = session.query(AllStar).join(StarResult, JokerRun, Status)\\\n",
    "               .filter(JokerRun.name == 'apogee-jitter')\\\n",
    "               .filter(Status.id == 2).all()\n",
    "len(stars)"
   ]
  },
  {
   "cell_type": "code",
   "execution_count": null,
   "metadata": {},
   "outputs": [],
   "source": [
    "star = stars[0]\n",
    "\n",
    "data = star.apogeervdata()\n",
    "with h5py.File(samples_file) as f:\n",
    "    samples0 = JokerSamples.from_hdf5(f[star.apogee_id])\n",
    "\n",
    "_ = plot_data_orbits(data, samples0, xlim_choice='tight')"
   ]
  },
  {
   "cell_type": "code",
   "execution_count": null,
   "metadata": {},
   "outputs": [],
   "source": [
    "%%time\n",
    "\n",
    "with schwimmbad.MultiPool() as pool:\n",
    "    joker = TheJoker(params, pool=pool)\n",
    "    model, samples, sampler = joker.mcmc_sample(data, samples0, n_steps=32768,\n",
    "                                                n_walkers=256, n_burn=1024,\n",
    "                                                return_sampler=True)"
   ]
  },
  {
   "cell_type": "code",
   "execution_count": null,
   "metadata": {},
   "outputs": [],
   "source": [
    "ndim = sampler.chain.shape[-1]\n",
    "\n",
    "fig, axes = plt.subplots(ndim, 2, figsize=(10, 16))\n",
    "for k in range(ndim):\n",
    "    for walker in sampler.chain[..., k]:\n",
    "        axes[k, 0].plot(walker, marker='', drawstyle='steps-mid', alpha=0.1)\n",
    "        \n",
    "    axes[k, 1].plot(np.std(sampler.chain[..., k], axis=0),\n",
    "                    marker='', drawstyle='steps-mid')"
   ]
  },
  {
   "cell_type": "code",
   "execution_count": null,
   "metadata": {},
   "outputs": [],
   "source": [
    "_ = plot_data_orbits(data, samples0, xlim_choice='tight')\n",
    "_ = plot_data_orbits(data, samples, xlim_choice='tight', highlight_P_extrema=False)"
   ]
  },
  {
   "cell_type": "code",
   "execution_count": null,
   "metadata": {},
   "outputs": [],
   "source": [
    "plt.scatter(samples['P'].value, samples['e'].value, alpha=0.5, linewidth=0)"
   ]
  },
  {
   "cell_type": "code",
   "execution_count": null,
   "metadata": {
    "collapsed": true
   },
   "outputs": [],
   "source": []
  },
  {
   "cell_type": "code",
   "execution_count": null,
   "metadata": {
    "collapsed": true
   },
   "outputs": [],
   "source": [
    "for star in stars2:\n",
    "    with h5py.File(samples_file) as f:\n",
    "        samples = JokerSamples.from_hdf5(f[star.apogee_id])\n",
    "\n",
    "    # compute minimum companion mass\n",
    "    if star.martig_filter:\n",
    "        m2_mins = []\n",
    "        for i in range(len(samples)):\n",
    "            orbit = samples.get_orbit(i)\n",
    "            res = root(m2_func, x0=10, args=(star.martig_mass, 1., orbit.m_f.value))\n",
    "            m2_mins.append(res.x[0])\n",
    "        m2_mins = m2_mins*u.Msun\n",
    "        # print('m1 = {0:.3f}'.format(star.martig_mass*u.Msun))\n",
    "        # print('m2 = {0:.3f}, {1:.2f}'.format(np.mean(m2_mins), np.mean(m2_mins).to(u.Mjup)))\n",
    "        m1 = star.martig_mass*u.Msun\n",
    "        m2 = np.mean(m2_mins)\n",
    "\n",
    "    else:\n",
    "        m1 = None\n",
    "        m2 = None\n",
    "\n",
    "    # acceleration percentile\n",
    "    acc = acc_per[all_apogee_ids == star.apogee_id][0] * K_unit/P_unit\n",
    "\n",
    "    fig = make_two_panel(star, m1=m1, m2=m2, acc=acc)\n",
    "    fig.savefig('../plots/needs-mcmc/{0}-2panel.png'.format(star.apogee_id), dpi=200)\n",
    "    \n",
    "    fig = make_phase_fold(star)\n",
    "    fig.savefig('../plots/needs-mcmc/{0}-residual.png'.format(star.apogee_id), dpi=200)\n",
    "    \n",
    "    plt.close('all')"
   ]
  },
  {
   "cell_type": "code",
   "execution_count": null,
   "metadata": {
    "collapsed": true
   },
   "outputs": [],
   "source": []
  },
  {
   "cell_type": "code",
   "execution_count": null,
   "metadata": {
    "collapsed": true
   },
   "outputs": [],
   "source": []
  }
 ],
 "metadata": {
  "anaconda-cloud": {},
  "kernelspec": {
   "display_name": "Python [conda env:twoface]",
   "language": "python",
   "name": "conda-env-twoface-py"
  },
  "language_info": {
   "codemirror_mode": {
    "name": "ipython",
    "version": 3
   },
   "file_extension": ".py",
   "mimetype": "text/x-python",
   "name": "python",
   "nbconvert_exporter": "python",
   "pygments_lexer": "ipython3",
   "version": "3.6.2"
  }
 },
 "nbformat": 4,
 "nbformat_minor": 2
}