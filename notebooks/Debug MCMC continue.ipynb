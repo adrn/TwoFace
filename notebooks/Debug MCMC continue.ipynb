{
 "cells": [
  {
   "cell_type": "code",
   "execution_count": null,
   "metadata": {
    "collapsed": true
   },
   "outputs": [],
   "source": [
    "import os\n",
    "from os import path\n",
    "from astropy.time import Time\n",
    "from astropy.io import fits, ascii\n",
    "import astropy.units as u\n",
    "from astropy.table import Table\n",
    "from astropy.constants import G\n",
    "\n",
    "import numpy as np\n",
    "import matplotlib.pyplot as plt\n",
    "%matplotlib inline\n",
    "import h5py\n",
    "\n",
    "from thejoker import JokerSamples, JokerParams, TheJoker\n",
    "from thejoker.sampler.mcmc import TheJokerMCMCModel\n",
    "from thejoker.plot import plot_rv_curves\n",
    "\n",
    "from twoface.config import TWOFACE_CACHE_PATH\n",
    "from twoface.db import (db_connect, AllStar, AllVisit, AllVisitToAllStar, \n",
    "                        StarResult, Status, JokerRun, initialize_db)\n",
    "from twoface.data import APOGEERVData\n",
    "from twoface.plot import plot_two_panel, plot_mcmc_diagnostic, plot_phase_fold\n",
    "from twoface.mass import stellar_radius, get_m2_min"
   ]
  },
  {
   "cell_type": "code",
   "execution_count": null,
   "metadata": {
    "collapsed": true
   },
   "outputs": [],
   "source": [
    "plot_path = path.abspath('../plots/mcmc-unimodal')\n",
    "os.makedirs(plot_path, exist_ok=True)"
   ]
  },
  {
   "cell_type": "code",
   "execution_count": null,
   "metadata": {
    "collapsed": true
   },
   "outputs": [],
   "source": [
    "samples_file = path.join(TWOFACE_CACHE_PATH, 'apogee-jitter.hdf5')\n",
    "mcmc_samples_file = path.join(TWOFACE_CACHE_PATH, 'apogee-jitter-mcmc.hdf5')"
   ]
  },
  {
   "cell_type": "code",
   "execution_count": null,
   "metadata": {
    "collapsed": true
   },
   "outputs": [],
   "source": [
    "Session, _ = db_connect(path.join(TWOFACE_CACHE_PATH, 'apogee.sqlite'))\n",
    "session = Session()"
   ]
  },
  {
   "cell_type": "code",
   "execution_count": null,
   "metadata": {},
   "outputs": [],
   "source": [
    "run = session.query(JokerRun).filter(JokerRun.name == 'apogee-jitter').one()\n",
    "params = run.get_joker_params()"
   ]
  },
  {
   "cell_type": "code",
   "execution_count": null,
   "metadata": {},
   "outputs": [],
   "source": [
    "apogee_ids = []\n",
    "with h5py.File(mcmc_samples_file) as f:\n",
    "    for i, apogee_id in enumerate(f.keys()):\n",
    "        if i == 0:\n",
    "            R = np.zeros((len(f.keys()), len(f[apogee_id]['chain-stats/gelman_rubin'])))\n",
    "            \n",
    "        R[i] = f[apogee_id]['chain-stats/gelman_rubin']\n",
    "        apogee_ids.append(apogee_id)\n",
    "apogee_ids = np.array(apogee_ids)"
   ]
  },
  {
   "cell_type": "code",
   "execution_count": null,
   "metadata": {},
   "outputs": [],
   "source": [
    "_, bins, _ = plt.hist(R.max(axis=1), bins=np.linspace(1, 5, 64));\n",
    "_, bins, _ = plt.hist(np.median(R, axis=1), bins=bins);\n",
    "plt.axvline(1.1)"
   ]
  },
  {
   "cell_type": "code",
   "execution_count": null,
   "metadata": {},
   "outputs": [],
   "source": [
    "idx = np.mean(R, axis=1) < 1.1"
   ]
  },
  {
   "cell_type": "code",
   "execution_count": null,
   "metadata": {},
   "outputs": [],
   "source": [
    "with h5py.File(mcmc_samples_file) as f:\n",
    "    for key in apogee_ids[idx]:\n",
    "        samples = JokerSamples.from_hdf5(f[key])\n",
    "        data = AllStar.get_apogee_id(session, key).apogeervdata()\n",
    "        samples.t0 = data.t0\n",
    "        \n",
    "        fig = plot_two_panel(data, samples, plot_data_orbits_kw=dict(highlight_P_extrema=False))\n",
    "        fig.savefig(path.join(plot_path, '{0}.png'.format(key)), dpi=250)\n",
    "        plt.close(fig)\n",
    "        \n",
    "        fig = plot_phase_fold(data, samples[np.random.randint(len(samples))])\n",
    "        fig.savefig(path.join(plot_path, '{0}-phase.png'.format(key)), dpi=250)\n",
    "        plt.close(fig)"
   ]
  },
  {
   "cell_type": "code",
   "execution_count": null,
   "metadata": {},
   "outputs": [],
   "source": [
    "Ps = []\n",
    "Perrs = []\n",
    "eccs = []\n",
    "eccerrs = []\n",
    "loggs = []\n",
    "Ms = []\n",
    "with h5py.File(mcmc_samples_file) as f:\n",
    "    for key in apogee_ids:\n",
    "        Ps.append(np.mean(f[key]['P']))\n",
    "        eccs.append(np.mean(f[key]['e']))\n",
    "        Perrs.append(np.std(f[key]['P']))\n",
    "        eccerrs.append(np.std(f[key]['e']))\n",
    "        \n",
    "        star = AllStar.get_apogee_id(session, key)\n",
    "        loggs.append(star.logg)\n",
    "        Ms.append(star.martig_mass)\n",
    "        \n",
    "full_tbl = Table({\n",
    "    'P': Ps, 'P_err': Perrs,\n",
    "    'e': eccs, 'e_err': eccerrs,\n",
    "    'logg': loggs, 'M1': Ms\n",
    "})\n",
    "\n",
    "tbl = full_tbl[idx]"
   ]
  },
  {
   "cell_type": "code",
   "execution_count": null,
   "metadata": {},
   "outputs": [],
   "source": [
    "_t1 = tbl[ (tbl['logg'] > 2.)]\n",
    "\n",
    "fig, ax = plt.subplots(1, 1, figsize=(6, 6))\n",
    "\n",
    "ax.errorbar(_t1['P'], _t1['e'], xerr=_t1['P_err'], yerr=_t1['e_err'], \n",
    "            marker='o', linestyle='none')\n",
    "\n",
    "ax.set_xscale('log')\n",
    "ax.set_xlim(1, 2000)\n",
    "ax.set_ylim(-0.02, 1.02);\n",
    "\n",
    "ax.set_xlabel('period, $P$ [day]')\n",
    "ax.set_ylabel('eccentricity, $e$')\n",
    "\n",
    "fig.tight_layout()"
   ]
  },
  {
   "cell_type": "code",
   "execution_count": null,
   "metadata": {},
   "outputs": [],
   "source": [
    "xs = []\n",
    "xerrs = []\n",
    "ys = []\n",
    "yerrs = []\n",
    "with h5py.File(mcmc_samples_file) as f:\n",
    "    for key in apogee_ids[idx][(tbl['logg'] > 2.) & (tbl['M1'] > 0)]:\n",
    "        star = AllStar.get_apogee_id(session, key)\n",
    "        M = star.martig_mass*u.Msun\n",
    "        R = stellar_radius(star, M)\n",
    "        \n",
    "        xs.append(np.mean(f[key]['P']) / np.sqrt(R**3 / (G*M)).to(u.day).value)\n",
    "        ys.append(np.mean(f[key]['e']))\n",
    "        \n",
    "        xerrs.append(np.std(f[key]['P']) / np.sqrt(R**3 / (G*M)).to(u.day).value)\n",
    "        yerrs.append(np.std(f[key]['e']))"
   ]
  },
  {
   "cell_type": "code",
   "execution_count": null,
   "metadata": {},
   "outputs": [],
   "source": [
    "fig, ax = plt.subplots(1, 1, figsize=(6, 6))\n",
    "\n",
    "ax.errorbar(xs, ys, xerr=xerrs, yerr=yerrs, \n",
    "            marker='o', linestyle='none')\n",
    "\n",
    "ax.set_xscale('log')\n",
    "ax.set_xlim(1, 10000)\n",
    "ax.set_ylim(-0.02, 1.02);\n",
    "\n",
    "ax.set_xlabel(r'$P / P_\\odot$')\n",
    "ax.set_ylabel('eccentricity, $e$')\n",
    "\n",
    "fig.tight_layout()"
   ]
  },
  {
   "cell_type": "code",
   "execution_count": null,
   "metadata": {},
   "outputs": [],
   "source": [
    "fig, ax = plt.subplots(1, 1, figsize=(6, 6))\n",
    "\n",
    "# ax.errorbar(full_tbl['P'], full_tbl['logg'], \n",
    "#             marker='o', linestyle='none')\n",
    "ax.errorbar(tbl['P'], tbl['logg'], xerr=tbl['P_err'], \n",
    "            marker='o', linestyle='none')\n",
    "\n",
    "ax.set_xscale('log')\n",
    "ax.set_xlim(1, 2000)\n",
    "ax.set_ylim(4, 0);\n",
    "\n",
    "ax.set_xlabel('period, $P$ [day]')\n",
    "# ax.set_ylabel('eccentricity, $e$')\n",
    "\n",
    "fig.tight_layout()"
   ]
  },
  {
   "cell_type": "code",
   "execution_count": null,
   "metadata": {
    "collapsed": true
   },
   "outputs": [],
   "source": []
  },
  {
   "cell_type": "markdown",
   "metadata": {},
   "source": [
    "---"
   ]
  },
  {
   "cell_type": "code",
   "execution_count": null,
   "metadata": {
    "collapsed": true
   },
   "outputs": [],
   "source": [
    "import pickle\n",
    "with open('../cache/emcee/model.pickle', 'rb') as f:\n",
    "    model = pickle.load(f)"
   ]
  },
  {
   "cell_type": "code",
   "execution_count": null,
   "metadata": {
    "collapsed": true
   },
   "outputs": [],
   "source": [
    "star = AllStar.get_apogee_id(session, '2M03002442+4423109')\n",
    "data = star.apogeervdata()"
   ]
  },
  {
   "cell_type": "code",
   "execution_count": null,
   "metadata": {
    "collapsed": true
   },
   "outputs": [],
   "source": [
    "with h5py.File(samples_file, 'r') as f:\n",
    "    samples = JokerSamples.from_hdf5(f[star.apogee_id])"
   ]
  },
  {
   "cell_type": "code",
   "execution_count": null,
   "metadata": {
    "collapsed": true
   },
   "outputs": [],
   "source": [
    "_ = plot_data_orbits(data, samples)"
   ]
  },
  {
   "cell_type": "code",
   "execution_count": null,
   "metadata": {
    "collapsed": true
   },
   "outputs": [],
   "source": [
    "# model = TheJokerMCMCModel(params, data)\n",
    "params2 = JokerParams(params.P_min, params.P_max, jitter_unit=u.m/u.s, jitter=(8.5, 0.9))\n",
    "model = TheJokerMCMCModel(params2, data)\n",
    "sams = samples[0]\n",
    "pars = model.pack_samples(sams)\n",
    "print(model.ln_likelihood(pars))"
   ]
  },
  {
   "cell_type": "code",
   "execution_count": null,
   "metadata": {
    "collapsed": true
   },
   "outputs": [],
   "source": [
    "pars = model.pack_samples(sams)\n",
    "print(model.ln_posterior(model.to_mcmc_params(pars)))\n",
    "\n",
    "pars[0] = np.exp(8.)\n",
    "pars[4] = 1.\n",
    "print(model.ln_posterior(model.to_mcmc_params(pars)))"
   ]
  },
  {
   "cell_type": "code",
   "execution_count": null,
   "metadata": {
    "collapsed": true
   },
   "outputs": [],
   "source": [
    "%%time\n",
    "\n",
    "with schwimmbad.MultiPool() as pool:\n",
    "    # joker = TheJoker(params)\n",
    "    joker = TheJoker(params2)\n",
    "    model, mcmc_samples, sampler = joker.mcmc_sample(data, samples[0], \n",
    "                                                     n_steps=8192, n_burn=0, \n",
    "                                                     return_sampler=True)"
   ]
  },
  {
   "cell_type": "code",
   "execution_count": null,
   "metadata": {
    "collapsed": true
   },
   "outputs": [],
   "source": [
    "_ = plot_mcmc_diagnostic(sampler.chain)"
   ]
  },
  {
   "cell_type": "code",
   "execution_count": null,
   "metadata": {
    "collapsed": true
   },
   "outputs": [],
   "source": [
    "derps = model.unpack_samples_mcmc(sampler.chain[:, -1])\n",
    "derps.t0 = data.t0"
   ]
  },
  {
   "cell_type": "code",
   "execution_count": null,
   "metadata": {
    "collapsed": true
   },
   "outputs": [],
   "source": [
    "_ = plot_phase_fold(star, derps[0])"
   ]
  },
  {
   "cell_type": "code",
   "execution_count": null,
   "metadata": {
    "collapsed": true
   },
   "outputs": [],
   "source": [
    "_ = plot_data_orbits(data, derps, xlim_choice='tight', highlight_P_extrema=False)"
   ]
  },
  {
   "cell_type": "markdown",
   "metadata": {},
   "source": [
    "---"
   ]
  },
  {
   "cell_type": "code",
   "execution_count": null,
   "metadata": {
    "collapsed": true
   },
   "outputs": [],
   "source": [
    "# needs mcmc\n",
    "stars = session.query(AllStar).join(StarResult, JokerRun, Status)\\\n",
    "               .filter(JokerRun.name == 'apogee-jitter')\\\n",
    "               .filter(Status.id == 2).all()\n",
    "len(stars)"
   ]
  },
  {
   "cell_type": "code",
   "execution_count": null,
   "metadata": {
    "collapsed": true
   },
   "outputs": [],
   "source": [
    "star = stars[1]\n",
    "\n",
    "data = star.apogeervdata()\n",
    "with h5py.File(samples_file) as f:\n",
    "    samples0 = JokerSamples.from_hdf5(f[star.apogee_id])\n",
    "\n",
    "_ = plot_data_orbits(data, samples0, xlim_choice='tight')"
   ]
  },
  {
   "cell_type": "code",
   "execution_count": null,
   "metadata": {
    "collapsed": true
   },
   "outputs": [],
   "source": [
    "%%time\n",
    "\n",
    "with schwimmbad.MultiPool() as pool:\n",
    "    joker = TheJoker(params, pool=pool)\n",
    "    model, samples, sampler = joker.mcmc_sample(data, samples0, n_steps=32768,\n",
    "                                                n_walkers=256, n_burn=1024,\n",
    "                                                return_sampler=True)"
   ]
  },
  {
   "cell_type": "code",
   "execution_count": null,
   "metadata": {
    "collapsed": true
   },
   "outputs": [],
   "source": [
    "ndim = sampler.chain.shape[-1]\n",
    "\n",
    "fig, axes = plt.subplots(ndim, 3, figsize=(12, 16))\n",
    "for k in range(ndim):\n",
    "    for walker in sampler.chain[..., k]:\n",
    "        axes[k, 0].plot(walker, marker='', drawstyle='steps-mid', alpha=0.1)\n",
    "        \n",
    "    axes[k, 1].plot(np.median(sampler.chain[..., k], axis=0),\n",
    "                    marker='', drawstyle='steps-mid')\n",
    "    \n",
    "    # std = np.std(sampler.chain[..., k], axis=0)\n",
    "    std = 1.5 * median_absolute_deviation(sampler.chain[..., k], axis=0)\n",
    "    axes[k, 2].plot(std, marker='', drawstyle='steps-mid')\n",
    "    \n",
    "fig.tight_layout()"
   ]
  },
  {
   "cell_type": "code",
   "execution_count": null,
   "metadata": {
    "collapsed": true
   },
   "outputs": [],
   "source": [
    "plt.scatter(samples['P'].value, samples['e'].value, alpha=0.5, linewidth=0)"
   ]
  },
  {
   "cell_type": "code",
   "execution_count": null,
   "metadata": {
    "collapsed": true
   },
   "outputs": [],
   "source": []
  },
  {
   "cell_type": "code",
   "execution_count": null,
   "metadata": {
    "collapsed": true
   },
   "outputs": [],
   "source": [
    "_ = plot_data_orbits(data, samples0, xlim_choice='tight')\n",
    "_ = plot_data_orbits(data, samples, xlim_choice='tight', highlight_P_extrema=False)"
   ]
  },
  {
   "cell_type": "markdown",
   "metadata": {},
   "source": [
    "---"
   ]
  },
  {
   "cell_type": "code",
   "execution_count": null,
   "metadata": {
    "collapsed": true
   },
   "outputs": [],
   "source": [
    "import astropy.units as u\n",
    "from astropy.stats import median_absolute_deviation\n",
    "import numpy as np\n",
    "import matplotlib.pyplot as plt\n",
    "%matplotlib inline\n",
    "import glob\n",
    "import pickle\n",
    "from os import path"
   ]
  },
  {
   "cell_type": "code",
   "execution_count": null,
   "metadata": {
    "collapsed": true
   },
   "outputs": [],
   "source": [
    "names = [r'$\\ln P$', r'$\\sqrt{K}\\,\\cos M_0$', r'$\\sqrt{K}\\,\\sin M_0$', \n",
    "         r'$\\sqrt{e}\\,\\cos \\omega$', r'$\\sqrt{e}\\,\\sin \\omega$', \n",
    "         r'$\\ln s^2$', '$v_0$']"
   ]
  },
  {
   "cell_type": "code",
   "execution_count": null,
   "metadata": {
    "collapsed": true
   },
   "outputs": [],
   "source": [
    "for filename in glob.glob('../scripts/test-mcmc-*.pickle'):\n",
    "    with open(filename, 'rb') as f:\n",
    "        sampler = pickle.load(f)\n",
    "\n",
    "    ndim = sampler.chain.shape[-1]\n",
    "\n",
    "    fig, axes = plt.subplots(ndim, 3, figsize=(12, 16))\n",
    "    for k in range(ndim):\n",
    "        axes[k, 0].set_ylabel(names[k])\n",
    "        axes[k, 0].plot(sampler.chain[..., k].T, marker='', drawstyle='steps-mid', \n",
    "                        alpha=0.1, rasterized=True)\n",
    "        axes[k, 1].plot(np.median(sampler.chain[..., k], axis=0),\n",
    "                        marker='', drawstyle='steps-mid')\n",
    "\n",
    "        # std = np.std(sampler.chain[..., k], axis=0)\n",
    "        std = 1.5 * median_absolute_deviation(sampler.chain[..., k], axis=0)\n",
    "        axes[k, 2].plot(std, marker='', drawstyle='steps-mid')\n",
    "\n",
    "    axes[0, 0].set_title('walkers')\n",
    "    axes[0, 1].set_title('med(walkers)')\n",
    "    axes[0, 2].set_title('1.5 MAD(walkers)')\n",
    "\n",
    "    fig.tight_layout()\n",
    "    fig.savefig('../scripts/{0}.png'.format(path.splitext(path.basename(filename))[0]), dpi=250)\n",
    "    plt.close('all')"
   ]
  },
  {
   "cell_type": "code",
   "execution_count": null,
   "metadata": {
    "collapsed": true
   },
   "outputs": [],
   "source": [
    "for filename in glob.glob('../scripts/test-mcmc-*.pickle'):\n",
    "    *_, apogee_id = path.splitext(filename)[0].split('-')\n",
    "    star = session.query(AllStar).filter(AllStar.apogee_id == apogee_id).limit(1).one()\n",
    "    data = star.apogeervdata()\n",
    "    model = TheJokerMCMCModel(joker_params=params, data=data)\n",
    "    \n",
    "    with open(filename, 'rb') as f:\n",
    "        sampler = pickle.load(f)\n",
    "    \n",
    "    samples = model.unpack_samples_mcmc(sampler.chain[:, -1])\n",
    "    samples.t0 = Time(data._t0_bmjd, format='mjd', scale='tcb')\n",
    "    \n",
    "    fig = plot_data_orbits(data, samples, n_orbits=256)\n",
    "    fig.savefig('../scripts/{0}-samples.png'.format(apogee_id), dpi=260)\n",
    "    plt.close('all')"
   ]
  },
  {
   "cell_type": "code",
   "execution_count": null,
   "metadata": {
    "collapsed": true
   },
   "outputs": [],
   "source": []
  },
  {
   "cell_type": "code",
   "execution_count": null,
   "metadata": {
    "collapsed": true
   },
   "outputs": [],
   "source": []
  },
  {
   "cell_type": "code",
   "execution_count": null,
   "metadata": {
    "collapsed": true
   },
   "outputs": [],
   "source": []
  }
 ],
 "metadata": {
  "anaconda-cloud": {},
  "kernelspec": {
   "display_name": "Python [conda env:twoface]",
   "language": "python",
   "name": "conda-env-twoface-py"
  },
  "language_info": {
   "codemirror_mode": {
    "name": "ipython",
    "version": 3
   },
   "file_extension": ".py",
   "mimetype": "text/x-python",
   "name": "python",
   "nbconvert_exporter": "python",
   "pygments_lexer": "ipython3",
   "version": "3.6.2"
  }
 },
 "nbformat": 4,
 "nbformat_minor": 2
}