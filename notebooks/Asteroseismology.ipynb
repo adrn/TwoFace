{
 "cells": [
  {
   "cell_type": "code",
   "execution_count": null,
   "metadata": {
    "collapsed": true
   },
   "outputs": [],
   "source": [
    "import os\n",
    "from os import path\n",
    "from astropy.time import Time\n",
    "from astropy.io import fits, ascii\n",
    "import astropy.units as u\n",
    "from astropy.table import Table\n",
    "from astropy.constants import G\n",
    "\n",
    "import numpy as np\n",
    "import matplotlib.pyplot as plt\n",
    "from matplotlib.colors import LogNorm\n",
    "%matplotlib inline\n",
    "import h5py\n",
    "import pandas as pd\n",
    "from sqlalchemy import func\n",
    "from scipy.optimize import root\n",
    "from scipy.stats import scoreatpercentile\n",
    "import tqdm\n",
    "\n",
    "from thejoker import JokerSamples\n",
    "from thejoker.sampler import JokerParams, TheJoker\n",
    "from thejoker.plot import plot_rv_curves\n",
    "\n",
    "from twoface.config import TWOFACE_CACHE_PATH\n",
    "from twoface.db import (db_connect, AllStar, AllVisit, AllVisitToAllStar, \n",
    "                        StarResult, Status, JokerRun, initialize_db)\n",
    "from twoface.data import APOGEERVData\n",
    "from twoface.plot import plot_data_orbits"
   ]
  },
  {
   "cell_type": "code",
   "execution_count": null,
   "metadata": {
    "collapsed": true
   },
   "outputs": [],
   "source": [
    "TWOFACE_CACHE_PATH = path.abspath('../cache/')\n",
    "samples_file = path.join(TWOFACE_CACHE_PATH, 'apogee-jitter.hdf5')"
   ]
  },
  {
   "cell_type": "code",
   "execution_count": null,
   "metadata": {
    "collapsed": true
   },
   "outputs": [],
   "source": [
    "Session, _ = db_connect(path.join(TWOFACE_CACHE_PATH, 'apogee.sqlite'))\n",
    "session = Session()"
   ]
  },
  {
   "cell_type": "code",
   "execution_count": null,
   "metadata": {
    "collapsed": true
   },
   "outputs": [],
   "source": [
    "stars = session.query(AllStar).join(StarResult, Status)\\\n",
    "                              .filter(Status.id.in_([1,2]))\\\n",
    "                              .all()\n",
    "len(stars)"
   ]
  },
  {
   "cell_type": "code",
   "execution_count": null,
   "metadata": {
    "collapsed": true
   },
   "outputs": [],
   "source": [
    "%%time\n",
    "\n",
    "rows = None\n",
    "with h5py.File(samples_file, 'r') as f:\n",
    "    for star in tqdm.tqdm(stars):\n",
    "        # samples = JokerSamples.from_hdf5(f[star.apogee_id])\n",
    "        K = f[star.apogee_id]['K'][:]\n",
    "        P = f[star.apogee_id]['P'][:]\n",
    "        ecc = f[star.apogee_id]['e'][:]\n",
    "        vsini = [star.vsini] * len(P)\n",
    "        loggs = [star.logg] * len(P)\n",
    "        status = [star.results[0].status_id] * len(P)\n",
    "        apogee_ids = [star.apogee_id] * len(P)\n",
    "        \n",
    "        this_rows = list(zip(apogee_ids, loggs, vsini, P, ecc, K, status))\n",
    "        \n",
    "        if rows is None:\n",
    "            rows = this_rows\n",
    "        else:\n",
    "            rows = rows + this_rows\n",
    "            \n",
    "tbl_ = np.array(rows, dtype=[('apogee_id', 'U25'), ('logg', float), ('vsini', float),\n",
    "                             ('P', float), ('e', float), ('K', float), \n",
    "                             ('status', int)])\n",
    "df = pd.DataFrame(tbl_)\n",
    "print(len(df))"
   ]
  },
  {
   "cell_type": "code",
   "execution_count": null,
   "metadata": {},
   "outputs": [],
   "source": [
    "huh = df.groupby('apogee_id')\n",
    "tbl = huh.filter(lambda x: np.percentile(x['K'], 15) > 1.)\n",
    "len(tbl)"
   ]
  },
  {
   "cell_type": "code",
   "execution_count": null,
   "metadata": {},
   "outputs": [],
   "source": [
    "def get_P(m1, m2, logg):\n",
    "    logg = np.asarray(logg)\n",
    "    return (2*np.pi * G**(1/4.) * (m1+m2) / (m1**(3/4.)) * (10**logg*u.cm/u.s**2)**(-3/4)).to(u.day)"
   ]
  },
  {
   "cell_type": "code",
   "execution_count": null,
   "metadata": {
    "collapsed": true
   },
   "outputs": [],
   "source": [
    "fig, ax = plt.subplots(1, 1, figsize=(6, 6))\n",
    "ax.plot(tbl['P'], tbl['logg'], marker='.', \n",
    "        linestyle='none', alpha=0.2, ms=2, color='k')\n",
    "\n",
    "# -- P curves --\n",
    "logg = np.linspace(0, 4, 1024)\n",
    "\n",
    "for M1 in [0.5, 1., 2] * u.Msun:\n",
    "    P1 = get_P(M1, 1E-5*u.Msun, logg).value\n",
    "    P2 = get_P(M1, M1, logg).value\n",
    "    \n",
    "    ax.fill_betweenx(logg, P1, P2, alpha=0.5, linewidth=0,\n",
    "                     label='{0:.1f} {1:latex_inline}'.format(M1.value, M1.unit))\n",
    "\n",
    "ax.legend(loc='upper right')\n",
    "    \n",
    "ax.set_xscale('log')\n",
    "ax.set_xlim(1, 32768)\n",
    "ax.set_ylim(3.55, 0)\n",
    "ax.set_xlabel('$P$ [day]')\n",
    "ax.set_ylabel('$\\log g$')\n",
    "    \n",
    "fig.tight_layout()"
   ]
  },
  {
   "cell_type": "code",
   "execution_count": null,
   "metadata": {
    "collapsed": true
   },
   "outputs": [],
   "source": [
    "sub_tbl = tbl[tbl['status'] == 2]"
   ]
  },
  {
   "cell_type": "code",
   "execution_count": null,
   "metadata": {},
   "outputs": [],
   "source": [
    "def make_plot(tbl, c=None, clabel='', **kw):\n",
    "    \n",
    "    if c is None:\n",
    "        fig, ax = plt.subplots(1, 1, figsize=(6, 6))\n",
    "        ax.plot(tbl['P'], tbl['logg'], linestyle='none', \n",
    "                marker='.', ms=4, alpha=0.3)\n",
    "        \n",
    "    else:\n",
    "        fig, ax = plt.subplots(1, 1, figsize=(7.2, 6))\n",
    "        cs = ax.scatter(tbl['P'], tbl['logg'], c=c,\n",
    "                        marker='o', alpha=0.65, s=15, linewidth=0,\n",
    "                        cmap='magma_r', **kw)\n",
    "        cb = fig.colorbar(cs)\n",
    "        cb.set_label(clabel)\n",
    "\n",
    "    # -- P curves --\n",
    "    logg = np.linspace(0, 4, 1024)\n",
    "\n",
    "    for M1 in [1.] * u.Msun:\n",
    "        P1 = get_P(M1, 1E-5*u.Msun, logg).value\n",
    "        P2 = get_P(M1, M1, logg).value\n",
    "\n",
    "        ax.fill_betweenx(logg, P1, P2, alpha=0.5, linewidth=0, color='#aaaaaa', zorder=-100,\n",
    "                         label='$M_1 = ${0:.1f} {1:latex_inline}'.format(M1.value, M1.unit))\n",
    "\n",
    "    ax.legend(loc='upper right')\n",
    "\n",
    "    ax.set_xscale('log')\n",
    "    ax.set_xlim(1, 32768)\n",
    "    ax.set_ylim(3.55, 0)\n",
    "    ax.set_xlabel('$P$ [day]')\n",
    "    ax.set_ylabel('$\\log g$')\n",
    "\n",
    "    fig.tight_layout()"
   ]
  },
  {
   "cell_type": "code",
   "execution_count": null,
   "metadata": {},
   "outputs": [],
   "source": [
    "fig = make_plot(sub_tbl, sub_tbl['K'], \n",
    "                '$K$ [{0:latex_inline}]'.format(u.km/u.s),\n",
    "                norm=LogNorm(1., 50.))\n",
    "fig"
   ]
  },
  {
   "cell_type": "code",
   "execution_count": null,
   "metadata": {
    "collapsed": true
   },
   "outputs": [],
   "source": [
    "fig = make_plot(sub_tbl, sub_tbl['e'], \n",
    "                '$e$', vmin=0, vmax=1)\n",
    "fig"
   ]
  },
  {
   "cell_type": "code",
   "execution_count": null,
   "metadata": {},
   "outputs": [],
   "source": [
    "fig = make_plot(sub_tbl[sub_tbl['vsini']>0], sub_tbl['vsini'][sub_tbl['vsini']>0], \n",
    "                r'$v \\sin i$', norm=LogNorm(0.1, 100.))\n",
    "fig"
   ]
  },
  {
   "cell_type": "markdown",
   "metadata": {},
   "source": [
    "### Now select stars in the upper corner to look at:"
   ]
  },
  {
   "cell_type": "code",
   "execution_count": null,
   "metadata": {},
   "outputs": [],
   "source": [
    "corner_tmp = tbl[(tbl['logg'] > 0.) & (tbl['logg'] < 2.)].groupby('apogee_id')\n",
    "corner = corner_tmp.filter(lambda x: np.percentile(x['P'], 85) < get_P(1.5*u.Msun, 0.01*u.Msun, x['logg']).value[0])"
   ]
  },
  {
   "cell_type": "code",
   "execution_count": null,
   "metadata": {},
   "outputs": [],
   "source": [
    "cmap = plt.get_cmap('magma_r')\n",
    "norm = LogNorm(1, 10)\n",
    "colors = cmap(norm(corner['K']))\n",
    "\n",
    "for apid in np.unique(corner['apogee_id']):\n",
    "    mask = corner['apogee_id'] == apid\n",
    "    colors[mask, 3] = min(1, np.sqrt(1/mask.sum()))"
   ]
  },
  {
   "cell_type": "code",
   "execution_count": null,
   "metadata": {},
   "outputs": [],
   "source": [
    "fig, ax = plt.subplots(1, 1, figsize=(7.2, 6))\n",
    "\n",
    "ax.scatter(corner['P'], corner['logg'], color=colors,\n",
    "           marker='o', s=7, linewidth=0, cmap=cmap, norm=norm)\n",
    "cs = ax.scatter([-9999, -9999], [-9999, -9999], c=[norm.vmin, norm.vmax], \n",
    "                cmap=cmap, norm=norm) # major hack to put in colorbar!\n",
    "cb = fig.colorbar(cs)\n",
    "cb.set_label('$K$ [{0:latex_inline}]'.format(u.km/u.s))\n",
    "\n",
    "# -- P curves --\n",
    "logg = np.linspace(0, 4, 1024)\n",
    "M1 = 1.5*u.Msun\n",
    "P1 = get_P(M1, 1E-5*u.Msun, logg).value\n",
    "P2 = get_P(M1, M1, logg).value\n",
    "ax.fill_betweenx(logg, P1, P2, alpha=0.5, linewidth=0, color='#aaaaaa', zorder=-100,\n",
    "                 label='$M_1 = ${0:.1f} {1:latex_inline}'.format(M1.value, M1.unit))\n",
    "\n",
    "ax.legend(loc='lower right')\n",
    "\n",
    "ax.set_xscale('log')\n",
    "ax.set_xlim(1, 1000)\n",
    "ax.set_ylim(2., -0.02)\n",
    "ax.set_xlabel('$P$ [day]')\n",
    "ax.set_ylabel('$\\log g$')\n",
    "\n",
    "fig.tight_layout()"
   ]
  },
  {
   "cell_type": "code",
   "execution_count": null,
   "metadata": {},
   "outputs": [],
   "source": []
  },
  {
   "cell_type": "code",
   "execution_count": null,
   "metadata": {},
   "outputs": [],
   "source": []
  },
  {
   "cell_type": "code",
   "execution_count": null,
   "metadata": {},
   "outputs": [],
   "source": []
  }
 ],
 "metadata": {
  "anaconda-cloud": {},
  "kernelspec": {
   "display_name": "Python [conda env:twoface]",
   "language": "python",
   "name": "conda-env-twoface-py"
  },
  "language_info": {
   "codemirror_mode": {
    "name": "ipython",
    "version": 3
   },
   "file_extension": ".py",
   "mimetype": "text/x-python",
   "name": "python",
   "nbconvert_exporter": "python",
   "pygments_lexer": "ipython3",
   "version": "3.6.2"
  }
 },
 "nbformat": 4,
 "nbformat_minor": 2
}