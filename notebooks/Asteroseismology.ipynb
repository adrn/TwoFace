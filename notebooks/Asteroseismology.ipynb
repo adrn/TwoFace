{
 "cells": [
  {
   "cell_type": "code",
   "execution_count": null,
   "metadata": {
    "collapsed": true
   },
   "outputs": [],
   "source": [
    "import os\n",
    "from os import path\n",
    "from astropy.time import Time\n",
    "from astropy.io import fits, ascii\n",
    "import astropy.units as u\n",
    "from astropy.table import Table\n",
    "from astropy.constants import G\n",
    "\n",
    "import numpy as np\n",
    "import matplotlib.pyplot as plt\n",
    "from matplotlib.colors import LogNorm\n",
    "%matplotlib inline\n",
    "import h5py\n",
    "import pandas as pd\n",
    "from sqlalchemy import func\n",
    "from scipy.optimize import root\n",
    "from scipy.stats import scoreatpercentile\n",
    "import tqdm\n",
    "\n",
    "from thejoker import JokerSamples\n",
    "from thejoker.sampler import JokerParams, TheJoker\n",
    "from thejoker.plot import plot_rv_curves\n",
    "\n",
    "from twoface.config import TWOFACE_CACHE_PATH\n",
    "from twoface.db import (db_connect, AllStar, AllVisit, AllVisitToAllStar, \n",
    "                        StarResult, Status, JokerRun, initialize_db)\n",
    "from twoface.data import APOGEERVData\n",
    "from twoface.plot import plot_data_orbits"
   ]
  },
  {
   "cell_type": "code",
   "execution_count": null,
   "metadata": {
    "collapsed": true
   },
   "outputs": [],
   "source": [
    "TWOFACE_CACHE_PATH = path.abspath('../cache/')\n",
    "samples_file = path.join(TWOFACE_CACHE_PATH, 'apogee-jitter.hdf5')"
   ]
  },
  {
   "cell_type": "code",
   "execution_count": null,
   "metadata": {
    "collapsed": true
   },
   "outputs": [],
   "source": [
    "Session, _ = db_connect(path.join(TWOFACE_CACHE_PATH, 'apogee.sqlite'))\n",
    "session = Session()"
   ]
  },
  {
   "cell_type": "code",
   "execution_count": null,
   "metadata": {
    "collapsed": true
   },
   "outputs": [],
   "source": [
    "# stars = session.query(AllStar).join(StarResult, Status)\\\n",
    "#                               .filter(Status.id.in_([1,2]))\\\n",
    "#                               .all()\n",
    "# len(stars)\n",
    "\n",
    "stars = session.query(AllStar).filter(AllStar.logg < 1.).all()\n",
    "len(stars)"
   ]
  },
  {
   "cell_type": "code",
   "execution_count": null,
   "metadata": {
    "collapsed": true
   },
   "outputs": [],
   "source": [
    "%%time\n",
    "\n",
    "rows = None\n",
    "with h5py.File(samples_file, 'r') as f:\n",
    "    for star in tqdm.tqdm(stars):\n",
    "        # samples = JokerSamples.from_hdf5(f[star.apogee_id])\n",
    "        K = f[star.apogee_id]['K'][:]\n",
    "        P = f[star.apogee_id]['P'][:]\n",
    "        ecc = f[star.apogee_id]['e'][:]\n",
    "        vsini = [star.vsini] * len(P)\n",
    "        loggs = [star.logg] * len(P)\n",
    "        status = [star.results[0].status_id] * len(P)\n",
    "        apogee_ids = [star.apogee_id] * len(P)\n",
    "        \n",
    "        this_rows = list(zip(apogee_ids, loggs, vsini, P, ecc, K, status))\n",
    "        \n",
    "        if rows is None:\n",
    "            rows = this_rows\n",
    "        else:\n",
    "            rows = rows + this_rows\n",
    "            \n",
    "tbl_ = np.array(rows, dtype=[('apogee_id', 'U25'), ('logg', float), ('vsini', float),\n",
    "                             ('P', float), ('e', float), ('K', float), \n",
    "                             ('status', int)])\n",
    "df = pd.DataFrame(tbl_)\n",
    "print(len(df))"
   ]
  },
  {
   "cell_type": "code",
   "execution_count": null,
   "metadata": {},
   "outputs": [],
   "source": [
    "huh = df.groupby('apogee_id')\n",
    "tbl = huh.filter(lambda x: np.percentile(x['K'], 15) > 0.5)\n",
    "len(tbl)"
   ]
  },
  {
   "cell_type": "code",
   "execution_count": null,
   "metadata": {},
   "outputs": [],
   "source": [
    "def get_P(m1, m2, logg):\n",
    "    logg = np.asarray(logg)\n",
    "    return (2*np.pi * G**(1/4.) * (m1+m2) / (m1**(3/4.)) * (10**logg*u.cm/u.s**2)**(-3/4)).to(u.day)"
   ]
  },
  {
   "cell_type": "markdown",
   "metadata": {},
   "source": [
    "---"
   ]
  },
  {
   "cell_type": "code",
   "execution_count": null,
   "metadata": {
    "collapsed": true
   },
   "outputs": [],
   "source": [
    "fig, ax = plt.subplots(1, 1, figsize=(6, 6))\n",
    "ax.plot(tbl['P'], tbl['logg'], marker='.', \n",
    "        linestyle='none', alpha=0.2, ms=2, color='k')\n",
    "\n",
    "# -- P curves --\n",
    "logg = np.linspace(0, 4, 1024)\n",
    "\n",
    "for M1 in [0.5, 1., 2] * u.Msun:\n",
    "    P1 = get_P(M1, 1E-5*u.Msun, logg).value\n",
    "    P2 = get_P(M1, M1, logg).value\n",
    "    \n",
    "    ax.fill_betweenx(logg, P1, P2, alpha=0.5, linewidth=0,\n",
    "                     label='{0:.1f} {1:latex_inline}'.format(M1.value, M1.unit))\n",
    "\n",
    "ax.legend(loc='upper right')\n",
    "    \n",
    "ax.set_xscale('log')\n",
    "ax.set_xlim(1, 32768)\n",
    "ax.set_ylim(3.55, 0)\n",
    "ax.set_xlabel('$P$ [day]')\n",
    "ax.set_ylabel('$\\log g$')\n",
    "    \n",
    "fig.tight_layout()"
   ]
  },
  {
   "cell_type": "code",
   "execution_count": null,
   "metadata": {
    "collapsed": true
   },
   "outputs": [],
   "source": [
    "sub_tbl = tbl[tbl['status'] == 2]"
   ]
  },
  {
   "cell_type": "code",
   "execution_count": null,
   "metadata": {},
   "outputs": [],
   "source": [
    "def make_plot(tbl, c=None, clabel='', **kw):\n",
    "    \n",
    "    if c is None:\n",
    "        fig, ax = plt.subplots(1, 1, figsize=(6, 6))\n",
    "        ax.plot(tbl['P'], tbl['logg'], linestyle='none', \n",
    "                marker='.', ms=4, alpha=0.3)\n",
    "        \n",
    "    else:\n",
    "        fig, ax = plt.subplots(1, 1, figsize=(7.2, 6))\n",
    "        cs = ax.scatter(tbl['P'], tbl['logg'], c=c,\n",
    "                        marker='o', alpha=0.65, s=15, linewidth=0,\n",
    "                        cmap='magma_r', **kw)\n",
    "        cb = fig.colorbar(cs)\n",
    "        cb.set_label(clabel)\n",
    "\n",
    "    # -- P curves --\n",
    "    logg = np.linspace(0, 4, 1024)\n",
    "\n",
    "    for M1 in [1.] * u.Msun:\n",
    "        P1 = get_P(M1, 1E-5*u.Msun, logg).value\n",
    "        P2 = get_P(M1, M1, logg).value\n",
    "\n",
    "        ax.fill_betweenx(logg, P1, P2, alpha=0.5, linewidth=0, color='#aaaaaa', zorder=-100,\n",
    "                         label='$M_1 = ${0:.1f} {1:latex_inline}'.format(M1.value, M1.unit))\n",
    "\n",
    "    ax.legend(loc='upper right')\n",
    "\n",
    "    ax.set_xscale('log')\n",
    "    ax.set_xlim(1, 32768)\n",
    "    ax.set_ylim(3.55, 0)\n",
    "    ax.set_xlabel('$P$ [day]')\n",
    "    ax.set_ylabel('$\\log g$')\n",
    "\n",
    "    fig.tight_layout()"
   ]
  },
  {
   "cell_type": "code",
   "execution_count": null,
   "metadata": {},
   "outputs": [],
   "source": [
    "fig = make_plot(sub_tbl, sub_tbl['K'], \n",
    "                '$K$ [{0:latex_inline}]'.format(u.km/u.s),\n",
    "                norm=LogNorm(1., 50.))\n",
    "fig"
   ]
  },
  {
   "cell_type": "code",
   "execution_count": null,
   "metadata": {
    "collapsed": true
   },
   "outputs": [],
   "source": [
    "fig = make_plot(sub_tbl, sub_tbl['e'], \n",
    "                '$e$', vmin=0, vmax=1)\n",
    "fig"
   ]
  },
  {
   "cell_type": "code",
   "execution_count": null,
   "metadata": {},
   "outputs": [],
   "source": [
    "fig = make_plot(sub_tbl[sub_tbl['vsini']>0], sub_tbl['vsini'][sub_tbl['vsini']>0], \n",
    "                r'$v \\sin i$', norm=LogNorm(0.1, 100.))\n",
    "fig"
   ]
  },
  {
   "cell_type": "markdown",
   "metadata": {},
   "source": [
    "### Now select stars in the upper corner to look at:"
   ]
  },
  {
   "cell_type": "code",
   "execution_count": null,
   "metadata": {},
   "outputs": [],
   "source": [
    "corner_tmp = tbl[(tbl['logg'] > 0.) & (tbl['logg'] < 2.)].groupby('apogee_id')\n",
    "corner = corner_tmp.filter(lambda x: np.percentile(np.log(x['P']), 85) < np.log(get_P(1.5*u.Msun, 0.01*u.Msun, x['logg']).value[0]))"
   ]
  },
  {
   "cell_type": "code",
   "execution_count": null,
   "metadata": {},
   "outputs": [],
   "source": [
    "cmap = plt.get_cmap('magma_r')\n",
    "norm = LogNorm(0.5, 10)\n",
    "colors = cmap(norm(corner['K']))\n",
    "\n",
    "for apid in np.unique(corner['apogee_id']):\n",
    "    mask = corner['apogee_id'] == apid\n",
    "    colors[mask, 3] = min(1, np.sqrt(1/mask.sum()))"
   ]
  },
  {
   "cell_type": "code",
   "execution_count": null,
   "metadata": {},
   "outputs": [],
   "source": [
    "fig, ax = plt.subplots(1, 1, figsize=(7.2, 6))\n",
    "\n",
    "ax.scatter(corner['P'], corner['logg'], color=colors,\n",
    "           marker='o', s=15, linewidth=0, cmap=cmap, norm=norm)\n",
    "cs = ax.scatter([-9999, -9999], [-9999, -9999], c=[norm.vmin, norm.vmax], \n",
    "                cmap=cmap, norm=norm) # major hack to put in colorbar!\n",
    "cb = fig.colorbar(cs)\n",
    "cb.set_label('$K$ [{0:latex_inline}]'.format(u.km/u.s))\n",
    "\n",
    "# -- P curves --\n",
    "logg = np.linspace(0, 4, 1024)\n",
    "M1 = 1.5*u.Msun\n",
    "P1 = get_P(M1, 1E-5*u.Msun, logg).value\n",
    "P2 = get_P(M1, M1, logg).value\n",
    "ax.fill_betweenx(logg, P1, P2, alpha=0.5, linewidth=0, color='#aaaaaa', zorder=-100,\n",
    "                 label='$M_1 = ${0:.1f} {1:latex_inline}'.format(M1.value, M1.unit))\n",
    "\n",
    "ax.legend(loc='lower right')\n",
    "\n",
    "ax.set_xscale('log')\n",
    "ax.set_xlim(1, 1000)\n",
    "ax.set_ylim(2., -0.02)\n",
    "ax.set_xlabel('$P$ [day]')\n",
    "ax.set_ylabel('$\\log g$')\n",
    "\n",
    "fig.tight_layout()"
   ]
  },
  {
   "cell_type": "markdown",
   "metadata": {},
   "source": [
    "### What is up with those points at P<10?"
   ]
  },
  {
   "cell_type": "code",
   "execution_count": null,
   "metadata": {},
   "outputs": [],
   "source": [
    "weirdos = corner.groupby('apogee_id').filter(lambda x: np.percentile(np.log(x['P']), 85) < np.log(10.))\n",
    "weirdos = np.unique(weirdos['apogee_id']).astype('U25')\n",
    "len(weirdos)"
   ]
  },
  {
   "cell_type": "code",
   "execution_count": null,
   "metadata": {},
   "outputs": [],
   "source": [
    "with h5py.File(samples_file) as f:    \n",
    "    for apid in weirdos:\n",
    "        star = AllStar.get_apogee_id(session, apid)\n",
    "        data = star.apogeervdata()\n",
    "        samples = JokerSamples.from_hdf5(f[apid])\n",
    "\n",
    "        # fig = plot_data_orbits(data, samples, xlim_choice='tight')\n",
    "        fig, ax = plt.subplots(1, 1, figsize=(8, 6))\n",
    "        _ = data.plot(ax=ax)\n",
    "        ax.set_xlabel('BMJD')\n",
    "        ax.set_ylabel('RV [{0:latex_inline}]'.format(u.km/u.s))\n",
    "        fig.tight_layout()\n",
    "        fig.savefig('../plots/astero/{0}.png'.format(apid), dpi=250)\n",
    "        plt.close(fig)"
   ]
  },
  {
   "cell_type": "markdown",
   "metadata": {},
   "source": [
    "### Are any of those stars in APOKASC?"
   ]
  },
  {
   "cell_type": "code",
   "execution_count": null,
   "metadata": {},
   "outputs": [],
   "source": [
    "apokasc = fits.getdata('../data/APOKASC_cat_v4.3.4.fits')"
   ]
  },
  {
   "cell_type": "code",
   "execution_count": null,
   "metadata": {},
   "outputs": [],
   "source": [
    "unq_corner = np.unique(corner['apogee_id']).astype('U25')\n",
    "in_apokasc = np.isin(unq_corner, np.asarray(apokasc['2MASS_ID']))"
   ]
  },
  {
   "cell_type": "code",
   "execution_count": null,
   "metadata": {},
   "outputs": [],
   "source": [
    "in_apokasc.sum()"
   ]
  },
  {
   "cell_type": "code",
   "execution_count": null,
   "metadata": {},
   "outputs": [],
   "source": [
    "with h5py.File(samples_file) as f:    \n",
    "    for apid in unq_corner[in_apokasc]:\n",
    "        star = AllStar.get_apogee_id(session, apid)\n",
    "        data = star.apogeervdata()\n",
    "        samples = JokerSamples.from_hdf5(f[apid])\n",
    "\n",
    "        # fig = plot_data_orbits(data, samples, xlim_choice='tight')\n",
    "        fig, ax = plt.subplots(1, 1, figsize=(8, 6))\n",
    "        _ = data.plot(ax=ax)\n",
    "        ax.set_xlabel('BMJD')\n",
    "        ax.set_ylabel('RV [{0:latex_inline}]'.format(u.km/u.s))\n",
    "        fig.tight_layout()\n",
    "#         fig.savefig('../plots/astero/{0}.png'.format(apid), dpi=250)\n",
    "#         plt.close(fig)"
   ]
  },
  {
   "cell_type": "markdown",
   "metadata": {},
   "source": [
    "### Picked by eye"
   ]
  },
  {
   "cell_type": "code",
   "execution_count": null,
   "metadata": {},
   "outputs": [],
   "source": [
    "by_eye = ['2M13424150+2819081', '2M06390580+3444271', '2M13423922+2827574', '2M14035445+2914424', \n",
    "          '2M15184139+0206004', '2M16333828+0010147', '2M18544319+0025050', '2M19403294+2438335',\n",
    "          '2M23435214+6122267', '2M23500237+6053208']"
   ]
  },
  {
   "cell_type": "code",
   "execution_count": null,
   "metadata": {},
   "outputs": [],
   "source": [
    "def plot_phase_fold(data, sample, ax=None):\n",
    "    orbit = sample.get_orbit(0)\n",
    "    P = sample['P']\n",
    "    M0 = sample['M0']\n",
    "    \n",
    "    # HACK: hard-set getting the median\n",
    "    t0 = data.t0 + (P/(2*np.pi)*M0).to(u.day, u.dimensionless_angles())\n",
    "    phase = data.phase(P=P, t0=t0)\n",
    "\n",
    "    if ax is None:\n",
    "        ax = plt.gca()\n",
    "\n",
    "    # plot the phase-folded data and orbit\n",
    "    rv_unit = u.km/u.s\n",
    "    ax.errorbar(phase, data.rv.to(rv_unit).value,\n",
    "                data.stddev.to(rv_unit).value,\n",
    "                linestyle='none', marker='o', color='k', markersize=5)\n",
    "\n",
    "    phase_grid = np.linspace(0, 1, 1024)\n",
    "    ax.plot(phase_grid, orbit.radial_velocity(t0 + phase_grid*P),\n",
    "            marker='', zorder=-1, color='#aaaaaa')\n",
    "    ax.set_xlabel('phase')\n",
    "    # ax.set_ylabel('radial velocity [{0:latex_inline}]'.format(rv_unit))\n",
    "    # ax.set_title(r'$\\chi^2 = {0:.2f}$'.format(chisq))\n",
    "\n",
    "    return ax.figure"
   ]
  },
  {
   "cell_type": "code",
   "execution_count": null,
   "metadata": {},
   "outputs": [],
   "source": [
    "with h5py.File(samples_file) as f:    \n",
    "    for apid in by_eye:\n",
    "        star = AllStar.get_apogee_id(session, apid)\n",
    "        data = star.apogeervdata()\n",
    "        samples = JokerSamples.from_hdf5(f[apid])\n",
    "    \n",
    "        fig, axes = plt.subplots(1, 2, figsize=(15, 5), sharey=True)\n",
    "        fig = plot_data_orbits(data, samples, xlim_choice='tight', \n",
    "                               highlight_P_extrema=False, n_times=16384, ax=axes[0])\n",
    "        \n",
    "        j = samples['P'].argmin()\n",
    "        plot_phase_fold(data, samples[j], ax=axes[1])\n",
    "        fig.tight_layout()\n",
    "#         fig.savefig('../plots/astero/{0}.png'.format(apid), dpi=250)\n",
    "#         plt.close(fig)\n",
    "#         break"
   ]
  },
  {
   "cell_type": "code",
   "execution_count": null,
   "metadata": {},
   "outputs": [],
   "source": []
  },
  {
   "cell_type": "code",
   "execution_count": null,
   "metadata": {},
   "outputs": [],
   "source": []
  }
 ],
 "metadata": {
  "anaconda-cloud": {},
  "kernelspec": {
   "display_name": "Python [conda env:twoface]",
   "language": "python",
   "name": "conda-env-twoface-py"
  },
  "language_info": {
   "codemirror_mode": {
    "name": "ipython",
    "version": 3
   },
   "file_extension": ".py",
   "mimetype": "text/x-python",
   "name": "python",
   "nbconvert_exporter": "python",
   "pygments_lexer": "ipython3",
   "version": "3.6.2"
  }
 },
 "nbformat": 4,
 "nbformat_minor": 2
}