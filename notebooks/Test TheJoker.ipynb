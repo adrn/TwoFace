{
 "cells": [
  {
   "cell_type": "code",
   "execution_count": null,
   "metadata": {
    "collapsed": true
   },
   "outputs": [],
   "source": [
    "import os\n",
    "\n",
    "import astropy.units as u\n",
    "from astropy.table import Table\n",
    "from astropy.time import Time\n",
    "import numpy as np\n",
    "import matplotlib.pyplot as plt\n",
    "%matplotlib inline\n",
    "import schwimmbad\n",
    "\n",
    "from thejoker.plot import plot_rv_curves\n",
    "from thejoker.data import RVData\n",
    "from thejoker.sampler import JokerParams, TheJoker, save_prior_samples"
   ]
  },
  {
   "cell_type": "code",
   "execution_count": null,
   "metadata": {
    "collapsed": true
   },
   "outputs": [],
   "source": [
    "allstar = Table.read(\"/Users/adrian/projects/twoface/twoface/db/tests/test-allStar.fits\")\n",
    "allvisit = Table.read(\"/Users/adrian/projects/twoface/twoface/db/tests/test-allVisit.fits\")"
   ]
  },
  {
   "cell_type": "code",
   "execution_count": null,
   "metadata": {
    "collapsed": false
   },
   "outputs": [],
   "source": [
    "allstar['APOGEE_ID']"
   ]
  },
  {
   "cell_type": "code",
   "execution_count": null,
   "metadata": {
    "collapsed": false
   },
   "outputs": [],
   "source": [
    "APOGEE_ID = '2M00000222+5625359'\n",
    "visits = allvisit[allvisit['APOGEE_ID'] == APOGEE_ID] # 4 observations, clear signal\n",
    "star = allstar[allstar['APOGEE_ID'] == APOGEE_ID]"
   ]
  },
  {
   "cell_type": "code",
   "execution_count": null,
   "metadata": {
    "collapsed": false
   },
   "outputs": [],
   "source": [
    "t = Time(visits['JD'], format='jd', scale='utc')\n",
    "rv = visits['VHELIO'] * u.km/u.s\n",
    "err = np.sqrt(visits['VRELERR']**2 + 0.1**2) * u.km/u.s\n",
    "data = RVData(t=t, rv=rv, stddev=err)\n",
    "\n",
    "data.plot()"
   ]
  },
  {
   "cell_type": "code",
   "execution_count": null,
   "metadata": {
    "collapsed": true
   },
   "outputs": [],
   "source": [
    "params = JokerParams(P_min=8*u.day, P_max=8192*u.day)"
   ]
  },
  {
   "cell_type": "code",
   "execution_count": null,
   "metadata": {
    "collapsed": false,
    "scrolled": false
   },
   "outputs": [],
   "source": [
    "%%time \n",
    "with schwimmbad.MultiPool() as pool:\n",
    "    joker = TheJoker(params, pool=pool)\n",
    "    samples = joker.rejection_sample(data, n_prior_samples=16384*4) "
   ]
  },
  {
   "cell_type": "code",
   "execution_count": null,
   "metadata": {
    "collapsed": false
   },
   "outputs": [],
   "source": [
    "lnP = np.log(samples['P'].value)\n",
    "plt.plot(lnP, samples['K'], marker='.', ls='none')"
   ]
  },
  {
   "cell_type": "code",
   "execution_count": null,
   "metadata": {
    "collapsed": false
   },
   "outputs": [],
   "source": [
    "fig, ax = plt.subplots(1, 1, figsize=(8,5))\n",
    "t_grid = np.linspace(data.t.mjd.min()-50, data.t.mjd.max()+50, 1024)\n",
    "fig = plot_rv_curves(samples, t_grid, rv_unit=u.km/u.s, data=data, ax=ax, \n",
    "                     n_plot=128, plot_kwargs=dict(color='#74a9cf', zorder=-100))\n",
    "ax.set_xlim(t_grid.min(), t_grid.max())\n",
    "ax.set_ylim(-75, -25)"
   ]
  },
  {
   "cell_type": "code",
   "execution_count": null,
   "metadata": {
    "collapsed": false
   },
   "outputs": [],
   "source": [
    "plt.hist(samples['v0'], bins=np.linspace(-100, 0, 64));\n",
    "err = np.sqrt(0.1**2 + star['VERR']**2)\n",
    "plt.axvline(star['VHELIO_AVG'], color='r')\n",
    "plt.axvline(star['VHELIO_AVG']+err, color='r', linestyle='dashed')\n",
    "plt.axvline(star['VHELIO_AVG']-err, color='r', linestyle='dashed')\n",
    "plt.xlabel('heliocentric systemic velocity [km/s]')"
   ]
  },
  {
   "cell_type": "markdown",
   "metadata": {},
   "source": [
    "---"
   ]
  },
  {
   "cell_type": "code",
   "execution_count": null,
   "metadata": {
    "collapsed": true
   },
   "outputs": [],
   "source": [
    "joker = TheJoker(params)\n",
    "prior_samples = joker.sample_prior(16384) "
   ]
  },
  {
   "cell_type": "code",
   "execution_count": null,
   "metadata": {
    "collapsed": false
   },
   "outputs": [],
   "source": [
    "filename = 'test-samples.hdf5'\n",
    "if os.path.exists(filename):\n",
    "    os.unlink(filename)\n",
    "    \n",
    "save_prior_samples(filename, prior_samples, u.km/u.s)"
   ]
  },
  {
   "cell_type": "code",
   "execution_count": null,
   "metadata": {
    "collapsed": false
   },
   "outputs": [],
   "source": [
    "%%prun -s cumulative\n",
    "samples = joker.rejection_sample(data, prior_cache_file=filename)"
   ]
  },
  {
   "cell_type": "code",
   "execution_count": null,
   "metadata": {
    "collapsed": true
   },
   "outputs": [],
   "source": []
  }
 ],
 "metadata": {
  "anaconda-cloud": {},
  "kernelspec": {
   "display_name": "Python [conda env:thejoker-dev]",
   "language": "python",
   "name": "conda-env-thejoker-dev-py"
  },
  "language_info": {
   "codemirror_mode": {
    "name": "ipython",
    "version": 3
   },
   "file_extension": ".py",
   "mimetype": "text/x-python",
   "name": "python",
   "nbconvert_exporter": "python",
   "pygments_lexer": "ipython3",
   "version": "3.5.2"
  }
 },
 "nbformat": 4,
 "nbformat_minor": 1
}