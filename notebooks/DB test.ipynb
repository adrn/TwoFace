{
 "cells": [
  {
   "cell_type": "code",
   "execution_count": null,
   "metadata": {
    "collapsed": true
   },
   "outputs": [],
   "source": [
    "# https://github.com/jonathansick/starplex/tree/master/starplex/database/meta"
   ]
  },
  {
   "cell_type": "code",
   "execution_count": null,
   "metadata": {
    "collapsed": true
   },
   "outputs": [],
   "source": [
    "import tempfile\n",
    "from astropy.table import Table\n",
    "import numpy as np\n",
    "import psycopg2\n",
    "\n",
    "from sqlalchemy.ext.declarative import declarative_base\n",
    "from sqlalchemy import create_engine, Column, types"
   ]
  },
  {
   "cell_type": "code",
   "execution_count": null,
   "metadata": {
    "collapsed": false
   },
   "outputs": [],
   "source": [
    "allVisit_path = '/Users/adrian/projects/thejoker/data/allVisit-l30e.2.fits'\n",
    "tbl = Table.read(allVisit_path, format='fits', hdu=1)"
   ]
  },
  {
   "cell_type": "code",
   "execution_count": null,
   "metadata": {
    "collapsed": false
   },
   "outputs": [],
   "source": [
    "engine = create_engine('postgresql://adrian@localhost:5432/apogee')"
   ]
  },
  {
   "cell_type": "code",
   "execution_count": null,
   "metadata": {
    "collapsed": true
   },
   "outputs": [],
   "source": [
    "numpy_type_map = dict()\n",
    "numpy_type_map[np.float32] = types.Numeric\n",
    "numpy_type_map[np.float64] = types.Numeric\n",
    "numpy_type_map[np.int16] = types.SmallInteger\n",
    "numpy_type_map[np.int32] = types.Integer\n",
    "numpy_type_map[np.int64] = types.BigInteger\n",
    "numpy_type_map[np.str_] = types.String"
   ]
  },
  {
   "cell_type": "code",
   "execution_count": null,
   "metadata": {
    "collapsed": false
   },
   "outputs": [],
   "source": [
    "Base = declarative_base()\n",
    "\n",
    "class AllVisit(Base):\n",
    "    __tablename__ = 'allvisit'\n",
    "\n",
    "    id = Column(Integer, primary_key=True)\n",
    "    \n",
    "    def __repr__(self):\n",
    "        return \"<ApogeeVisit(APOGEE_ID='{}', MJD='{}')>\".format(self.apogee_id, self.mjd)\n",
    "    \n",
    "for name in tbl.columns:\n",
    "    dtype = numpy_type_map[tbl[name].dtype.type]\n",
    "    c = Column(name.lower(), dtype)\n",
    "    setattr(AllVisit, name.lower(), c)"
   ]
  },
  {
   "cell_type": "code",
   "execution_count": null,
   "metadata": {
    "collapsed": true
   },
   "outputs": [],
   "source": [
    "Base.metadata.create_all(engine)"
   ]
  },
  {
   "cell_type": "code",
   "execution_count": null,
   "metadata": {
    "collapsed": false
   },
   "outputs": [],
   "source": [
    "with engine.begin() as connection:\n",
    "    connection.execute(AllVisit."
   ]
  },
  {
   "cell_type": "code",
   "execution_count": null,
   "metadata": {
    "collapsed": true
   },
   "outputs": [],
   "source": []
  },
  {
   "cell_type": "code",
   "execution_count": null,
   "metadata": {
    "collapsed": true
   },
   "outputs": [],
   "source": []
  },
  {
   "cell_type": "code",
   "execution_count": null,
   "metadata": {
    "collapsed": false
   },
   "outputs": [],
   "source": [
    "tbl.dtype"
   ]
  },
  {
   "cell_type": "code",
   "execution_count": null,
   "metadata": {
    "collapsed": false
   },
   "outputs": [],
   "source": [
    "tbl.colnames"
   ]
  },
  {
   "cell_type": "code",
   "execution_count": null,
   "metadata": {
    "collapsed": false
   },
   "outputs": [],
   "source": [
    "tbl.colnames"
   ]
  },
  {
   "cell_type": "code",
   "execution_count": null,
   "metadata": {
    "collapsed": false
   },
   "outputs": [],
   "source": [
    "with psycopg2.connect(database='apogee', user='adrian', host='localhost') as conn:\n",
    "    with conn.cursor() as cursor:        \n",
    "        with tempfile.TemporaryFile(mode='r+') as f:\n",
    "            tbl[:8].write(f, format='ascii.fast_no_header', delimiter=',')\n",
    "            f.seek(0)\n",
    "\n",
    "            cursor.copy_from(f, 'allvisit', sep=\",\", columns=tbl.colnames)"
   ]
  },
  {
   "cell_type": "code",
   "execution_count": null,
   "metadata": {
    "collapsed": true
   },
   "outputs": [],
   "source": []
  }
 ],
 "metadata": {
  "anaconda-cloud": {},
  "kernelspec": {
   "display_name": "Python [conda env:twoface]",
   "language": "python",
   "name": "conda-env-twoface-py"
  },
  "language_info": {
   "codemirror_mode": {
    "name": "ipython",
    "version": 3
   },
   "file_extension": ".py",
   "mimetype": "text/x-python",
   "name": "python",
   "nbconvert_exporter": "python",
   "pygments_lexer": "ipython3",
   "version": "3.5.2"
  }
 },
 "nbformat": 4,
 "nbformat_minor": 1
}