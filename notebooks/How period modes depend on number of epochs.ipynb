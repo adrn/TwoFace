{
 "cells": [
  {
   "cell_type": "code",
   "execution_count": null,
   "metadata": {
    "collapsed": true
   },
   "outputs": [],
   "source": [
    "import os\n",
    "from os import path\n",
    "from astropy.io import fits\n",
    "import astropy.units as u\n",
    "from astropy.table import Table\n",
    "from astropy.time import Time\n",
    "\n",
    "import numpy as np\n",
    "import matplotlib.pyplot as plt\n",
    "%matplotlib inline\n",
    "import h5py\n",
    "\n",
    "from twobody import KeplerOrbit\n",
    "from thejoker import JokerParams, TheJoker, JokerSamples, RVData\n",
    "from twoface.sample_prior import make_prior_cache\n",
    "from twoface.io import load_samples\n",
    "from twoface.plot import plot_data_orbits"
   ]
  },
  {
   "cell_type": "code",
   "execution_count": null,
   "metadata": {
    "collapsed": true
   },
   "outputs": [],
   "source": [
    "t0 = Time('2013-01-01')\n",
    "baseline = 5 * u.yr # similar to APOGEE2\n",
    "pars = JokerParams(P_min=1*u.day, P_max=1024*u.day)\n",
    "\n",
    "K = 1 * u.km/u.s\n",
    "err = 150 * u.m/u.s"
   ]
  },
  {
   "cell_type": "code",
   "execution_count": null,
   "metadata": {},
   "outputs": [],
   "source": [
    "N = 8\n",
    "\n",
    "# t = np.random.uniform(t0.mjd, (t0 + baseline).mjd, size=N)\n",
    "\n",
    "# t = 10 ** np.random.uniform(np.log10(t0.mjd), np.log10((t0 + baseline).mjd), size=N)\n",
    "t = t0 + 10 ** np.random.uniform(0, np.log10(baseline.to(u.day).value), size=N) * u.day\n",
    "t = Time(t, format='mjd')\n",
    "t.max() - t.min()"
   ]
  },
  {
   "cell_type": "code",
   "execution_count": null,
   "metadata": {},
   "outputs": [],
   "source": [
    "orb = KeplerOrbit(P=150.*u.day, e=0., omega=0*u.deg, M0=0*u.deg)\n",
    "rv = K * orb.unscaled_radial_velocity(t)\n",
    "data = RVData(t, rv, stddev=np.ones_like(rv.value) * err)\n",
    "_ = data.plot()"
   ]
  },
  {
   "cell_type": "code",
   "execution_count": null,
   "metadata": {
    "collapsed": true
   },
   "outputs": [],
   "source": [
    "joker = TheJoker(pars)"
   ]
  },
  {
   "cell_type": "code",
   "execution_count": null,
   "metadata": {
    "collapsed": true
   },
   "outputs": [],
   "source": [
    "samples = joker.iterative_rejection_sample(data, n_requested_samples=100, \n",
    "                                           n_prior_samples=1000000)"
   ]
  },
  {
   "cell_type": "code",
   "execution_count": null,
   "metadata": {},
   "outputs": [],
   "source": [
    "_ = plot_data_orbits(data, samples)"
   ]
  },
  {
   "cell_type": "code",
   "execution_count": null,
   "metadata": {},
   "outputs": [],
   "source": [
    "logP = np.log(samples['P'].to(u.day).value)\n",
    "plt.scatter(logP, samples['e'], alpha=0.25, marker='.')\n",
    "plt.axvline(np.log(orb.P.to(u.day).value))"
   ]
  },
  {
   "cell_type": "code",
   "execution_count": null,
   "metadata": {
    "collapsed": true
   },
   "outputs": [],
   "source": [
    "from scipy.stats import scoreatpercentile"
   ]
  },
  {
   "cell_type": "code",
   "execution_count": null,
   "metadata": {},
   "outputs": [],
   "source": [
    "pers = scoreatpercentile(logP, [5, 10, 50, 90, 95])\n",
    "pers[1]-pers[0], pers[4]-pers[3]"
   ]
  },
  {
   "cell_type": "code",
   "execution_count": null,
   "metadata": {},
   "outputs": [],
   "source": [
    "pers - np.log(orb.P.to(u.day).value)"
   ]
  },
  {
   "cell_type": "code",
   "execution_count": null,
   "metadata": {
    "collapsed": true
   },
   "outputs": [],
   "source": []
  },
  {
   "cell_type": "code",
   "execution_count": null,
   "metadata": {
    "collapsed": true
   },
   "outputs": [],
   "source": []
  }
 ],
 "metadata": {
  "kernelspec": {
   "display_name": "Python [conda env:twoface-new]",
   "language": "python",
   "name": "conda-env-twoface-new-py"
  },
  "language_info": {
   "codemirror_mode": {
    "name": "ipython",
    "version": 3
   },
   "file_extension": ".py",
   "mimetype": "text/x-python",
   "name": "python",
   "nbconvert_exporter": "python",
   "pygments_lexer": "ipython3",
   "version": "3.6.2"
  }
 },
 "nbformat": 4,
 "nbformat_minor": 2
}