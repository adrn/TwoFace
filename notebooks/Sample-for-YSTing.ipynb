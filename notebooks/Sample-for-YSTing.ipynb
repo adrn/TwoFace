{
 "cells": [
  {
   "cell_type": "code",
   "execution_count": null,
   "metadata": {},
   "outputs": [],
   "source": [
    "import os\n",
    "from os import path\n",
    "\n",
    "# Third-party\n",
    "import astropy.coordinates as coord\n",
    "from astropy.constants import G\n",
    "from astropy.io import fits, ascii\n",
    "from astropy.stats import median_absolute_deviation\n",
    "from astropy.table import Table, QTable, join\n",
    "from astropy.time import Time\n",
    "import astropy.units as u\n",
    "import matplotlib as mpl\n",
    "import matplotlib.pyplot as plt\n",
    "from matplotlib.gridspec import GridSpec\n",
    "import numpy as np\n",
    "%matplotlib inline\n",
    "import h5py\n",
    "import pandas as pd\n",
    "from sqlalchemy import func\n",
    "import tqdm\n",
    "from scipy.stats import beta\n",
    "\n",
    "from thejoker import JokerSamples\n",
    "\n",
    "from twoface.config import TWOFACE_CACHE_PATH\n",
    "from twoface.samples_analysis import MAP_sample\n",
    "from twoface.db import (db_connect, AllStar, AllVisit, AllVisitToAllStar, NessRG,\n",
    "                        StarResult, Status, JokerRun)\n",
    "from twoface.plot import plot_two_panel, plot_phase_fold\n",
    "from twoface.mass import get_m2_min, mf, period_at_surface, asini\n",
    "from twoface.log import log as logger\n",
    "logger.setLevel(100)"
   ]
  },
  {
   "cell_type": "code",
   "execution_count": null,
   "metadata": {},
   "outputs": [],
   "source": [
    "plot_path = '../paper/1-catalog/figures/'\n",
    "table_path = '../paper/1-catalog/tables/'"
   ]
  },
  {
   "cell_type": "code",
   "execution_count": null,
   "metadata": {},
   "outputs": [],
   "source": [
    "Session, _ = db_connect(path.join(TWOFACE_CACHE_PATH, 'apogee.sqlite'))\n",
    "session = Session()\n",
    "\n",
    "samples_file = path.join(TWOFACE_CACHE_PATH, 'apogee-jitter.hdf5')\n",
    "mcmc_samples_file = path.join(TWOFACE_CACHE_PATH, 'apogee-jitter-mcmc.hdf5')"
   ]
  },
  {
   "cell_type": "code",
   "execution_count": null,
   "metadata": {},
   "outputs": [],
   "source": [
    "unimodal = QTable.read(path.join(table_path, 'highK-unimodal.fits'), \n",
    "                       astropy_native=True, character_as_bytes=False)\n",
    "bimodal = QTable.read(path.join(table_path, 'highK-bimodal.fits'), \n",
    "                      astropy_native=True, character_as_bytes=False)\n",
    "\n",
    "clean_uni = unimodal[(unimodal['clean_flag'] == 0)]\n",
    "clean_conv_uni = clean_uni[clean_uni['converged']]\n",
    "clean_bi = bimodal[(bimodal['clean_flag'] == 0)]# & (bimodal['LOGG'] > 0) & \n",
    "#                    (bimodal['TEFF'] > 0)]\n",
    "\n",
    "print('{0} unimodal, {1} clean'.format(len(unimodal), len(clean_uni)))\n",
    "print('{0} bimodal, {1} clean'.format(len(bimodal)//2, len(clean_bi)//2))"
   ]
  },
  {
   "cell_type": "code",
   "execution_count": null,
   "metadata": {},
   "outputs": [],
   "source": [
    "cache_path = '../cache/yst'\n",
    "os.makedirs(cache_path, exist_ok=True)"
   ]
  },
  {
   "cell_type": "code",
   "execution_count": null,
   "metadata": {},
   "outputs": [],
   "source": [
    "tbl = clean_conv_uni[clean_conv_uni['LOGG'] > 2][clean_conv_uni.colnames[:17]]\n",
    "tbl.write(path.join(cache_path, 'orbit-elements.csv'), format='ascii.ecsv')"
   ]
  },
  {
   "cell_type": "code",
   "execution_count": null,
   "metadata": {},
   "outputs": [],
   "source": [
    "allvisits = fits.getdata('/Users/adrian/data/APOGEE_DR14/allVisit-l31c.2.fits')"
   ]
  },
  {
   "cell_type": "code",
   "execution_count": null,
   "metadata": {},
   "outputs": [],
   "source": [
    "visits = allvisits[np.isin(allvisits['APOGEE_ID'], tbl['APOGEE_ID'])]"
   ]
  },
  {
   "cell_type": "code",
   "execution_count": null,
   "metadata": {},
   "outputs": [],
   "source": [
    "len(visits)"
   ]
  },
  {
   "cell_type": "code",
   "execution_count": null,
   "metadata": {},
   "outputs": [],
   "source": [
    "ndata = 0\n",
    "for row in tbl:\n",
    "    star = AllStar.get_apogee_id(session, row['APOGEE_ID'])\n",
    "    data = star.apogeervdata()\n",
    "    ndata += len(data)\n",
    "ndata"
   ]
  },
  {
   "cell_type": "code",
   "execution_count": null,
   "metadata": {},
   "outputs": [],
   "source": [
    "skip_mask = np.sum(2 ** np.array([3, 4])) # VERY_BRIGHT_NEIGHBOR, LOW_SNR\n",
    "clean_visits = visits[np.isfinite(visits['VHELIO']) &\n",
    "                            np.isfinite(visits['VRELERR']) &\n",
    "                            (visits['VRELERR'] < 100.) & # MAGIC\n",
    "                            ((visits['STARFLAG'] & skip_mask) == 0)]"
   ]
  },
  {
   "cell_type": "code",
   "execution_count": null,
   "metadata": {},
   "outputs": [],
   "source": [
    "fits.BinTableHDU(clean_visits).writeto(path.join(cache_path, 'visits.fits'))"
   ]
  },
  {
   "cell_type": "code",
   "execution_count": null,
   "metadata": {},
   "outputs": [],
   "source": []
  },
  {
   "cell_type": "code",
   "execution_count": null,
   "metadata": {},
   "outputs": [],
   "source": []
  },
  {
   "cell_type": "code",
   "execution_count": null,
   "metadata": {},
   "outputs": [],
   "source": []
  },
  {
   "cell_type": "code",
   "execution_count": null,
   "metadata": {},
   "outputs": [],
   "source": []
  }
 ],
 "metadata": {
  "kernelspec": {
   "display_name": "Python [conda env:twoface]",
   "language": "python",
   "name": "conda-env-twoface-py"
  },
  "language_info": {
   "codemirror_mode": {
    "name": "ipython",
    "version": 3
   },
   "file_extension": ".py",
   "mimetype": "text/x-python",
   "name": "python",
   "nbconvert_exporter": "python",
   "pygments_lexer": "ipython3",
   "version": "3.6.4"
  }
 },
 "nbformat": 4,
 "nbformat_minor": 2
}