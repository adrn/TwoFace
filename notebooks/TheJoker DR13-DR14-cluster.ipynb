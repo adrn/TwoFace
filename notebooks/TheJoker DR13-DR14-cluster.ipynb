{
 "cells": [
  {
   "cell_type": "code",
   "execution_count": null,
   "metadata": {},
   "outputs": [],
   "source": [
    "from os import path\n",
    "\n",
    "# Third-party\n",
    "from astropy.io import fits\n",
    "from astropy.table import Table, join\n",
    "import astropy.coordinates as coord\n",
    "from astropy.stats import mad_std\n",
    "from astropy.time import Time\n",
    "import astropy.units as u\n",
    "import matplotlib as mpl\n",
    "import matplotlib.pyplot as plt\n",
    "import numpy as np\n",
    "%matplotlib inline\n",
    "\n",
    "from schwimmbad import MultiPool\n",
    "\n",
    "from thejoker.data import RVData\n",
    "from thejoker.sampler import JokerParams, TheJoker\n",
    "from thejoker.plot import plot_rv_curves\n",
    "\n",
    "from twoface.sample_prior import make_prior_cache"
   ]
  },
  {
   "cell_type": "code",
   "execution_count": null,
   "metadata": {
    "collapsed": true
   },
   "outputs": [],
   "source": [
    "# DR13_PATH = '/Users/adrian/Data/APOGEE_DR13/'\n",
    "# DR14_PATH = '/Users/adrian/Data/APOGEE_DR14/'\n",
    "DR13_PATH = '../data/dr13/'\n",
    "DR14_PATH = '../data/dr14/'"
   ]
  },
  {
   "cell_type": "code",
   "execution_count": null,
   "metadata": {},
   "outputs": [],
   "source": [
    "with MultiPool() as pool:\n",
    "    print(pool.size)"
   ]
  },
  {
   "cell_type": "code",
   "execution_count": null,
   "metadata": {
    "collapsed": true
   },
   "outputs": [],
   "source": [
    "star_columns = ['APOGEE_ID', 'NVISITS', 'TEFF', 'TEFF_ERR', 'LOGG', 'LOGG_ERR', 'M_H', 'M_H_ERR']\n",
    "visit_columns = ['VISIT_ID', 'APOGEE_ID', 'MJD', 'JD', 'VREL', 'VRELERR', 'VHELIO', 'SNR', 'CHISQ']"
   ]
  },
  {
   "cell_type": "code",
   "execution_count": null,
   "metadata": {
    "collapsed": true
   },
   "outputs": [],
   "source": [
    "def read_table(filename, columns):\n",
    "    tbl = fits.getdata(filename)\n",
    "    return Table(tbl.view(tbl.dtype, np.ndarray)[columns])"
   ]
  },
  {
   "cell_type": "code",
   "execution_count": null,
   "metadata": {
    "collapsed": true
   },
   "outputs": [],
   "source": [
    "allstar_dr13 = read_table(path.join(DR13_PATH, 'allStar-l30e.2.fits'), star_columns)\n",
    "allvisit_dr13 = read_table(path.join(DR13_PATH, 'allVisit-l30e.2.fits'), visit_columns)\n",
    "\n",
    "allstar_dr14 = read_table(path.join(DR14_PATH, 'allStar-l31c.2.fits'), star_columns)\n",
    "allvisit_dr14 = read_table(path.join(DR14_PATH, 'allVisit-l31c.2.fits'), visit_columns)"
   ]
  },
  {
   "cell_type": "code",
   "execution_count": null,
   "metadata": {
    "collapsed": true
   },
   "outputs": [],
   "source": [
    "_, uniq_idx = np.unique(allstar_dr13['APOGEE_ID'], return_index=True)\n",
    "dr13 = join(allvisit_dr13, allstar_dr13[uniq_idx], join_type='left',\n",
    "            keys='APOGEE_ID')\n",
    "\n",
    "_, uniq_idx = np.unique(allstar_dr14['APOGEE_ID'], return_index=True)\n",
    "dr14 = join(allvisit_dr14, allstar_dr14[uniq_idx], join_type='left',\n",
    "            keys='APOGEE_ID')"
   ]
  },
  {
   "cell_type": "code",
   "execution_count": null,
   "metadata": {},
   "outputs": [],
   "source": [
    "both = join(dr13, dr14, \n",
    "            join_type=\"inner\", keys=['APOGEE_ID', 'JD'],\n",
    "            table_names=['dr13', 'dr14'])\n",
    "print(len(both))"
   ]
  },
  {
   "cell_type": "code",
   "execution_count": null,
   "metadata": {
    "collapsed": true
   },
   "outputs": [],
   "source": [
    "assert np.all(both['MJD_dr13'] == both['MJD_dr14'])"
   ]
  },
  {
   "cell_type": "markdown",
   "metadata": {},
   "source": [
    "## Restrict to red giants and good visits"
   ]
  },
  {
   "cell_type": "code",
   "execution_count": null,
   "metadata": {},
   "outputs": [],
   "source": [
    "mask = ((both['LOGG_dr14'] < 3) & (both['LOGG_dr14'] > -999) & \n",
    "        np.isfinite(both['VHELIO_dr13']) & np.isfinite(both['VHELIO_dr14']))\n",
    "mask.sum()"
   ]
  },
  {
   "cell_type": "code",
   "execution_count": null,
   "metadata": {},
   "outputs": [],
   "source": [
    "df = both[mask].to_pandas()\n",
    "grouped = df.groupby('APOGEE_ID')"
   ]
  },
  {
   "cell_type": "code",
   "execution_count": null,
   "metadata": {
    "collapsed": true
   },
   "outputs": [],
   "source": [
    "np.random.seed(42)\n",
    "nper_bin = 8\n",
    "\n",
    "apogee_ids = dict()\n",
    "for nvisits in [4, 8, 16]:\n",
    "    visits = grouped.filter(lambda x: len(x) == nvisits)\n",
    "    apogee_ids[nvisits] = np.random.choice(np.array(visits['APOGEE_ID']).astype(str), \n",
    "                                           replace=False, size=nper_bin)"
   ]
  },
  {
   "cell_type": "markdown",
   "metadata": {},
   "source": [
    "Set up _The Joker_:"
   ]
  },
  {
   "cell_type": "code",
   "execution_count": null,
   "metadata": {},
   "outputs": [],
   "source": [
    "logs2 = np.random.normal(5, 8, size=100000)\n",
    "s = np.sqrt(np.exp(logs2))\n",
    "plt.hist(s/1000., bins=np.logspace(-5, 4, 32)); # km/s\n",
    "plt.xscale('log')"
   ]
  },
  {
   "cell_type": "code",
   "execution_count": null,
   "metadata": {
    "collapsed": true
   },
   "outputs": [],
   "source": [
    "prior_file = 'dr14_dr13_prior_samples.h5'\n",
    "params = JokerParams(P_min=8*u.day, P_max=32768*u.day,\n",
    "                     jitter=(5., 8.), jitter_unit=u.m/u.s)"
   ]
  },
  {
   "cell_type": "code",
   "execution_count": null,
   "metadata": {
    "collapsed": true
   },
   "outputs": [],
   "source": [
    "if not path.exists(prior_file):\n",
    "    joker = TheJoker(params)\n",
    "    make_prior_cache(prior_file, joker,\n",
    "                     N=2**29, max_batch_size=2**24)"
   ]
  },
  {
   "cell_type": "code",
   "execution_count": null,
   "metadata": {},
   "outputs": [],
   "source": [
    "ap_id = apogee_ids[8][6]\n",
    "\n",
    "rows = both[both['APOGEE_ID'] == ap_id]\n",
    "\n",
    "data_dr13 = RVData(t=Time(rows['JD'], format='jd', scale='utc'), \n",
    "                   rv=np.array(rows['VHELIO_dr13']).astype('<f8') * u.km/u.s,\n",
    "                   stddev=np.array(rows['VRELERR_dr13']).astype('<f8') * u.km/u.s)\n",
    "\n",
    "data_dr14 = RVData(t=Time(rows['JD'], format='jd', scale='utc'), \n",
    "                   rv=np.array(rows['VHELIO_dr14']).astype('<f8') * u.km/u.s,\n",
    "                   stddev=np.array(rows['VRELERR_dr14']).astype('<f8') * u.km/u.s)\n",
    "\n",
    "fig,ax = plt.subplots(1, 1, figsize=(8,6))\n",
    "data_dr13.plot(ax=ax, color='tab:blue')\n",
    "data_dr14.plot(ax=ax, color='tab:orange')"
   ]
  },
  {
   "cell_type": "code",
   "execution_count": null,
   "metadata": {},
   "outputs": [],
   "source": [
    "n_samples = 128\n",
    "with MultiPool() as pool:\n",
    "    joker = TheJoker(params, pool=pool)\n",
    "\n",
    "    samples_dr13 = joker.iterative_rejection_sample(data_dr13, \n",
    "                                                    n_requested_samples=n_samples, \n",
    "                                                    prior_cache_file=prior_file) \n",
    "\n",
    "    samples_dr14 = joker.iterative_rejection_sample(data_dr14, \n",
    "                                                    n_requested_samples=n_samples, \n",
    "                                                    prior_cache_file=prior_file) \n",
    "\n",
    "samples_dr13 = samples_dr13[:n_samples]\n",
    "samples_dr14 = samples_dr14[:n_samples]\n",
    "print(len(samples_dr13), len(samples_dr14))"
   ]
  },
  {
   "cell_type": "code",
   "execution_count": null,
   "metadata": {},
   "outputs": [],
   "source": [
    "span = np.ptp(data_dr13.t.mjd)\n",
    "t_grid = np.linspace(data_dr13.t.mjd.min()-0.5*span, \n",
    "                     data_dr13.t.mjd.max()+0.5*span, \n",
    "                     1024)\n",
    "\n",
    "fig, axes = plt.subplots(2, 1, figsize=(8,10), sharex=True, sharey=True)\n",
    "axes[0].set_xlim(t_grid.min(), t_grid.max())\n",
    "\n",
    "_ = plot_rv_curves(samples_dr13, t_grid, rv_unit=u.km/u.s, data=data_dr13, \n",
    "                   ax=axes[0], plot_kwargs=dict(color='#888888'), n_plot=128,\n",
    "                   add_labels=False)\n",
    "\n",
    "_ = plot_rv_curves(samples_dr14, t_grid, rv_unit=u.km/u.s, data=data_dr14, \n",
    "                   n_plot=128, ax=axes[1], plot_kwargs=dict(color='#888888'))\n",
    "\n",
    "rv_min = min(data_dr13.rv.to(u.km/u.s).value.min(),\n",
    "             data_dr14.rv.to(u.km/u.s).value.min())\n",
    "rv_max = max(data_dr13.rv.to(u.km/u.s).value.max(),\n",
    "             data_dr14.rv.to(u.km/u.s).value.max())\n",
    "yspan = rv_max-rv_min\n",
    "\n",
    "axes[0].set_ylim(rv_min-yspan, rv_max+yspan)\n",
    "\n",
    "axes[0].set_title('DR13')\n",
    "axes[1].set_title('DR14')\n",
    "\n",
    "fig.set_facecolor('w')\n",
    "fig.tight_layout()"
   ]
  },
  {
   "cell_type": "code",
   "execution_count": null,
   "metadata": {},
   "outputs": [],
   "source": [
    "fig, axes = plt.subplots(2, 2, figsize=(10, 8), \n",
    "                         sharex='col', sharey='col')\n",
    "\n",
    "axes[0,0].scatter(samples_dr13['P'].value, \n",
    "                  samples_dr13['K'].to(u.km/u.s).value,\n",
    "                  marker='.', color='k', alpha=0.45)\n",
    "\n",
    "axes[1,0].scatter(samples_dr14['P'].value, \n",
    "                  samples_dr14['K'].to(u.km/u.s).value,\n",
    "                  marker='.', color='k', alpha=0.45)\n",
    "\n",
    "axes[1,0].set_xlabel(\"$P$ [day]\")\n",
    "axes[0,0].set_ylabel(\"$K$ [km/s]\")\n",
    "axes[1,0].set_ylabel(\"$K$ [km/s]\")\n",
    "axes[0,0].set_xscale('log')\n",
    "axes[0,0].set_yscale('log')\n",
    "axes[0,0].set_ylim(samples_dr13['K'].to(u.km/u.s).value.min(), \n",
    "                   samples_dr13['K'].to(u.km/u.s).value.max())\n",
    "\n",
    "# jitter\n",
    "\n",
    "bins = np.logspace(-5, 1, 32)\n",
    "axes[0,1].hist(samples_dr13['jitter'].to(u.km/u.s).value, bins=bins)\n",
    "axes[1,1].hist(samples_dr14['jitter'].to(u.km/u.s).value, bins=bins)\n",
    "axes[0,1].set_xscale('log')\n",
    "\n",
    "fig.tight_layout()"
   ]
  },
  {
   "cell_type": "code",
   "execution_count": null,
   "metadata": {
    "collapsed": true
   },
   "outputs": [],
   "source": []
  },
  {
   "cell_type": "code",
   "execution_count": null,
   "metadata": {
    "collapsed": true
   },
   "outputs": [],
   "source": []
  }
 ],
 "metadata": {
  "kernelspec": {
   "display_name": "Python 3",
   "language": "python",
   "name": "python3"
  },
  "language_info": {
   "codemirror_mode": {
    "name": "ipython",
    "version": 3
   },
   "file_extension": ".py",
   "mimetype": "text/x-python",
   "name": "python",
   "nbconvert_exporter": "python",
   "pygments_lexer": "ipython3",
   "version": "3.6.2"
  }
 },
 "nbformat": 4,
 "nbformat_minor": 2
}