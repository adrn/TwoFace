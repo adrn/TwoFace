{
 "cells": [
  {
   "cell_type": "code",
   "execution_count": null,
   "metadata": {
    "collapsed": true
   },
   "outputs": [],
   "source": [
    "import os\n",
    "from os import path\n",
    "from astropy.io import fits\n",
    "import astropy.units as u\n",
    "from astropy.table import Table\n",
    "from astropy.constants import G\n",
    "\n",
    "import numpy as np\n",
    "import matplotlib.pyplot as plt\n",
    "plt.style.use('apw-notebook')\n",
    "%matplotlib inline\n",
    "import h5py\n",
    "from sqlalchemy import func\n",
    "from scipy.optimize import root\n",
    "\n",
    "from twoface.config import TWOFACE_CACHE_PATH\n",
    "from twoface.db import (db_connect, AllStar, AllVisit, AllVisitToAllStar, RedClump,\n",
    "                        StarResult, Status, JokerRun, initialize_db)\n",
    "\n",
    "from thejoker import JokerParams, TheJoker, JokerSamples\n",
    "from twoface.sample_prior import make_prior_cache\n",
    "from twoface.io import load_samples\n",
    "from twoface.plot import plot_data_orbits\n",
    "from twobody.celestial import RVOrbit, VelocityTrend1\n",
    "\n",
    "from scipy.misc import logsumexp"
   ]
  },
  {
   "cell_type": "code",
   "execution_count": null,
   "metadata": {
    "collapsed": true
   },
   "outputs": [],
   "source": [
    "TWOFACE_CACHE_PATH = path.abspath('../cache/')"
   ]
  },
  {
   "cell_type": "code",
   "execution_count": null,
   "metadata": {
    "collapsed": true
   },
   "outputs": [],
   "source": [
    "Session, _ = db_connect(path.join(TWOFACE_CACHE_PATH, 'apogee.sqlite'))\n",
    "session = Session()"
   ]
  },
  {
   "cell_type": "code",
   "execution_count": null,
   "metadata": {},
   "outputs": [],
   "source": [
    "# load the run parameters:\n",
    "run = session.query(JokerRun).filter(JokerRun.name == 'apogee-jitter').one()\n",
    "\n",
    "# load the posterior samples:\n",
    "samples_file = path.join(TWOFACE_CACHE_PATH, '{0}.hdf5'.format(run.name))"
   ]
  },
  {
   "cell_type": "code",
   "execution_count": null,
   "metadata": {},
   "outputs": [],
   "source": [
    "def ln_normal(x, mu, std):\n",
    "    return -0.5*( ((x-mu) / std)**2 + np.log(2*np.pi*std**2))\n",
    "\n",
    "def ln_normal_mixture(x, amps, mus, stds):\n",
    "    n_components = len(amps)\n",
    "    \n",
    "    lls = []\n",
    "    for j in range(n_components):\n",
    "        lls.append(ln_normal(x, mus[j], stds[j]) + np.log(amps[j]))\n",
    "    \n",
    "    return logsumexp(lls, axis=0)\n",
    "\n",
    "# test against (slower) scipy implementation:\n",
    "from scipy.stats import norm\n",
    "derp = np.random.uniform(-2, 2, size=100)\n",
    "pars = np.random.uniform(1E-3, 10, size=2)\n",
    "assert np.allclose(norm.logpdf(derp, loc=pars[0], scale=pars[1]),\n",
    "                   ln_normal(derp, *pars))\n",
    "\n",
    "assert np.allclose(ln_normal_mixture(derp, [1.], [pars[0]], [pars[1]]),\n",
    "                   ln_normal(derp, *pars))\n",
    "\n",
    "# test mixutre model against (slower) scikit learn\n",
    "from sklearn.mixture import GaussianMixture\n",
    "# 3 components\n",
    "g = GaussianMixture(n_components=3, covariance_type='spherical')\n",
    "g.means_ = np.random.uniform(-2, 2, size=3)\n",
    "g.covariances_ = np.random.uniform(1, 3, size=3)\n",
    "g.weights_ = [0.35, 0.3, 0.35]\n",
    "g.converged_ = True\n",
    "g.precisions_cholesky_ = None\n",
    "\n",
    "derp = np.random.uniform(-2, 2, size=100).reshape(100,1)\n",
    "print(g.score(derp))\n",
    "\n",
    "pars = np.ravel(list(zip(g.weights_, g.means_, g.covariances_)))\n"
   ]
  },
  {
   "cell_type": "markdown",
   "metadata": {},
   "source": [
    "---\n",
    "\n",
    "This is just a sanity check that newly generated prior samples look like we expect:"
   ]
  },
  {
   "cell_type": "code",
   "execution_count": null,
   "metadata": {
    "scrolled": true
   },
   "outputs": [],
   "source": [
    "jitter_kwargs = dict(jitter=(float(run.jitter_mean),\n",
    "                             float(run.jitter_stddev)),\n",
    "                     jitter_unit=u.Unit(run.jitter_unit))\n",
    "print(jitter_kwargs)\n",
    "\n",
    "params = JokerParams(P_min=8*u.day, P_max=32768*u.day, anomaly_tol=1E-11,\n",
    "                     **jitter_kwargs)\n",
    "\n",
    "joker = TheJoker(params)\n",
    "\n",
    "make_prior_cache('/tmp/jitter.hdf5', joker, 100000, max_batch_size=10000)\n",
    "\n",
    "with h5py.File('/tmp/jitter.hdf5') as f:\n",
    "    prior = np.array(f['samples'])\n",
    "    \n",
    "    # jitter is saved in km/s\n",
    "    s = 1000 * prior[:,-1] \n",
    "    \n",
    "plt.hist(np.log(s**2), bins=np.linspace(-8, 18, 32));"
   ]
  },
  {
   "cell_type": "markdown",
   "metadata": {},
   "source": [
    "Looks OK to me..."
   ]
  },
  {
   "cell_type": "markdown",
   "metadata": {},
   "source": [
    "---\n",
    "\n",
    "Now load the posterior jitter samples under the interim prior:"
   ]
  },
  {
   "cell_type": "code",
   "execution_count": null,
   "metadata": {},
   "outputs": [],
   "source": [
    "K_n = []\n",
    "apogee_ids = []\n",
    "with h5py.File(samples_file) as f:\n",
    "    # Only load 10000 stars for now\n",
    "    N = 2000\n",
    "    # N = len(f.keys())\n",
    "    \n",
    "    # Values that aren't filled get set to 9999.\n",
    "    # shut up.\n",
    "    y_nk = np.full((N, 128), 9999.)\n",
    "    \n",
    "    for n,key in enumerate(f):\n",
    "        K = len(f[key]['jitter'])\n",
    "        \n",
    "        s = f[key]['jitter'][:] * 1000. # km/s to m/s\n",
    "        y_nk[n,:K] = np.log(s**2)\n",
    "        K_n.append(K)\n",
    "        apogee_ids.append(key)\n",
    "        \n",
    "        if n >= (N-1): \n",
    "            break\n",
    "            \n",
    "        elif n % 1000 == 0:\n",
    "            print(n)    \n",
    "\n",
    "K_n = np.array(K_n)\n",
    "apogee_ids = np.array(apogee_ids)\n",
    "\n",
    "# for nulling out the probability for non-existing samples\n",
    "mask = np.zeros_like(y_nk)\n",
    "mask[y_nk == 9999.] = -np.inf"
   ]
  },
  {
   "cell_type": "markdown",
   "metadata": {},
   "source": [
    "Re-compute value of the interim prior at the position of the samples"
   ]
  },
  {
   "cell_type": "code",
   "execution_count": null,
   "metadata": {},
   "outputs": [],
   "source": [
    "ln_p0 = ln_normal(y_nk, float(run.jitter_mean), float(run.jitter_stddev))"
   ]
  },
  {
   "cell_type": "markdown",
   "metadata": {},
   "source": [
    "Check the posterior samples:"
   ]
  },
  {
   "cell_type": "code",
   "execution_count": null,
   "metadata": {},
   "outputs": [],
   "source": [
    "bins = np.linspace(-8, 10, 32)\n",
    "plt.hist(np.ravel(y_nk), bins=bins, normed=True, alpha=0.6, label='all samples');\n",
    "plt.hist(np.median(y_nk, axis=1), bins=bins, normed=True, alpha=0.6, label='median over $k$');\n",
    "plt.legend(loc='upper left', fontsize=16)\n",
    "plt.xlabel(r'$y = \\ln s^2$')"
   ]
  },
  {
   "cell_type": "markdown",
   "metadata": {},
   "source": [
    "### The star with the largest value of the smallest $y$ "
   ]
  },
  {
   "cell_type": "code",
   "execution_count": null,
   "metadata": {},
   "outputs": [],
   "source": [
    "minmax = []\n",
    "# need the loop because some stars have less than 128 samples\n",
    "for i, K in zip(range(y_nk.shape[0]), K_n):\n",
    "    minmax.append(y_nk[i,:K].min())\n",
    "i = np.argmax(minmax)\n",
    "\n",
    "print(y_nk[i, :K_n[i]].min(), '{0:.2f} m/s'.format(np.sqrt(np.exp(y_nk[i, :K_n[i]].min()))), apogee_ids[i])\n",
    "print(i)\n",
    "\n",
    "star = session.query(AllStar).filter(AllStar.apogee_id == apogee_ids[i]).limit(1).one()\n",
    "data = star.apogeervdata()\n",
    "\n",
    "samples = JokerSamples(trend_cls=VelocityTrend1, **load_samples(samples_file, apogee_ids[i]))\n",
    "_ = plot_data_orbits(data, samples)\n",
    "\n",
    "# residuals?\n",
    "for j in range(len(samples)):\n",
    "    this_samples = samples[j]\n",
    "    \n",
    "    trend_samples = dict()\n",
    "    for k in samples.trend_cls.parameters:\n",
    "        trend_samples[k] = this_samples.pop(k)\n",
    "    trend = samples.trend_cls(**trend_samples)\n",
    "    orbit = RVOrbit(trend=trend, **this_samples)\n",
    "    \n",
    "    fig, ax = plt.subplots(1,1)\n",
    "    ax.errorbar(data.t.mjd, (data.rv - orbit.generate_rv_curve(data.t)).to(u.km/u.s).value, \n",
    "                data.stddev.to(u.km/u.s).value,\n",
    "                linestyle='none', marker='o')\n",
    "    ax.set_ylabel('residuals [{0:latex_inline}]'.format(u.km/u.s))\n",
    "    ax.set_xlabel('BMJD')\n",
    "    \n",
    "    break"
   ]
  },
  {
   "cell_type": "markdown",
   "metadata": {},
   "source": [
    "### The star with the smallest value of the largest $y$ "
   ]
  },
  {
   "cell_type": "code",
   "execution_count": null,
   "metadata": {},
   "outputs": [],
   "source": [
    "minmax = []\n",
    "# need the loop because some stars have less than 128 samples\n",
    "for i, K in zip(range(y_nk.shape[0]), K_n):\n",
    "    minmax.append(y_nk[i,:K].max())\n",
    "i = np.argmin(minmax)\n",
    "\n",
    "print(y_nk[i, :K_n[i]].min(), '{0:.2f} m/s'.format(np.sqrt(np.exp(y_nk[i, :K_n[i]].min()))), apogee_ids[i])\n",
    "print(i)\n",
    "\n",
    "star = session.query(AllStar).filter(AllStar.apogee_id == apogee_ids[i]).limit(1).one()\n",
    "data = star.apogeervdata()\n",
    "\n",
    "samples = JokerSamples(trend_cls=VelocityTrend1, **load_samples(samples_file, apogee_ids[i]))\n",
    "_ = plot_data_orbits(data, samples)\n",
    "\n",
    "# residuals?\n",
    "for j in range(len(samples)):\n",
    "    this_samples = samples[j]\n",
    "    \n",
    "    trend_samples = dict()\n",
    "    for k in samples.trend_cls.parameters:\n",
    "        trend_samples[k] = this_samples.pop(k)\n",
    "    trend = samples.trend_cls(**trend_samples)\n",
    "    orbit = RVOrbit(trend=trend, **this_samples)\n",
    "    \n",
    "    fig, ax = plt.subplots(1,1)\n",
    "    ax.errorbar(data.t.mjd, (data.rv - orbit.generate_rv_curve(data.t)).to(u.km/u.s).value, \n",
    "                data.stddev.to(u.km/u.s).value,\n",
    "                linestyle='none', marker='o')\n",
    "    ax.set_ylabel('residuals [{0:latex_inline}]'.format(u.km/u.s))\n",
    "    ax.set_xlabel('BMJD')\n",
    "    \n",
    "    break"
   ]
  },
  {
   "cell_type": "markdown",
   "metadata": {},
   "source": [
    "### Hierarchical inference of jitter parameter distribution"
   ]
  },
  {
   "cell_type": "code",
   "execution_count": null,
   "metadata": {},
   "outputs": [],
   "source": [
    "def ln_likelihood_slow(pars, y, K, ln_prior0):\n",
    "    mu, std = pars   \n",
    "    \n",
    "    ll = np.zeros(y.shape[0])\n",
    "    for n in range(y.shape[0]):\n",
    "        delta_ln_prior = ln_normal(y[n, :K[n]], mu, std) - ln_prior0[n, :K[n]]\n",
    "        ll[n] = logsumexp(delta_ln_prior) - np.log(K[n])\n",
    "        \n",
    "    return ll\n",
    "\n",
    "def ln_likelihood(pars, y, K, ln_prior0, mask):\n",
    "    \"\"\" Original, single Gaussian implementation \"\"\"\n",
    "    mu, std = pars      \n",
    "    delta_ln_prior = ln_normal(y, mu, std) - ln_prior0 + mask\n",
    "    ll = logsumexp(delta_ln_prior, axis=1) - np.log(K)\n",
    "    return ll\n",
    "\n",
    "\n",
    "def ln_likelihood_mixture(pars, y, K, ln_prior0, mask):    \n",
    "    n_components = len(pars) // 3 # amp, mu, std\n",
    "    \n",
    "    amps = []\n",
    "    mus = []\n",
    "    stds = []\n",
    "    for j in range(n_components):\n",
    "        amps.append(pars[3*j])\n",
    "        mus.append(pars[3*j+1])\n",
    "        stds.append(pars[3*j+2])\n",
    "        \n",
    "    new_ln_prior = ln_normal_mixture(y, amps, mus, stds)\n",
    "    \n",
    "    delta_ln_prior = new_ln_prior - ln_prior0 + mask\n",
    "    ll = logsumexp(delta_ln_prior, axis=1) - np.log(K)\n",
    "    return ll\n",
    "\n",
    "\n",
    "def ln_prob(pars, y, K, ln_prior0, mask):\n",
    "    # TODO: prior over mu, std of jitter param distribution\n",
    "    lp = 0.\n",
    "    \n",
    "    if len(pars) == 2:\n",
    "        ll_n = ln_likelihood(pars, y, K, ln_prior0, mask)\n",
    "    \n",
    "    else:\n",
    "        ll_n = ln_likelihood_mixture(pars, y, K, ln_prior0, mask)\n",
    "    \n",
    "    if not np.all(np.isfinite(ll_n)):\n",
    "        return -np.inf\n",
    "    \n",
    "    return np.sum(ll_n)\n",
    "\n",
    "# check that the null masking is working\n",
    "test_pars = [np.random.uniform(-5, 5),\n",
    "             np.random.uniform(1E-3, 5)]\n",
    "\n",
    "assert np.allclose(ln_likelihood_slow(test_pars, y_nk, K_n, ln_p0),\n",
    "                   ln_likelihood(test_pars, y_nk, K_n, ln_p0, mask))\n",
    "\n",
    "assert np.allclose(ln_likelihood(test_pars, y_nk, K_n, ln_p0, mask),\n",
    "                   ln_likelihood_mixture([1.] + test_pars, y_nk, K_n, ln_p0, mask))"
   ]
  },
  {
   "cell_type": "code",
   "execution_count": null,
   "metadata": {},
   "outputs": [],
   "source": [
    "slc = (slice(0,3),) # single\n",
    "# slc = np.array([512,777])# + list(range(100))) # the two minmax stars above\n",
    "# slc = (slice(None),) # all\n",
    "args = (y_nk[slc], K_n[slc], ln_p0[slc], mask[slc])\n",
    "\n",
    "(ln_likelihood([-2, 4.], *args),\n",
    " ln_likelihood([2, 4.], *args))"
   ]
  },
  {
   "cell_type": "code",
   "execution_count": null,
   "metadata": {},
   "outputs": [],
   "source": [
    "(ln_likelihood_mixture([0.5, 0, 6.,  0.5, 5, 2.], *args),\n",
    " ln_likelihood_mixture([0.1, 0, 6.,  0.9, 5, 2.], *args))"
   ]
  },
  {
   "cell_type": "code",
   "execution_count": null,
   "metadata": {},
   "outputs": [],
   "source": [
    "bins = np.linspace(-5, 18, 55)\n",
    "\n",
    "_n_sub = y_nk[slc].shape[0]\n",
    "for _n in range(_n_sub):\n",
    "    plt.hist(y_nk[slc][_n], bins=bins, alpha=0.5, label='star {0}'.format(_n))\n",
    "\n",
    "plt.legend(loc='best')\n",
    "    \n",
    "vals = np.linspace(bins.min(), bins.max(), 1000)\n",
    "# lls = ln_normal_mixture(vals, [0.2, 0.8], [0, 1.], [6., 2.])\n",
    "# plt.plot(vals, np.exp(lls))"
   ]
  },
  {
   "cell_type": "code",
   "execution_count": null,
   "metadata": {},
   "outputs": [],
   "source": [
    "np.std(y_nk[slc].ravel()[y_nk[slc].ravel() < 9999])"
   ]
  },
  {
   "cell_type": "code",
   "execution_count": null,
   "metadata": {},
   "outputs": [],
   "source": [
    "# Single-component likelihood\n",
    "sigma_y = 0.01\n",
    "# sigma_y = np.std(y_nk[slc].ravel())\n",
    "\n",
    "lls = []\n",
    "vals = np.linspace(-5, 15, 128)\n",
    "for val in vals:\n",
    "    lls.append(ln_likelihood([val, sigma_y], *args).sum())\n",
    "    \n",
    "fig, axes = plt.subplots(1, 2, figsize=(12,5), sharex=True)\n",
    "\n",
    "axes[0].plot(vals, lls)\n",
    "axes[0].set_ylabel(r'$\\ln p(\\{D_n\\}|\\alpha)$')\n",
    "axes[1].plot(vals, np.exp(lls - np.max(lls)))\n",
    "axes[1].set_ylabel(r'$p(\\{D_n\\}|\\alpha)$')\n",
    "\n",
    "# axes[1].axvline(np.mean(y_nk[slc].ravel()))\n",
    "\n",
    "axes[0].set_xlabel(r'$\\mu_y$')\n",
    "axes[1].set_xlabel(r'$\\mu_y$')\n",
    "\n",
    "axes[0].xaxis.set_ticks(np.arange(vals.min(), vals.max()+1, 2))\n",
    "\n",
    "fig.tight_layout()"
   ]
  },
  {
   "cell_type": "code",
   "execution_count": null,
   "metadata": {},
   "outputs": [],
   "source": [
    "# Multi-Gaussian likelihood\n",
    "lls = []\n",
    "vals = np.linspace(-5, 15, 128)\n",
    "for val in vals:\n",
    "    lls.append(ln_likelihood_mixture([0.1, 0, 6.,  \n",
    "                                      0.9, val, 1.], *args).sum())\n",
    "    \n",
    "fig, axes = plt.subplots(1, 2, figsize=(12,5), sharex=True)\n",
    "\n",
    "axes[0].plot(vals, lls)\n",
    "axes[0].set_ylabel(r'$\\ln p(\\{D_n\\}|\\alpha)$')\n",
    "axes[1].plot(vals, np.exp(lls - np.max(lls)))\n",
    "axes[1].set_ylabel(r'$p(\\{D_n\\}|\\alpha)$')\n",
    "\n",
    "axes[0].set_xlabel(r'$\\mu_y$')\n",
    "axes[1].set_xlabel(r'$\\mu_y$')\n",
    "\n",
    "axes[0].xaxis.set_ticks(np.arange(vals.min(), vals.max()+1, 2))\n",
    "\n",
    "fig.tight_layout()"
   ]
  },
  {
   "cell_type": "markdown",
   "metadata": {},
   "source": [
    "---"
   ]
  },
  {
   "cell_type": "code",
   "execution_count": null,
   "metadata": {},
   "outputs": [],
   "source": [
    "mu_grid = np.linspace(-10, 10, 27)\n",
    "# var_grid = np.linspace(0.1, 10, 25)**2\n",
    "std_grid = np.logspace(-3, 1.5, 25)\n",
    "mu_grid, std_grid = np.meshgrid(mu_grid, std_grid)\n",
    "\n",
    "probs = np.array([ln_prob([m, v], *args) \n",
    "                  for (m, v) in zip(mu_grid.ravel(), std_grid.ravel())])"
   ]
  },
  {
   "cell_type": "code",
   "execution_count": null,
   "metadata": {},
   "outputs": [],
   "source": [
    "probs.min(), probs.max()"
   ]
  },
  {
   "cell_type": "code",
   "execution_count": null,
   "metadata": {},
   "outputs": [],
   "source": [
    "mu_grid.ravel()[probs.argmax()], std_grid.ravel()[probs.argmax()]"
   ]
  },
  {
   "cell_type": "code",
   "execution_count": null,
   "metadata": {},
   "outputs": [],
   "source": [
    "plt.figure(figsize=(6,5))\n",
    "# plt.pcolormesh(mu_grid, std_grid,\n",
    "#                probs.reshape(mu_grid.shape),\n",
    "#                cmap='Blues', vmin=-100, vmax=probs.max())\n",
    "plt.pcolormesh(mu_grid, std_grid,\n",
    "               np.exp(probs.reshape(mu_grid.shape)),\n",
    "               cmap='Blues')#, vmin=-100, vmax=probs.max())\n",
    "plt.yscale('log')\n",
    "plt.colorbar()\n",
    "plt.xlabel(r'$\\mu_y$')\n",
    "plt.ylabel(r'$\\sigma_y$')"
   ]
  },
  {
   "cell_type": "markdown",
   "metadata": {},
   "source": [
    "## DA FUQ?"
   ]
  },
  {
   "cell_type": "code",
   "execution_count": null,
   "metadata": {
    "collapsed": true
   },
   "outputs": [],
   "source": []
  },
  {
   "cell_type": "code",
   "execution_count": null,
   "metadata": {
    "collapsed": true
   },
   "outputs": [],
   "source": []
  },
  {
   "cell_type": "code",
   "execution_count": null,
   "metadata": {
    "collapsed": true
   },
   "outputs": [],
   "source": []
  },
  {
   "cell_type": "code",
   "execution_count": null,
   "metadata": {
    "collapsed": true
   },
   "outputs": [],
   "source": []
  },
  {
   "cell_type": "code",
   "execution_count": null,
   "metadata": {
    "collapsed": true
   },
   "outputs": [],
   "source": []
  },
  {
   "cell_type": "code",
   "execution_count": null,
   "metadata": {
    "collapsed": true
   },
   "outputs": [],
   "source": []
  },
  {
   "cell_type": "markdown",
   "metadata": {},
   "source": [
    "---"
   ]
  },
  {
   "cell_type": "code",
   "execution_count": null,
   "metadata": {
    "collapsed": true
   },
   "outputs": [],
   "source": [
    "import emcee"
   ]
  },
  {
   "cell_type": "code",
   "execution_count": null,
   "metadata": {
    "collapsed": true
   },
   "outputs": [],
   "source": [
    "nwalkers = 16\n",
    "p0 = np.random.normal([5, 4**2], [1E-3, 1E-3], size=(nwalkers, 2))"
   ]
  },
  {
   "cell_type": "code",
   "execution_count": null,
   "metadata": {},
   "outputs": [],
   "source": [
    "sampler = emcee.EnsembleSampler(nwalkers, dim=2, lnpostfn=ln_prob,\n",
    "                                args=(y_nk, K_n))\n",
    "pos,*_ = sampler.run_mcmc(p0, 256)\n",
    "# sampler.reset()\n",
    "# _ = sampler.run_mcmc(pos, 512)"
   ]
  },
  {
   "cell_type": "code",
   "execution_count": null,
   "metadata": {},
   "outputs": [],
   "source": [
    "sampler.chain.shape"
   ]
  },
  {
   "cell_type": "code",
   "execution_count": null,
   "metadata": {},
   "outputs": [],
   "source": [
    "for dim in range(sampler.dim):\n",
    "    plt.figure()\n",
    "    for walker in sampler.chain[...,dim]:\n",
    "        plt.plot(walker, marker='', linestyle='-', color='k', \n",
    "                 alpha=0.2, drawstyle='steps-mid')"
   ]
  },
  {
   "cell_type": "code",
   "execution_count": null,
   "metadata": {
    "collapsed": true
   },
   "outputs": [],
   "source": []
  },
  {
   "cell_type": "code",
   "execution_count": null,
   "metadata": {
    "collapsed": true
   },
   "outputs": [],
   "source": []
  }
 ],
 "metadata": {
  "anaconda-cloud": {},
  "kernelspec": {
   "display_name": "Python [conda env:twoface]",
   "language": "python",
   "name": "conda-env-twoface-py"
  },
  "language_info": {
   "codemirror_mode": {
    "name": "ipython",
    "version": 3
   },
   "file_extension": ".py",
   "mimetype": "text/x-python",
   "name": "python",
   "nbconvert_exporter": "python",
   "pygments_lexer": "ipython3",
   "version": "3.6.2"
  }
 },
 "nbformat": 4,
 "nbformat_minor": 2
}