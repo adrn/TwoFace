{
 "cells": [
  {
   "cell_type": "code",
   "execution_count": null,
   "metadata": {
    "collapsed": true
   },
   "outputs": [],
   "source": [
    "import os\n",
    "from os import path\n",
    "from astropy.io import fits\n",
    "import astropy.units as u\n",
    "from astropy.table import Table\n",
    "from astropy.constants import G\n",
    "\n",
    "import numpy as np\n",
    "import matplotlib.pyplot as plt\n",
    "plt.style.use('apw-notebook')\n",
    "%matplotlib inline\n",
    "import h5py\n",
    "from sqlalchemy import func\n",
    "from scipy.optimize import root\n",
    "\n",
    "from twoface.config import TWOFACE_CACHE_PATH\n",
    "from twoface.db import (db_connect, AllStar, AllVisit, AllVisitToAllStar, RedClump,\n",
    "                        StarResult, Status, JokerRun, initialize_db)\n",
    "\n",
    "import emcee\n",
    "from scipy.misc import logsumexp"
   ]
  },
  {
   "cell_type": "code",
   "execution_count": null,
   "metadata": {
    "collapsed": true
   },
   "outputs": [],
   "source": [
    "TWOFACE_CACHE_PATH = path.abspath('../cache/')"
   ]
  },
  {
   "cell_type": "code",
   "execution_count": null,
   "metadata": {
    "collapsed": true
   },
   "outputs": [],
   "source": [
    "Session, _ = db_connect(path.join(TWOFACE_CACHE_PATH, 'apogee.sqlite'))\n",
    "session = Session()"
   ]
  },
  {
   "cell_type": "code",
   "execution_count": null,
   "metadata": {},
   "outputs": [],
   "source": [
    "for i in range(5):\n",
    "    status = session.query(Status).filter(Status.id == i).limit(1).one()\n",
    "    n = session.query(AllStar)\\\n",
    "               .join(StarResult, JokerRun, Status)\\\n",
    "               .filter(Status.id == i).count()\n",
    "    print(\"Status: {0} ({1}) - {2}\".format(status.message, status.id, n))"
   ]
  },
  {
   "cell_type": "code",
   "execution_count": null,
   "metadata": {
    "collapsed": true
   },
   "outputs": [],
   "source": [
    "samples_file = path.join(TWOFACE_CACHE_PATH, 'apogee-jitter.hdf5')"
   ]
  },
  {
   "cell_type": "code",
   "execution_count": null,
   "metadata": {},
   "outputs": [],
   "source": [
    "K_n = []\n",
    "with h5py.File(samples_file) as f:\n",
    "    N = 10000\n",
    "    # N = len(f.keys())\n",
    "    ln_p0 = np.full((N, 128), np.inf)\n",
    "    y_nk = np.zeros((N, 128))\n",
    "    \n",
    "    for n,key in enumerate(f):\n",
    "        K = len(f[key]['jitter'])\n",
    "        y_nk[n,:K] = 2*np.log(f[key]['jitter'][:] * 1000.) # km/s to m/s\n",
    "        ln_p0[n,:K] = f[key]['ln_prior_probs'][:]\n",
    "        K_n.append(K)\n",
    "        \n",
    "        if n >= (N-1): \n",
    "            break\n",
    "            \n",
    "        elif n % 1000 == 0:\n",
    "            print(n)    \n",
    "\n",
    "K_n = np.array(K_n)\n",
    "\n",
    "mask = np.zeros_like(y_nk)\n",
    "mask[y_nk == 0] = -np.inf"
   ]
  },
  {
   "cell_type": "code",
   "execution_count": null,
   "metadata": {},
   "outputs": [],
   "source": [
    "plt.hist(np.ravel(y_nk), bins=np.linspace(-8, 8, 32));"
   ]
  },
  {
   "cell_type": "code",
   "execution_count": null,
   "metadata": {
    "collapsed": true
   },
   "outputs": [],
   "source": [
    "def ln_normal(x, mu, var):\n",
    "    return -0.5*((x-mu)**2 / var + np.log(2*np.pi*var))"
   ]
  },
  {
   "cell_type": "code",
   "execution_count": null,
   "metadata": {},
   "outputs": [],
   "source": [
    "ln_p0 = ln_normal(y_nk, 5., 4.)\n",
    "\n",
    "def ln_prob(pars, y, K):\n",
    "    mu, var = pars   \n",
    "    delta_ln_prior = ln_normal(y, mu, var) - ln_p0 + mask\n",
    "    return np.sum(logsumexp(delta_ln_prior, axis=1) - np.log(K))"
   ]
  },
  {
   "cell_type": "code",
   "execution_count": null,
   "metadata": {},
   "outputs": [],
   "source": [
    "derp = ln_prob([4, 4], y_nk, K_n)\n",
    "derp"
   ]
  },
  {
   "cell_type": "code",
   "execution_count": null,
   "metadata": {},
   "outputs": [],
   "source": [
    "lls = []\n",
    "vals = np.linspace(-10, 10, 128)\n",
    "for val in vals:\n",
    "    lls.append(ln_prob([val,5], y_nk, K_n))"
   ]
  },
  {
   "cell_type": "code",
   "execution_count": null,
   "metadata": {},
   "outputs": [],
   "source": [
    "plt.plot(vals, lls)"
   ]
  },
  {
   "cell_type": "code",
   "execution_count": null,
   "metadata": {
    "collapsed": true
   },
   "outputs": [],
   "source": [
    "%timeit ln_prob([5, 4], all_l, all_K)"
   ]
  },
  {
   "cell_type": "code",
   "execution_count": null,
   "metadata": {
    "collapsed": true
   },
   "outputs": [],
   "source": [
    "nwalkers = 16\n",
    "p0 = np.random.normal([5, 4], [1E-3, 1E-3], size=(nwalkers, 2))"
   ]
  },
  {
   "cell_type": "code",
   "execution_count": null,
   "metadata": {},
   "outputs": [],
   "source": [
    "sampler = emcee.EnsembleSampler(nwalkers, dim=2, lnpostfn=ln_prob,\n",
    "                                args=(all_l, all_ln_prior, all_K))\n",
    "pos,*_ = sampler.run_mcmc(p0, 256)\n",
    "# sampler.reset()\n",
    "# _ = sampler.run_mcmc(pos, 512)"
   ]
  },
  {
   "cell_type": "code",
   "execution_count": null,
   "metadata": {},
   "outputs": [],
   "source": [
    "sampler.chain.shape"
   ]
  },
  {
   "cell_type": "code",
   "execution_count": null,
   "metadata": {},
   "outputs": [],
   "source": [
    "for dim in range(sampler.dim):\n",
    "    plt.figure()\n",
    "    for walker in sampler.chain[...,dim]:\n",
    "        plt.plot(walker, marker='', linestyle='-', color='k', \n",
    "                 alpha=0.2, drawstyle='steps-mid')"
   ]
  },
  {
   "cell_type": "code",
   "execution_count": null,
   "metadata": {
    "collapsed": true
   },
   "outputs": [],
   "source": []
  },
  {
   "cell_type": "code",
   "execution_count": null,
   "metadata": {
    "collapsed": true
   },
   "outputs": [],
   "source": []
  }
 ],
 "metadata": {
  "anaconda-cloud": {},
  "kernelspec": {
   "display_name": "Python [conda env:twoface]",
   "language": "python",
   "name": "conda-env-twoface-py"
  },
  "language_info": {
   "codemirror_mode": {
    "name": "ipython",
    "version": 3
   },
   "file_extension": ".py",
   "mimetype": "text/x-python",
   "name": "python",
   "nbconvert_exporter": "python",
   "pygments_lexer": "ipython3",
   "version": "3.6.2"
  }
 },
 "nbformat": 4,
 "nbformat_minor": 2
}