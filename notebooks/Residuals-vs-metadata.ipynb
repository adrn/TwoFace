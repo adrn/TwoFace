{
 "cells": [
  {
   "cell_type": "code",
   "execution_count": null,
   "metadata": {},
   "outputs": [],
   "source": [
    "import os\n",
    "from os import path\n",
    "from astropy.time import Time\n",
    "from astropy.io import fits, ascii\n",
    "import astropy.units as u\n",
    "from astropy.table import Table\n",
    "from astropy.constants import G\n",
    "\n",
    "import numpy as np\n",
    "import matplotlib.pyplot as plt\n",
    "%matplotlib inline\n",
    "import h5py\n",
    "from sqlalchemy import func\n",
    "from scipy.optimize import root\n",
    "from scipy.stats import scoreatpercentile\n",
    "import tqdm\n",
    "\n",
    "from thejoker import JokerSamples\n",
    "from thejoker.sampler import JokerParams, TheJoker\n",
    "from thejoker.plot import plot_rv_curves\n",
    "\n",
    "from twoface.config import TWOFACE_CACHE_PATH\n",
    "from twoface.db import (db_connect, AllStar, AllVisit, AllVisitToAllStar, RedClump,\n",
    "                        StarResult, Status, JokerRun, initialize_db)\n",
    "from twoface.data import APOGEERVData\n",
    "from twoface.plot import plot_data_orbits"
   ]
  },
  {
   "cell_type": "code",
   "execution_count": null,
   "metadata": {
    "collapsed": true
   },
   "outputs": [],
   "source": [
    "TWOFACE_CACHE_PATH = path.abspath('../cache/')\n",
    "samples_file = path.join(TWOFACE_CACHE_PATH, 'apogee-jitter.hdf5')"
   ]
  },
  {
   "cell_type": "code",
   "execution_count": null,
   "metadata": {
    "collapsed": true
   },
   "outputs": [],
   "source": [
    "Session, _ = db_connect(path.join(TWOFACE_CACHE_PATH, 'apogee.sqlite'))\n",
    "session = Session()"
   ]
  },
  {
   "cell_type": "code",
   "execution_count": null,
   "metadata": {},
   "outputs": [],
   "source": [
    "# stars = session.query(AllStar).join(StarResult, JokerRun, Status)\\\n",
    "#                .filter(JokerRun.name == 'apogee-jitter')\\\n",
    "#                .filter(Status.id == 2).all()\n",
    "\n",
    "# logg cut removes large jitter stars\n",
    "stars = session.query(AllStar).join(StarResult, Status, AllVisitToAllStar, AllVisit)\\\n",
    "                              .filter(Status.id > 0)\\\n",
    "                              .filter(AllStar.logg > 2)\\\n",
    "                              .group_by(AllStar.apstar_id)\\\n",
    "                              .having(func.count(AllVisit.id) >= 10)\\\n",
    "                              .all()\n",
    "len(stars)"
   ]
  },
  {
   "cell_type": "code",
   "execution_count": null,
   "metadata": {},
   "outputs": [],
   "source": [
    "%%time\n",
    "\n",
    "rows = None\n",
    "with h5py.File(samples_file, 'r') as f:\n",
    "    for star in stars:\n",
    "        data = star.apogeervdata()\n",
    "        samples = JokerSamples.from_hdf5(f[star.apogee_id])\n",
    "        \n",
    "        chi2s = []\n",
    "        for j in range(len(samples)):\n",
    "            orbit = samples.get_orbit(j)\n",
    "            chi2 = np.sum( ((data.rv - orbit.radial_velocity(data.t)) / data.stddev)**2 ).value\n",
    "            chi2s.append(chi2)\n",
    "            \n",
    "        orbit = samples.get_orbit(np.argmin(chi2s))\n",
    "        \n",
    "        resid = (data.rv - orbit.radial_velocity(data.t)).to(u.km/u.s).value\n",
    "        norm_resid = ((data.rv - orbit.radial_velocity(data.t)) / data.stddev).decompose().value\n",
    "        plate = [int(v.plate) for v in star.visits]\n",
    "        fiber = [int(v.fiberid) for v in star.visits]\n",
    "        mjd = [int(v.mjd) for v in star.visits]\n",
    "        \n",
    "        if rows is None:\n",
    "            rows = list(zip(plate, fiber, mjd, resid, norm_resid))\n",
    "        \n",
    "        else:\n",
    "            these_rows = list(zip(plate, fiber, mjd, resid, norm_resid))\n",
    "            rows = rows + these_rows\n",
    "            \n",
    "tbl = np.array(rows, dtype=[('plate', int), ('fiber', int), ('mjd', int), \n",
    "                            ('resid', float), ('norm_resid', float)])"
   ]
  },
  {
   "cell_type": "code",
   "execution_count": null,
   "metadata": {},
   "outputs": [],
   "source": [
    "fig, axes = plt.subplots(3, 1, figsize=(12, 12), sharey=True)\n",
    "\n",
    "style = dict(marker='.', linestyle='none', alpha=0.25, ms=3)\n",
    "axes[0].plot(tbl['plate'], tbl['resid'], **style)\n",
    "axes[0].set_xlabel('PLATEID')\n",
    "\n",
    "axes[1].plot(tbl['fiber'], tbl['resid'], **style)\n",
    "axes[1].set_xlabel('FIBERID')\n",
    "axes[1].set_ylabel('Residual [{0:latex_inline}]'.format(u.km/u.s))\n",
    "\n",
    "axes[2].plot(tbl['mjd'], tbl['resid'], **style)\n",
    "axes[2].set_xlabel('MJD')\n",
    "\n",
    "axes[0].set_yscale('symlog', linthreshy=1E-1)\n",
    "axes[0].set_ylim(-100, 100)\n",
    "\n",
    "for ax in axes:\n",
    "    ax.axhline(1., zorder=-10, alpha=0.5, color='tab:orange', linestyle='--', linewidth=1.)\n",
    "    ax.axhline(-1., zorder=-10, alpha=0.5, color='tab:orange', linestyle='--', linewidth=1.)\n",
    "    ax.axhspan(-0.1, 0.1, zorder=-10, color='#eeeeee')\n",
    "\n",
    "fig.tight_layout()"
   ]
  },
  {
   "cell_type": "code",
   "execution_count": null,
   "metadata": {},
   "outputs": [],
   "source": [
    "fig, ax = plt.subplots(1, 1, figsize=(12, 4.5), sharey=True)\n",
    "\n",
    "style = dict(marker='.', linestyle='none', alpha=0.5, ms=3)\n",
    "ax.plot(tbl['fiber'], np.abs(tbl['resid']), **style)\n",
    "ax.set_xlabel('FIBERID')\n",
    "ax.set_ylabel('abs(residual) [{0:latex_inline}]'.format(u.km/u.s))\n",
    "ax.set_yscale('log')\n",
    "ax.set_ylim(0.1, 100)\n",
    "\n",
    "fig.tight_layout()"
   ]
  },
  {
   "cell_type": "code",
   "execution_count": null,
   "metadata": {
    "collapsed": true
   },
   "outputs": [],
   "source": [
    "from scipy.stats import norm"
   ]
  },
  {
   "cell_type": "code",
   "execution_count": null,
   "metadata": {},
   "outputs": [],
   "source": [
    "plt.hist(tbl['resid'].ravel(), bins=np.linspace(-10, 10, 256), normed=True);\n",
    "\n",
    "r_grid = np.linspace(-10, 10, 1024)\n",
    "plt.plot(r_grid, norm.pdf(r_grid, 0, 0.15), marker='')\n",
    "\n",
    "plt.yscale('log')\n",
    "plt.ylim(1E-4, 1E1)\n",
    "plt.xlabel('residual [{0:latex_inline}]'.format(u.km/u.s))"
   ]
  },
  {
   "cell_type": "code",
   "execution_count": null,
   "metadata": {
    "collapsed": true
   },
   "outputs": [],
   "source": []
  }
 ],
 "metadata": {
  "anaconda-cloud": {},
  "kernelspec": {
   "display_name": "Python [conda env:twoface]",
   "language": "python",
   "name": "conda-env-twoface-py"
  },
  "language_info": {
   "codemirror_mode": {
    "name": "ipython",
    "version": 3
   },
   "file_extension": ".py",
   "mimetype": "text/x-python",
   "name": "python",
   "nbconvert_exporter": "python",
   "pygments_lexer": "ipython3",
   "version": "3.6.4"
  }
 },
 "nbformat": 4,
 "nbformat_minor": 2
}