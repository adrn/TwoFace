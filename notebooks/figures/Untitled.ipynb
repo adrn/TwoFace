{
 "cells": [
  {
   "cell_type": "code",
   "execution_count": null,
   "metadata": {},
   "outputs": [],
   "source": [
    "import os\n",
    "from os import path\n",
    "\n",
    "# Third-party\n",
    "from astropy.io import fits\n",
    "from astropy.stats import median_absolute_deviation\n",
    "from astropy.table import Table, QTable, join\n",
    "from astropy.time import Time\n",
    "import astropy.units as u\n",
    "import matplotlib as mpl\n",
    "import matplotlib.pyplot as plt\n",
    "from matplotlib.gridspec import GridSpec\n",
    "import numpy as np\n",
    "%matplotlib inline\n",
    "import h5py\n",
    "import pandas as pd\n",
    "from sqlalchemy import func\n",
    "import tqdm\n",
    "\n",
    "from thejoker import JokerSamples\n",
    "\n",
    "from twoface.config import TWOFACE_CACHE_PATH\n",
    "from twoface.samples_analysis import unimodal_P, MAP_sample\n",
    "from twoface.db import (db_connect, AllStar, AllVisit, AllVisitToAllStar, NessRG,\n",
    "                        StarResult, Status, JokerRun, initialize_db)\n",
    "from twoface.plot import plot_two_panel, plot_phase_fold, _RV_LBL\n",
    "from twoface.mass import get_m2_min, mf, period_at_surface"
   ]
  },
  {
   "cell_type": "code",
   "execution_count": null,
   "metadata": {},
   "outputs": [],
   "source": [
    "plot_path = '../../paper/1-catalog/figures/'\n",
    "table_path = '../../paper/1-catalog/tables/'\n",
    "\n",
    "Session, _ = db_connect(path.join(TWOFACE_CACHE_PATH, 'apogee.sqlite'))\n",
    "session = Session()\n",
    "\n",
    "samples_file = path.join(TWOFACE_CACHE_PATH, 'apogee-jitter.hdf5')\n",
    "mcmc_samples_file = path.join(TWOFACE_CACHE_PATH, 'apogee-jitter-mcmc.hdf5')"
   ]
  },
  {
   "cell_type": "code",
   "execution_count": null,
   "metadata": {},
   "outputs": [],
   "source": [
    "run = session.query(JokerRun).limit(1).one()\n",
    "joker_pars = run.get_joker_params()"
   ]
  },
  {
   "cell_type": "code",
   "execution_count": null,
   "metadata": {},
   "outputs": [],
   "source": [
    "full_catalog = QTable.read(path.join(table_path, 'high-K-unimodal.fits'), \n",
    "                           astropy_native=True)"
   ]
  },
  {
   "cell_type": "code",
   "execution_count": null,
   "metadata": {},
   "outputs": [],
   "source": [
    "# cat = full_catalog\n",
    "cat = full_catalog[(full_catalog['P_err']/full_catalog['P']) < 0.2]\n",
    "\n",
    "fig, ax = plt.subplots(1, 1, figsize=(6, 6))\n",
    "\n",
    "ax.scatter(cat['P'], cat['LOGG'], s=15)\n",
    "ax.errorbar(cat['P'].value, cat['LOGG'],\n",
    "            xerr=cat['P_err'].value, \n",
    "            yerr=cat['LOGG_ERR'],\n",
    "            marker='', linestyle='none', zorder=-10, \n",
    "            alpha=0.7, color='#aaaaaa')\n",
    "\n",
    "loggs = np.linspace(0, 4, 128)\n",
    "_style = dict(marker='', zorder=-100)\n",
    "P_surface = period_at_surface(1.35*u.Msun, loggs, 0., M2=0.4*u.Msun)\n",
    "ax.plot(P_surface, loggs, ls='-', color='tab:orange', **_style)\n",
    "P_surface = period_at_surface(1.35*u.Msun, loggs, 0.5, M2=0.4*u.Msun)\n",
    "ax.plot(P_surface, loggs, ls='--', color='tab:orange', **_style)\n",
    "\n",
    "ax.set_xlim(0.8, 2500)\n",
    "ax.set_ylim(4, 0)\n",
    "ax.set_xscale('log')\n",
    "\n",
    "ax.set_xlabel('period, $P$ [day]')\n",
    "ax.set_ylabel(r'$\\log g$')"
   ]
  },
  {
   "cell_type": "code",
   "execution_count": null,
   "metadata": {},
   "outputs": [],
   "source": [
    "# cat = full_catalog\n",
    "cat = full_catalog[full_catalog['emcee_converged'] & (full_catalog['LOGG'] > -9999)]\n",
    "# cat = full_catalog[full_catalog['emcee_converged'] & \n",
    "#                    np.logical_not(np.isin(full_catalog['APOGEE_ID'], suspicious_ids))]\n",
    "\n",
    "fig, ax = plt.subplots(1, 1, figsize=(6, 6))\n",
    "\n",
    "P_surface = period_at_surface(1.35*u.Msun, cat['LOGG'], cat['e'], 0.4*u.Msun)\n",
    "\n",
    "ax.scatter(cat['P']/P_surface, cat['e'])\n",
    "# ax.errorbar((full_catalog['P']/P_surface).value, full_catalog['LOGG'],\n",
    "#             xerr=(full_catalog['P_err']/P_surface).value, \n",
    "#             yerr=full_catalog['LOGG_ERR'],\n",
    "#             marker='', linestyle='none', zorder=-10)\n",
    "\n",
    "ax.axvline(1., color='#aaaaaa', zorder=-100)\n",
    "# ax.axvline(10., color='#aaaaaa', zorder=-100)\n",
    "\n",
    "ax.set_xlabel(r'$P / P_{\\rm surface}$')\n",
    "ax.set_ylabel(r'$e$')\n",
    "\n",
    "ax.set_xlim(0.01, 1000)\n",
    "ax.set_ylim(0, 1)\n",
    "ax.set_xscale('log')"
   ]
  },
  {
   "cell_type": "code",
   "execution_count": null,
   "metadata": {},
   "outputs": [],
   "source": [
    "# cat = full_catalog\n",
    "cat = full_catalog[full_catalog['emcee_converged'] & (full_catalog['LOGG'] > -9999)]\n",
    "# cat = full_catalog[full_catalog['emcee_converged'] & \n",
    "#                    np.logical_not(np.isin(full_catalog['APOGEE_ID'], suspicious_ids))]\n",
    "\n",
    "fig, ax = plt.subplots(1, 1, figsize=(6, 6))\n",
    "\n",
    "P_surface = period_at_surface(1.35*u.Msun, cat['LOGG'], \n",
    "                              cat['e'], 0.4*u.Msun)\n",
    "\n",
    "ax.scatter(cat['P']/P_surface, cat['LOGG'])\n",
    "# ax.errorbar((full_catalog['P']/P_surface).value, full_catalog['LOGG'],\n",
    "#             xerr=(full_catalog['P_err']/P_surface).value, \n",
    "#             yerr=full_catalog['LOGG_ERR'],\n",
    "#             marker='', linestyle='none', zorder=-10)\n",
    "\n",
    "ax.axvline(1., color='#aaaaaa', zorder=-100)\n",
    "\n",
    "ax.set_xlabel(r'$P / P_{\\rm surface}$')\n",
    "ax.set_ylabel(r'$\\log g$')\n",
    "\n",
    "ax.set_xlim(0.01, 1000)\n",
    "ax.set_ylim(4, 0)\n",
    "ax.set_xscale('log')"
   ]
  },
  {
   "cell_type": "code",
   "execution_count": null,
   "metadata": {},
   "outputs": [],
   "source": [
    "cat = full_catalog[(full_catalog['M2_min_err'] / full_catalog['M2_min']) < 0.2]\n",
    "# cat = full_catalog[full_catalog['emcee_converged'] & (full_catalog['LOGG'] > -9999)]\n",
    "\n",
    "fig, ax = plt.subplots(1, 1, figsize=(6, 6))\n",
    "\n",
    "P_surface = period_at_surface(1.35*u.Msun, cat['LOGG'], \n",
    "                              cat['e'], 0.4*u.Msun)\n",
    "\n",
    "ax.scatter(cat['M1'], cat['M2_min']/cat['M1'])\n",
    "ax.errorbar(cat['M1'].value, cat['M2_min'].value/cat['M1'].value,\n",
    "            xerr=cat['M1_err'].value, \n",
    "            yerr=cat['M2_min_err'].value,\n",
    "            marker='', linestyle='none', zorder=-10)\n",
    "\n",
    "# ax.axvline(1., color='#aaaaaa', zorder=-100)\n",
    "\n",
    "# ax.set_xlabel(r'$P / P_{\\rm surface}$')\n",
    "# ax.set_ylabel(r'$\\log g$')\n",
    "\n",
    "# ax.set_xlim(0.01, 1000)\n",
    "ax.set_ylim(0, 1.)\n",
    "# ax.set_xscale('log')"
   ]
  },
  {
   "cell_type": "code",
   "execution_count": null,
   "metadata": {},
   "outputs": [],
   "source": [
    "session.query(AllStar).join(StarResult, NessRG).filter(StarResult.status_id>0)\\\n",
    "       .filter(StarResult.high_K).count()"
   ]
  },
  {
   "cell_type": "code",
   "execution_count": null,
   "metadata": {},
   "outputs": [],
   "source": [
    "# row = cat[(cat['P']/P_surface) < 3.][1]\n",
    "# visits = session.query(AllVisit).filter(AllVisit.apogee_id == row['APOGEE_ID']).all()\n",
    "# visit = visits[0]"
   ]
  },
  {
   "cell_type": "code",
   "execution_count": null,
   "metadata": {},
   "outputs": [],
   "source": [
    "with h5py.File(mcmc_samples_file, 'r') as mcmc_f, h5py.File(samples_file, 'r') as f:\n",
    "    for row in cat[(cat['P']/P_surface) < 3.]:\n",
    "        star = AllStar.get_apogee_id(session, row['APOGEE_ID'])\n",
    "        data = star.apogeervdata()\n",
    "\n",
    "        if star.apogee_id in mcmc_f:\n",
    "            samples = JokerSamples.from_hdf5(mcmc_f[star.apogee_id])\n",
    "            print('mcmc')\n",
    "        else:\n",
    "            samples = JokerSamples.from_hdf5(f[star.apogee_id])\n",
    "            print('thejoker')\n",
    "\n",
    "        samples.t0 = data.t0\n",
    "\n",
    "        fig = plot_two_panel(data, samples, \n",
    "                             plot_data_orbits_kw=dict(n_times=16384,                \n",
    "                                                      highlight_P_extrema=False))\n",
    "        fig.axes[0].set_title('logg={0:.2f}, P = {1:.2f}'.format(star.logg, samples['P'][0]))\n",
    "        fig.tight_layout()\n",
    "        \n",
    "        fig, ax = plt.subplots(1, 1)\n",
    "        ax.set_title(row['STARFLAGS'], fontsize=12)\n",
    "        fig = plot_phase_fold(data, MAP_sample(data, samples, joker_params=joker_pars), \n",
    "                              ax=ax)"
   ]
  },
  {
   "cell_type": "code",
   "execution_count": null,
   "metadata": {},
   "outputs": [],
   "source": []
  },
  {
   "cell_type": "code",
   "execution_count": null,
   "metadata": {},
   "outputs": [],
   "source": []
  },
  {
   "cell_type": "code",
   "execution_count": null,
   "metadata": {},
   "outputs": [],
   "source": [
    "fig, ax = plt.subplots(1, 1, figsize=(6, 6))\n",
    "ax.scatter(m1, mass_ratio, alpha=0.8,\n",
    "           zorder=10, s=18, color='k')\n",
    "ax.errorbar(m1.value, mass_ratio, xerr=m1_err.value, yerr=mass_ratio_err, \n",
    "            marker='', linestyle='none', alpha=0.75, color='#aaaaaa')\n",
    "ax.set_xlim(0.5, 2.5)\n",
    "ax.set_ylim(-0.05, 1.25)"
   ]
  },
  {
   "cell_type": "markdown",
   "metadata": {},
   "source": [
    "## Now write out the full catalog:"
   ]
  },
  {
   "cell_type": "code",
   "execution_count": null,
   "metadata": {},
   "outputs": [],
   "source": []
  },
  {
   "cell_type": "markdown",
   "metadata": {},
   "source": [
    "---\n",
    "\n",
    "# Plots:"
   ]
  },
  {
   "cell_type": "code",
   "execution_count": null,
   "metadata": {},
   "outputs": [],
   "source": [
    "fig, ax = plt.subplots(1, 1, figsize=(6, 5))\n",
    "\n",
    "mask = (full_catalog['emcee_converged'] == True) & (full_catalog['LOGG'] > -999)\n",
    "tbl2 = full_catalog[mask]\n",
    "\n",
    "cs = ax.scatter(tbl2['P'], tbl2['e'], c=tbl2['LOGG'], \n",
    "                vmin=0.5, vmax=3.5, marker='o', \n",
    "                cmap='magma_r', edgecolor='k', \n",
    "                linewidth=0.5, s=18)\n",
    "\n",
    "ax.errorbar(tbl2['P'], tbl2['e'],\n",
    "            xerr=tbl2['P_err'], yerr=tbl2['e_err'], \n",
    "            marker='', linestyle='none', zorder=-10, \n",
    "            color='#555555', alpha=0.75)\n",
    "\n",
    "ax.set_xscale('log')\n",
    "# ax.set_xlim(2**(0-0.3), 2**(15+0.3))\n",
    "ax.set_ylim(-0.02, 1.02)\n",
    "\n",
    "cb = fig.colorbar(cs)\n",
    "cb.set_label(r'$\\log g$')\n",
    "\n",
    "ax.set_xlabel('period, $P$ [day]')\n",
    "ax.set_ylabel('eccentricity, $e$')\n",
    "\n",
    "fig.tight_layout()\n",
    "fig.set_facecolor('w')\n",
    "# fig.savefig(path.join(plot_path, 'unimodal-P-e.pdf'))"
   ]
  },
  {
   "cell_type": "code",
   "execution_count": null,
   "metadata": {},
   "outputs": [],
   "source": [
    "from astropy.constants import G\n",
    "def get_P_surface(M1, logg, e, M2=0*u.Msun):\n",
    "    P = 2*np.pi * G**(1/4.) * (M1+M2) / (M1**(3/4.)) * (10**logg*u.cm/u.s**2)**(-3/4) * (1-e)**(-3/2)\n",
    "    return P.to(u.day)"
   ]
  },
  {
   "cell_type": "code",
   "execution_count": null,
   "metadata": {},
   "outputs": [],
   "source": [
    "fig, ax = plt.subplots(1, 1, figsize=(6, 5))\n",
    "\n",
    "mask = (full_catalog['emcee_converged'] == True) & (full_catalog['LOGG'] > -999)\n",
    "tbl2 = full_catalog[mask]\n",
    "\n",
    "surfaceP = get_P_surface(1.5*u.Msun, tbl2['LOGG'], tbl2['e'])\n",
    "\n",
    "cs = ax.scatter(tbl2['P']/surfaceP, tbl2['e'], c=tbl2['LOGG'], \n",
    "                vmin=0.5, vmax=3.5, marker='o', \n",
    "                cmap='magma_r', edgecolor='k', \n",
    "                linewidth=0.5, s=18)\n",
    "\n",
    "ax.errorbar(tbl2['P']/surfaceP, tbl2['e'],\n",
    "            xerr=tbl2['P_err']/surfaceP, yerr=tbl2['e_err'], \n",
    "            marker='', linestyle='none', zorder=-10, \n",
    "            color='#555555', alpha=0.75)\n",
    "\n",
    "ax.scatter((tbl2['P']/surfaceP)[(tbl2['ASPCAPFLAG'] & (2**7)) != 0], \n",
    "           tbl2['e'][(tbl2['ASPCAPFLAG'] & (2**7)) != 0], \n",
    "           marker='o', edgecolor='tab:red', \n",
    "           linewidth=2., s=30, facecolor='none')\n",
    "\n",
    "ax.set_xscale('log')\n",
    "# ax.set_xlim(2**(0-0.3), 2**(15+0.3))\n",
    "ax.set_ylim(-0.02, 1.02)\n",
    "\n",
    "cb = fig.colorbar(cs)\n",
    "cb.set_label(r'$\\log g$')\n",
    "\n",
    "# ax.set_xlabel('period, $P$ [day]')\n",
    "ax.set_ylabel('eccentricity, $e$')\n",
    "\n",
    "fig.tight_layout()\n",
    "fig.set_facecolor('w')\n",
    "# fig.savefig(path.join(plot_path, 'unimodal-P-e.pdf'))"
   ]
  },
  {
   "cell_type": "markdown",
   "metadata": {},
   "source": [
    "### What's going on at P<10 day?"
   ]
  },
  {
   "cell_type": "code",
   "execution_count": null,
   "metadata": {},
   "outputs": [],
   "source": [
    "from twoface.samples_analysis import max_likelihood_sample"
   ]
  },
  {
   "cell_type": "code",
   "execution_count": null,
   "metadata": {},
   "outputs": [],
   "source": [
    "Plt10 = full_catalog[(full_catalog['P'] < 10.) & (full_catalog['emcee_converged'])]"
   ]
  },
  {
   "cell_type": "code",
   "execution_count": null,
   "metadata": {},
   "outputs": [],
   "source": [
    "with h5py.File(mcmc_samples_file, 'r') as f:\n",
    "    for apogee_id in Plt10['APOGEE_ID']:\n",
    "        samples = JokerSamples.from_hdf5(f[apogee_id])\n",
    "        data = AllStar.get_apogee_id(session, apogee_id).apogeervdata()\n",
    "        samples.t0 = data.t0\n",
    "        \n",
    "        sample = max_likelihood_sample(data, samples)\n",
    "        print(sample['jitter'])\n",
    "        \n",
    "        fig, ax = plt.subplots()\n",
    "        fig = plot_phase_fold(data, sample)\n",
    "        ax.set_title(apogee_id)\n",
    "        fig.tight_layout()"
   ]
  },
  {
   "cell_type": "code",
   "execution_count": null,
   "metadata": {},
   "outputs": [],
   "source": []
  }
 ],
 "metadata": {
  "kernelspec": {
   "display_name": "Python [conda env:twoface]",
   "language": "python",
   "name": "conda-env-twoface-py"
  },
  "language_info": {
   "codemirror_mode": {
    "name": "ipython",
    "version": 3
   },
   "file_extension": ".py",
   "mimetype": "text/x-python",
   "name": "python",
   "nbconvert_exporter": "python",
   "pygments_lexer": "ipython3",
   "version": "3.6.2"
  }
 },
 "nbformat": 4,
 "nbformat_minor": 2
}