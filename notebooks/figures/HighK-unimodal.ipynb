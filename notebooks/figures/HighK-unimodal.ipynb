{
 "cells": [
  {
   "cell_type": "code",
   "execution_count": null,
   "metadata": {},
   "outputs": [],
   "source": [
    "import os\n",
    "from os import path\n",
    "\n",
    "# Third-party\n",
    "from astropy.io import fits\n",
    "from astropy.stats import median_absolute_deviation\n",
    "from astropy.table import Table, QTable, join\n",
    "from astropy.time import Time\n",
    "import astropy.units as u\n",
    "import matplotlib as mpl\n",
    "import matplotlib.pyplot as plt\n",
    "from matplotlib.gridspec import GridSpec\n",
    "import numpy as np\n",
    "%matplotlib inline\n",
    "import h5py\n",
    "import pandas as pd\n",
    "from sqlalchemy import func\n",
    "import tqdm\n",
    "\n",
    "from thejoker import JokerSamples\n",
    "\n",
    "from twoface.config import TWOFACE_CACHE_PATH\n",
    "from twoface.samples_analysis import unimodal_P, MAP_sample\n",
    "from twoface.db import (db_connect, AllStar, AllVisit, AllVisitToAllStar, NessRG,\n",
    "                        StarResult, Status, JokerRun)\n",
    "from twoface.plot import plot_two_panel, plot_phase_fold, plot_data_orbits, _RV_LBL\n",
    "from twoface.mass import get_m2_min, mf, asini, a2sini, stellar_radius"
   ]
  },
  {
   "cell_type": "code",
   "execution_count": null,
   "metadata": {},
   "outputs": [],
   "source": [
    "plot_path = '../../paper/1-catalog/figures/'\n",
    "table_path = '../../paper/1-catalog/tables/'"
   ]
  },
  {
   "cell_type": "code",
   "execution_count": null,
   "metadata": {},
   "outputs": [],
   "source": [
    "Session, _ = db_connect(path.join(TWOFACE_CACHE_PATH, 'apogee.sqlite'))\n",
    "session = Session()\n",
    "\n",
    "samples_file = path.join(TWOFACE_CACHE_PATH, 'apogee-jitter.hdf5')\n",
    "mcmc_samples_file = path.join(TWOFACE_CACHE_PATH, 'apogee-jitter-mcmc.hdf5')"
   ]
  },
  {
   "cell_type": "code",
   "execution_count": null,
   "metadata": {},
   "outputs": [],
   "source": [
    "run = session.query(JokerRun).limit(1).one()\n",
    "joker_pars = run.get_joker_params()"
   ]
  },
  {
   "cell_type": "code",
   "execution_count": null,
   "metadata": {},
   "outputs": [],
   "source": [
    "high_K_stars = session.query(AllStar).join(StarResult).filter(StarResult.status_id>0).filter(StarResult.high_K).all()\n",
    "len(high_K_stars)"
   ]
  },
  {
   "cell_type": "markdown",
   "metadata": {},
   "source": [
    "# Make the catalog:"
   ]
  },
  {
   "cell_type": "markdown",
   "metadata": {},
   "source": [
    "For all high-K stars, classify as unimodal or not based on TheJoker samples. Then do same for MCMC samples, AND the selections:"
   ]
  },
  {
   "cell_type": "code",
   "execution_count": null,
   "metadata": {},
   "outputs": [],
   "source": [
    "unimodal_thejoker = []\n",
    "with h5py.File(samples_file, 'r') as f:\n",
    "    for star in tqdm.tqdm(high_K_stars):\n",
    "        samples = JokerSamples.from_hdf5(f[star.apogee_id])\n",
    "\n",
    "        data = star.apogeervdata()\n",
    "        unimodal_thejoker.append(unimodal_P(samples, data))\n",
    "\n",
    "unimodal_thejoker = np.array(unimodal_thejoker)\n",
    "unimodal_thejoker.sum()"
   ]
  },
  {
   "cell_type": "code",
   "execution_count": null,
   "metadata": {},
   "outputs": [],
   "source": [
    "unimodal_mcmc = []\n",
    "converged_mcmc = []\n",
    "with h5py.File(mcmc_samples_file, 'r') as f:\n",
    "    for star in tqdm.tqdm(high_K_stars):\n",
    "        if star.apogee_id not in f: \n",
    "            unimodal_mcmc.append(False)\n",
    "            converged_mcmc.append(True)\n",
    "            continue\n",
    "        \n",
    "        R = f[star.apogee_id]['chain-stats/gelman_rubin'][:]\n",
    "        converged_mcmc.append(np.mean(R) <= 1.1)\n",
    "        \n",
    "        samples = JokerSamples.from_hdf5(f[star.apogee_id])\n",
    "\n",
    "        data = star.apogeervdata()\n",
    "        unimodal_mcmc.append(unimodal_P(samples, data))\n",
    "        \n",
    "unimodal_mcmc = np.array(unimodal_mcmc)\n",
    "converged_mcmc = np.array(converged_mcmc)\n",
    "unimodal_mcmc.sum(), converged_mcmc.sum()"
   ]
  },
  {
   "cell_type": "code",
   "execution_count": null,
   "metadata": {},
   "outputs": [],
   "source": [
    "unimodal_mask = unimodal_thejoker | unimodal_mcmc\n",
    "unimodal_converged_mask = unimodal_thejoker & (unimodal_mcmc & converged_mcmc)\n",
    "unimodal_converged_idx = np.where(unimodal_converged_mask)[0]\n",
    "unimodal_mask.sum(), unimodal_converged_mask.sum()"
   ]
  },
  {
   "cell_type": "code",
   "execution_count": null,
   "metadata": {},
   "outputs": [],
   "source": [
    "unimodal_stars = np.array(high_K_stars)[unimodal_mask]\n",
    "unimodal_converged = converged_mcmc[unimodal_mask]"
   ]
  },
  {
   "cell_type": "code",
   "execution_count": null,
   "metadata": {},
   "outputs": [],
   "source": [
    "rows = dict()\n",
    "rows['APOGEE_ID'] = []\n",
    "for k in JokerSamples._valid_keys:\n",
    "    rows[k] = []\n",
    "    rows[k + '_err'] = []\n",
    "rows['t0'] = []\n",
    "rows['converged'] = []\n",
    "rows['Gelman-Rubin'] = []\n",
    "\n",
    "with h5py.File(mcmc_samples_file, 'r') as mcmc_f, h5py.File(samples_file, 'r') as joker_f:\n",
    "    for i, star in tqdm.tqdm(enumerate(unimodal_stars)):\n",
    "        data = star.apogeervdata()\n",
    "        if star.apogee_id in mcmc_f and unimodal_converged[i]:\n",
    "            samples = JokerSamples.from_hdf5(mcmc_f[star.apogee_id])\n",
    "            R = mcmc_f[star.apogee_id]['chain-stats/gelman_rubin'][:]\n",
    "        else:\n",
    "            samples = JokerSamples.from_hdf5(joker_f[star.apogee_id])\n",
    "            R = np.full(7, np.nan)\n",
    "        \n",
    "        rows['APOGEE_ID'].append(star.apogee_id)\n",
    "        MAP = MAP_sample(data, samples, joker_pars)\n",
    "        for k in samples.keys():\n",
    "            rows[k].append(MAP[k])\n",
    "            \n",
    "            if unimodal_converged[i]:\n",
    "                rows[k+'_err'].append(1.5 * median_absolute_deviation(samples[k]))\n",
    "            else:\n",
    "                rows[k+'_err'].append(np.nan * samples[k].unit)\n",
    "            \n",
    "        rows['t0'].append(data.t0.tcb.mjd)\n",
    "        rows['converged'].append(unimodal_converged[i])\n",
    "        rows['Gelman-Rubin'].append(R)\n",
    "        \n",
    "for k in rows:\n",
    "    if hasattr(rows[k][0], 'unit'):\n",
    "        rows[k] = u.Quantity(rows[k])\n",
    "        \n",
    "rows['t0'] = Time(rows['t0'], format='mjd', scale='tcb')"
   ]
  },
  {
   "cell_type": "code",
   "execution_count": null,
   "metadata": {},
   "outputs": [],
   "source": [
    "tbl = Table(rows, masked=True)"
   ]
  },
  {
   "cell_type": "markdown",
   "metadata": {},
   "source": [
    "### Add Ness masses to table:"
   ]
  },
  {
   "cell_type": "code",
   "execution_count": null,
   "metadata": {},
   "outputs": [],
   "source": [
    "ness_tbl = Table.read('../../data/NessRG.fits')\n",
    "ness_tbl.rename_column('2MASS', 'APOGEE_ID')\n",
    "ness_tbl = ness_tbl[np.isin(ness_tbl['APOGEE_ID'], tbl['APOGEE_ID'])]\n",
    "\n",
    "# trim the duplicates...\n",
    "_, unq_idx = np.unique(ness_tbl['APOGEE_ID'], return_index=True)\n",
    "ness_tbl = ness_tbl[unq_idx]"
   ]
  },
  {
   "cell_type": "markdown",
   "metadata": {},
   "source": [
    "### Compute m2_min, a2sini, R1 using Ness mass"
   ]
  },
  {
   "cell_type": "code",
   "execution_count": null,
   "metadata": {},
   "outputs": [],
   "source": [
    "def stddev(vals):\n",
    "    return 1.5 * median_absolute_deviation(vals, ignore_nan=True)"
   ]
  },
  {
   "cell_type": "code",
   "execution_count": null,
   "metadata": {},
   "outputs": [],
   "source": [
    "rnd = np.random.RandomState(seed=42)\n",
    "N = rnd.normal\n",
    "\n",
    "tbl['M1'] = np.full(len(tbl), np.nan) * u.Msun\n",
    "tbl['M1_err'] = np.full(len(tbl), np.nan) * u.Msun\n",
    "tbl['M2_min'] = np.full(len(tbl), np.nan) * u.Msun\n",
    "tbl['M2_min_err'] = np.full(len(tbl), np.nan) * u.Msun\n",
    "tbl['q_min'] = np.full(len(tbl), np.nan)\n",
    "tbl['q_min_err'] = np.full(len(tbl), np.nan)\n",
    "\n",
    "tbl['R1'] = np.full(len(tbl), np.nan) * u.Rsun\n",
    "tbl['R1_err'] = np.full(len(tbl), np.nan) * u.Rsun\n",
    "tbl['a_sini'] = np.full(len(tbl), np.nan) * u.au\n",
    "tbl['a_sini_err'] = np.full(len(tbl), np.nan) * u.au\n",
    "tbl['a2_sini'] = np.full(len(tbl), np.nan) * u.au\n",
    "tbl['a2_sini_err'] = np.full(len(tbl), np.nan) * u.au\n",
    "\n",
    "n_samples = 8192\n",
    "for i, row in tqdm.tqdm(enumerate(tbl)):\n",
    "    ness_row = ness_tbl[ness_tbl['APOGEE_ID'] == row['APOGEE_ID']]\n",
    "    if len(ness_row) == 0:\n",
    "        continue\n",
    "        \n",
    "    star = AllStar.get_apogee_id(session, row['APOGEE_ID'])\n",
    "        \n",
    "    m1_samples = np.exp(N(ness_row['lnM'], ness_row['e_logM'], size=n_samples)) * u.Msun\n",
    "    loggs = N(star.logg, star.logg_err, n_samples)\n",
    "    \n",
    "    if row['converged']:\n",
    "        Ps = N(row['P'], row['P_err'], n_samples) * tbl['P'].unit\n",
    "        Ks = N(row['K'], row['K_err'], n_samples) * tbl['K'].unit\n",
    "        es = N(row['e'], row['e_err'], n_samples)\n",
    "        \n",
    "    else:\n",
    "        Ps = ([row['P']] * n_samples) * tbl['P'].unit\n",
    "        Ks = ([row['K']] * n_samples) * tbl['K'].unit\n",
    "        es = np.array([row['e']] * n_samples)\n",
    "        \n",
    "        \n",
    "    mass_func = mf(P=Ps, K=Ks, e=es)\n",
    "    m2_mins = get_m2_min(m1_samples, mass_func)\n",
    "    asinis = asini(Ps, es, Ks, m1_samples, m2_mins)\n",
    "    a2sinis = a2sini(Ps, es, Ks, m1_samples, m2_mins)\n",
    "    R1s = stellar_radius(loggs, m1_samples).to(u.Rsun)\n",
    "    \n",
    "    tbl['M1'][i] = np.median(m1_samples).to(u.Msun).value\n",
    "    tbl['M2_min'][i] = np.nanmedian(m2_mins).to(u.Msun).value\n",
    "    tbl['a_sini'][i] = np.nanmedian(asinis).to(u.au).value\n",
    "    tbl['a2_sini'][i] = np.nanmedian(a2sinis).to(u.au).value\n",
    "    tbl['R1'][i] = np.nanmedian(R1s).to(u.Rsun).value\n",
    "    \n",
    "    tbl['M1_err'][i] = stddev(m1_samples).to(u.Msun).value\n",
    "    tbl['M2_min_err'][i] = stddev(m2_mins).to(u.Msun).value\n",
    "    tbl['a_sini_err'][i] = stddev(asinis).to(u.au).value\n",
    "    tbl['a2_sini_err'][i] = stddev(a2sinis).to(u.au).value\n",
    "    tbl['R1_err'][i] = stddev(R1s).to(u.Rsun).value\n",
    "    \n",
    "tbl['q_min'] = (u.Quantity(tbl['M2_min']) / u.Quantity(tbl['M1'])).decompose()\n",
    "tbl['q_min_err'] = tbl['q_min'] * \\\n",
    "                                np.sqrt((tbl['M2_min_err']/tbl['M2_min'])**2 + \n",
    "                                        (tbl['M1_err']/tbl['M1'])**2) \n",
    "\n",
    "mask_ = np.isnan(tbl['M1']) | np.isnan(tbl['M2_min'])\n",
    "tbl['M1'].mask = mask_\n",
    "tbl['M1_err'].mask = mask_\n",
    "tbl['M2_min'].mask = mask_\n",
    "tbl['M2_min_err'].mask = mask_"
   ]
  },
  {
   "cell_type": "markdown",
   "metadata": {},
   "source": [
    "Add Ness columns following our columns:"
   ]
  },
  {
   "cell_type": "code",
   "execution_count": null,
   "metadata": {},
   "outputs": [],
   "source": [
    "tbl_with_ness = join(tbl, ness_tbl, keys='APOGEE_ID', join_type='outer')\n",
    "assert len(tbl_with_ness) == len(tbl)"
   ]
  },
  {
   "cell_type": "markdown",
   "metadata": {},
   "source": [
    "### Now we load the APOGEE AllStar table to join the APOGEE data with our orbits:"
   ]
  },
  {
   "cell_type": "code",
   "execution_count": null,
   "metadata": {},
   "outputs": [],
   "source": [
    "allstar_tbl = fits.getdata('/Users/adrian/data/APOGEE_DR14/allStar-l31c.2.fits')\n",
    "allstar_tbl = allstar_tbl[np.isin(allstar_tbl['APOGEE_ID'], tbl['APOGEE_ID'])]\n",
    "\n",
    "# trim the duplicates...\n",
    "_, unq_idx = np.unique(allstar_tbl['APOGEE_ID'], return_index=True)\n",
    "allstar_tbl = allstar_tbl[unq_idx]\n",
    "assert len(allstar_tbl) == len(tbl)\n",
    "\n",
    "allstar_tbl = Table(allstar_tbl)\n",
    "allstar_tbl.rename_column('K', 'KS')\n",
    "allstar_tbl.rename_column('K_ERR', 'KS_ERR')"
   ]
  },
  {
   "cell_type": "code",
   "execution_count": null,
   "metadata": {},
   "outputs": [],
   "source": [
    "full_catalog = join(tbl_with_ness, allstar_tbl, keys='APOGEE_ID')\n",
    "full_catalog[:1]"
   ]
  },
  {
   "cell_type": "markdown",
   "metadata": {},
   "source": [
    "### Add binary flags \"DR14RC\" if in DR14 RC catalog, \"TINGRC\" if in Yuan-Sen's recent paper:"
   ]
  },
  {
   "cell_type": "code",
   "execution_count": null,
   "metadata": {},
   "outputs": [],
   "source": [
    "from astropy.io import ascii"
   ]
  },
  {
   "cell_type": "code",
   "execution_count": null,
   "metadata": {},
   "outputs": [],
   "source": [
    "rcdr14 = Table.read('/Users/adrian/data/APOGEE_DR14/apogee-rc-DR14.fits')\n",
    "rcting = ascii.read('../../data/ting-2018.txt')"
   ]
  },
  {
   "cell_type": "code",
   "execution_count": null,
   "metadata": {},
   "outputs": [],
   "source": [
    "(rcting['Classification'] == 'RC_Pristine').sum()"
   ]
  },
  {
   "cell_type": "code",
   "execution_count": null,
   "metadata": {},
   "outputs": [],
   "source": [
    "full_catalog['DR14RC'] = np.isin(full_catalog['APOGEE_ID'], rcdr14['APOGEE_ID'])\n",
    "full_catalog['TINGRC'] = np.isin(full_catalog['APOGEE_ID'], rcting[rcting['Classification'] == 'RC_Pristine']['Designation'])\n",
    "# full_catalog['TINGRC'] = np.isin(full_catalog['APOGEE_ID'], rcting['Designation'])"
   ]
  },
  {
   "cell_type": "code",
   "execution_count": null,
   "metadata": {},
   "outputs": [],
   "source": [
    "len(full_catalog), full_catalog['DR14RC'].sum(), full_catalog['TINGRC'].sum()"
   ]
  },
  {
   "cell_type": "code",
   "execution_count": null,
   "metadata": {},
   "outputs": [],
   "source": [
    "full_catalog['M1'][full_catalog['M1'].mask] = np.nan\n",
    "full_catalog['M2_min'][full_catalog['M2_min'].mask] = np.nan"
   ]
  },
  {
   "cell_type": "code",
   "execution_count": null,
   "metadata": {},
   "outputs": [],
   "source": [
    "for name in full_catalog.colnames[:30]:\n",
    "    c1 = '\\\\texttt{{{0}}}'.format(name.replace('_', '\\\\_'))\n",
    "    try:\n",
    "        c2 = '{0:latex_inline}'.format(full_catalog[name].unit)\n",
    "    except TypeError:\n",
    "        c2 = ''\n",
    "    except AttributeError:\n",
    "        c2 = ''\n",
    "    \n",
    "    if len(c1) < 26:\n",
    "        c1 = c1 + ' '*(26 - len(c1))\n",
    "        \n",
    "    if len(c2) < 24:\n",
    "        c2 = c2 + ' '*(24 - len(c2))\n",
    "        \n",
    "    print('{0} & {1} & <description> \\\\\\\\'.format(c1, c2))"
   ]
  },
  {
   "cell_type": "markdown",
   "metadata": {},
   "source": [
    "### TODO: describe in README with data to use `QTable.read('', astropy_native=True)`"
   ]
  },
  {
   "cell_type": "markdown",
   "metadata": {},
   "source": [
    "## By-eye vetting: \n",
    "\n",
    "Plot all of the stars, see what orbits look like bad (2) or questionable (1) fits:"
   ]
  },
  {
   "cell_type": "code",
   "execution_count": null,
   "metadata": {},
   "outputs": [],
   "source": [
    "# _path = '../../plots/unimodal/'\n",
    "# os.makedirs(_path, exist_ok=True)\n",
    "\n",
    "# units = dict()\n",
    "# for c in full_catalog.colnames:\n",
    "#     if full_catalog[c].unit is not None:\n",
    "#         units[c] = full_catalog[c].unit\n",
    "#     else:\n",
    "#         units[c] = 1.\n",
    "    \n",
    "# for row in full_catalog:\n",
    "#     apogee_id = row['APOGEE_ID']\n",
    "#     star = AllStar.get_apogee_id(session, apogee_id)\n",
    "#     data = star.apogeervdata()\n",
    "    \n",
    "#     row = row[JokerSamples._valid_keys]\n",
    "#     sample = JokerSamples(**{c: row[c]*units[c] for c in row.colnames})\n",
    "#     sample.t0 = data.t0\n",
    "    \n",
    "#     fig, axes = plt.subplots(1, 2, figsize=(12, 5), sharey=True)\n",
    "    \n",
    "#     plot_data_orbits(data, sample[None], highlight_P_extrema=False, \n",
    "#                      ax=axes[0], plot_kwargs=dict(alpha=1., linewidth=1.))\n",
    "#     plot_phase_fold(data, sample, ax=axes[1], label=False)\n",
    "#     axes[1].set_xlabel('phase')\n",
    "#     axes[0].set_title(apogee_id)\n",
    "#     fig.tight_layout()\n",
    "#     fig.savefig(path.join(_path, '{0}.png'.format(apogee_id)), dpi=200)\n",
    "#     plt.close(fig)"
   ]
  },
  {
   "cell_type": "code",
   "execution_count": null,
   "metadata": {},
   "outputs": [],
   "source": [
    "# unimodal:\n",
    "suspect = ['2M05224382+4300425', \n",
    "           '2M08103416+3152116', '2M08423210+1107222', \n",
    "           '2M08505498+1156503', '2M08510723+1153019',\n",
    "           '2M08512530+1202563', '2M08542841+1113088',\n",
    "           '2M09522871+3811487', '2M10264342+1340172', \n",
    "           '2M10513288-0250550', '2M13162279+1739074',\n",
    "           '2M13175687+7151180', '2M13484871+1913474',\n",
    "           '2M15101168+6708289', '2M16342938-1248117',\n",
    "           '2M17105698+4301117', '2M18343302+1949166',\n",
    "           '2M18481414-0251133', '2M17223366+4850318']\n",
    "\n",
    "check = ['2M10211972+1437528', '2M11503930+0154015',\n",
    "         '2M11564409+3427026', '2M13011859+2844170',\n",
    "         '2M14064289+3001479', '2M14574438+2106271',\n",
    "         '2M15054553+2220325', '2M15184139+0206004',\n",
    "         '2M16131259+5043080', '2M16370809+3657115',\n",
    "         '2M16434022+3712017', '2M18012240-0920302',\n",
    "         '2M19205784+3747067', '2M21260907+1100178',\n",
    "         '2M21374395+4304268', '2M09283916+5617343']\n",
    "\n",
    "clean_flag = np.zeros(len(full_catalog), dtype=int)\n",
    "clean_flag[np.isin(full_catalog['APOGEE_ID'], check)] = 1\n",
    "clean_flag[np.isin(full_catalog['APOGEE_ID'], suspect)] = 2\n",
    "full_catalog['clean_flag'] = clean_flag"
   ]
  },
  {
   "cell_type": "code",
   "execution_count": null,
   "metadata": {},
   "outputs": [],
   "source": [
    "(full_catalog['clean_flag'] == 0).sum()"
   ]
  },
  {
   "cell_type": "code",
   "execution_count": null,
   "metadata": {},
   "outputs": [],
   "source": [
    "full_catalog.write(path.join(table_path, 'highK-unimodal.fits'), overwrite=True)"
   ]
  },
  {
   "cell_type": "code",
   "execution_count": null,
   "metadata": {},
   "outputs": [],
   "source": [
    "test = QTable.read(path.join(table_path, 'highK-unimodal.fits'), astropy_native=True)"
   ]
  },
  {
   "cell_type": "markdown",
   "metadata": {},
   "source": [
    "---\n",
    "\n",
    "# Make paper figure:"
   ]
  },
  {
   "cell_type": "code",
   "execution_count": null,
   "metadata": {},
   "outputs": [],
   "source": [
    "full_catalog = Table.read(path.join(table_path, 'highK-unimodal.fits'))"
   ]
  },
  {
   "cell_type": "code",
   "execution_count": null,
   "metadata": {},
   "outputs": [],
   "source": [
    "arr = np.array(full_catalog[full_catalog['converged'] & np.isfinite(full_catalog['Gelman-Rubin'][:, 0])]['APOGEE_ID'],\n",
    "               dtype='U20')"
   ]
  },
  {
   "cell_type": "code",
   "execution_count": null,
   "metadata": {},
   "outputs": [],
   "source": [
    "np.random.seed(42)\n",
    "\n",
    "rc = {\n",
    "    'axes.labelsize': 18,\n",
    "    'xtick.labelsize': 14,\n",
    "    'ytick.labelsize': 14\n",
    "}\n",
    "    \n",
    "subset = full_catalog[full_catalog['converged'] & np.isfinite(full_catalog['Gelman-Rubin'][:, 0])]\n",
    "rand_subset = np.random.choice(len(subset), size=8, replace=False)\n",
    "rand_subset = rand_subset[np.argsort(subset['e'][rand_subset])]\n",
    "\n",
    "with h5py.File(samples_file, 'r') as jok_f, h5py.File(mcmc_samples_file, 'r') as mcmc_f:\n",
    "    with mpl.rc_context(rc):\n",
    "        fig, axes = plt.subplots(4, 2, figsize=(8, 10), sharex=True)\n",
    "\n",
    "        for i, idx in enumerate(rand_subset):\n",
    "            ax = axes.flat[i]\n",
    "            \n",
    "            apogee_id = subset[idx]['APOGEE_ID']\n",
    "            star = AllStar.get_apogee_id(session, apogee_id)\n",
    "            data = star.apogeervdata()\n",
    "\n",
    "            if apogee_id in mcmc_f:\n",
    "                f = mcmc_f\n",
    "                print('mcmc')\n",
    "            else:\n",
    "                f = jok_f\n",
    "                print('thejoker')\n",
    "\n",
    "            samples = JokerSamples.from_hdf5(f[star.apogee_id])\n",
    "            samples.t0 = data.t0\n",
    "\n",
    "            if len(samples) > 1:\n",
    "                sample = MAP_sample(data, samples, joker_pars)\n",
    "            else:\n",
    "                sample = samples[0]\n",
    "\n",
    "            fig = plot_phase_fold(data, sample, ax=ax, \n",
    "                                  jitter_errorbar=True, label=False)\n",
    "            xlim = ax.get_xlim()\n",
    "            ylim = (data.rv.value.min(), data.rv.value.max())\n",
    "            yspan = ylim[1]-ylim[0]\n",
    "            ylim = ax.set_ylim(ylim[0]-0.35*yspan, ylim[1]+0.35*yspan)\n",
    "\n",
    "            text = ('{0},  '.format(star.apogee_id) + \n",
    "                    '$P = {0.value:.2f}$ {0.unit:latex},  '.format(sample['P']) + \n",
    "                    '$e = {0:.2f}$'.format(sample['e']))\n",
    "            ax.text(xlim[0] + (xlim[1]-xlim[0])/15,\n",
    "                    ylim[1] - (ylim[1]-ylim[0])/20,\n",
    "                    text, fontsize=10, va='top', ha='left')\n",
    "            # _ = plot_two_panel(data, samples)\n",
    "\n",
    "        ax.set_xlim(-0.02, 1.02)\n",
    "\n",
    "        for i in [0,1]:\n",
    "            axes[-1, i].set_xlabel(r'phase, $\\frac{M-M_0}{2\\pi}$')\n",
    "\n",
    "        for i in range(4):\n",
    "            axes[i, 0].set_ylabel(_RV_LBL.format(u.km/u.s))\n",
    "\n",
    "        fig.suptitle('High-$K$, unimodal', \n",
    "                     x=0.55, y=0.96, fontsize=18)\n",
    "        fig.tight_layout()\n",
    "        fig.subplots_adjust(top=0.92)\n",
    "        fig.savefig(path.join(plot_path, 'highK-unimodal.pdf'))"
   ]
  },
  {
   "cell_type": "markdown",
   "metadata": {},
   "source": [
    "For my own sake, make the same for unconverged stars:"
   ]
  },
  {
   "cell_type": "code",
   "execution_count": null,
   "metadata": {},
   "outputs": [],
   "source": [
    "np.random.seed(123)\n",
    "\n",
    "rc = {\n",
    "    'axes.labelsize': 18,\n",
    "    'xtick.labelsize': 14,\n",
    "    'ytick.labelsize': 14\n",
    "}\n",
    "    \n",
    "subset = full_catalog[np.logical_not(full_catalog['converged'])]\n",
    "rand_subset = np.random.choice(len(subset), size=8, replace=False)\n",
    "rand_subset = rand_subset[np.argsort(subset['e'][rand_subset])]\n",
    "\n",
    "with h5py.File(samples_file, 'r') as jok_f, h5py.File(mcmc_samples_file, 'r') as mcmc_f:\n",
    "    with mpl.rc_context(rc):\n",
    "        fig, axes = plt.subplots(4, 2, figsize=(8, 10), sharex=True)\n",
    "\n",
    "        for i, idx in enumerate(rand_subset):\n",
    "            ax = axes.flat[i]\n",
    "\n",
    "            star = AllStar.get_apogee_id(session, subset[idx]['APOGEE_ID'])\n",
    "            data = star.apogeervdata()\n",
    "\n",
    "            if apogee_id in mcmc_f:\n",
    "                f = mcmc_f\n",
    "                print('mcmc')\n",
    "            else:\n",
    "                f = jok_f\n",
    "                print('thejoker')\n",
    "\n",
    "            samples = JokerSamples.from_hdf5(jok_f[star.apogee_id])\n",
    "            samples.t0 = data.t0\n",
    "\n",
    "            if len(samples) > 1:\n",
    "                sample = MAP_sample(data, samples, joker_pars)\n",
    "            else:\n",
    "                sample = samples[0]\n",
    "\n",
    "            fig = plot_phase_fold(data, sample, ax=ax, \n",
    "                                  jitter_errorbar=True, label=False)\n",
    "            xlim = ax.get_xlim()\n",
    "            ylim = (data.rv.value.min(), data.rv.value.max())\n",
    "            yspan = ylim[1]-ylim[0]\n",
    "            ylim = ax.set_ylim(ylim[0]-0.35*yspan, ylim[1]+0.35*yspan)\n",
    "\n",
    "            text = ('{0},  '.format(star.apogee_id) + \n",
    "                    '$P = {0.value:.2f}$ {0.unit:latex},  '.format(sample['P']) + \n",
    "                    '$e = {0:.2f}$'.format(sample['e']))\n",
    "            ax.text(xlim[0] + (xlim[1]-xlim[0])/15,\n",
    "                    ylim[1] - (ylim[1]-ylim[0])/20,\n",
    "                    text, fontsize=10, va='top', ha='left')\n",
    "            # _ = plot_two_panel(data, samples)\n",
    "\n",
    "        ax.set_xlim(-0.02, 1.02)\n",
    "\n",
    "        for i in [0,1]:\n",
    "            axes[-1, i].set_xlabel(r'phase, $\\frac{M-M_0}{2\\pi}$')\n",
    "\n",
    "        for i in range(4):\n",
    "            axes[i, 0].set_ylabel(_RV_LBL.format(u.km/u.s))\n",
    "\n",
    "        fig.suptitle('Example stars from the high-$K$, unimodal sample', \n",
    "                     x=0.55, y=0.96, fontsize=18)\n",
    "        fig.tight_layout()\n",
    "        fig.subplots_adjust(top=0.92)"
   ]
  },
  {
   "cell_type": "markdown",
   "metadata": {},
   "source": [
    "---\n",
    "\n",
    "# Bulk properties"
   ]
  },
  {
   "cell_type": "code",
   "execution_count": null,
   "metadata": {},
   "outputs": [],
   "source": [
    "full_catalog['converged'].sum(), len(full_catalog)-full_catalog['converged'].sum()"
   ]
  },
  {
   "cell_type": "code",
   "execution_count": null,
   "metadata": {},
   "outputs": [],
   "source": [
    "# plt.hist(full_catalog['e'][~full_catalog['converged']], bins='auto');\n",
    "plt.hist(full_catalog['e'], bins='auto');"
   ]
  },
  {
   "cell_type": "markdown",
   "metadata": {},
   "source": [
    "---"
   ]
  },
  {
   "cell_type": "code",
   "execution_count": null,
   "metadata": {},
   "outputs": [],
   "source": [
    "emcee_converged = full_catalog[full_catalog['emcee_converged']]"
   ]
  },
  {
   "cell_type": "code",
   "execution_count": null,
   "metadata": {},
   "outputs": [],
   "source": [
    "_path = '../../plots/emcee_converged'\n",
    "os.makedirs(_path, exist_ok=True)"
   ]
  },
  {
   "cell_type": "code",
   "execution_count": null,
   "metadata": {},
   "outputs": [],
   "source": [
    "with h5py.File(mcmc_samples_file, 'r') as mcmc_f, h5py.File(samples_file, 'r') as f:\n",
    "    for row in emcee_converged:\n",
    "        star = AllStar.get_apogee_id(session, row['APOGEE_ID'])\n",
    "        data = star.apogeervdata()\n",
    "    \n",
    "        if star.apogee_id in mcmc_f:\n",
    "            samples = JokerSamples.from_hdf5(mcmc_f[star.apogee_id])\n",
    "            print('mcmc')\n",
    "        else:\n",
    "            samples = JokerSamples.from_hdf5(f[star.apogee_id])\n",
    "            print('thejoker')\n",
    "            \n",
    "        samples.t0 = data.t0\n",
    "        \n",
    "        fig = plot_two_panel(data, samples, \n",
    "                             plot_data_orbits_kw=dict(n_times=16384,                \n",
    "                                                      highlight_P_extrema=False))\n",
    "        fig.axes[0].set_title(star.apogee_id)\n",
    "        fig.tight_layout()\n",
    "        fig.savefig(path.join(_path, '{0}.png'.format(star.apogee_id)), dpi=200)\n",
    "        plt.close(fig)"
   ]
  },
  {
   "cell_type": "markdown",
   "metadata": {},
   "source": [
    "By-eye vetting: these ones are suspicious"
   ]
  },
  {
   "cell_type": "code",
   "execution_count": null,
   "metadata": {},
   "outputs": [],
   "source": [
    "suspicious_ids = ['2M05224382+4300425',\n",
    "                  '2M08505498+1156503',\n",
    "                  '2M10264342+1340172',\n",
    "                  '2M10513288-0250550',\n",
    "                  '2M14574438+2106271',\n",
    "                  '2M16131259+5043080',\n",
    "                  '2M17121495+3211467',\n",
    "                  '2M17212080+6003296',\n",
    "                  '2M18571262-0328064',\n",
    "                  '2M21260907+1100178',\n",
    "                  '2M21374395+4304268']"
   ]
  },
  {
   "cell_type": "code",
   "execution_count": null,
   "metadata": {},
   "outputs": [],
   "source": [
    "derp = emcee_converged[~np.isin(emcee_converged['APOGEE_ID'], suspicious_ids)]"
   ]
  },
  {
   "cell_type": "code",
   "execution_count": null,
   "metadata": {},
   "outputs": [],
   "source": [
    "derp = full_catalog\n",
    "\n",
    "fig, ax = plt.subplots(1, 1, figsize=(6,6))\n",
    "\n",
    "ax.errorbar(derp['P'], derp['LOGG'],\n",
    "            xerr=derp['P_err'], yerr=derp['LOGG_ERR'],\n",
    "            marker='o', linestyle='none', alpha=0.8)\n",
    "\n",
    "ax.set_xscale('log')\n",
    "ax.set_xlim(0.8, 2000)\n",
    "ax.set_ylim(4., 0)\n",
    "ax.set_xlabel('P')\n",
    "ax.set_ylabel('logg')\n",
    "\n",
    "# -----\n",
    "\n",
    "fig, ax = plt.subplots(1, 1, figsize=(6,6))\n",
    "\n",
    "ax.errorbar(derp['P'], derp['e'],\n",
    "            xerr=derp['P_err'], yerr=derp['e_err'],\n",
    "            marker='o', linestyle='none', alpha=0.8)\n",
    "\n",
    "ax.set_xscale('log')\n",
    "ax.set_xlim(0.8, 2000)\n",
    "ax.set_ylim(0, 1)\n",
    "ax.set_xlabel('P')\n",
    "ax.set_ylabel('e')\n",
    "\n",
    "# -----\n",
    "\n",
    "fig, axes = plt.subplots(1, 2, figsize=(10, 5))\n",
    "\n",
    "ax = axes[0]\n",
    "ax.errorbar(derp['M1'], derp['M2_min']/derp['M1'],\n",
    "            xerr=derp['M1_err'], yerr=np.sqrt(derp['M1_err']**2+derp['M2_min_err']**2),\n",
    "            marker='o', linestyle='none', alpha=0.8)\n",
    "ax.set_xlabel('M1')\n",
    "ax.set_ylabel('M2/M1')\n",
    "\n",
    "ax = axes[1]\n",
    "mass_ratio = derp['M2_min']/derp['M1']\n",
    "ax.hist(mass_ratio[np.isfinite(mass_ratio)], bins='auto')\n",
    "ax.set_xlabel('M2/M1')"
   ]
  },
  {
   "cell_type": "code",
   "execution_count": null,
   "metadata": {},
   "outputs": [],
   "source": [
    "with h5py.File(mcmc_samples_file, 'r') as mcmc_f, h5py.File(samples_file, 'r') as f:\n",
    "    for row in derp[rc_mask & (derp['P'] < 20)]:\n",
    "        star = AllStar.get_apogee_id(session, row['APOGEE_ID'])\n",
    "        data = star.apogeervdata()\n",
    "    \n",
    "        if star.apogee_id in mcmc_f:\n",
    "            samples = JokerSamples.from_hdf5(mcmc_f[star.apogee_id])\n",
    "            print('mcmc')\n",
    "        else:\n",
    "            samples = JokerSamples.from_hdf5(f[star.apogee_id])\n",
    "            print('thejoker')\n",
    "            \n",
    "        samples.t0 = data.t0\n",
    "        \n",
    "        fig = plot_two_panel(data, samples, \n",
    "                             plot_data_orbits_kw=dict(n_times=16384,                \n",
    "                                                      highlight_P_extrema=False))\n",
    "        fig.axes[0].set_title('P = {0:.2f}'.format(samples['P'][0]))\n",
    "        fig.tight_layout()"
   ]
  },
  {
   "cell_type": "code",
   "execution_count": null,
   "metadata": {},
   "outputs": [],
   "source": [
    "derp[rc_mask & (derp['P'] < 20)]"
   ]
  },
  {
   "cell_type": "code",
   "execution_count": null,
   "metadata": {},
   "outputs": [],
   "source": []
  }
 ],
 "metadata": {
  "kernelspec": {
   "display_name": "Python [conda env:twoface]",
   "language": "python",
   "name": "conda-env-twoface-py"
  },
  "language_info": {
   "codemirror_mode": {
    "name": "ipython",
    "version": 3
   },
   "file_extension": ".py",
   "mimetype": "text/x-python",
   "name": "python",
   "nbconvert_exporter": "python",
   "pygments_lexer": "ipython3",
   "version": "3.6.4"
  }
 },
 "nbformat": 4,
 "nbformat_minor": 2
}