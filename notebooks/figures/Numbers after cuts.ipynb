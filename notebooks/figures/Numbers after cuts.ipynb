{
 "cells": [
  {
   "cell_type": "code",
   "execution_count": null,
   "metadata": {},
   "outputs": [],
   "source": [
    "from os import path\n",
    "\n",
    "# Third-party\n",
    "from astropy.io import fits\n",
    "import astropy.coordinates as coord\n",
    "import astropy.units as u\n",
    "import matplotlib as mpl\n",
    "import matplotlib.pyplot as plt\n",
    "import numpy as np\n",
    "%matplotlib inline\n",
    "from sqlalchemy import func\n",
    "\n",
    "from twoface import TWOFACE_CACHE_PATH\n",
    "from twoface.db import (db_connect, AllStar, AllVisit, AllVisitToAllStar, RedClump,\n",
    "                        StarResult, Status, JokerRun, initialize_db)\n",
    "from twoface.data import APOGEERVData\n",
    "from twoface.plot import plot_data_orbits\n",
    "from twoface.mass import m2_func\n",
    "\n",
    "from config import FIGURES_PATH1"
   ]
  },
  {
   "cell_type": "code",
   "execution_count": null,
   "metadata": {},
   "outputs": [],
   "source": [
    "allvisit = fits.getdata('/Users/adrian/data/APOGEE_DR14/allVisit-l31c.2.fits')\n",
    "allstar = fits.getdata('/Users/adrian/data/APOGEE_DR14/allStar-l31c.2.fits')\n",
    "\n",
    "print(\"{0} unique stars in APOGEE DR14\".format(len(np.unique(allstar['APOGEE_ID']))))\n",
    "print(\"{0} visits in APOGEE DR14\".format(len(allvisit)))"
   ]
  },
  {
   "cell_type": "code",
   "execution_count": null,
   "metadata": {
    "collapsed": true
   },
   "outputs": [],
   "source": [
    "Session, _ = db_connect(path.join(TWOFACE_CACHE_PATH, 'apogee.sqlite'))\n",
    "session = Session()"
   ]
  },
  {
   "cell_type": "code",
   "execution_count": null,
   "metadata": {},
   "outputs": [],
   "source": [
    "print(\"{0} unique stars in TwoFace DB\".format(session.query(AllStar).distinct(AllStar.apogee_id).count()))\n",
    "print(\"{0} visits in TwoFace DB\".format(session.query(AllVisit).count()))"
   ]
  },
  {
   "cell_type": "code",
   "execution_count": null,
   "metadata": {
    "collapsed": true
   },
   "outputs": [],
   "source": [
    "nvisits = np.array(session.query(func.count(AllVisit.id)).join(AllVisitToAllStar, AllStar)\\\n",
    "                          .group_by(AllStar.apogee_id)\\\n",
    "                          .having(func.count(AllVisit.id) >= 3).all())\n",
    "nvisits = nvisits[:,0]"
   ]
  },
  {
   "cell_type": "code",
   "execution_count": null,
   "metadata": {},
   "outputs": [],
   "source": [
    "fig, ax = plt.subplots(1, 1, figsize=(6, 4))\n",
    "\n",
    "_ = ax.hist(nvisits, bins=np.logspace(0.5, 7, 25, base=2.), rasterized=True)\n",
    "ax.set_xscale('log', basex=2)\n",
    "ax.set_yscale('log')\n",
    "ax.set_xlim(3, 128)\n",
    "\n",
    "ax.xaxis.set_ticks(2**np.arange(2, 7+1, 1))\n",
    "ax.set_xlabel('number of visits')\n",
    "ax.set_ylabel('number of stars')\n",
    "\n",
    "fig.tight_layout()\n",
    "fig.savefig(str(FIGURES_PATH1 / 'nvisits.pdf'), rasterized=True, dpi=250)"
   ]
  },
  {
   "cell_type": "code",
   "execution_count": null,
   "metadata": {},
   "outputs": [],
   "source": [
    "(nvisits < 8).sum() / len(nvisits)"
   ]
  },
  {
   "cell_type": "markdown",
   "metadata": {},
   "source": [
    "### See how much each cut removes:"
   ]
  },
  {
   "cell_type": "code",
   "execution_count": null,
   "metadata": {
    "scrolled": true
   },
   "outputs": [],
   "source": [
    "print('{0} total visits'.format(len(allvisit)))\n",
    "\n",
    "mask1 = (np.isfinite(allvisit['VHELIO']) & \n",
    "         np.isfinite(allvisit['VRELERR']) & \n",
    "         (allvisit['VRELERR'] < 100.))\n",
    "print('mask 1: removes {0}'.format(np.logical_not(mask1).sum()))\n",
    "\n",
    "skip_mask = np.sum(2 ** np.array([9, 12, 13])) # PERSIST_HIGH, PERSIST_JUMP_POS, PERSIST_JUMP_NEG\n",
    "mask2 = (allvisit['STARFLAG'] & skip_mask) == 0\n",
    "print('mask 2: removes {0} more'.format((np.logical_not(mask2) & mask1).sum()))\n",
    "\n",
    "skip_mask += np.sum(2 ** np.array([3, 4])) # VERY_BRIGHT_NEIGHBOR, LOW_SNR\n",
    "mask3 = (allvisit['STARFLAG'] & skip_mask) == 0\n",
    "print('mask 3: removes {0} more'.format((np.logical_not(mask3) & mask2 & mask1).sum()))\n",
    "\n",
    "# Remove STAR_BAD stars:\n",
    "apogee_ids = allstar['APOGEE_ID'][(allstar['ASPCAPFLAG'] & np.sum(2 ** np.array([23]))) == 0]\n",
    "print('(star cut removes {0} stars)'.format(len(allstar)-len(apogee_ids)))\n",
    "mask4 = np.isin(allvisit['APOGEE_ID'], apogee_ids)\n",
    "print('mask 4: removes {0} more'.format((np.logical_not(mask4) & mask3 & mask2 & mask1).sum()))\n",
    "print('\\n total removed: {0}'.format(np.logical_not(mask4 & mask3 & mask2 & mask1).sum()))"
   ]
  },
  {
   "cell_type": "code",
   "execution_count": null,
   "metadata": {
    "collapsed": true
   },
   "outputs": [],
   "source": [
    "tmp_visits = allvisit[mask1 & mask2 & mask3 & mask4]\n",
    "\n",
    "v_apogee_ids, counts = np.unique(tmp_visits['APOGEE_ID'], return_counts=True)\n",
    "stars = allstar[np.isin(allstar['APOGEE_ID'], v_apogee_ids[counts >= 3])]\n",
    "print(len(stars))\n",
    "\n",
    "visits = tmp_visits[np.isin(tmp_visits['APOGEE_ID'], stars['APOGEE_ID'])]"
   ]
  },
  {
   "cell_type": "code",
   "execution_count": null,
   "metadata": {
    "collapsed": true
   },
   "outputs": [],
   "source": []
  },
  {
   "cell_type": "code",
   "execution_count": null,
   "metadata": {
    "collapsed": true
   },
   "outputs": [],
   "source": []
  }
 ],
 "metadata": {
  "kernelspec": {
   "display_name": "Python [conda env:twoface-new]",
   "language": "python",
   "name": "conda-env-twoface-new-py"
  },
  "language_info": {
   "codemirror_mode": {
    "name": "ipython",
    "version": 3
   },
   "file_extension": ".py",
   "mimetype": "text/x-python",
   "name": "python",
   "nbconvert_exporter": "python",
   "pygments_lexer": "ipython3",
   "version": "3.6.2"
  }
 },
 "nbformat": 4,
 "nbformat_minor": 2
}