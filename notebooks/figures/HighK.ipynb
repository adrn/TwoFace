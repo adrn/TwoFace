{
 "cells": [
  {
   "cell_type": "code",
   "execution_count": null,
   "metadata": {},
   "outputs": [],
   "source": [
    "import os\n",
    "from os import path\n",
    "\n",
    "# Third-party\n",
    "import astropy.units as u\n",
    "import matplotlib as mpl\n",
    "import matplotlib.pyplot as plt\n",
    "from matplotlib.gridspec import GridSpec\n",
    "import numpy as np\n",
    "%matplotlib inline\n",
    "import h5py\n",
    "import pandas as pd\n",
    "from sqlalchemy import func\n",
    "import tqdm\n",
    "\n",
    "from thejoker import JokerSamples\n",
    "\n",
    "from twoface.config import TWOFACE_CACHE_PATH\n",
    "from twoface.samples_analysis import unimodal_P\n",
    "from twoface.db import (db_connect, AllStar, AllVisit, AllVisitToAllStar,\n",
    "                        StarResult, Status, JokerRun, NessRG)\n",
    "from twoface.plot import plot_two_panel"
   ]
  },
  {
   "cell_type": "code",
   "execution_count": null,
   "metadata": {},
   "outputs": [],
   "source": [
    "plot_path = '../../paper/1-catalog/figures/'\n",
    "table_path = '../../paper/1-catalog/tables/'\n",
    "os.makedirs(plot_path, exist_ok=True)\n",
    "os.makedirs(table_path, exist_ok=True)\n",
    "\n",
    "Session, _ = db_connect(path.join(TWOFACE_CACHE_PATH, 'apogee.sqlite'))\n",
    "session = Session()\n",
    "\n",
    "samples_file = path.join(TWOFACE_CACHE_PATH, 'apogee-jitter.hdf5')"
   ]
  },
  {
   "cell_type": "markdown",
   "metadata": {},
   "source": [
    "See: Sample K cuts.ipynb for setting `StarResult.high_K`"
   ]
  },
  {
   "cell_type": "code",
   "execution_count": null,
   "metadata": {},
   "outputs": [],
   "source": [
    "high_K_stars = session.query(AllStar).join(StarResult).filter(StarResult.status_id>0).filter(StarResult.high_K).all()\n",
    "low_K_stars = session.query(AllStar).join(StarResult).filter(StarResult.status_id>0).filter(~StarResult.high_K).all()\n",
    "apogee_ids = np.array([x.apogee_id for x in high_K_stars])\n",
    "len(high_K_stars), len(low_K_stars)"
   ]
  },
  {
   "cell_type": "code",
   "execution_count": null,
   "metadata": {},
   "outputs": [],
   "source": [
    "n_martig = session.query(AllStar).join(StarResult).filter(StarResult.high_K).filter(AllStar.martig_filter).count()\n",
    "n_ness = session.query(AllStar).join(StarResult, NessRG).filter(StarResult.high_K).count()\n",
    "print(n_martig, n_ness)"
   ]
  },
  {
   "cell_type": "code",
   "execution_count": null,
   "metadata": {},
   "outputs": [],
   "source": [
    "statuses = np.array([star.results[0].status_id for star in high_K_stars])\n",
    "for i in range(4+1):\n",
    "    count = session.query(StarResult).filter(StarResult.status_id == i).count()\n",
    "    status = session.query(Status).filter(Status.id == i).one()\n",
    "    print(\"Status: {1} [{0}]\\n\\t{2} in high K sample of {3} total\\n\"\n",
    "          .format(i, status.message, np.sum(statuses == i), count))"
   ]
  },
  {
   "cell_type": "markdown",
   "metadata": {},
   "source": [
    "# Bulk properties"
   ]
  },
  {
   "cell_type": "code",
   "execution_count": null,
   "metadata": {},
   "outputs": [],
   "source": [
    "sp = np.array(session.query(AllStar.logg, AllStar.logg_err, AllStar.teff, AllStar.teff_err)\n",
    "                     .join(StarResult).filter(StarResult.status_id>0)\n",
    "                     .filter(StarResult.high_K).all())"
   ]
  },
  {
   "cell_type": "code",
   "execution_count": null,
   "metadata": {},
   "outputs": [],
   "source": [
    "fig, ax = plt.subplots(1, 1, figsize=(6, 6))\n",
    "ax.errorbar(sp[:, 2], sp[:, 0], \n",
    "            xerr=sp[:, 3], yerr=sp[:, 1],\n",
    "            alpha=0.2, marker='o', linestyle='none')\n",
    "ax.set_xlim(5750, 3450)\n",
    "ax.set_ylim(4, 0)"
   ]
  },
  {
   "cell_type": "code",
   "execution_count": null,
   "metadata": {},
   "outputs": [],
   "source": [
    "Ks = np.array(session.query(AllStar.k)\n",
    "                     .join(StarResult).filter(StarResult.status_id>0)\n",
    "                     .filter(StarResult.high_K).all())[:,0]\n",
    "plt.hist(Ks, bins='auto');"
   ]
  },
  {
   "cell_type": "code",
   "execution_count": null,
   "metadata": {},
   "outputs": [],
   "source": [
    "nvisits = np.array(session.query(func.count(AllVisit.id)).join(AllVisitToAllStar, AllStar, StarResult)\n",
    "                          .filter(StarResult.status_id>0)\n",
    "                          .filter(StarResult.high_K)\n",
    "                          .group_by(AllStar.apogee_id)\n",
    "                          .having(func.count(AllVisit.id) >= 3).all())\n",
    "\n",
    "fig, ax = plt.subplots(1, 1, figsize=(6, 4))\n",
    "\n",
    "_ = ax.hist(nvisits, bins=np.logspace(0.5, 7, 22, base=2.), rasterized=True)\n",
    "ax.set_xscale('log', basex=2)\n",
    "ax.set_yscale('log')\n",
    "ax.set_xlim(2.5, 140)\n",
    "ax.set_ylim(0.8, 10**5.1)\n",
    "\n",
    "ax.xaxis.set_ticks(2**np.arange(2, 7+1, 1))\n",
    "ax.xaxis.set_ticklabels([str(x) for x in ax.get_xticks()])\n",
    "\n",
    "ax.yaxis.set_ticks(10**np.arange(0, 5+1, 1))\n",
    "ax.set_xlabel('$N$ visits')\n",
    "ax.set_ylabel('$N$ stars')\n",
    "\n",
    "fig.tight_layout()"
   ]
  },
  {
   "cell_type": "markdown",
   "metadata": {},
   "source": [
    "## Example light curves"
   ]
  },
  {
   "cell_type": "code",
   "execution_count": null,
   "metadata": {},
   "outputs": [],
   "source": [
    "def make_plots(q, title, seed=420):\n",
    "    np.random.seed(seed)\n",
    "\n",
    "    ranges = [np.arange(3, 9+1, 2), \n",
    "              np.arange(11, 14+1, 1)]\n",
    "\n",
    "    rc = {\n",
    "        'axes.labelsize': 18,\n",
    "        'xtick.labelsize': 14,\n",
    "        'ytick.labelsize': 14\n",
    "    }\n",
    "    \n",
    "    figs = []\n",
    "    with mpl.rc_context(rc):\n",
    "        for k, range_ in enumerate(ranges):\n",
    "            gs = GridSpec(4, 3)\n",
    "            fig = plt.figure(figsize=(8., 9.5))\n",
    "            for j, i in enumerate(range_):\n",
    "                ax1 = fig.add_subplot(gs[j, :2])\n",
    "                ax2 = fig.add_subplot(gs[j, 2])\n",
    "\n",
    "                if j == 0:\n",
    "                    ax1.set_title(title, fontsize=20)\n",
    "\n",
    "                sub_stars = q.having(func.count(AllVisit.id) == i).all()\n",
    "                print(len(sub_stars))\n",
    "\n",
    "                star = np.random.choice(sub_stars)\n",
    "                data = star.apogeervdata()\n",
    "\n",
    "                with h5py.File(samples_file, 'r') as f:\n",
    "                    samples = JokerSamples.from_hdf5(f[star.apogee_id])\n",
    "\n",
    "                fig = plot_two_panel(data, samples, axes=[ax1, ax2], tight=False,\n",
    "                                     plot_data_orbits_kw=dict(n_times=16384, \n",
    "                                                              n_orbits=128,\n",
    "                                                              highlight_P_extrema=False,\n",
    "                                                              xlim_choice='data',\n",
    "                                                              relative_to_t0=True,\n",
    "                                                              plot_kwargs=dict(alpha=0.2, \n",
    "                                                                               linewidth=0.2,\n",
    "                                                                               rasterized=True)))\n",
    "\n",
    "                xlim = ax1.get_xlim()\n",
    "                ylim = ax1.get_ylim()\n",
    "\n",
    "                ax1.text(xlim[0] + (xlim[1]-xlim[0])/20,\n",
    "                         ylim[1] - (ylim[1]-ylim[0])/20,\n",
    "                         star.apogee_id, fontsize=15, va='top', ha='left')\n",
    "\n",
    "                ax1.text(xlim[1] - (xlim[1]-xlim[0])/20,\n",
    "                         ylim[1] - (ylim[1]-ylim[0])/20,\n",
    "                         '$N = {0}$'.format(len(data)), \n",
    "                         fontsize=15, va='top', ha='right')\n",
    "\n",
    "                ax1.set_xlabel('')\n",
    "                ax2.set_xlabel('')\n",
    "\n",
    "            ax1.set_xlabel(r'${\\rm BMJD} - t_0$ [day]')\n",
    "            ax2.set_xlabel('period, $P$ [day]')\n",
    "\n",
    "            fig.tight_layout()\n",
    "            fig.subplots_adjust(left=0.125, right=0.95, hspace=0.2, wspace=0.4)\n",
    "            figs.append(fig)\n",
    "    return figs"
   ]
  },
  {
   "cell_type": "markdown",
   "metadata": {},
   "source": [
    "## High-$K$ examples"
   ]
  },
  {
   "cell_type": "code",
   "execution_count": null,
   "metadata": {},
   "outputs": [],
   "source": [
    "q = session.query(AllStar).join(StarResult, AllVisitToAllStar, AllVisit)\\\n",
    "                          .filter(StarResult.status_id>0)\\\n",
    "                          .filter(StarResult.high_K)\\\n",
    "                          .filter(StarResult.status_id == 4)\\\n",
    "                          .filter(AllStar.logg > 1.5)\\\n",
    "                          .filter(AllStar.aspcapflag.op('&')(2**7) == 0)\\\n",
    "                          .group_by(AllStar.apstar_id)\n",
    "                        \n",
    "figs = make_plots(q, title='Examples of high-$K$ stars')\n",
    "for i, fig in enumerate(figs):\n",
    "    fig.savefig(path.join(plot_path, 'highK-{0}.pdf'.format(i)), \n",
    "                dpi=150, rasterized=True)"
   ]
  },
  {
   "cell_type": "markdown",
   "metadata": {},
   "source": [
    "## Low-$K$ examples"
   ]
  },
  {
   "cell_type": "code",
   "execution_count": null,
   "metadata": {},
   "outputs": [],
   "source": [
    "q = session.query(AllStar).join(StarResult, AllVisitToAllStar, AllVisit)\\\n",
    "                          .filter(StarResult.status_id>0)\\\n",
    "                          .filter(~StarResult.high_K)\\\n",
    "                          .filter(StarResult.status_id == 4)\\\n",
    "                          .filter(AllStar.logg > 1.5)\\\n",
    "                          .filter(AllStar.aspcapflag.op('&')(2**7) == 0)\\\n",
    "                          .group_by(AllStar.apstar_id)\n",
    "                        \n",
    "figs = make_plots(q, title='Examples of low-$K$ stars')\n",
    "for i, fig in enumerate(figs):\n",
    "    fig.savefig(path.join(plot_path, 'lowK-{0}.pdf'.format(i)), \n",
    "                dpi=150, rasterized=True)"
   ]
  },
  {
   "cell_type": "markdown",
   "metadata": {},
   "source": [
    "---\n",
    "\n",
    "To upload to vizier to cross-match with APASS:"
   ]
  },
  {
   "cell_type": "code",
   "execution_count": null,
   "metadata": {},
   "outputs": [],
   "source": [
    "import astropy.coordinates as coord\n",
    "from astropy.table import Table, join"
   ]
  },
  {
   "cell_type": "code",
   "execution_count": null,
   "metadata": {},
   "outputs": [],
   "source": [
    "res = session.query(AllStar.apogee_id, AllStar.ra, AllStar.dec).join(StarResult)\\\n",
    "             .filter(StarResult.status_id>0).filter(StarResult.high_K).all()\n",
    "res = np.array(res, dtype=[('APOGEE_ID', 'U20'), ('ra', 'f8'), ('dec', 'f8')])\n",
    "res = Table(res)"
   ]
  },
  {
   "cell_type": "code",
   "execution_count": null,
   "metadata": {},
   "outputs": [],
   "source": [
    "res['ra', 'dec'].write('../../cache/highK-pos.csv', format='ascii.csv')"
   ]
  },
  {
   "cell_type": "code",
   "execution_count": null,
   "metadata": {},
   "outputs": [],
   "source": [
    "apass = Table.read('../../data/highK-apass.csv')"
   ]
  },
  {
   "cell_type": "code",
   "execution_count": null,
   "metadata": {},
   "outputs": [],
   "source": [
    "plt.hist(apass['rpmag'][~apass['rpmag'].mask], bins='auto');\n",
    "plt.xlabel('$r$ [mag]')\n",
    "plt.tight_layout()\n",
    "plt.savefig('/Users/adrian/Downloads/rmag.png', dpi=200)"
   ]
  },
  {
   "cell_type": "code",
   "execution_count": null,
   "metadata": {},
   "outputs": [],
   "source": [
    "allstar = Table.read('/Users/adrian/data/APOGEE_DR14/allStar-l31c.2.fits')"
   ]
  },
  {
   "cell_type": "code",
   "execution_count": null,
   "metadata": {},
   "outputs": [],
   "source": [
    "full_tbl = join(res, allstar['APOGEE_ID', 'K'], keys='APOGEE_ID')\n",
    "_, idx = np.unique(res['APOGEE_ID'], return_index=True)\n",
    "full_tbl = full_tbl[idx]\n",
    "full_tbl.rename_column('K', 'K_mag')"
   ]
  },
  {
   "cell_type": "code",
   "execution_count": null,
   "metadata": {},
   "outputs": [],
   "source": [
    "c = coord.SkyCoord(ra=full_tbl['ra']*u.deg, dec=full_tbl['dec']*u.deg)\n",
    "apass_c = coord.SkyCoord(ra=apass['RAJ2000']*u.deg, dec=apass['DEJ2000']*u.deg)"
   ]
  },
  {
   "cell_type": "code",
   "execution_count": null,
   "metadata": {},
   "outputs": [],
   "source": [
    "idx, sep, _ = c.match_to_catalog_sky(apass_c)"
   ]
  },
  {
   "cell_type": "code",
   "execution_count": null,
   "metadata": {},
   "outputs": [],
   "source": [
    "full_tbl['r_mag'] = np.full(len(full_tbl), np.nan)\n",
    "full_tbl['r_mag'][(sep < 5*u.arcsec)] = apass['rpmag'][idx[(sep < 5*u.arcsec)]]"
   ]
  },
  {
   "cell_type": "code",
   "execution_count": null,
   "metadata": {},
   "outputs": [],
   "source": [
    "full_tbl = full_tbl[np.argsort(full_tbl['APOGEE_ID'])]"
   ]
  },
  {
   "cell_type": "code",
   "execution_count": null,
   "metadata": {},
   "outputs": [],
   "source": [
    "full_tbl.write('../../cache/APOGEE-binary-candidates.fits', format='fits')"
   ]
  },
  {
   "cell_type": "code",
   "execution_count": null,
   "metadata": {},
   "outputs": [],
   "source": []
  }
 ],
 "metadata": {
  "kernelspec": {
   "display_name": "Python [conda env:twoface]",
   "language": "python",
   "name": "conda-env-twoface-py"
  },
  "language_info": {
   "codemirror_mode": {
    "name": "ipython",
    "version": 3
   },
   "file_extension": ".py",
   "mimetype": "text/x-python",
   "name": "python",
   "nbconvert_exporter": "python",
   "pygments_lexer": "ipython3",
   "version": "3.6.2"
  }
 },
 "nbformat": 4,
 "nbformat_minor": 2
}