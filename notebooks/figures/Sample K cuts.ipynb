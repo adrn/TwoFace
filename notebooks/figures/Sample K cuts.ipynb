{
 "cells": [
  {
   "cell_type": "code",
   "execution_count": null,
   "metadata": {
    "collapsed": true
   },
   "outputs": [],
   "source": [
    "import os\n",
    "from os import path\n",
    "\n",
    "# Third-party\n",
    "from astropy.table import Table\n",
    "import astropy.units as u\n",
    "import matplotlib as mpl\n",
    "import matplotlib.pyplot as plt\n",
    "import numpy as np\n",
    "%matplotlib inline\n",
    "import h5py\n",
    "import pandas as pd\n",
    "import tqdm\n",
    "\n",
    "from thejoker import JokerSamples\n",
    "\n",
    "from twoface.config import TWOFACE_CACHE_PATH\n",
    "from twoface.samples_analysis import unimodal_P\n",
    "from twoface.db import (db_connect, AllStar, AllVisit, AllVisitToAllStar,\n",
    "                        StarResult, Status, JokerRun, initialize_db)"
   ]
  },
  {
   "cell_type": "code",
   "execution_count": null,
   "metadata": {},
   "outputs": [],
   "source": [
    "plot_path = '../../paper/1-catalog/figures/'\n",
    "table_path = '../../paper/1-catalog/tables/'"
   ]
  },
  {
   "cell_type": "code",
   "execution_count": null,
   "metadata": {
    "collapsed": true
   },
   "outputs": [],
   "source": [
    "Session, _ = db_connect(path.join(TWOFACE_CACHE_PATH, 'apogee.sqlite'))\n",
    "session = Session()\n",
    "\n",
    "samples_file = path.join(TWOFACE_CACHE_PATH, 'apogee-jitter.hdf5')\n",
    "control_samples_file = path.join(TWOFACE_CACHE_PATH, 'apogee-jitter-control.hdf5')"
   ]
  },
  {
   "cell_type": "markdown",
   "metadata": {},
   "source": [
    "## First, look at the control sample K percentiles"
   ]
  },
  {
   "cell_type": "code",
   "execution_count": null,
   "metadata": {},
   "outputs": [],
   "source": [
    "with h5py.File(control_samples_file) as f:\n",
    "    control_K = np.full((len(f.keys()), 256), np.nan)\n",
    "    for i, key in enumerate(f):\n",
    "        n_samples = len(f[key]['K'])\n",
    "        control_K[i, :n_samples] = f[key]['K'][:]\n",
    "        \n",
    "ln_control_K = np.log(control_K)"
   ]
  },
  {
   "cell_type": "code",
   "execution_count": null,
   "metadata": {},
   "outputs": [],
   "source": [
    "n_samples = np.sum(np.logical_not(np.isnan(control_K)), axis=1)\n",
    "plt.hist(n_samples, bins=np.linspace(0, 256, 64));\n",
    "plt.yscale('log')\n",
    "plt.xlabel('$N$ samples returned')"
   ]
  },
  {
   "cell_type": "markdown",
   "metadata": {},
   "source": [
    "### How many are \"needs mcmc\" vs. \"needs more prior samples\":"
   ]
  },
  {
   "cell_type": "code",
   "execution_count": null,
   "metadata": {},
   "outputs": [],
   "source": [
    "needs_mcmc = 0\n",
    "needs_more_prior = 0\n",
    "with h5py.File(control_samples_file) as f:\n",
    "    keys = list(f.keys())\n",
    "    for k in tqdm.tqdm(np.where(n_samples < 256)[0]):\n",
    "        key = keys[k]\n",
    "        data = AllStar.get_apogee_id(session, key).apogeervdata()\n",
    "        samples = JokerSamples.from_hdf5(f[key])\n",
    "        uni = unimodal_P(samples, data)\n",
    "        \n",
    "        if uni:\n",
    "            needs_mcmc += 1\n",
    "        else:\n",
    "            needs_more_prior += 1"
   ]
  },
  {
   "cell_type": "code",
   "execution_count": null,
   "metadata": {},
   "outputs": [],
   "source": [
    "needs_mcmc, needs_more_prior"
   ]
  },
  {
   "cell_type": "markdown",
   "metadata": {},
   "source": [
    "## Plot percentiles:"
   ]
  },
  {
   "cell_type": "code",
   "execution_count": null,
   "metadata": {},
   "outputs": [],
   "source": [
    "fig, axes = plt.subplots(1, 2, figsize=(10, 5))\n",
    "\n",
    "ax = axes[0]\n",
    "for perc in [1, 5, 15]:\n",
    "    control_perc = np.nanpercentile(ln_control_K, perc, axis=1)\n",
    "    ax.hist(control_perc, bins=np.linspace(-12, 10, 64), \n",
    "            alpha=0.5, label='{0} percentile'.format(perc));\n",
    "\n",
    "ax = axes[1]\n",
    "for perc in [85, 95, 99]:\n",
    "    control_perc = np.nanpercentile(ln_control_K, perc, axis=1)\n",
    "    ax.hist(control_perc, bins=np.linspace(-12, 10, 64), \n",
    "            alpha=0.5, label='{0} percentile'.format(perc));\n",
    "    \n",
    "for ax in axes:\n",
    "    ax.legend(loc='best', fontsize=14)\n",
    "    ax.set_xlabel(r'$\\ln \\left(\\frac{K}{{\\rm km}\\,{s}^{-1}} \\right)$')\n",
    "    ax.set_yscale('log')\n",
    "    \n",
    "axes[0].set_title('control sample')\n",
    "fig.tight_layout()"
   ]
  },
  {
   "cell_type": "code",
   "execution_count": null,
   "metadata": {},
   "outputs": [],
   "source": [
    "# cut = -0.88 # 5% FPR\n",
    "cut = 0. # <1% FPR\n",
    "np.sum(np.nanpercentile(ln_control_K, 1., axis=1) > cut) / control_K.shape[0]"
   ]
  },
  {
   "cell_type": "markdown",
   "metadata": {},
   "source": [
    "### Summary: if we cut at $\\ln K > 0$, <1% false-positive rate"
   ]
  },
  {
   "cell_type": "markdown",
   "metadata": {},
   "source": [
    "---"
   ]
  },
  {
   "cell_type": "markdown",
   "metadata": {},
   "source": [
    "## Compute percentiles in lnK for all stars\n",
    "\n",
    "Write a table with APOGEE_ID, percentile value:"
   ]
  },
  {
   "cell_type": "code",
   "execution_count": null,
   "metadata": {},
   "outputs": [],
   "source": [
    "df = pd.read_hdf('../../cache/apogee-jitter-tbl.hdf5')\n",
    "grouped = df.groupby('APOGEE_ID')\n",
    "df.columns"
   ]
  },
  {
   "cell_type": "code",
   "execution_count": null,
   "metadata": {},
   "outputs": [],
   "source": [
    "K_per = grouped.agg(lambda x: np.percentile(np.log(x['K']), 1))['K']\n",
    "(K_per > cut).sum()"
   ]
  },
  {
   "cell_type": "code",
   "execution_count": null,
   "metadata": {},
   "outputs": [],
   "source": [
    "high_K_tbl = Table()\n",
    "high_K_tbl['APOGEE_ID'] = np.asarray(K_per.index).astype('U20')\n",
    "high_K_tbl['lnK_per_1'] = np.asarray(K_per)\n",
    "high_K_tbl.write(path.join(table_path, 'lnK-percentiles.fits'))"
   ]
  },
  {
   "cell_type": "code",
   "execution_count": null,
   "metadata": {},
   "outputs": [],
   "source": [
    "high_K_tbl[:8].write(path.join(table_path, 'lnK-percentiles.tex'))"
   ]
  },
  {
   "cell_type": "markdown",
   "metadata": {},
   "source": [
    "## Now define the High-$K$ sample:"
   ]
  },
  {
   "cell_type": "code",
   "execution_count": null,
   "metadata": {},
   "outputs": [],
   "source": [
    "high_K = np.asarray(K_per[K_per > cut].index).astype('U20')\n",
    "len(high_K)"
   ]
  },
  {
   "cell_type": "code",
   "execution_count": null,
   "metadata": {},
   "outputs": [],
   "source": [
    "for apogee_id in tqdm.tqdm(high_K):\n",
    "    star = AllStar.get_apogee_id(session, apogee_id)\n",
    "    res = star.results[0] # only one result...\n",
    "    res.high_K = True\n",
    "session.commit()"
   ]
  },
  {
   "cell_type": "code",
   "execution_count": null,
   "metadata": {},
   "outputs": [],
   "source": [
    "_N = session.query(AllStar).join(StarResult).filter(StarResult.high_K).count()\n",
    "print(_N)\n",
    "assert _N == len(high_K)"
   ]
  },
  {
   "cell_type": "code",
   "execution_count": null,
   "metadata": {
    "collapsed": true
   },
   "outputs": [],
   "source": [
    "fig, ax = plt.subplots(1, 1, figsize=(6, 5))\n",
    "\n",
    "control_perc = np.nanpercentile(ln_control_K, 1, axis=1)\n",
    "bins = np.linspace(-12, 10, 64)\n",
    "ax.hist(K_per, bins=bins, \n",
    "        alpha=0.75, label='APOGEE sample', normed=True,\n",
    "        histtype='stepfilled', rasterized=True)\n",
    "\n",
    "ax.hist(control_perc, bins=bins, \n",
    "        alpha=1, label='Control sample', normed=True, \n",
    "        histtype='step', linewidth=2, color='#333333')\n",
    "\n",
    "ax.legend(loc='best', fontsize=13)\n",
    "\n",
    "ax.set_yscale('log')\n",
    "ax.set_xlabel(r'$\\ln \\left(\\frac{K}{{\\rm km}\\,{s}^{-1}} \\right)$')\n",
    "ax.set_ylabel('density')\n",
    "\n",
    "ax.axvline(0, linestyle='--', zorder=10, alpha=1., color='tab:orange')\n",
    "\n",
    "fig.tight_layout()\n",
    "fig.savefig(path.join(plot_path, 'lnK-percentiles.pdf'), dpi=250)"
   ]
  },
  {
   "cell_type": "code",
   "execution_count": null,
   "metadata": {},
   "outputs": [],
   "source": []
  }
 ],
 "metadata": {
  "kernelspec": {
   "display_name": "Python [conda env:twoface]",
   "language": "python",
   "name": "conda-env-twoface-py"
  },
  "language_info": {
   "codemirror_mode": {
    "name": "ipython",
    "version": 3
   },
   "file_extension": ".py",
   "mimetype": "text/x-python",
   "name": "python",
   "nbconvert_exporter": "python",
   "pygments_lexer": "ipython3",
   "version": "3.6.2"
  }
 },
 "nbformat": 4,
 "nbformat_minor": 2
}