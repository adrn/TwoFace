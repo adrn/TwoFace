{
 "cells": [
  {
   "cell_type": "code",
   "execution_count": null,
   "metadata": {},
   "outputs": [],
   "source": [
    "import os\n",
    "from os import path\n",
    "\n",
    "# Third-party\n",
    "from astropy.io import ascii, fits\n",
    "import astropy.coordinates as coord\n",
    "from astropy.time import Time\n",
    "import astropy.units as u\n",
    "import matplotlib as mpl\n",
    "from matplotlib.gridspec import GridSpec\n",
    "import matplotlib.pyplot as plt\n",
    "import numpy as np\n",
    "%matplotlib inline\n",
    "from scipy.stats import beta\n",
    "import h5py\n",
    "\n",
    "from thejoker import JokerSamples\n",
    "from thejoker.sampler import JokerParams, TheJoker\n",
    "from thejoker.plot import plot_rv_curves\n",
    "\n",
    "from twoface.config import TWOFACE_CACHE_PATH\n",
    "from twoface.db import (db_connect, AllStar, AllVisit, AllVisitToAllStar,\n",
    "                        StarResult, Status, JokerRun, initialize_db)\n",
    "from twoface.data import APOGEERVData\n",
    "from twoface.plot import plot_data_orbits, plot_two_panel\n",
    "from twoface.mass import m2_func\n",
    "\n",
    "from twobody import KeplerOrbit"
   ]
  },
  {
   "cell_type": "code",
   "execution_count": null,
   "metadata": {
    "collapsed": true
   },
   "outputs": [],
   "source": [
    "Session, _ = db_connect(path.join(TWOFACE_CACHE_PATH, 'apogee.sqlite'))\n",
    "session = Session()\n",
    "\n",
    "samples_file = path.join(TWOFACE_CACHE_PATH, 'apogee-jitter.hdf5')"
   ]
  },
  {
   "cell_type": "code",
   "execution_count": null,
   "metadata": {
    "collapsed": true
   },
   "outputs": [],
   "source": [
    "troup = ascii.read('../../../papers/thejoker-paper/data/troup16-dr12.csv', format='commented_header')"
   ]
  },
  {
   "cell_type": "code",
   "execution_count": null,
   "metadata": {
    "collapsed": true
   },
   "outputs": [],
   "source": [
    "figures_path = '../../paper/1-catalog/figures/'"
   ]
  },
  {
   "cell_type": "markdown",
   "metadata": {},
   "source": [
    "## Compare exact companion stars"
   ]
  },
  {
   "cell_type": "code",
   "execution_count": null,
   "metadata": {},
   "outputs": [],
   "source": [
    "in_ = []\n",
    "not_in = []\n",
    "with h5py.File(samples_file) as f:\n",
    "    for apogee_id in troup['APOGEE_ID']:\n",
    "        if apogee_id in f:\n",
    "            in_.append(apogee_id)\n",
    "        else:\n",
    "            not_in.append(apogee_id)\n",
    "            \n",
    "len(in_), len(not_in)"
   ]
  },
  {
   "cell_type": "markdown",
   "metadata": {},
   "source": [
    "Q: Why aren't all Troup stars in our sample? \n",
    "\n",
    "A: logg cut"
   ]
  },
  {
   "cell_type": "code",
   "execution_count": null,
   "metadata": {
    "collapsed": true
   },
   "outputs": [],
   "source": [
    "# data = star.apogeervdata()\n",
    "# _ = data.plot()"
   ]
  },
  {
   "cell_type": "code",
   "execution_count": null,
   "metadata": {
    "collapsed": true
   },
   "outputs": [],
   "source": [
    "# allvisit = fits.getdata('/Users/adrian/data/APOGEE_DR14/allVisit-l31c.2.fits')"
   ]
  },
  {
   "cell_type": "code",
   "execution_count": null,
   "metadata": {
    "collapsed": true
   },
   "outputs": [],
   "source": [
    "# visits = allvisit[allvisit['APOGEE_ID'] == star.apogee_id]\n",
    "# visits['STARFLAGS']"
   ]
  },
  {
   "cell_type": "markdown",
   "metadata": {},
   "source": [
    "---"
   ]
  },
  {
   "cell_type": "code",
   "execution_count": null,
   "metadata": {
    "collapsed": true
   },
   "outputs": [],
   "source": [
    "def troup_to_orbit(row):\n",
    "    P = row['PERIOD']*u.day\n",
    "    e = row['ECC']\n",
    "    K = row['SEMIAMP'] * u.m/u.s\n",
    "    a_K = P * K / (2*np.pi) * np.sqrt(1 - e**2)\n",
    "    \n",
    "    orbit = KeplerOrbit(P=P, e=e, a=a_K,\n",
    "                        omega=row['OMEGA']*u.rad, \n",
    "                        t0=Time(row['T0'], format='jd'),\n",
    "                        i=90*u.deg, Omega=0*u.deg, M0=0*u.deg)\n",
    "    \n",
    "    orbit._v0 = (row['V0'] + row['SLOPE']*row['T0']) * u.m/u.s\n",
    "    \n",
    "    return orbit"
   ]
  },
  {
   "cell_type": "code",
   "execution_count": null,
   "metadata": {
    "collapsed": true
   },
   "outputs": [],
   "source": [
    "plot_path = '../../plots/troup-compare/'\n",
    "if not path.exists(plot_path):\n",
    "    os.makedirs(plot_path)"
   ]
  },
  {
   "cell_type": "code",
   "execution_count": null,
   "metadata": {
    "scrolled": true
   },
   "outputs": [],
   "source": [
    "with h5py.File(samples_file) as f:\n",
    "    for i, apogee_id in enumerate(in_):\n",
    "        samples = JokerSamples.from_hdf5(f[apogee_id])\n",
    "        star = AllStar.get_apogee_id(session, apogee_id)\n",
    "        data = star.apogeervdata(clean=True)\n",
    "        \n",
    "        troup_row = troup[troup['APOGEE_ID'] == apogee_id]\n",
    "        troup_orb = troup_to_orbit(troup_row)\n",
    "        \n",
    "        fig = plot_two_panel(star, samples, title=star.apogee_id,\n",
    "                             plot_data_orbits_kw=dict(highlight_P_extrema=False, \n",
    "                                                      n_times=16384, \n",
    "                                                      plot_kwargs=dict(color='#666666')))\n",
    "        ax1, ax2 = fig.axes\n",
    "    \n",
    "        # over-plot Troup orbit\n",
    "        t2 = Time(np.linspace(*ax1.get_xlim(), 10000), format='mjd')\n",
    "        ax1.plot(t2.tcb.mjd, troup_orb.radial_velocity(t2).to(u.km/u.s), \n",
    "                 marker='', color='tab:orange', alpha=0.5)\n",
    "        ax2.scatter(troup_row['PERIOD'], troup_row['ECC'], \n",
    "                    marker='+', linewidth=2., s=100, color='tab:orange', \n",
    "                    label='Troup')\n",
    "        \n",
    "        fig.savefig(path.join(plot_path, '{0}.pdf'.format(apogee_id)))\n",
    "        plt.close(fig)"
   ]
  },
  {
   "cell_type": "markdown",
   "metadata": {
    "collapsed": true
   },
   "source": [
    "## Hand-picked, artisinal comparisons\n",
    "\n",
    "I chose these by looking at the full set of plots."
   ]
  },
  {
   "cell_type": "code",
   "execution_count": null,
   "metadata": {
    "collapsed": true
   },
   "outputs": [],
   "source": [
    "classes = dict()\n",
    "classes['unimodal'] = ['2M04411627+5855354', '2M19405532+2401157', '2M03080601+7950502', '2M19134104-0712053']\n",
    "classes['multimodal'] = ['2M00295684+6356284', '2M19453527+2333077', '2M19114515-0725486', '2M19292561+2626538']\n",
    "classes['data changed'] = ['2M18591837-0401083', '2M19105197+2845422']"
   ]
  },
  {
   "cell_type": "code",
   "execution_count": null,
   "metadata": {},
   "outputs": [],
   "source": [
    "with h5py.File(samples_file) as f:\n",
    "    for label, ids in classes.items():\n",
    "        # fig, axes = plt.subplots(len(ids), 2, figsize=(12, 4*len(ids)))\n",
    "        fig = plt.figure(figsize=(12, 4*len(ids)))\n",
    "        gs = GridSpec(len(ids), 3)\n",
    "    \n",
    "        for i, apogee_id in enumerate(ids):\n",
    "            samples = JokerSamples.from_hdf5(f[apogee_id])\n",
    "            star = AllStar.get_apogee_id(session, apogee_id)\n",
    "            data = star.apogeervdata(clean=True)\n",
    "\n",
    "            troup_row = troup[troup['APOGEE_ID'] == apogee_id]\n",
    "            troup_orb = troup_to_orbit(troup_row)\n",
    "            \n",
    "            ax1 = fig.add_subplot(gs[i, :2])\n",
    "            ax2 = fig.add_subplot(gs[i, 2])\n",
    "            axes = [ax1, ax2]\n",
    "            \n",
    "            scatter_kw = dict()\n",
    "            if i == 0:\n",
    "                scatter_kw['label'] = 'The Joker'\n",
    "            plot_two_panel(star, samples, axes=axes,\n",
    "                           plot_data_orbits_kw=dict(highlight_P_extrema=False, \n",
    "                                                    n_times=16384, \n",
    "                                                    plot_kwargs=dict(color='tab:blue')),\n",
    "                           scatter_kw=scatter_kw)\n",
    "\n",
    "            # over-plot Troup orbit\n",
    "            t2 = Time(np.linspace(*ax1.get_xlim(), 10000), format='mjd')\n",
    "            ax1.plot(t2.tcb.mjd, troup_orb.radial_velocity(t2).to(u.km/u.s), \n",
    "                     marker='', color='tab:orange', alpha=0.5)\n",
    "            ax2.scatter(troup_row['PERIOD'], troup_row['ECC'], \n",
    "                        marker='+', linewidth=2., s=100, color='tab:orange', \n",
    "                        label='Troup+2016 fit')\n",
    "            \n",
    "            if i == 0:\n",
    "                ax2.legend(loc='upper left', fontsize=16)\n",
    "            \n",
    "            # add text\n",
    "            ylim = ax1.get_ylim()\n",
    "            yptp = ylim[1] - ylim[0]\n",
    "            ax1.text(data.t.tcb.mjd.min(), ylim[1]-0.1*yptp, apogee_id, fontsize=20)\n",
    "\n",
    "        fig.tight_layout()\n",
    "        fig.savefig(path.join(figures_path, '{0}.pdf'.format('-'.join(label.split()))))\n",
    "        plt.close(fig)"
   ]
  },
  {
   "cell_type": "code",
   "execution_count": null,
   "metadata": {
    "collapsed": true
   },
   "outputs": [],
   "source": []
  },
  {
   "cell_type": "markdown",
   "metadata": {},
   "source": [
    "## Bulk plot comparisons"
   ]
  },
  {
   "cell_type": "code",
   "execution_count": null,
   "metadata": {},
   "outputs": [],
   "source": [
    "fig, ax = plt.subplots(1, 1, figsize=(8, 5))\n",
    "\n",
    "sub = troup[troup['SNR']>100]\n",
    "\n",
    "cb_in = ax.scatter(sub['PERIOD'], sub['ECC'], marker='.', cmap='magma_r',\n",
    "                   c=sub['NVISITS'], vmin=3, vmax=20)\n",
    "ax.set_xscale('log')\n",
    "\n",
    "ax.set_xlim(1, 2000)\n",
    "\n",
    "ax.set_xlabel('$P$ [{0:latex_inline}]'.format(u.day))\n",
    "ax.set_ylabel('$e$')\n",
    "ax.set_title('SNR > 100 - Troup')\n",
    "\n",
    "cb = fig.colorbar(cb_in)\n",
    "cb.set_label('$N$ visits')"
   ]
  },
  {
   "cell_type": "code",
   "execution_count": null,
   "metadata": {},
   "outputs": [],
   "source": [
    "sub = troup[(troup['SNR'] > 100) & (troup['PERIOD'] > 8)]\n",
    "\n",
    "bins = np.linspace(0, 1, 13)\n",
    "\n",
    "fig, axes = plt.subplots(1, 2, figsize=(10, 5), sharex=True)\n",
    "\n",
    "mask = sub['PERIOD'] < 20\n",
    "axes[0].hist(sub[mask]['ECC'], bins=bins, normed=True, alpha=0.8);\n",
    "axes[0].set_title(r'$8 < P < 20\\,{{\\rm d}}$ ({0} stars)'.format(mask.sum()))\n",
    "\n",
    "axes[1].hist(sub[~mask]['ECC'], bins=bins, normed=True, alpha=0.8);\n",
    "axes[1].set_title(r'$P > 20\\,{{\\rm d}}$ ({0} stars)'.format(np.logical_not(mask).sum()))\n",
    "\n",
    "ecc = np.linspace(0, 1, 100)\n",
    "for ax in axes:\n",
    "    ax.plot(ecc, beta.pdf(ecc, 0.867, 3.03), marker='', label='prior')\n",
    "    ax.set_xlabel('eccentricity, $e$')\n",
    "\n",
    "fig.suptitle('Troup', y=1.02, fontsize=20)\n",
    "    \n",
    "fig.tight_layout()"
   ]
  },
  {
   "cell_type": "code",
   "execution_count": null,
   "metadata": {},
   "outputs": [],
   "source": [
    "fig, ax = plt.subplots(1, 1, sharex=True, figsize=(5,4))\n",
    "\n",
    "n, bins, _ = ax.hist(troup['OMEGA'], bins='auto');\n",
    "binc = (bins[:-1]+bins[1:])/2.\n",
    "ax.errorbar(binc, n, np.sqrt(n), marker='', linestyle='none')\n",
    "ax.set_xlabel('$\\omega$ [rad]')"
   ]
  },
  {
   "cell_type": "code",
   "execution_count": null,
   "metadata": {},
   "outputs": [],
   "source": [
    "fig, ax = plt.subplots(1, 1, figsize=(6, 5))\n",
    "\n",
    "sub = troup[ (troup['SNR'] > 100) & \n",
    "             (troup['FE_H'] > -999)]\n",
    "\n",
    "print(len(sub))\n",
    "\n",
    "ax.errorbar(sub['PERIOD'], sub['FE_H'], yerr=sub['FE_H_ERR'],\n",
    "            linestyle='none', marker='.', color='k')\n",
    "\n",
    "ax.set_xscale('log')\n",
    "ax.set_xlim(1, 2000)\n",
    "\n",
    "# ax.set_xlabel('[Fe/H]')\n",
    "# ax.set_ylabel(r'$M_{2, {\\rm min}}$ ' + '[{0:latex_inline}]'.format(u.Msun))\n",
    "\n",
    "# ax.set_title('log$g$ < 3.25, $\\chi^2$ < 30')\n",
    "fig.tight_layout()"
   ]
  },
  {
   "cell_type": "code",
   "execution_count": null,
   "metadata": {
    "collapsed": true
   },
   "outputs": [],
   "source": []
  },
  {
   "cell_type": "code",
   "execution_count": null,
   "metadata": {
    "collapsed": true
   },
   "outputs": [],
   "source": []
  }
 ],
 "metadata": {
  "kernelspec": {
   "display_name": "Python [conda env:twoface]",
   "language": "python",
   "name": "conda-env-twoface-py"
  },
  "language_info": {
   "codemirror_mode": {
    "name": "ipython",
    "version": 3
   },
   "file_extension": ".py",
   "mimetype": "text/x-python",
   "name": "python",
   "nbconvert_exporter": "python",
   "pygments_lexer": "ipython3",
   "version": "3.6.2"
  }
 },
 "nbformat": 4,
 "nbformat_minor": 2
}