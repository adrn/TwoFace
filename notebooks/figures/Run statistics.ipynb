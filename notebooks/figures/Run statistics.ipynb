{
 "cells": [
  {
   "cell_type": "code",
   "execution_count": null,
   "metadata": {
    "collapsed": true
   },
   "outputs": [],
   "source": [
    "import os\n",
    "from os import path\n",
    "from astropy.time import Time\n",
    "from astropy.io import fits, ascii\n",
    "import astropy.units as u\n",
    "from astropy.table import Table\n",
    "from astropy.constants import G\n",
    "\n",
    "import numpy as np\n",
    "import matplotlib.pyplot as plt\n",
    "%matplotlib inline\n",
    "import h5py\n",
    "from sqlalchemy import func\n",
    "from scipy.optimize import root\n",
    "from scipy.stats import scoreatpercentile\n",
    "import tqdm\n",
    "\n",
    "from thejoker import JokerSamples\n",
    "from thejoker.sampler import JokerParams, TheJoker\n",
    "from thejoker.plot import plot_rv_curves\n",
    "\n",
    "from twoface.config import TWOFACE_CACHE_PATH\n",
    "from twoface.db import (db_connect, AllStar, AllVisit, AllVisitToAllStar, \n",
    "                        StarResult, Status, JokerRun, initialize_db)\n",
    "from twoface.data import APOGEERVData\n",
    "from twoface.plot import plot_data_orbits, plot_two_panel, plot_phase_fold\n",
    "from twoface.mass import m2_func\n",
    "from twoface.samples_analysis import unimodal_P"
   ]
  },
  {
   "cell_type": "code",
   "execution_count": null,
   "metadata": {
    "collapsed": true
   },
   "outputs": [],
   "source": [
    "samples_file = path.join(TWOFACE_CACHE_PATH, 'apogee-jitter.hdf5')\n",
    "Session, _ = db_connect(path.join(TWOFACE_CACHE_PATH, 'apogee.sqlite'))\n",
    "session = Session()"
   ]
  },
  {
   "cell_type": "code",
   "execution_count": null,
   "metadata": {},
   "outputs": [],
   "source": [
    "for i in range(5):\n",
    "    status = session.query(Status).filter(Status.id == i).limit(1).one()\n",
    "    n = session.query(AllStar)\\\n",
    "               .join(StarResult, JokerRun, Status)\\\n",
    "               .filter(Status.id == i).count()\n",
    "    print(\"Status: {0} ({1}) - {2}\".format(status.message, status.id, n))"
   ]
  },
  {
   "cell_type": "markdown",
   "metadata": {},
   "source": [
    "## TODO: add similar for control sample?"
   ]
  },
  {
   "cell_type": "code",
   "execution_count": null,
   "metadata": {},
   "outputs": [],
   "source": []
  }
 ],
 "metadata": {
  "kernelspec": {
   "display_name": "Python [conda env:twoface]",
   "language": "python",
   "name": "conda-env-twoface-py"
  },
  "language_info": {
   "codemirror_mode": {
    "name": "ipython",
    "version": 3
   },
   "file_extension": ".py",
   "mimetype": "text/x-python",
   "name": "python",
   "nbconvert_exporter": "python",
   "pygments_lexer": "ipython3",
   "version": "3.6.2"
  }
 },
 "nbformat": 4,
 "nbformat_minor": 2
}