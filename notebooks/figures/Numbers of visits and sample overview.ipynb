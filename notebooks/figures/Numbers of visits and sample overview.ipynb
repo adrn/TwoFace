{
 "cells": [
  {
   "cell_type": "code",
   "execution_count": null,
   "metadata": {
    "collapsed": true
   },
   "outputs": [],
   "source": [
    "from os import path\n",
    "\n",
    "# Third-party\n",
    "from astropy.io import fits\n",
    "import astropy.coordinates as coord\n",
    "import astropy.units as u\n",
    "import matplotlib as mpl\n",
    "import matplotlib.pyplot as plt\n",
    "import numpy as np\n",
    "%matplotlib inline\n",
    "from sqlalchemy import func\n",
    "\n",
    "from twoface import TWOFACE_CACHE_PATH\n",
    "from twoface.db import (db_connect, AllStar, AllVisit, AllVisitToAllStar, \n",
    "                        StarResult, Status, JokerRun, initialize_db)\n",
    "from twoface.data import APOGEERVData\n",
    "from twoface.plot import plot_data_orbits\n",
    "from twoface.mass import m2_func\n",
    "\n",
    "from config import FIGURES_PATH1"
   ]
  },
  {
   "cell_type": "code",
   "execution_count": null,
   "metadata": {},
   "outputs": [],
   "source": [
    "allvisit = fits.getdata('/Users/adrian/data/APOGEE_DR14/allVisit-l31c.2.fits')\n",
    "allstar = fits.getdata('/Users/adrian/data/APOGEE_DR14/allStar-l31c.2.fits')\n",
    "\n",
    "print(\"{0} unique stars in APOGEE DR14\".format(len(np.unique(allstar['APOGEE_ID']))))\n",
    "print(\"{0} visits in APOGEE DR14\".format(len(allvisit)))"
   ]
  },
  {
   "cell_type": "code",
   "execution_count": null,
   "metadata": {},
   "outputs": [],
   "source": [
    "(allstar['NVISITS'] == 1).sum(), (allstar['NVISITS'] > 1).sum()"
   ]
  },
  {
   "cell_type": "code",
   "execution_count": null,
   "metadata": {
    "collapsed": true
   },
   "outputs": [],
   "source": [
    "Session, _ = db_connect(path.join(TWOFACE_CACHE_PATH, 'apogee.sqlite'))\n",
    "session = Session()"
   ]
  },
  {
   "cell_type": "code",
   "execution_count": null,
   "metadata": {},
   "outputs": [],
   "source": [
    "print(\"{0} unique stars in TwoFace DB\".format(session.query(AllStar.apogee_id).distinct().count()))\n",
    "print(\"{0} visits in TwoFace DB\".format(session.query(AllVisit.id).distinct().count()))"
   ]
  },
  {
   "cell_type": "code",
   "execution_count": null,
   "metadata": {
    "collapsed": true
   },
   "outputs": [],
   "source": [
    "nvisits = np.array(session.query(func.count(AllVisit.id)).join(AllVisitToAllStar, AllStar)\\\n",
    "                          .group_by(AllStar.apogee_id)\\\n",
    "                          .having(func.count(AllVisit.id) >= 3).all())\n",
    "nvisits = nvisits[:,0]"
   ]
  },
  {
   "cell_type": "code",
   "execution_count": null,
   "metadata": {},
   "outputs": [],
   "source": [
    "fig, ax = plt.subplots(1, 1, figsize=(6, 4))\n",
    "\n",
    "_ = ax.hist(nvisits, bins=np.logspace(0.5, 7, 22, base=2.), rasterized=True)\n",
    "ax.set_xscale('log', basex=2)\n",
    "ax.set_yscale('log')\n",
    "ax.set_xlim(2.5, 140)\n",
    "ax.set_ylim(0.8, 10**5.1)\n",
    "\n",
    "ax.xaxis.set_ticks(2**np.arange(2, 7+1, 1))\n",
    "ax.xaxis.set_ticklabels([str(x) for x in ax.get_xticks()])\n",
    "\n",
    "ax.yaxis.set_ticks(10**np.arange(0, 5+1, 1))\n",
    "ax.set_xlabel('$N$ visits')\n",
    "ax.set_ylabel('$N$ stars')\n",
    "\n",
    "fig.tight_layout()\n",
    "fig.savefig(str(FIGURES_PATH1 / 'nvisits.pdf'), rasterized=True, dpi=250)"
   ]
  },
  {
   "cell_type": "code",
   "execution_count": null,
   "metadata": {},
   "outputs": [],
   "source": [
    "(nvisits < 8).sum(), (nvisits >= 8).sum()"
   ]
  },
  {
   "cell_type": "code",
   "execution_count": null,
   "metadata": {},
   "outputs": [],
   "source": [
    "(nvisits < 8).sum() / len(nvisits)"
   ]
  },
  {
   "cell_type": "markdown",
   "metadata": {},
   "source": [
    "logg - Teff and metallicity of sample:"
   ]
  },
  {
   "cell_type": "code",
   "execution_count": null,
   "metadata": {
    "collapsed": true
   },
   "outputs": [],
   "source": [
    "res = np.array(session.query(AllStar.logg, AllStar.teff, AllStar.fe_h).all())\n",
    "logg,teff,feh = res.T"
   ]
  },
  {
   "cell_type": "code",
   "execution_count": null,
   "metadata": {},
   "outputs": [],
   "source": [
    "fig, axes = plt.subplots(1, 2, figsize=(10, 4.5))\n",
    "\n",
    "axes[0].hist(feh, bins=np.linspace(-3, 1, 64), rasterized=True);\n",
    "axes[0].set_yscale('log')\n",
    "axes[0].set_xlabel(r'[Fe/H]')\n",
    "axes[0].set_ylabel(r'$N$')\n",
    "axes[0].xaxis.set_ticks([-3, -2, -1, 0, 1])\n",
    "\n",
    "c = axes[1].scatter(teff, logg, c=feh, marker='.', alpha=0.2, \n",
    "                    linewidth=0, vmin=-1, vmax=0.75, \n",
    "                    cmap='RdYlBu_r', s=8, rasterized=True)\n",
    "axes[1].set_xlim(5600, 3600)\n",
    "axes[1].set_ylim(4.5, -0.5)\n",
    "axes[1].set_xlabel(r'$T_{\\rm eff}$ [K]')\n",
    "axes[1].set_ylabel(r'$\\log g$')\n",
    "axes[1].xaxis.set_ticks(np.arange(4000, 5500+1, 500))\n",
    "\n",
    "fig.tight_layout()\n",
    "fig.subplots_adjust(right=0.82)\n",
    "\n",
    "cax = fig.add_axes([0.85, 0.185, 0.02, 0.78])\n",
    "cb = fig.colorbar(c, cax=cax, drawedges=False)\n",
    "cb.set_label('[Fe/H]')\n",
    "cb.solids.set_edgecolor(\"face\")\n",
    "cb.solids.set_rasterized(True) \n",
    "\n",
    "fig.savefig(str(FIGURES_PATH1 / 'logg_teff_feh.pdf'), rasterized=True, dpi=250)"
   ]
  },
  {
   "cell_type": "markdown",
   "metadata": {},
   "source": [
    "### See how much each cut removes:"
   ]
  },
  {
   "cell_type": "code",
   "execution_count": null,
   "metadata": {
    "scrolled": false
   },
   "outputs": [],
   "source": [
    "print('{0} total visits'.format(len(allvisit)))\n",
    "\n",
    "mask1 = (np.isfinite(allvisit['VHELIO']) & \n",
    "         np.isfinite(allvisit['VRELERR']) & \n",
    "         (allvisit['VRELERR'] < 100.))\n",
    "print('mask 1: removes {0}'.format(np.logical_not(mask1).sum()))\n",
    "\n",
    "skip_mask = np.sum(2 ** np.array([9, 12, 13])) # PERSIST_HIGH, PERSIST_JUMP_POS, PERSIST_JUMP_NEG\n",
    "mask2 = (allvisit['STARFLAG'] & skip_mask) == 0\n",
    "print('mask 2: removes {0} more'.format((np.logical_not(mask2) & mask1).sum()))\n",
    "\n",
    "skip_mask += np.sum(2 ** np.array([3, 4])) # VERY_BRIGHT_NEIGHBOR, LOW_SNR\n",
    "mask3 = (allvisit['STARFLAG'] & skip_mask) == 0\n",
    "print('mask 3: removes {0} more'.format((np.logical_not(mask3) & mask2 & mask1).sum()))\n",
    "\n",
    "# Remove STAR_BAD stars and restrict logg range:\n",
    "apogee_ids = allstar['APOGEE_ID'][((allstar['ASPCAPFLAG'] & np.sum(2 ** np.array([23]))) == 0) & \n",
    "                                  (allstar['LOGG'] > 0) & (allstar['LOGG'] < 4)]\n",
    "print('(star cut removes {0} stars)'.format(len(allstar)-len(apogee_ids)))\n",
    "mask4 = np.isin(allvisit['APOGEE_ID'], apogee_ids)\n",
    "print('mask 4: removes {0} more'.format((np.logical_not(mask4) & mask3 & mask2 & mask1).sum()))\n",
    "\n",
    "print('\\n total removed: {0}'.format(np.logical_not(mask4 & mask3 & mask2 & mask1).sum()))"
   ]
  },
  {
   "cell_type": "code",
   "execution_count": null,
   "metadata": {},
   "outputs": [],
   "source": [
    "tmp_visits = allvisit[mask1 & mask2 & mask3 & mask4]\n",
    "\n",
    "v_apogee_ids, counts = np.unique(tmp_visits['APOGEE_ID'], return_counts=True)\n",
    "stars = allstar[np.isin(allstar['APOGEE_ID'], v_apogee_ids[counts >= 3])]\n",
    "print(len(np.unique(stars['APOGEE_ID'])))\n",
    "\n",
    "visits = tmp_visits[np.isin(tmp_visits['APOGEE_ID'], stars['APOGEE_ID'])]\n",
    "print(len(visits))"
   ]
  },
  {
   "cell_type": "code",
   "execution_count": null,
   "metadata": {},
   "outputs": [],
   "source": []
  }
 ],
 "metadata": {
  "kernelspec": {
   "display_name": "Python [conda env:twoface]",
   "language": "python",
   "name": "conda-env-twoface-py"
  },
  "language_info": {
   "codemirror_mode": {
    "name": "ipython",
    "version": 3
   },
   "file_extension": ".py",
   "mimetype": "text/x-python",
   "name": "python",
   "nbconvert_exporter": "python",
   "pygments_lexer": "ipython3",
   "version": "3.6.4"
  }
 },
 "nbformat": 4,
 "nbformat_minor": 2
}