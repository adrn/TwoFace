{
 "cells": [
  {
   "cell_type": "code",
   "execution_count": null,
   "metadata": {},
   "outputs": [],
   "source": [
    "import os\n",
    "from os import path\n",
    "\n",
    "# Third-party\n",
    "from astropy.constants import G\n",
    "from astropy.io import fits, ascii\n",
    "from astropy.stats import median_absolute_deviation\n",
    "from astropy.table import Table, QTable, join\n",
    "from astropy.time import Time\n",
    "import astropy.units as u\n",
    "import matplotlib as mpl\n",
    "import matplotlib.pyplot as plt\n",
    "from matplotlib.gridspec import GridSpec\n",
    "import numpy as np\n",
    "%matplotlib inline\n",
    "import h5py\n",
    "import pandas as pd\n",
    "from sqlalchemy import func\n",
    "import tqdm\n",
    "from scipy.stats import beta\n",
    "\n",
    "from thejoker import JokerSamples\n",
    "\n",
    "from twoface.config import TWOFACE_CACHE_PATH\n",
    "from twoface.samples_analysis import MAP_sample\n",
    "from twoface.db import (db_connect, AllStar, AllVisit, AllVisitToAllStar, NessRG,\n",
    "                        StarResult, Status, JokerRun)\n",
    "from twoface.plot import plot_two_panel, plot_phase_fold\n",
    "from twoface.mass import get_m2_min, mf, period_at_surface\n",
    "from twoface.log import log as logger\n",
    "logger.setLevel(100)"
   ]
  },
  {
   "cell_type": "code",
   "execution_count": null,
   "metadata": {},
   "outputs": [],
   "source": [
    "plot_path = '../../paper/1-catalog/figures/'\n",
    "table_path = '../../paper/1-catalog/tables/'"
   ]
  },
  {
   "cell_type": "code",
   "execution_count": null,
   "metadata": {},
   "outputs": [],
   "source": [
    "Session, _ = db_connect(path.join(TWOFACE_CACHE_PATH, 'apogee.sqlite'))\n",
    "session = Session()\n",
    "\n",
    "samples_file = path.join(TWOFACE_CACHE_PATH, 'apogee-jitter.hdf5')\n",
    "mcmc_samples_file = path.join(TWOFACE_CACHE_PATH, 'apogee-jitter-mcmc.hdf5')"
   ]
  },
  {
   "cell_type": "code",
   "execution_count": null,
   "metadata": {},
   "outputs": [],
   "source": [
    "unimodal = QTable.read(path.join(table_path, 'highK-unimodal.fits'), astropy_native=True)\n",
    "bimodal = QTable.read(path.join(table_path, 'highK-bimodal.fits'), astropy_native=True)\n",
    "clean_uni = unimodal[(unimodal['clean_flag'] == 0) & (unimodal['LOGG'] > 0) & (unimodal['TEFF'] > 0)]\n",
    "clean_bi = bimodal[(bimodal['clean_flag'] == 0) & (bimodal['LOGG'] > 0) & (bimodal['TEFF'] > 0)]\n",
    "\n",
    "print('{0} unimodal, {1} clean'.format(len(unimodal), len(clean_uni)))\n",
    "print('{0} bimodal, {1} clean'.format(len(bimodal)//2, len(clean_bi)//2))"
   ]
  },
  {
   "cell_type": "markdown",
   "metadata": {},
   "source": [
    "## Which were already in Troup?"
   ]
  },
  {
   "cell_type": "code",
   "execution_count": null,
   "metadata": {},
   "outputs": [],
   "source": [
    "troup = ascii.read('../../../papers/thejoker-paper/data/troup16-dr12.csv', format='commented_header')"
   ]
  },
  {
   "cell_type": "code",
   "execution_count": null,
   "metadata": {},
   "outputs": [],
   "source": [
    "n_uni = len(clean_uni['APOGEE_ID'])\n",
    "n_uni_troup = np.isin(clean_uni['APOGEE_ID'], troup['APOGEE_ID']).sum()"
   ]
  },
  {
   "cell_type": "code",
   "execution_count": null,
   "metadata": {},
   "outputs": [],
   "source": [
    "n_bi = len(np.unique(clean_bi['APOGEE_ID']))\n",
    "n_bi_troup = np.isin(np.unique(clean_bi['APOGEE_ID']), troup['APOGEE_ID']).sum()"
   ]
  },
  {
   "cell_type": "code",
   "execution_count": null,
   "metadata": {},
   "outputs": [],
   "source": [
    "assert np.isin(unimodal['APOGEE_ID'], bimodal['APOGEE_ID']).sum() == 0"
   ]
  },
  {
   "cell_type": "code",
   "execution_count": null,
   "metadata": {},
   "outputs": [],
   "source": [
    "print('{0} new unimodal companions'.format(n_uni - n_uni_troup))\n",
    "print('{0} new bimodal companions'.format(n_bi - n_bi_troup))"
   ]
  },
  {
   "cell_type": "markdown",
   "metadata": {},
   "source": [
    "## logg-Teff, logg-Period"
   ]
  },
  {
   "cell_type": "code",
   "execution_count": null,
   "metadata": {},
   "outputs": [],
   "source": [
    "uni_style = dict(alpha=0.7, marker='o', color='k', linewidth=0, s=14)\n",
    "uni_style_r = uni_style.copy()\n",
    "uni_style_r['color'] = 'tab:red'\n",
    "\n",
    "bi_style = dict(alpha=0.3, marker='s', color='tab:blue', s=15, zorder=-10, linewidth=0)\n",
    "err_alpha = 0.2\n",
    "\n",
    "fig, axes = plt.subplots(1, 2, figsize=(9., 5), sharey=True)\n",
    "\n",
    "ax = axes[0]\n",
    "\n",
    "ax.scatter(clean_uni[~clean_uni['TINGRC']]['TEFF'], clean_uni[~clean_uni['TINGRC']]['LOGG'], \n",
    "           label='unimodal', **uni_style)\n",
    "ax.scatter(clean_uni[clean_uni['TINGRC']]['TEFF'], clean_uni[clean_uni['TINGRC']]['LOGG'], \n",
    "           label='unimodal RC', **uni_style_r)\n",
    "\n",
    "# ax.scatter(clean_bi['TEFF'][::2], clean_bi['LOGG'][::2],\n",
    "#            label='bimodal', **bi_style)\n",
    "ax.legend(loc='upper left', fontsize=14)\n",
    "\n",
    "ax.errorbar(clean_uni['TEFF'], clean_uni['LOGG'],\n",
    "            xerr=clean_uni['TEFF_ERR'], yerr=clean_uni['LOGG_ERR'],\n",
    "            marker='', linestyle='none', alpha=err_alpha, zorder=-10, \n",
    "            color=uni_style['color'])\n",
    "\n",
    "# ax.errorbar(clean_bi['TEFF'][::2], clean_bi['LOGG'][::2],\n",
    "#             xerr=clean_bi['TEFF_ERR'][::2], yerr=clean_bi['LOGG_ERR'][::2],\n",
    "#             marker='', linestyle='none', alpha=err_alpha, zorder=-100, \n",
    "#             color=bi_style['color'])\n",
    "\n",
    "ax.set_xlim(5900, 3600)\n",
    "ax.set_ylim(4, 0)\n",
    "ax.set_xlabel(r'temperature, $T_{\\rm eff}$ [K]')\n",
    "ax.set_ylabel(r'surface gravity, $\\log g$')\n",
    "\n",
    "# ---\n",
    "\n",
    "ax = axes[1]\n",
    "ax.scatter(clean_uni[~clean_uni['TINGRC']]['P'], clean_uni[~clean_uni['TINGRC']]['LOGG'], \n",
    "           label='unimodal', **uni_style)\n",
    "ax.scatter(clean_uni[clean_uni['TINGRC']]['P'], clean_uni[clean_uni['TINGRC']]['LOGG'], \n",
    "           label='unimodal RC', **uni_style_r)\n",
    "\n",
    "ax.errorbar(clean_uni['P'].value, clean_uni['LOGG'],\n",
    "            xerr=clean_uni['P_err'].value, yerr=clean_uni['LOGG_ERR'],\n",
    "            marker='', linestyle='none', alpha=err_alpha, zorder=-10, \n",
    "            color=uni_style['color'])\n",
    "\n",
    "# ax.scatter(clean_bi['P'], clean_bi['LOGG'], **bi_style)\n",
    "# ax.plot(np.vstack((clean_bi['P'][::2].value, clean_bi['P'][1::2].value)), \n",
    "#         np.vstack((np.array(clean_bi['LOGG'])[::2], np.array(clean_bi['LOGG'])[1::2])), \n",
    "#         marker='', linestyle='-', alpha=err_alpha,\n",
    "#         color=bi_style['color'])\n",
    "\n",
    "loggs = np.linspace(0, 4, 128)\n",
    "Psurfs = period_at_surface(1.*u.Msun, logg=loggs, e=0, M2=0*u.Msun)\n",
    "color = '#bbbbbb'\n",
    "ax.plot(Psurfs.to(u.day).value, loggs, marker='', zorder=-100, \n",
    "        color=color, linewidth=1)\n",
    "ax.axvline(period_at_surface(1.*u.Msun, logg=0, e=0, M2=0*u.Msun).value, \n",
    "           linestyle='--', zorder=-100, color=color)\n",
    "ax.axhline(2.3, linestyle='--', zorder=-100, color=color)\n",
    "\n",
    "ax.set_xscale('log')\n",
    "ax.set_xlabel('period, $P$ [day]')\n",
    "ax.set_xlim(0.8, 2000)\n",
    "\n",
    "fig.tight_layout()\n",
    "# fig.savefig(path.join(plot_path, 'P-Teff-logg.pdf'))"
   ]
  },
  {
   "cell_type": "code",
   "execution_count": null,
   "metadata": {},
   "outputs": [],
   "source": [
    "uni_style = dict(alpha=0.7, marker='o', color='k', linewidth=0, s=14)\n",
    "uni_style_r = dict(alpha=0.7, marker='^', color='tab:red', linewidth=0, s=26)\n",
    "\n",
    "bi_style = dict(alpha=0.3, marker='s', color='tab:blue', s=15, zorder=-10, linewidth=0)\n",
    "err_alpha = 0.2\n",
    "\n",
    "fig, axes = plt.subplots(2, 2, figsize=(9, 9), sharey='row', sharex='col')\n",
    "\n",
    "ax = axes[0, 0]\n",
    "uni_cats = [clean_uni[clean_uni['converged']], clean_uni[~clean_uni['converged']]]\n",
    "uni_colors = ['k', '#888888']\n",
    "uni_sizes = [14, 12]\n",
    "uni_zorders = [10, -10]\n",
    "uni_labels = ['unimodal, MCMC', r'unimodal, The Joker']\n",
    "for cat, color, zorder, label, s in zip(uni_cats, uni_colors, uni_zorders, uni_labels, uni_sizes):\n",
    "    style = uni_style.copy()\n",
    "    style['color'] = color\n",
    "    style['zorder'] = zorder\n",
    "    style['s'] = s\n",
    "    ax.scatter(cat[~cat['TINGRC']]['P'], cat[~cat['TINGRC']]['e'], \n",
    "               label=label, **style)\n",
    "    \n",
    "ax.scatter(clean_uni[clean_uni['TINGRC']]['P'], clean_uni[clean_uni['TINGRC']]['e'], \n",
    "           label='unimodal RC', **uni_style_r)\n",
    "\n",
    "ax.errorbar(clean_uni['P'].value, clean_uni['e'],\n",
    "            xerr=clean_uni['P_err'].value, yerr=clean_uni['e_err'],\n",
    "            marker='', linestyle='none', alpha=err_alpha, zorder=-10, \n",
    "            color=uni_style['color'])\n",
    "\n",
    "# ax.scatter(clean_bi['P'], clean_bi['e'], **bi_style)\n",
    "# ax.plot(np.vstack((clean_bi['P'][::2].value, clean_bi['P'][1::2].value)), \n",
    "#         np.vstack((np.array(clean_bi['e'])[::2], np.array(clean_bi['e'])[1::2])), \n",
    "#         marker='', linestyle='-', alpha=err_alpha,\n",
    "#         color=bi_style['color'])\n",
    "\n",
    "ax.set_ylim(-0.02, 1)\n",
    "ax.set_ylabel(r'eccentricity, $e$')\n",
    "\n",
    "\n",
    "# ---\n",
    "\n",
    "ax = axes[1, 1]\n",
    "\n",
    "for cat, color, zorder, label, s in zip(uni_cats, uni_colors, uni_zorders, uni_labels, uni_sizes):\n",
    "    style = uni_style.copy()\n",
    "    style['color'] = color\n",
    "    style['zorder'] = zorder\n",
    "    style['s'] = s\n",
    "    ax.scatter(cat[~cat['TINGRC']]['TEFF'], cat[~cat['TINGRC']]['LOGG'], \n",
    "               label=label, **style)\n",
    "\n",
    "ax.scatter(clean_uni[clean_uni['TINGRC']]['TEFF'], clean_uni[clean_uni['TINGRC']]['LOGG'], \n",
    "           label='unimodal, red clump', **uni_style_r)\n",
    "\n",
    "ax.scatter(clean_bi['TEFF'][::2], clean_bi['LOGG'][::2],\n",
    "           label='bimodal', **bi_style)\n",
    "ax.legend(loc='upper left', fontsize=14, bbox_to_anchor=(-0.02, 1.414))\n",
    "\n",
    "ax.errorbar(clean_uni['TEFF'], clean_uni['LOGG'],\n",
    "            xerr=clean_uni['TEFF_ERR'], yerr=clean_uni['LOGG_ERR'],\n",
    "            marker='', linestyle='none', alpha=err_alpha, zorder=-10, \n",
    "            color=uni_style['color'])\n",
    "\n",
    "ax.errorbar(clean_bi['TEFF'][::2], clean_bi['LOGG'][::2],\n",
    "            xerr=clean_bi['TEFF_ERR'][::2], yerr=clean_bi['LOGG_ERR'][::2],\n",
    "            marker='', linestyle='none', alpha=err_alpha, zorder=-100, \n",
    "            color=bi_style['color'])\n",
    "\n",
    "ax.set_xlim(5900, 3600)\n",
    "ax.set_ylim(4, 0)\n",
    "ax.set_xlabel(r'temperature, $T_{\\rm eff}$ [K]')\n",
    "\n",
    "# ---\n",
    "\n",
    "ax = axes[1, 0]\n",
    "for cat, color, zorder, label, s in zip(uni_cats, uni_colors, uni_zorders, uni_labels, uni_sizes):\n",
    "    style = uni_style.copy()\n",
    "    style['color'] = color\n",
    "    style['zorder'] = zorder\n",
    "    style['s'] = s\n",
    "    ax.scatter(cat[~cat['TINGRC']]['P'], cat[~cat['TINGRC']]['LOGG'], \n",
    "               label=label, **style)\n",
    "    \n",
    "ax.scatter(clean_uni[clean_uni['TINGRC']]['P'], clean_uni[clean_uni['TINGRC']]['LOGG'], \n",
    "           **uni_style_r)\n",
    "\n",
    "ax.errorbar(clean_uni['P'].value, clean_uni['LOGG'],\n",
    "            xerr=clean_uni['P_err'].value, yerr=clean_uni['LOGG_ERR'],\n",
    "            marker='', linestyle='none', alpha=err_alpha, zorder=-10, \n",
    "            color=uni_style['color'])\n",
    "\n",
    "ax.scatter(clean_bi['P'], clean_bi['LOGG'], **bi_style)\n",
    "ax.plot(np.vstack((clean_bi['P'][::2].value, clean_bi['P'][1::2].value)), \n",
    "        np.vstack((np.array(clean_bi['LOGG'])[::2], np.array(clean_bi['LOGG'])[1::2])), \n",
    "        marker='', linestyle='--', alpha=0.1,\n",
    "        color=bi_style['color'])\n",
    "\n",
    "loggs = np.linspace(0, 4, 128)\n",
    "Psurfs = period_at_surface(1.*u.Msun, logg=loggs, e=0, M2=0*u.Msun)\n",
    "color = '#bbbbbb'\n",
    "ax.plot(Psurfs.to(u.day).value, loggs, marker='', zorder=-100, \n",
    "        color=color, linewidth=1)\n",
    "ax.axvline(period_at_surface(1.*u.Msun, logg=0, e=0, M2=0*u.Msun).value, \n",
    "           linestyle='--', zorder=-100, color=color)\n",
    "ax.axhline(2.3, linestyle='--', zorder=-100, color=color)\n",
    "\n",
    "ax.set_xscale('log')\n",
    "ax.set_xlabel('period, $P$ [day]')\n",
    "ax.set_ylabel(r'surface gravity, $\\log g$')\n",
    "ax.set_xlim(0.8, 2000)\n",
    "\n",
    "fig.tight_layout()\n",
    "axes[0, 1].set_visible(False)\n",
    "\n",
    "fig.savefig(path.join(plot_path, 'P-Teff-logg-e.pdf'))"
   ]
  },
  {
   "cell_type": "code",
   "execution_count": null,
   "metadata": {},
   "outputs": [],
   "source": [
    "clean_uni[clean_uni['TINGRC'] & (clean_uni['P'] < 150*u.day)]['APOGEE_ID']"
   ]
  },
  {
   "cell_type": "markdown",
   "metadata": {},
   "source": [
    "## Masses"
   ]
  },
  {
   "cell_type": "code",
   "execution_count": null,
   "metadata": {},
   "outputs": [],
   "source": [
    "uni_cat = clean_uni[(clean_uni['LOGG'] > 2) & np.isfinite(clean_uni['M1'])]\n",
    "\n",
    "bi_logg = np.array([AllStar.get_apogee_id(session, aid).logg \n",
    "                    for aid in clean_bi['APOGEE_ID']])\n",
    "bi_cat = clean_bi[(bi_logg > 2) & np.isfinite(clean_bi['M1']) & np.isfinite(clean_bi['M2_min'])]\n",
    "print(len(uni_cat), len(bi_cat)//2)\n",
    "\n",
    "fig, axes = plt.subplots(1, 2, figsize=(11, 4.8))\n",
    "\n",
    "ax = axes[0]\n",
    "\n",
    "uni_cats = [uni_cat[uni_cat['converged']], uni_cat[~uni_cat['converged']]]\n",
    "uni_colors = ['k', '#888888']\n",
    "uni_zorders = [10, -10]\n",
    "for cat, color, zorder in zip(uni_cats, uni_colors, uni_zorders):\n",
    "    ax.errorbar(cat['M1'].value, cat['M2_min'].value,\n",
    "                xerr=cat['M1_err'].value,\n",
    "                yerr=cat['M2_min_err'].value,\n",
    "                marker='o', linestyle='none', \n",
    "                markersize=5, color=color, alpha=0.8, zorder=zorder)\n",
    "\n",
    "ax.scatter(bi_cat['M1'].value, bi_cat['M2_min'].value,\n",
    "           marker='s', color='tab:blue', alpha=0.8, linewidth=0, s=13)\n",
    "ax.plot(np.vstack((bi_cat['M1'].value[::2], bi_cat['M1'].value[1::2])), \n",
    "        np.vstack((bi_cat['M2_min'].value[::2], bi_cat['M2_min'].value[1::2])), \n",
    "        marker='', linestyle='-', color='tab:blue', alpha=0.4)\n",
    "\n",
    "ax.plot(np.logspace(-3, 1, 1024), \n",
    "        np.logspace(-3, 1, 1024),\n",
    "        marker='', color='#aaaaaa', zorder=-100, linestyle='--')\n",
    "ax.axhline(0.08, marker='', color='#aaaaaa', zorder=-100, linestyle='--')\n",
    "\n",
    "# ax.set_xscale('log')\n",
    "ax.set_yscale('log')\n",
    "ax.set_xlim(0.5, 3)\n",
    "ax.xaxis.set_ticks(np.arange(0.5, 3+0.1, 0.5))\n",
    "ax.set_ylim(0.01, 10)\n",
    "ax.set_ylabel(r'$M_{2, {\\rm min}}$ ' + '[{0:latex_inline}]'.format(u.Msun))\n",
    "\n",
    "axr = ax.twinx()\n",
    "ylim = ax.get_ylim()\n",
    "axr.set_yscale('log')\n",
    "axr.set_ylim((ylim[0]*u.Msun).to(u.Mjup).value, \n",
    "             (ylim[1]*u.Msun).to(u.Mjup).value)\n",
    "axr.set_ylabel('[{0:latex_inline}]'.format(u.Mjup))\n",
    "\n",
    "ax.set_xlabel('$M_1$ ' + '[{0:latex_inline}]'.format(u.Msun))\n",
    "\n",
    "ax.text(2.95, 3, r'$M_{2, {\\rm min}} = M_1$', \n",
    "        ha='right', va='bottom', fontsize=15, color='#555555')\n",
    "ax.text(2.95, 0.07, r'$M_{2, {\\rm min}} = 0.08\\,{\\rm M}_\\odot$', \n",
    "        ha='right', va='top', fontsize=15, color='#555555')\n",
    "\n",
    "# -- next panel\n",
    "\n",
    "ax = axes[1]\n",
    "\n",
    "for cat, color, zorder in zip(uni_cats, uni_colors, uni_zorders):\n",
    "    print(len(cat))\n",
    "    \n",
    "    y = (cat['R1']/cat['a_sini']).decompose()\n",
    "    yerr = y * np.sqrt((cat['R1_err']/cat['R1'])**2 + (cat['a_sini_err']/cat['a_sini'])).decompose()\n",
    "    ax.errorbar(cat['q_min'], y,\n",
    "                xerr=cat['q_min_err'], yerr=yerr,\n",
    "                marker='o', linestyle='none', zorder=zorder,\n",
    "                markersize=5, color=color, alpha=0.8)\n",
    "\n",
    "bi_logg = np.array([AllStar.get_apogee_id(session, aid).logg \n",
    "                    for aid in clean_bi['APOGEE_ID']])\n",
    "bi_cat = clean_bi[bi_logg > 2]\n",
    "bi_logg = bi_logg[bi_logg > 2]\n",
    "q = bi_cat['M2_min'] / bi_cat['M1']\n",
    "asini = get_asini(bi_cat['P'], bi_cat['e'], bi_cat['K'], bi_cat['M1'], bi_cat['M2_min'])\n",
    "R1 = np.sqrt(G * bi_cat['M1'] / (10**bi_logg*u.cm/u.s**2)).to(u.au)\n",
    "_y = R1/asini\n",
    "ax.scatter(q, _y, \n",
    "           marker='s', color='tab:blue', alpha=0.8, linewidth=0, s=13)\n",
    "ax.plot(np.vstack((q[::2], q[1::2])), \n",
    "        np.vstack((_y[::2], _y[1::2])), \n",
    "        marker='', linestyle='-', color='tab:blue', alpha=0.4)\n",
    "\n",
    "qgrid = np.linspace(1E-2, 1E1)\n",
    "r1 = 0.49*qgrid**(-2/3.) / (0.6*qgrid**(-2/3.) + np.log(1+qgrid**(-1/3)))\n",
    "\n",
    "ax.plot(qgrid, r1, marker='', color='#aaaaaa', zorder=-100, linestyle='--')\n",
    "ax.set_xlim(1e-2, 1E1)\n",
    "ax.set_ylim(6e-3, 1E0)\n",
    "ax.set_xscale('log')\n",
    "ax.set_yscale('log')\n",
    "ax.set_xlabel(r'$q_{\\rm min}$')\n",
    "ax.set_ylabel(r'$R_1 / (a\\,\\sin i)$')\n",
    "\n",
    "fig.tight_layout()\n",
    "fig.subplots_adjust(wspace=0.45)\n",
    "fig.savefig(path.join(plot_path, 'mass.pdf'))"
   ]
  },
  {
   "cell_type": "code",
   "execution_count": null,
   "metadata": {},
   "outputs": [],
   "source": [
    "# Both samples at q>1\n",
    "bi_cat[::2][((bi_cat['M2_min'].value[::2] / bi_cat['M1'].value[::2]) > 1) & \n",
    "            ((bi_cat['M2_min'].value[1::2] / bi_cat['M1'].value[1::2]) > 1)]"
   ]
  },
  {
   "cell_type": "code",
   "execution_count": null,
   "metadata": {},
   "outputs": [],
   "source": [
    "# Both samples at M2<0.08 Msun\n",
    "bi_cat[::2][((bi_cat['M2_min'][::2]) < 0.08*u.Msun) & \n",
    "            ((bi_cat['M2_min'][1::2]) < 0.08*u.Msun)]"
   ]
  },
  {
   "cell_type": "code",
   "execution_count": null,
   "metadata": {},
   "outputs": [],
   "source": [
    "bi_cat[1::2][((bi_cat['M2_min'][::2]) < 0.08*u.Msun) & \n",
    "            ((bi_cat['M2_min'][1::2]) < 0.08*u.Msun)]"
   ]
  },
  {
   "cell_type": "code",
   "execution_count": null,
   "metadata": {},
   "outputs": [],
   "source": [
    "uni_cat[(uni_cat['M2_min'] / uni_cat['M1']) > 0.95]"
   ]
  },
  {
   "cell_type": "markdown",
   "metadata": {},
   "source": [
    "### The interesting ones:"
   ]
  },
  {
   "cell_type": "code",
   "execution_count": null,
   "metadata": {},
   "outputs": [],
   "source": [
    "from thejoker.data import RVData"
   ]
  },
  {
   "cell_type": "code",
   "execution_count": null,
   "metadata": {},
   "outputs": [],
   "source": [
    "# apogee_id = '2M04015112+5316431' # unimodal, above m2=m1 line\n",
    "apogee_id = '2M01415794+8520066' # unimodal, just under line\n",
    "with h5py.File(mcmc_samples_file) as f:\n",
    "    samples = JokerSamples.from_hdf5(f[apogee_id])\n",
    "    chain_stats = f[apogee_id]['chain-stats']\n",
    "    print(list(chain_stats.keys()))\n",
    "    print(chain_stats['gelman_rubin'][:])"
   ]
  },
  {
   "cell_type": "code",
   "execution_count": null,
   "metadata": {},
   "outputs": [],
   "source": [
    "m2s = u.Quantity([get_m2_min(rows['M1'][0], samples.get_orbit(i).m_f) for i in range(len(samples))])"
   ]
  },
  {
   "cell_type": "code",
   "execution_count": null,
   "metadata": {},
   "outputs": [],
   "source": [
    "plt.hist(m2s.value)"
   ]
  },
  {
   "cell_type": "code",
   "execution_count": null,
   "metadata": {},
   "outputs": [],
   "source": [
    "_plot_path = '../../plots/three-interesting'\n",
    "os.makedirs(_plot_path, exist_ok=True)\n",
    "\n",
    "with h5py.File(samples_file) as f:\n",
    "    for apogee_id in ['2M04015112+5316431', # BH/NS uni\n",
    "                      '2M01415794+8520066', # NS/WD??\n",
    "                      '2M01231070+1801407', # BH/NS bi\n",
    "                      '2M04582049+2232000', # BD bi\n",
    "                      '2M20130687+2044173']: # BD bi\n",
    "        samples = JokerSamples.from_hdf5(f[apogee_id])\n",
    "        star = AllStar.get_apogee_id(session, apogee_id)\n",
    "        data = star.apogeervdata()\n",
    "        \n",
    "        rows = bi_cat[bi_cat['APOGEE_ID'] == apogee_id]\n",
    "        if len(rows) == 0:\n",
    "            rows = uni_cat[uni_cat['APOGEE_ID'] == apogee_id]\n",
    "        a2s = u.Quantity([get_a2sini(r['P'], r['e'], r['K'], r['M1'], r['M2_min']) \n",
    "                          for r in rows])\n",
    "        es = np.array([r['e'] for r in rows])\n",
    "        print('in Troup: {0}\\n'.format(apogee_id in troup['APOGEE_ID']) + \n",
    "              'logg = {0:.2f}, Teff = {1:.1f}\\n'.format(star.logg, star.teff) + \n",
    "              'a2sini = {0}\\n'.format(a2s) + \n",
    "              'peri = {0}'.format(a2s * (1 - es)))\n",
    "        \n",
    "        # with LAMOST RV: http://dr3.lamost.org/spectrum/view?obsid=268505101\n",
    "#         data = RVData(t=Time(np.append(data.t.mjd, [56980.]), format='mjd'),\n",
    "#                       rv=np.append(data.rv.value, 11.1)*u.km/u.s,\n",
    "#                       stddev=np.append(data.stddev.value, 1.)*u.km/u.s)\n",
    "        \n",
    "        fig = plot_two_panel(data, samples)\n",
    "        fig.axes[0].set_title(star.apogee_id)\n",
    "        fig.tight_layout()\n",
    "#         fig.savefig(path.join(_plot_path, '{0}.png'.format(apogee_id)), dpi=250)\n",
    "\n",
    "        break"
   ]
  },
  {
   "cell_type": "code",
   "execution_count": null,
   "metadata": {},
   "outputs": [],
   "source": [
    "star.k"
   ]
  },
  {
   "cell_type": "code",
   "execution_count": null,
   "metadata": {},
   "outputs": [],
   "source": [
    "samples['P'].min(), samples['P'].max()"
   ]
  },
  {
   "cell_type": "code",
   "execution_count": null,
   "metadata": {},
   "outputs": [],
   "source": [
    "with h5py.File('../../cache/2M04015112+5316431.hdf5') as f:\n",
    "    new_samples = JokerSamples.from_hdf5(f)\n",
    "    \n",
    "# new_samples = samples"
   ]
  },
  {
   "cell_type": "code",
   "execution_count": null,
   "metadata": {},
   "outputs": [],
   "source": [
    "fig = plot_two_panel(data, new_samples)\n",
    "fig.axes[0].set_title('{0} - {1} samples'.format(star.apogee_id, len(new_samples)))\n",
    "fig.tight_layout()\n",
    "\n",
    "fig = plot_two_panel(data, samples)\n",
    "fig.axes[0].set_title('{0} - {1} samples'.format(star.apogee_id, len(samples)))\n",
    "fig.tight_layout()"
   ]
  },
  {
   "cell_type": "code",
   "execution_count": null,
   "metadata": {},
   "outputs": [],
   "source": [
    "m1 = np.exp(star.ness_rg.lnM) * u.Msun\n",
    "\n",
    "m2s = np.zeros(len(new_samples)) * u.Msun\n",
    "for i in range(len(new_samples)):\n",
    "    mf = new_samples.get_orbit(i).m_f\n",
    "    m2s[i] = get_m2_min(m1, mf)\n",
    "    \n",
    "m2s_2 = np.zeros(len(samples)) * u.Msun\n",
    "for i in range(len(samples)):\n",
    "    mf = samples.get_orbit(i).m_f\n",
    "    m2s_2[i] = get_m2_min(m1, mf)"
   ]
  },
  {
   "cell_type": "code",
   "execution_count": null,
   "metadata": {},
   "outputs": [],
   "source": [
    "m2s"
   ]
  },
  {
   "cell_type": "code",
   "execution_count": null,
   "metadata": {},
   "outputs": [],
   "source": [
    "_, bins, _ = plt.hist(m2s.value, bins='auto', normed=True);\n",
    "plt.hist(m2s_2.value, bins=bins, normed=True);\n",
    "plt.axvline(m1.value)\n",
    "plt.gca().xaxis.set_ticks(np.arange(1, 6, 0.5))"
   ]
  },
  {
   "cell_type": "code",
   "execution_count": null,
   "metadata": {},
   "outputs": [],
   "source": [
    "# ptf = ascii.read('/Users/adrian/Downloads/irsa_catalog_search_results.tbl')\n",
    "# ptf = ptf[(ptf['oid'] == 35322100000378) & (ptf['fid'] == 2)]\n",
    "\n",
    "# plt.errorbar(ptf['obsmjd'], ptf['mag_autocorr'], \n",
    "#              yerr=ptf['magerr_auto'], linestyle='none', marker='o')\n",
    "# plt.ylim(14.0, 13.8)"
   ]
  },
  {
   "cell_type": "code",
   "execution_count": null,
   "metadata": {},
   "outputs": [],
   "source": [
    "wise = ascii.read('/Users/adrian/Downloads/irsa_catalog_search_results.tbl')\n",
    "# wise = wise[(wise['source_id_mf'] == '0206p181_ac51-027396')]"
   ]
  },
  {
   "cell_type": "code",
   "execution_count": null,
   "metadata": {},
   "outputs": [],
   "source": [
    "plt.errorbar(((wise['mjd']) / new_samples['P'].value[0]) % 1, wise['w1mpro_ep'], wise['w1sigmpro_ep'],\n",
    "             linestyle='none', marker='o')\n",
    "plt.ylim(12.4, 12)\n",
    "plt.xlim(0, 1)"
   ]
  },
  {
   "cell_type": "markdown",
   "metadata": {},
   "source": [
    "# Period-logg"
   ]
  },
  {
   "cell_type": "code",
   "execution_count": null,
   "metadata": {},
   "outputs": [],
   "source": []
  },
  {
   "cell_type": "code",
   "execution_count": null,
   "metadata": {},
   "outputs": [],
   "source": []
  }
 ],
 "metadata": {
  "kernelspec": {
   "display_name": "Python [conda env:twoface]",
   "language": "python",
   "name": "conda-env-twoface-py"
  },
  "language_info": {
   "codemirror_mode": {
    "name": "ipython",
    "version": 3
   },
   "file_extension": ".py",
   "mimetype": "text/x-python",
   "name": "python",
   "nbconvert_exporter": "python",
   "pygments_lexer": "ipython3",
   "version": "3.6.4"
  }
 },
 "nbformat": 4,
 "nbformat_minor": 2
}