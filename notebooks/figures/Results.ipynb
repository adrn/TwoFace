{
 "cells": [
  {
   "cell_type": "code",
   "execution_count": null,
   "metadata": {},
   "outputs": [],
   "source": [
    "import os\n",
    "from os import path\n",
    "\n",
    "# Third-party\n",
    "from astropy.constants import G\n",
    "from astropy.io import fits, ascii\n",
    "from astropy.stats import median_absolute_deviation\n",
    "from astropy.table import Table, QTable, join\n",
    "from astropy.time import Time\n",
    "import astropy.units as u\n",
    "import matplotlib as mpl\n",
    "import matplotlib.pyplot as plt\n",
    "from matplotlib.gridspec import GridSpec\n",
    "import numpy as np\n",
    "%matplotlib inline\n",
    "import h5py\n",
    "import pandas as pd\n",
    "from sqlalchemy import func\n",
    "import tqdm\n",
    "from scipy.stats import beta\n",
    "\n",
    "from thejoker import JokerSamples\n",
    "\n",
    "from twoface.config import TWOFACE_CACHE_PATH\n",
    "from twoface.samples_analysis import MAP_sample\n",
    "from twoface.db import (db_connect, AllStar, AllVisit, AllVisitToAllStar, NessRG,\n",
    "                        StarResult, Status, JokerRun)\n",
    "from twoface.plot import plot_two_panel, plot_phase_fold\n",
    "from twoface.mass import get_m2_min, mf, period_at_surface\n",
    "from twoface.log import log as logger\n",
    "logger.setLevel(100)"
   ]
  },
  {
   "cell_type": "code",
   "execution_count": null,
   "metadata": {},
   "outputs": [],
   "source": [
    "plot_path = '../../paper/1-catalog/figures/'\n",
    "table_path = '../../paper/1-catalog/tables/'"
   ]
  },
  {
   "cell_type": "code",
   "execution_count": null,
   "metadata": {},
   "outputs": [],
   "source": [
    "Session, _ = db_connect(path.join(TWOFACE_CACHE_PATH, 'apogee.sqlite'))\n",
    "session = Session()\n",
    "\n",
    "samples_file = path.join(TWOFACE_CACHE_PATH, 'apogee-jitter.hdf5')\n",
    "mcmc_samples_file = path.join(TWOFACE_CACHE_PATH, 'apogee-jitter-mcmc.hdf5')"
   ]
  },
  {
   "cell_type": "code",
   "execution_count": null,
   "metadata": {},
   "outputs": [],
   "source": [
    "unimodal = QTable.read(path.join(table_path, 'highK-unimodal.fits'))\n",
    "bimodal = QTable.read(path.join(table_path, 'highK-bimodal.fits'))\n",
    "clean_uni = unimodal[unimodal['clean_flag'] == 0]\n",
    "clean_bi = bimodal[bimodal['clean_flag'] == 0]\n",
    "\n",
    "print('{0} unimodal, {1} clean'.format(len(unimodal), len(clean_uni)))\n",
    "print('{0} bimodal, {1} clean'.format(len(bimodal)//2, len(clean_bi)//2))"
   ]
  },
  {
   "cell_type": "markdown",
   "metadata": {},
   "source": [
    "## Which were already in Troup?"
   ]
  },
  {
   "cell_type": "code",
   "execution_count": null,
   "metadata": {},
   "outputs": [],
   "source": [
    "troup = ascii.read('../../../papers/thejoker-paper/data/troup16-dr12.csv', format='commented_header')"
   ]
  },
  {
   "cell_type": "code",
   "execution_count": null,
   "metadata": {},
   "outputs": [],
   "source": [
    "n_uni = len(clean_uni['APOGEE_ID'])\n",
    "n_uni_troup = np.isin(clean_uni['APOGEE_ID'], troup['APOGEE_ID']).sum()"
   ]
  },
  {
   "cell_type": "code",
   "execution_count": null,
   "metadata": {},
   "outputs": [],
   "source": [
    "n_bi = len(np.unique(clean_bi['APOGEE_ID']))\n",
    "n_bi_troup = np.isin(np.unique(clean_bi['APOGEE_ID']), troup['APOGEE_ID']).sum()"
   ]
  },
  {
   "cell_type": "code",
   "execution_count": null,
   "metadata": {},
   "outputs": [],
   "source": [
    "assert np.isin(unimodal['APOGEE_ID'], bimodal['APOGEE_ID']).sum() == 0"
   ]
  },
  {
   "cell_type": "code",
   "execution_count": null,
   "metadata": {},
   "outputs": [],
   "source": [
    "print('{0} new unimodal companions'.format(n_uni - n_uni_troup))\n",
    "print('{0} new bimodal companions'.format(n_bi - n_bi_troup))"
   ]
  },
  {
   "cell_type": "markdown",
   "metadata": {},
   "source": [
    "## Masses"
   ]
  },
  {
   "cell_type": "code",
   "execution_count": null,
   "metadata": {},
   "outputs": [],
   "source": [
    "def get_asini(P, e, K, m1, m2):\n",
    "    return (P/(2*np.pi) * np.sqrt(1-e**2) * K * (m1+m2) / m2).to(u.au)\n",
    "\n",
    "def get_a2sini(P, e, K, m1, m2):\n",
    "    return (P/(2*np.pi) * (m1/m2) * np.sqrt(1-e**2) * K).to(u.au)"
   ]
  },
  {
   "cell_type": "code",
   "execution_count": null,
   "metadata": {},
   "outputs": [],
   "source": [
    "uni_cat = clean_uni[(clean_uni['LOGG'] > 2) & np.isfinite(clean_uni['M1'])]\n",
    "\n",
    "bi_logg = np.array([AllStar.get_apogee_id(session, aid).logg \n",
    "                    for aid in clean_bi['APOGEE_ID']])\n",
    "bi_cat = clean_bi[(bi_logg > 2) & np.isfinite(clean_bi['M1']) & np.isfinite(clean_bi['M2_min'])]\n",
    "print(len(uni_cat), len(bi_cat)//2)\n",
    "\n",
    "fig, axes = plt.subplots(1, 2, figsize=(11, 4.8))\n",
    "\n",
    "ax = axes[0]\n",
    "\n",
    "uni_cats = [uni_cat[uni_cat['converged']], uni_cat[~uni_cat['converged']]]\n",
    "uni_colors = ['k', '#aaaaaa']\n",
    "uni_zorders = [10, -10]\n",
    "for cat, color, zorder in zip(uni_cats, uni_colors, uni_zorders):\n",
    "    ax.errorbar(cat['M1'].value, cat['M2_min'].value,\n",
    "                xerr=cat['M1_err'].value,\n",
    "                yerr=cat['M2_min_err'].value,\n",
    "                marker='o', linestyle='none', \n",
    "                markersize=5, color=color, alpha=0.8, zorder=zorder)\n",
    "\n",
    "ax.scatter(bi_cat['M1'].value, bi_cat['M2_min'].value,\n",
    "           marker='s', color='tab:blue', alpha=0.8, linewidth=0, s=13)\n",
    "ax.plot(np.vstack((bi_cat['M1'].value[::2], bi_cat['M1'].value[1::2])), \n",
    "        np.vstack((bi_cat['M2_min'].value[::2], bi_cat['M2_min'].value[1::2])), \n",
    "        marker='', linestyle='-', color='tab:blue', alpha=0.4)\n",
    "\n",
    "ax.plot(np.logspace(-3, 1, 1024), \n",
    "        np.logspace(-3, 1, 1024),\n",
    "        marker='', color='#aaaaaa', zorder=-100, linestyle='--')\n",
    "ax.axhline(0.08, marker='', color='#aaaaaa', zorder=-100, linestyle='--')\n",
    "\n",
    "# ax.set_xscale('log')\n",
    "ax.set_yscale('log')\n",
    "ax.set_xlim(0.5, 3)\n",
    "ax.xaxis.set_ticks(np.arange(0.5, 3+0.1, 0.5))\n",
    "ax.set_ylim(0.01, 10)\n",
    "ax.set_ylabel(r'$M_{2, {\\rm min}}$ ' + '[{0:latex_inline}]'.format(u.Msun))\n",
    "\n",
    "axr = ax.twinx()\n",
    "ylim = ax.get_ylim()\n",
    "axr.set_yscale('log')\n",
    "axr.set_ylim((ylim[0]*u.Msun).to(u.Mjup).value, \n",
    "             (ylim[1]*u.Msun).to(u.Mjup).value)\n",
    "axr.set_ylabel('[{0:latex_inline}]'.format(u.Mjup))\n",
    "\n",
    "ax.set_xlabel('$M_1$ ' + '[{0:latex_inline}]'.format(u.Msun))\n",
    "\n",
    "ax.text(2.95, 3, r'$M_{2, {\\rm min}} = M_1$', \n",
    "        ha='right', va='bottom', fontsize=15, color='#555555')\n",
    "ax.text(2.95, 0.07, r'$M_{2, {\\rm min}} = 0.08\\,{\\rm M}_\\odot$', \n",
    "        ha='right', va='top', fontsize=15, color='#555555')\n",
    "\n",
    "# -- next panel\n",
    "\n",
    "ax = axes[1]\n",
    "\n",
    "for cat, color, zorder in zip(uni_cats, uni_colors, uni_zorders):\n",
    "    print(len(cat))\n",
    "    \n",
    "    q = cat['M2_min'] / cat['M1']\n",
    "    asini = get_asini(cat['P'], cat['e'], cat['K'], cat['M1'], cat['M2_min'])\n",
    "    R1 = np.sqrt(G * cat['M1'] / (10**cat['LOGG']*u.cm/u.s**2)).to(u.au)\n",
    "    \n",
    "    xerr = q * np.sqrt((cat['M2_min_err']/cat['M2_min'])**2 + (cat['M1_err']/cat['M1'])**2).value    \n",
    "    ns = 10000\n",
    "    asinis = get_asini(np.random.normal(cat['P'], cat['P_err'], (ns, len(cat)))*cat['P'].unit, \n",
    "                       np.random.normal(cat['e'], cat['e_err'], (ns, len(cat))),\n",
    "                       np.random.normal(cat['K'], cat['K_err'], (ns, len(cat)))*cat['K'].unit,\n",
    "                       np.random.normal(cat['M1'], cat['M1_err'], (ns, len(cat)))*cat['M1'].unit,\n",
    "                       np.random.normal(cat['M2_min'], cat['M2_min_err'], (ns, len(cat)))*cat['M2_min'].unit)\n",
    "\n",
    "    loggs = np.random.normal(cat['LOGG'], cat['LOGG_ERR'], (ns, len(cat)))\n",
    "    R1s = np.sqrt(G * np.random.normal(cat['M1'], cat['M1_err'], (ns, len(cat)))*cat['M1'].unit / (10**loggs*u.cm/u.s**2)).to(u.au)\n",
    "    yerr = np.std(R1s/asinis, axis=0)\n",
    "    \n",
    "    ax.errorbar(q, R1/asini,\n",
    "                xerr=xerr, yerr=yerr,\n",
    "                marker='o', linestyle='none', zorder=zorder,\n",
    "                markersize=5, color=color, alpha=0.8)\n",
    "\n",
    "bi_logg = np.array([AllStar.get_apogee_id(session, aid).logg \n",
    "                    for aid in clean_bi['APOGEE_ID']])\n",
    "bi_cat = clean_bi[bi_logg > 2]\n",
    "bi_logg = bi_logg[bi_logg > 2]\n",
    "q = bi_cat['M2_min'] / bi_cat['M1']\n",
    "asini = get_asini(bi_cat['P'], bi_cat['e'], bi_cat['K'], bi_cat['M1'], bi_cat['M2_min'])\n",
    "R1 = np.sqrt(G * bi_cat['M1'] / (10**bi_logg*u.cm/u.s**2)).to(u.au)\n",
    "_y = R1/asini\n",
    "ax.scatter(q, _y, \n",
    "           marker='s', color='tab:blue', alpha=0.8, linewidth=0, s=13)\n",
    "ax.plot(np.vstack((q[::2], q[1::2])), \n",
    "        np.vstack((_y[::2], _y[1::2])), \n",
    "        marker='', linestyle='-', color='tab:blue', alpha=0.4)\n",
    "\n",
    "qgrid = np.linspace(1E-2, 1E1)\n",
    "r1 = 0.49*qgrid**(-2/3.) / (0.6*qgrid**(-2/3.) + np.log(1+qgrid**(-1/3)))\n",
    "\n",
    "ax.plot(qgrid, r1, marker='', color='#aaaaaa', zorder=-100, linestyle='--')\n",
    "ax.set_xlim(1e-2, 1E1)\n",
    "ax.set_ylim(1e-3, 1E0)\n",
    "ax.set_xscale('log')\n",
    "ax.set_yscale('log')\n",
    "ax.set_xlabel(r'$q_{\\rm min}$')\n",
    "ax.set_ylabel(r'$R_1 / (a\\,\\sin i)$')\n",
    "\n",
    "fig.tight_layout()\n",
    "fig.subplots_adjust(wspace=0.45)\n",
    "fig.savefig(path.join(plot_path, 'mass.pdf'))"
   ]
  },
  {
   "cell_type": "code",
   "execution_count": null,
   "metadata": {},
   "outputs": [],
   "source": [
    "# Both samples at q>1\n",
    "bi_cat[::2][((bi_cat['M2_min'].value[::2] / bi_cat['M1'].value[::2]) > 1) & \n",
    "            ((bi_cat['M2_min'].value[1::2] / bi_cat['M1'].value[1::2]) > 1)]"
   ]
  },
  {
   "cell_type": "code",
   "execution_count": null,
   "metadata": {},
   "outputs": [],
   "source": [
    "# Both samples at M2<0.08 Msun\n",
    "bi_cat[::2][((bi_cat['M2_min'][::2]) < 0.08*u.Msun) & \n",
    "            ((bi_cat['M2_min'][1::2]) < 0.08*u.Msun)]"
   ]
  },
  {
   "cell_type": "code",
   "execution_count": null,
   "metadata": {},
   "outputs": [],
   "source": [
    "bi_cat[1::2][((bi_cat['M2_min'][::2]) < 0.08*u.Msun) & \n",
    "            ((bi_cat['M2_min'][1::2]) < 0.08*u.Msun)]"
   ]
  },
  {
   "cell_type": "markdown",
   "metadata": {},
   "source": [
    "### The interesting 3:"
   ]
  },
  {
   "cell_type": "code",
   "execution_count": null,
   "metadata": {},
   "outputs": [],
   "source": [
    "from thejoker.data import RVData"
   ]
  },
  {
   "cell_type": "code",
   "execution_count": null,
   "metadata": {},
   "outputs": [],
   "source": [
    "_plot_path = '../../plots/three-interesting'\n",
    "os.makedirs(_plot_path, exist_ok=True)\n",
    "\n",
    "with h5py.File(samples_file) as f:\n",
    "    for apogee_id in ['2M01231070+1801407', # BH\n",
    "                      '2M04582049+2232000', # BD\n",
    "                      '2M20130687+2044173']: # BD\n",
    "        samples = JokerSamples.from_hdf5(f[apogee_id])\n",
    "        star = AllStar.get_apogee_id(session, apogee_id)\n",
    "        data = star.apogeervdata()\n",
    "        \n",
    "        rows = bi_cat[bi_cat['APOGEE_ID'] == apogee_id]\n",
    "        a2s = [get_a2sini(r['P'], r['e'], r['K'], r['M1'], r['M2_min']) \n",
    "               for r in rows]\n",
    "        print('in Troup: {0}\\n'.format(apogee_id in troup['APOGEE_ID']) + \n",
    "              'logg = {0:.2f}, Teff = {1:.1f}\\n'.format(star.logg, star.teff) + \n",
    "              'a2sini = {0:.3f} or {1:.3f}'.format(*a2s))\n",
    "        \n",
    "        # with LAMOST RV: http://dr3.lamost.org/spectrum/view?obsid=268505101\n",
    "        data = RVData(t=Time(np.append(data.t.mjd, [56980.]), format='mjd'),\n",
    "                      rv=np.append(data.rv.value, 11.1)*u.km/u.s,\n",
    "                      stddev=np.append(data.stddev.value, 1.)*u.km/u.s)\n",
    "        \n",
    "        fig = plot_two_panel(data, samples)\n",
    "        fig.axes[0].set_title(star.apogee_id)\n",
    "        fig.tight_layout()\n",
    "#         fig.savefig(path.join(_plot_path, '{0}.png'.format(apogee_id)), dpi=250)\n",
    "\n",
    "        break"
   ]
  },
  {
   "cell_type": "code",
   "execution_count": null,
   "metadata": {},
   "outputs": [],
   "source": [
    "star.k"
   ]
  },
  {
   "cell_type": "code",
   "execution_count": null,
   "metadata": {},
   "outputs": [],
   "source": [
    "samples['P'].min(), samples['P'].max()"
   ]
  },
  {
   "cell_type": "code",
   "execution_count": null,
   "metadata": {},
   "outputs": [],
   "source": [
    "with h5py.File('../../cache/2M01231070+1801407.hdf5') as f:\n",
    "    new_samples = JokerSamples.from_hdf5(f)\n",
    "    \n",
    "# new_samples = samples"
   ]
  },
  {
   "cell_type": "code",
   "execution_count": null,
   "metadata": {},
   "outputs": [],
   "source": [
    "fig = plot_two_panel(data, new_samples)\n",
    "fig.axes[0].set_title('{0} - {1} samples'.format(star.apogee_id, len(new_samples)))\n",
    "fig.tight_layout()\n",
    "\n",
    "fig = plot_two_panel(data, samples)\n",
    "fig.axes[0].set_title('{0} - {1} samples'.format(star.apogee_id, len(samples)))\n",
    "fig.tight_layout()"
   ]
  },
  {
   "cell_type": "code",
   "execution_count": null,
   "metadata": {},
   "outputs": [],
   "source": [
    "m1 = np.exp(star.ness_rg.lnM) * u.Msun\n",
    "\n",
    "m2s = np.zeros(len(new_samples)) * u.Msun\n",
    "for i in range(len(new_samples)):\n",
    "    mf = new_samples.get_orbit(i).m_f\n",
    "    m2s[i] = get_m2_min(m1, mf)\n",
    "    \n",
    "m2s_2 = np.zeros(len(samples)) * u.Msun\n",
    "for i in range(len(samples)):\n",
    "    mf = samples.get_orbit(i).m_f\n",
    "    m2s_2[i] = get_m2_min(m1, mf)"
   ]
  },
  {
   "cell_type": "code",
   "execution_count": null,
   "metadata": {},
   "outputs": [],
   "source": [
    "_, bins, _ = plt.hist(m2s.value, bins='auto', normed=True);\n",
    "plt.hist(m2s_2.value, bins=bins, normed=True);\n",
    "plt.axvline(m1.value)\n",
    "plt.gca().xaxis.set_ticks(np.arange(1, 6, 0.5))"
   ]
  },
  {
   "cell_type": "code",
   "execution_count": null,
   "metadata": {},
   "outputs": [],
   "source": [
    "# ptf = ascii.read('/Users/adrian/Downloads/irsa_catalog_search_results.tbl')\n",
    "# ptf = ptf[(ptf['oid'] == 35322100000378) & (ptf['fid'] == 2)]\n",
    "\n",
    "# plt.errorbar(ptf['obsmjd'], ptf['mag_autocorr'], \n",
    "#              yerr=ptf['magerr_auto'], linestyle='none', marker='o')\n",
    "# plt.ylim(14.0, 13.8)"
   ]
  },
  {
   "cell_type": "code",
   "execution_count": null,
   "metadata": {},
   "outputs": [],
   "source": [
    "wise = ascii.read('/Users/adrian/Downloads/irsa_catalog_search_results_wise.tbl')\n",
    "wise = wise[(wise['source_id_mf'] == '0206p181_ac51-027396')]"
   ]
  },
  {
   "cell_type": "code",
   "execution_count": null,
   "metadata": {},
   "outputs": [],
   "source": [
    "plt.errorbar(((wise['mjd']) / new_samples['P'].value) % 1, wise['w1mpro_ep'], wise['w1sigmpro_ep'],\n",
    "             linestyle='none', marker='o')\n",
    "plt.ylim(12.2, 11.7)"
   ]
  },
  {
   "cell_type": "markdown",
   "metadata": {},
   "source": [
    "---\n",
    "\n",
    "## Period-ecc-logg"
   ]
  },
  {
   "cell_type": "code",
   "execution_count": null,
   "metadata": {},
   "outputs": [],
   "source": [
    "from scipy.stats import binned_statistic"
   ]
  },
  {
   "cell_type": "code",
   "execution_count": null,
   "metadata": {},
   "outputs": [],
   "source": [
    "# bins = np.linspace(0, 3.1, 15)\n",
    "# res15 = binned_statistic(np.log10(cat['P'].value), values=cat['e'], bins=bins,\n",
    "#                          statistic=lambda x: np.percentile(x, 15))\n",
    "# res50 = binned_statistic(np.log10(cat['P'].value), values=cat['e'], bins=bins,\n",
    "#                          statistic=lambda x: np.percentile(x, 50))\n",
    "# res85 = binned_statistic(np.log10(cat['P'].value), values=cat['e'], bins=bins,\n",
    "#                          statistic=lambda x: np.percentile(x, 85))\n",
    "\n",
    "# binc = (res15.bin_edges[:-1]+res15.bin_edges[1:])/2\n",
    "# plt.plot(binc, res15.statistic)\n",
    "# plt.plot(binc, res50.statistic)\n",
    "# plt.plot(binc, res85.statistic)"
   ]
  },
  {
   "cell_type": "code",
   "execution_count": null,
   "metadata": {},
   "outputs": [],
   "source": [
    "fig, axes = plt.subplots(2, 3, figsize=(12, 8.5), sharex=True, sharey=True)\n",
    "\n",
    "grid = np.arange(2, 3.5+0.1, 0.3)\n",
    "for i, (l, r) in enumerate(zip(grid, grid+0.5)):\n",
    "    mask = (cat['LOGG'] > l) & (cat['LOGG'] <= r)\n",
    "    subcat = cat[mask]\n",
    "    axes.flat[i].errorbar(subcat['P'].value, subcat['e'], \n",
    "                          xerr=subcat['P_err'].value, yerr=subcat['e_err'],\n",
    "                          marker='o', linestyle='none', alpha=0.8)\n",
    "    axes.flat[i].axvline(10., zorder=-10, color='#aaaaaa', linestyle='--')\n",
    "    axes.flat[i].axvline(100., zorder=-10, color='#aaaaaa', linestyle='--')\n",
    "    axes.flat[i].text(1, 0.95, r'${0:.2f} < \\log g \\leq {1:.2f}$'.format(l, r), \n",
    "                      ha='left', va='top', fontsize=16, backgroundcolor='w')\n",
    "    \n",
    "    \n",
    "axes.flat[0].set_xlim(0.8, 1800)\n",
    "axes.flat[0].set_ylim(-0.05, 1.)\n",
    "axes.flat[0].set_xscale('log')\n",
    "\n",
    "axes[1, 1].set_xlabel('period, $P$ [day]')\n",
    "axes[0, 0].set_ylabel('eccentricity, $e$')\n",
    "axes[1, 0].set_ylabel('eccentricity, $e$')\n",
    "\n",
    "fig.tight_layout()\n",
    "\n",
    "fig.savefig(path.join(plot_path, 'P-e-grid.pdf'))"
   ]
  },
  {
   "cell_type": "code",
   "execution_count": null,
   "metadata": {},
   "outputs": [],
   "source": [
    "cat = clean_uni[clean_uni['LOGG'] > 2]\n",
    "\n",
    "fig, axes = plt.subplots(1, 2, figsize=(9, 5.5), sharex=True)\n",
    "\n",
    "cs = axes[0].scatter(cat['P'], cat['LOGG'], \n",
    "                     c=cat['e'], alpha=0.75, linewidth=0.5, \n",
    "                     edgecolor='#333333', s=25, vmin=0, vmax=1, \n",
    "                     cmap='magma')\n",
    "\n",
    "axes[0].axhline(1., color='tab:blue', linewidth=1., \n",
    "                linestyle='--', zorder=-100)\n",
    "\n",
    "axes[0].set_xlabel(r'$P$ [day]')\n",
    "axes[0].set_ylabel(r'$\\log g$')\n",
    "\n",
    "axes[0].set_xlim(0.4, 3000)\n",
    "axes[0].set_ylim(4, 0)\n",
    "axes[0].set_xscale('log')\n",
    "\n",
    "cax = fig.add_axes([0.11, 0.85, 0.402, 0.03])\n",
    "cb = fig.colorbar(cs, cax=cax, orientation='horizontal')\n",
    "cb.ax.xaxis.set_ticks_position('top')\n",
    "cb.ax.xaxis.set_label_position('top')\n",
    "cb.set_ticks(np.arange(0, 1+0.1, 0.2))\n",
    "cb.set_label('$e$', labelpad=10)\n",
    "cb.solids.set_rasterized(True) \n",
    "cb.solids.set_edgecolor('face')\n",
    "\n",
    "# ---\n",
    "\n",
    "cs = axes[1].scatter(cat['P'], cat['e'], \n",
    "                     c=cat['LOGG'], alpha=0.75, linewidth=0.5, \n",
    "                     edgecolor='#333333', s=25, vmin=1, vmax=4, \n",
    "                     cmap='viridis')\n",
    "\n",
    "axes[1].scatter(cat['P'][cat['DR14RC']], cat['e'][cat['DR14RC']], \n",
    "                linewidth=1, edgecolor='tab:red', facecolor='none', s=40,\n",
    "                marker='o', zorder=100)\n",
    "\n",
    "axes[1].axhline(1., color='tab:blue', linewidth=1., \n",
    "                linestyle='--', zorder=-100)\n",
    "\n",
    "# axes[1].set_ylabel(r'$P / P_{\\rm surface}$')\n",
    "axes[1].set_ylabel(r'eccentricity, $e$')\n",
    "\n",
    "axes[1].set_ylim(-0.05, 1)\n",
    "# axes[1].set_yscale('log')\n",
    "axes[1].yaxis.set_ticks(np.arange(0, 1+0.2, 0.2))\n",
    "\n",
    "cax = fig.add_axes([0.565, 0.85, 0.402, 0.03])\n",
    "cb = fig.colorbar(cs, cax=cax, orientation='horizontal')\n",
    "cb.ax.xaxis.set_ticks_position('top')\n",
    "cb.ax.xaxis.set_label_position('top')\n",
    "cb.set_label(r'$\\log g$', labelpad=10)\n",
    "cb.solids.set_rasterized(True) \n",
    "cb.solids.set_edgecolor('face')\n",
    "\n",
    "fig.tight_layout()\n",
    "fig.subplots_adjust(top=0.8, wspace=0.125)\n",
    "\n",
    "# fig.savefig(path.join(plot_path, 'P-logg-e.pdf'))"
   ]
  },
  {
   "cell_type": "code",
   "execution_count": null,
   "metadata": {},
   "outputs": [],
   "source": [
    "cat = clean_uni[clean_uni['LOGG'] > 2]\n",
    "\n",
    "fig, axes = plt.subplots(1, 2, figsize=(10.5, 5.), sharey=True)\n",
    "\n",
    "P_surface = period_at_surface(1.36*u.Msun, cat['LOGG'], \n",
    "                              cat['e'], 0.5*u.Msun)\n",
    "\n",
    "cs = axes[0].scatter(cat['e'], cat['P']/P_surface, \n",
    "                     c=cat['LOGG'], alpha=0.75, linewidth=0.5, \n",
    "                     edgecolor='#333333', s=25, vmin=2, vmax=4, \n",
    "                     cmap='viridis')\n",
    "\n",
    "axes[0].scatter(cat['e'][cat['DR14RC']], (cat['P']/P_surface)[cat['DR14RC']], \n",
    "                linewidth=1, edgecolor='tab:red', facecolor='none', s=40,\n",
    "                marker='o', zorder=100)\n",
    "\n",
    "axes[0].axhline(1., color='tab:blue', linewidth=1., \n",
    "                linestyle='--', zorder=-100, marker='')\n",
    "\n",
    "axes[0].set_ylabel(r'$P / P_{\\rm surface}$')\n",
    "axes[0].set_xlabel(r'eccentricity, $e$')\n",
    "\n",
    "axes[0].set_xlim(-0.05, 1)\n",
    "axes[0].set_ylim(0.4, 2000)\n",
    "axes[1].set_yscale('log')\n",
    "axes[0].xaxis.set_ticks(np.arange(0, 1+0.2, 0.2))\n",
    "\n",
    "# ---\n",
    "\n",
    "cs = axes[1].scatter(cat['K'], cat['P']/P_surface, \n",
    "                     c=cat['LOGG'], alpha=0.75, linewidth=0.5, \n",
    "                     edgecolor='#333333', s=25, vmin=2, vmax=4, \n",
    "                     cmap='viridis')\n",
    "\n",
    "axes[1].axhline(1., color='tab:blue', linewidth=1., \n",
    "                linestyle='--', zorder=-100, marker='')\n",
    "\n",
    "axes[1].set_xlim(1, 250)\n",
    "axes[1].set_xscale('log')\n",
    "axes[1].set_xlabel('RV amplitude, $K$ [{0:latex_inline}]'.format(u.km/u.s))\n",
    "\n",
    "cax = fig.add_axes([0.87, 0.185, 0.02, 0.76])\n",
    "cb = fig.colorbar(cs, cax=cax)\n",
    "cb.ax.xaxis.set_ticks_position('top')\n",
    "cb.ax.xaxis.set_label_position('top')\n",
    "cb.set_label(r'$\\log g$', labelpad=10)\n",
    "cb.solids.set_rasterized(True) \n",
    "cb.solids.set_edgecolor('face')\n",
    "cb.set_ticks(np.arange(2, 4+0.1, 0.5))\n",
    "\n",
    "fig.tight_layout()\n",
    "fig.subplots_adjust(right=0.85)\n",
    "\n",
    "# fig.savefig(path.join(plot_path, 'P-e-K.pdf'))"
   ]
  },
  {
   "cell_type": "code",
   "execution_count": null,
   "metadata": {},
   "outputs": [],
   "source": [
    "cat = clean_uni[clean_uni['LOGG'] > 2]\n",
    "\n",
    "fig, ax = plt.subplots(1, 1, figsize=(6, 5))\n",
    "\n",
    "bins = np.linspace(0, 1, 15)\n",
    "bin_c = (bins[:-1]+bins[1:]) / 2\n",
    "# cut = cat['P'] < 10*u.day\n",
    "\n",
    "P_surface = period_at_surface(1.36*u.Msun, cat['LOGG'], \n",
    "                              cat['e'], 0.5*u.Msun)\n",
    "cut = (cat['P']/P_surface) < 8\n",
    "\n",
    "# ax.hist(cat['e'][cut], bins=bins, \n",
    "#         alpha=0.5, normed=True, rasterized=True,\n",
    "#         label=r'$P < 20\\,{\\rm d}$' + '  $(N = {0})$'.format(cut.sum()));\n",
    "# ax.hist(cat['e'][~cut], bins=bins, \n",
    "#         alpha=0.5, normed=True, rasterized=True,\n",
    "#         label=r'$P \\geq 20\\,{\\rm d}$' + '  $(N={0})$'.format(np.logical_not(cut).sum()));\n",
    "\n",
    "n, *_ = np.histogram(cat['e'][cut], bins=bins, normed=True)\n",
    "ax.plot(bin_c, n, \n",
    "        alpha=0.9, drawstyle='steps-mid', marker='', lw=2.,\n",
    "        label=r'$P < 10\\,{\\rm d}$' + '  $(N = {0})$'.format(cut.sum()));\n",
    "\n",
    "n, *_ = np.histogram(cat['e'][~cut], bins=bins, normed=True)\n",
    "ax.plot(bin_c, n, \n",
    "        alpha=0.9, drawstyle='steps-mid', marker='', lw=2.,\n",
    "        label=r'$P \\geq 10\\,{\\rm d}$' + '  $(N={0})$'.format(np.logical_not(cut).sum()));\n",
    "\n",
    "egrid = np.linspace(0, 1, 256)\n",
    "ax.plot(egrid, beta.pdf(egrid, 0.867, 3.03),\n",
    "        marker='', linestyle='--', color='k', alpha=0.4,\n",
    "        label='prior', zorder=-10)\n",
    "\n",
    "ax.legend(loc='best', fontsize=16)\n",
    "ax.set_xlabel('eccentricity, $e$')\n",
    "ax.set_ylabel('$p(e)$')\n",
    "\n",
    "ax.set_xlim(-0.02, 1.02)\n",
    "ax.set_yscale('log')\n",
    "ax.set_ylim(8E-2, 2E1)\n",
    "\n",
    "fig.tight_layout()\n",
    "\n",
    "# fig.savefig(path.join(plot_path, 'ecc-dist.pdf'), dpi=250)"
   ]
  },
  {
   "cell_type": "raw",
   "metadata": {},
   "source": [
    "TODO:"
   ]
  },
  {
   "cell_type": "code",
   "execution_count": null,
   "metadata": {},
   "outputs": [],
   "source": [
    "plt.hist(cat['FE_H'], bins=np.linspace(-2.5, 0.75, 18));"
   ]
  },
  {
   "cell_type": "code",
   "execution_count": null,
   "metadata": {},
   "outputs": [],
   "source": []
  },
  {
   "cell_type": "code",
   "execution_count": null,
   "metadata": {},
   "outputs": [],
   "source": []
  },
  {
   "cell_type": "markdown",
   "metadata": {},
   "source": [
    "Old idea: compute M2_min assuming M1 = 1.5"
   ]
  },
  {
   "cell_type": "code",
   "execution_count": null,
   "metadata": {},
   "outputs": [],
   "source": [
    "cat = clean_cat.copy()\n",
    "print(np.isfinite(cat['M2_min']).sum())\n",
    "\n",
    "rnd = np.random.RandomState(seed=42)\n",
    "N = rnd.normal\n",
    "\n",
    "n_samples = 1024\n",
    "for i, row in tqdm.tqdm(enumerate(cat)):\n",
    "    if np.isfinite(row['M2_min']):\n",
    "        continue\n",
    "        \n",
    "    m1_samples = N(1.5, 0.4, size=n_samples) * u.Msun\n",
    "    mass_func = mf(P=N(row['P'].value, row['P_err'].value, n_samples) * row['P'].unit, \n",
    "                   K=N(row['K'].value, row['K_err'].value, n_samples) * row['K'].unit,\n",
    "                   e=N(row['e'], row['e_err'], n_samples))\n",
    "    m2_mins = get_m2_min(m1_samples, mass_func)\n",
    "    \n",
    "    row['M1'] = np.median(m1_samples)\n",
    "    row['M1_err'] = 1.5 * median_absolute_deviation(m1_samples)\n",
    "    \n",
    "    row['M2_min'] = np.nanmedian(m2_mins)\n",
    "    row['M2_min_err'] = 1.5 * median_absolute_deviation(m2_mins, ignore_nan=True)"
   ]
  },
  {
   "cell_type": "code",
   "execution_count": null,
   "metadata": {},
   "outputs": [],
   "source": []
  }
 ],
 "metadata": {
  "kernelspec": {
   "display_name": "Python [conda env:twoface]",
   "language": "python",
   "name": "conda-env-twoface-py"
  },
  "language_info": {
   "codemirror_mode": {
    "name": "ipython",
    "version": 3
   },
   "file_extension": ".py",
   "mimetype": "text/x-python",
   "name": "python",
   "nbconvert_exporter": "python",
   "pygments_lexer": "ipython3",
   "version": "3.6.4"
  }
 },
 "nbformat": 4,
 "nbformat_minor": 2
}