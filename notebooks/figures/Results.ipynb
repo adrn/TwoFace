{
 "cells": [
  {
   "cell_type": "code",
   "execution_count": null,
   "metadata": {},
   "outputs": [],
   "source": [
    "import os\n",
    "from os import path\n",
    "\n",
    "# Third-party\n",
    "from astropy.constants import G\n",
    "from astropy.io import fits, ascii\n",
    "from astropy.stats import median_absolute_deviation\n",
    "from astropy.table import Table, QTable, join\n",
    "from astropy.time import Time\n",
    "import astropy.units as u\n",
    "import matplotlib as mpl\n",
    "import matplotlib.pyplot as plt\n",
    "from matplotlib.gridspec import GridSpec\n",
    "import numpy as np\n",
    "%matplotlib inline\n",
    "import h5py\n",
    "import pandas as pd\n",
    "from sqlalchemy import func\n",
    "import tqdm\n",
    "from scipy.stats import beta\n",
    "\n",
    "from thejoker import JokerSamples\n",
    "\n",
    "from twoface.config import TWOFACE_CACHE_PATH\n",
    "from twoface.samples_analysis import MAP_sample\n",
    "from twoface.db import (db_connect, AllStar, AllVisit, AllVisitToAllStar, NessRG,\n",
    "                        StarResult, Status, JokerRun)\n",
    "from twoface.plot import plot_two_panel, plot_phase_fold\n",
    "from twoface.mass import get_m2_min, mf, period_at_surface\n",
    "from twoface.log import log as logger\n",
    "logger.setLevel(100)"
   ]
  },
  {
   "cell_type": "code",
   "execution_count": null,
   "metadata": {},
   "outputs": [],
   "source": [
    "plot_path = '../../paper/1-catalog/figures/'\n",
    "table_path = '../../paper/1-catalog/tables/'"
   ]
  },
  {
   "cell_type": "code",
   "execution_count": null,
   "metadata": {},
   "outputs": [],
   "source": [
    "Session, _ = db_connect(path.join(TWOFACE_CACHE_PATH, 'apogee.sqlite'))\n",
    "session = Session()\n",
    "\n",
    "samples_file = path.join(TWOFACE_CACHE_PATH, 'apogee-jitter.hdf5')\n",
    "mcmc_samples_file = path.join(TWOFACE_CACHE_PATH, 'apogee-jitter-mcmc.hdf5')"
   ]
  },
  {
   "cell_type": "code",
   "execution_count": null,
   "metadata": {},
   "outputs": [],
   "source": [
    "unimodal = QTable.read(path.join(table_path, 'highK-unimodal.fits'))\n",
    "bimodal = QTable.read(path.join(table_path, 'highK-bimodal.fits'))\n",
    "clean_uni = unimodal[unimodal['clean_flag'] == 0]\n",
    "clean_bi = bimodal[bimodal['clean_flag'] == 0]\n",
    "\n",
    "print('{0} unimodal, {1} clean'.format(len(unimodal), len(clean_uni)))\n",
    "print('{0} bimodal, {1} clean'.format(len(bimodal)//2, len(clean_bi)//2))"
   ]
  },
  {
   "cell_type": "markdown",
   "metadata": {},
   "source": [
    "## Which were already in Troup?"
   ]
  },
  {
   "cell_type": "code",
   "execution_count": null,
   "metadata": {},
   "outputs": [],
   "source": [
    "troup = ascii.read('../../../papers/thejoker-paper/data/troup16-dr12.csv', format='commented_header')"
   ]
  },
  {
   "cell_type": "code",
   "execution_count": null,
   "metadata": {},
   "outputs": [],
   "source": [
    "n_uni = len(clean_uni['APOGEE_ID'])\n",
    "n_uni_troup = np.isin(clean_uni['APOGEE_ID'], troup['APOGEE_ID']).sum()"
   ]
  },
  {
   "cell_type": "code",
   "execution_count": null,
   "metadata": {},
   "outputs": [],
   "source": [
    "n_bi = len(np.unique(clean_bi['APOGEE_ID']))\n",
    "n_bi_troup = np.isin(np.unique(clean_bi['APOGEE_ID']), troup['APOGEE_ID']).sum()"
   ]
  },
  {
   "cell_type": "code",
   "execution_count": null,
   "metadata": {},
   "outputs": [],
   "source": [
    "assert np.isin(unimodal['APOGEE_ID'], bimodal['APOGEE_ID']).sum() == 0"
   ]
  },
  {
   "cell_type": "code",
   "execution_count": null,
   "metadata": {},
   "outputs": [],
   "source": [
    "print('{0} new unimodal companions'.format(n_uni - n_uni_troup))\n",
    "print('{0} new bimodal companions'.format(n_bi - n_bi_troup))"
   ]
  },
  {
   "cell_type": "markdown",
   "metadata": {},
   "source": [
    "## Masses"
   ]
  },
  {
   "cell_type": "code",
   "execution_count": null,
   "metadata": {},
   "outputs": [],
   "source": [
    "def get_asini(P, e, K, m1, m2):\n",
    "    return (P/(2*np.pi) * np.sqrt(1-e**2) * K * (m1+m2) / m2).to(u.au)\n",
    "\n",
    "def get_a2sini(P, e, K, m1, m2):\n",
    "    return (P/(2*np.pi) * (m1/m2) * np.sqrt(1-e**2) * K).to(u.au)"
   ]
  },
  {
   "cell_type": "code",
   "execution_count": null,
   "metadata": {},
   "outputs": [],
   "source": [
    "uni_cat = clean_uni[(clean_uni['LOGG'] > 2) & np.isfinite(clean_uni['M1'])]\n",
    "\n",
    "bi_logg = np.array([AllStar.get_apogee_id(session, aid).logg \n",
    "                    for aid in clean_bi['APOGEE_ID']])\n",
    "bi_cat = clean_bi[(bi_logg > 2) & np.isfinite(clean_bi['M1']) & np.isfinite(clean_bi['M2_min'])]\n",
    "print(len(uni_cat), len(bi_cat)//2)\n",
    "\n",
    "fig, axes = plt.subplots(1, 2, figsize=(11, 4.8))\n",
    "\n",
    "ax = axes[0]\n",
    "\n",
    "uni_cats = [uni_cat[uni_cat['converged']], uni_cat[~uni_cat['converged']]]\n",
    "uni_colors = ['k', '#aaaaaa']\n",
    "uni_zorders = [10, -10]\n",
    "for cat, color, zorder in zip(uni_cats, uni_colors, uni_zorders):\n",
    "    ax.errorbar(cat['M1'].value, cat['M2_min'].value,\n",
    "                xerr=cat['M1_err'].value,\n",
    "                yerr=cat['M2_min_err'].value,\n",
    "                marker='o', linestyle='none', \n",
    "                markersize=5, color=color, alpha=0.8, zorder=zorder)\n",
    "\n",
    "ax.scatter(bi_cat['M1'].value, bi_cat['M2_min'].value,\n",
    "           marker='s', color='tab:blue', alpha=0.8, linewidth=0, s=13)\n",
    "ax.plot(np.vstack((bi_cat['M1'].value[::2], bi_cat['M1'].value[1::2])), \n",
    "        np.vstack((bi_cat['M2_min'].value[::2], bi_cat['M2_min'].value[1::2])), \n",
    "        marker='', linestyle='-', color='tab:blue', alpha=0.4)\n",
    "\n",
    "ax.plot(np.logspace(-3, 1, 1024), \n",
    "        np.logspace(-3, 1, 1024),\n",
    "        marker='', color='#aaaaaa', zorder=-100, linestyle='--')\n",
    "ax.axhline(0.08, marker='', color='#aaaaaa', zorder=-100, linestyle='--')\n",
    "\n",
    "# ax.set_xscale('log')\n",
    "ax.set_yscale('log')\n",
    "ax.set_xlim(0.5, 3)\n",
    "ax.xaxis.set_ticks(np.arange(0.5, 3+0.1, 0.5))\n",
    "ax.set_ylim(0.01, 10)\n",
    "ax.set_ylabel(r'$M_{2, {\\rm min}}$ ' + '[{0:latex_inline}]'.format(u.Msun))\n",
    "\n",
    "axr = ax.twinx()\n",
    "ylim = ax.get_ylim()\n",
    "axr.set_yscale('log')\n",
    "axr.set_ylim((ylim[0]*u.Msun).to(u.Mjup).value, \n",
    "             (ylim[1]*u.Msun).to(u.Mjup).value)\n",
    "axr.set_ylabel('[{0:latex_inline}]'.format(u.Mjup))\n",
    "\n",
    "ax.set_xlabel('$M_1$ ' + '[{0:latex_inline}]'.format(u.Msun))\n",
    "\n",
    "ax.text(2.95, 3, r'$M_{2, {\\rm min}} = M_1$', \n",
    "        ha='right', va='bottom', fontsize=15, color='#555555')\n",
    "ax.text(2.95, 0.07, r'$M_{2, {\\rm min}} = 0.08\\,{\\rm M}_\\odot$', \n",
    "        ha='right', va='top', fontsize=15, color='#555555')\n",
    "\n",
    "# -- next panel\n",
    "\n",
    "ax = axes[1]\n",
    "\n",
    "for cat, color, zorder in zip(uni_cats, uni_colors, uni_zorders):\n",
    "    print(len(cat))\n",
    "    \n",
    "    q = cat['M2_min'] / cat['M1']\n",
    "    asini = get_asini(cat['P'], cat['e'], cat['K'], cat['M1'], cat['M2_min'])\n",
    "    R1 = np.sqrt(G * cat['M1'] / (10**cat['LOGG']*u.cm/u.s**2)).to(u.au)\n",
    "    \n",
    "    xerr = q * np.sqrt((cat['M2_min_err']/cat['M2_min'])**2 + (cat['M1_err']/cat['M1'])**2).value    \n",
    "    ns = 10000\n",
    "    asinis = get_asini(np.random.normal(cat['P'], cat['P_err'], (ns, len(cat)))*cat['P'].unit, \n",
    "                       np.random.normal(cat['e'], cat['e_err'], (ns, len(cat))),\n",
    "                       np.random.normal(cat['K'], cat['K_err'], (ns, len(cat)))*cat['K'].unit,\n",
    "                       np.random.normal(cat['M1'], cat['M1_err'], (ns, len(cat)))*cat['M1'].unit,\n",
    "                       np.random.normal(cat['M2_min'], cat['M2_min_err'], (ns, len(cat)))*cat['M2_min'].unit)\n",
    "\n",
    "    loggs = np.random.normal(cat['LOGG'], cat['LOGG_ERR'], (ns, len(cat)))\n",
    "    R1s = np.sqrt(G * np.random.normal(cat['M1'], cat['M1_err'], (ns, len(cat)))*cat['M1'].unit / (10**loggs*u.cm/u.s**2)).to(u.au)\n",
    "    yerr = np.std(R1s/asinis, axis=0)\n",
    "    \n",
    "    ax.errorbar(q, R1/asini,\n",
    "                xerr=xerr, yerr=yerr,\n",
    "                marker='o', linestyle='none', zorder=zorder,\n",
    "                markersize=5, color=color, alpha=0.8)\n",
    "\n",
    "bi_logg = np.array([AllStar.get_apogee_id(session, aid).logg \n",
    "                    for aid in clean_bi['APOGEE_ID']])\n",
    "bi_cat = clean_bi[bi_logg > 2]\n",
    "bi_logg = bi_logg[bi_logg > 2]\n",
    "q = bi_cat['M2_min'] / bi_cat['M1']\n",
    "asini = get_asini(bi_cat['P'], bi_cat['e'], bi_cat['K'], bi_cat['M1'], bi_cat['M2_min'])\n",
    "R1 = np.sqrt(G * bi_cat['M1'] / (10**bi_logg*u.cm/u.s**2)).to(u.au)\n",
    "_y = R1/asini\n",
    "ax.scatter(q, _y, \n",
    "           marker='s', color='tab:blue', alpha=0.8, linewidth=0, s=13)\n",
    "ax.plot(np.vstack((q[::2], q[1::2])), \n",
    "        np.vstack((_y[::2], _y[1::2])), \n",
    "        marker='', linestyle='-', color='tab:blue', alpha=0.4)\n",
    "\n",
    "qgrid = np.linspace(1E-2, 1E1)\n",
    "r1 = 0.49*qgrid**(-2/3.) / (0.6*qgrid**(-2/3.) + np.log(1+qgrid**(-1/3)))\n",
    "\n",
    "ax.plot(qgrid, r1, marker='', color='#aaaaaa', zorder=-100, linestyle='--')\n",
    "ax.set_xlim(1e-2, 1E1)\n",
    "ax.set_ylim(1e-3, 1E0)\n",
    "ax.set_xscale('log')\n",
    "ax.set_yscale('log')\n",
    "ax.set_xlabel(r'$q_{\\rm min}$')\n",
    "ax.set_ylabel(r'$R_1 / (a\\,\\sin i)$')\n",
    "\n",
    "fig.tight_layout()\n",
    "fig.subplots_adjust(wspace=0.45)\n",
    "fig.savefig(path.join(plot_path, 'mass.pdf'))"
   ]
  },
  {
   "cell_type": "code",
   "execution_count": null,
   "metadata": {},
   "outputs": [],
   "source": [
    "# Both samples at q>1\n",
    "bi_cat[::2][((bi_cat['M2_min'].value[::2] / bi_cat['M1'].value[::2]) > 1) & \n",
    "            ((bi_cat['M2_min'].value[1::2] / bi_cat['M1'].value[1::2]) > 1)]"
   ]
  },
  {
   "cell_type": "code",
   "execution_count": null,
   "metadata": {},
   "outputs": [],
   "source": [
    "# Both samples at M2<0.08 Msun\n",
    "bi_cat[::2][((bi_cat['M2_min'][::2]) < 0.08*u.Msun) & \n",
    "            ((bi_cat['M2_min'][1::2]) < 0.08*u.Msun)]"
   ]
  },
  {
   "cell_type": "code",
   "execution_count": null,
   "metadata": {},
   "outputs": [],
   "source": [
    "bi_cat[1::2][((bi_cat['M2_min'][::2]) < 0.08*u.Msun) & \n",
    "            ((bi_cat['M2_min'][1::2]) < 0.08*u.Msun)]"
   ]
  },
  {
   "cell_type": "code",
   "execution_count": null,
   "metadata": {},
   "outputs": [],
   "source": [
    "uni_cat[(uni_cat['M2_min'] / uni_cat['M1']) > 0.95]"
   ]
  },
  {
   "cell_type": "markdown",
   "metadata": {},
   "source": [
    "### The interesting ones:"
   ]
  },
  {
   "cell_type": "code",
   "execution_count": null,
   "metadata": {},
   "outputs": [],
   "source": [
    "from thejoker.data import RVData"
   ]
  },
  {
   "cell_type": "code",
   "execution_count": null,
   "metadata": {},
   "outputs": [],
   "source": [
    "# apogee_id = '2M04015112+5316431' # unimodal, above m2=m1 line\n",
    "apogee_id = '2M01415794+8520066' # unimodal, just under line\n",
    "with h5py.File(mcmc_samples_file) as f:\n",
    "    samples = JokerSamples.from_hdf5(f[apogee_id])\n",
    "    chain_stats = f[apogee_id]['chain-stats']\n",
    "    print(list(chain_stats.keys()))\n",
    "    print(chain_stats['gelman_rubin'][:])"
   ]
  },
  {
   "cell_type": "code",
   "execution_count": null,
   "metadata": {},
   "outputs": [],
   "source": [
    "m2s = u.Quantity([get_m2_min(rows['M1'][0], samples.get_orbit(i).m_f) for i in range(len(samples))])"
   ]
  },
  {
   "cell_type": "code",
   "execution_count": null,
   "metadata": {},
   "outputs": [],
   "source": [
    "plt.hist(m2s.value)"
   ]
  },
  {
   "cell_type": "code",
   "execution_count": null,
   "metadata": {},
   "outputs": [],
   "source": [
    "_plot_path = '../../plots/three-interesting'\n",
    "os.makedirs(_plot_path, exist_ok=True)\n",
    "\n",
    "with h5py.File(samples_file) as f:\n",
    "    for apogee_id in ['2M01415794+8520066', # NS/WD??\n",
    "                      '2M04015112+5316431', # BH/NS uni\n",
    "                      '2M01231070+1801407', # BH/NS bi\n",
    "                      '2M04582049+2232000', # BD bi\n",
    "                      '2M20130687+2044173']: # BD bi\n",
    "        samples = JokerSamples.from_hdf5(f[apogee_id])\n",
    "        star = AllStar.get_apogee_id(session, apogee_id)\n",
    "        data = star.apogeervdata()\n",
    "        \n",
    "        rows = bi_cat[bi_cat['APOGEE_ID'] == apogee_id]\n",
    "        if len(rows) == 0:\n",
    "            rows = uni_cat[uni_cat['APOGEE_ID'] == apogee_id]\n",
    "        a2s = u.Quantity([get_a2sini(r['P'], r['e'], r['K'], r['M1'], r['M2_min']) \n",
    "                          for r in rows])\n",
    "        es = np.array([r['e'] for r in rows])\n",
    "        print('in Troup: {0}\\n'.format(apogee_id in troup['APOGEE_ID']) + \n",
    "              'logg = {0:.2f}, Teff = {1:.1f}\\n'.format(star.logg, star.teff) + \n",
    "              'a2sini = {0}\\n'.format(a2s) + \n",
    "              'peri = {0}'.format(a2s * (1 - es)))\n",
    "        \n",
    "        # with LAMOST RV: http://dr3.lamost.org/spectrum/view?obsid=268505101\n",
    "#         data = RVData(t=Time(np.append(data.t.mjd, [56980.]), format='mjd'),\n",
    "#                       rv=np.append(data.rv.value, 11.1)*u.km/u.s,\n",
    "#                       stddev=np.append(data.stddev.value, 1.)*u.km/u.s)\n",
    "        \n",
    "        fig = plot_two_panel(data, samples)\n",
    "        fig.axes[0].set_title(star.apogee_id)\n",
    "        fig.tight_layout()\n",
    "#         fig.savefig(path.join(_plot_path, '{0}.png'.format(apogee_id)), dpi=250)\n",
    "\n",
    "        break"
   ]
  },
  {
   "cell_type": "code",
   "execution_count": null,
   "metadata": {},
   "outputs": [],
   "source": [
    "star.k"
   ]
  },
  {
   "cell_type": "code",
   "execution_count": null,
   "metadata": {},
   "outputs": [],
   "source": [
    "samples['P'].min(), samples['P'].max()"
   ]
  },
  {
   "cell_type": "code",
   "execution_count": null,
   "metadata": {},
   "outputs": [],
   "source": [
    "with h5py.File('../../cache/2M01231070+1801407.hdf5') as f:\n",
    "    new_samples = JokerSamples.from_hdf5(f)\n",
    "    \n",
    "# new_samples = samples"
   ]
  },
  {
   "cell_type": "code",
   "execution_count": null,
   "metadata": {},
   "outputs": [],
   "source": [
    "fig = plot_two_panel(data, new_samples)\n",
    "fig.axes[0].set_title('{0} - {1} samples'.format(star.apogee_id, len(new_samples)))\n",
    "fig.tight_layout()\n",
    "\n",
    "fig = plot_two_panel(data, samples)\n",
    "fig.axes[0].set_title('{0} - {1} samples'.format(star.apogee_id, len(samples)))\n",
    "fig.tight_layout()"
   ]
  },
  {
   "cell_type": "code",
   "execution_count": null,
   "metadata": {},
   "outputs": [],
   "source": [
    "m1 = np.exp(star.ness_rg.lnM) * u.Msun\n",
    "\n",
    "m2s = np.zeros(len(new_samples)) * u.Msun\n",
    "for i in range(len(new_samples)):\n",
    "    mf = new_samples.get_orbit(i).m_f\n",
    "    m2s[i] = get_m2_min(m1, mf)\n",
    "    \n",
    "m2s_2 = np.zeros(len(samples)) * u.Msun\n",
    "for i in range(len(samples)):\n",
    "    mf = samples.get_orbit(i).m_f\n",
    "    m2s_2[i] = get_m2_min(m1, mf)"
   ]
  },
  {
   "cell_type": "code",
   "execution_count": null,
   "metadata": {},
   "outputs": [],
   "source": [
    "_, bins, _ = plt.hist(m2s.value, bins='auto', normed=True);\n",
    "plt.hist(m2s_2.value, bins=bins, normed=True);\n",
    "plt.axvline(m1.value)\n",
    "plt.gca().xaxis.set_ticks(np.arange(1, 6, 0.5))"
   ]
  },
  {
   "cell_type": "code",
   "execution_count": null,
   "metadata": {},
   "outputs": [],
   "source": [
    "# ptf = ascii.read('/Users/adrian/Downloads/irsa_catalog_search_results.tbl')\n",
    "# ptf = ptf[(ptf['oid'] == 35322100000378) & (ptf['fid'] == 2)]\n",
    "\n",
    "# plt.errorbar(ptf['obsmjd'], ptf['mag_autocorr'], \n",
    "#              yerr=ptf['magerr_auto'], linestyle='none', marker='o')\n",
    "# plt.ylim(14.0, 13.8)"
   ]
  },
  {
   "cell_type": "code",
   "execution_count": null,
   "metadata": {},
   "outputs": [],
   "source": [
    "wise = ascii.read('/Users/adrian/Downloads/irsa_catalog_search_results_wise.tbl')\n",
    "wise = wise[(wise['source_id_mf'] == '0206p181_ac51-027396')]"
   ]
  },
  {
   "cell_type": "code",
   "execution_count": null,
   "metadata": {},
   "outputs": [],
   "source": [
    "plt.errorbar(((wise['mjd']) / new_samples['P'].value) % 1, wise['w1mpro_ep'], wise['w1sigmpro_ep'],\n",
    "             linestyle='none', marker='o')\n",
    "plt.ylim(12.2, 11.7)"
   ]
  },
  {
   "cell_type": "markdown",
   "metadata": {},
   "source": [
    "# Period-logg"
   ]
  },
  {
   "cell_type": "code",
   "execution_count": null,
   "metadata": {},
   "outputs": [],
   "source": []
  },
  {
   "cell_type": "code",
   "execution_count": null,
   "metadata": {},
   "outputs": [],
   "source": []
  }
 ],
 "metadata": {
  "kernelspec": {
   "display_name": "Python [conda env:twoface]",
   "language": "python",
   "name": "conda-env-twoface-py"
  },
  "language_info": {
   "codemirror_mode": {
    "name": "ipython",
    "version": 3
   },
   "file_extension": ".py",
   "mimetype": "text/x-python",
   "name": "python",
   "nbconvert_exporter": "python",
   "pygments_lexer": "ipython3",
   "version": "3.6.4"
  }
 },
 "nbformat": 4,
 "nbformat_minor": 2
}