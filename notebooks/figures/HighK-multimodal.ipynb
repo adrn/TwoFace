{
 "cells": [
  {
   "cell_type": "code",
   "execution_count": null,
   "metadata": {},
   "outputs": [],
   "source": [
    "import os\n",
    "from os import path\n",
    "\n",
    "# Third-party\n",
    "from astropy.io import fits\n",
    "from astropy.stats import median_absolute_deviation\n",
    "from astropy.table import QTable, Table, join\n",
    "from astropy.time import Time\n",
    "import astropy.units as u\n",
    "import matplotlib as mpl\n",
    "import matplotlib.pyplot as plt\n",
    "from matplotlib.gridspec import GridSpec\n",
    "import numpy as np\n",
    "%matplotlib inline\n",
    "import h5py\n",
    "import pandas as pd\n",
    "from sqlalchemy import func\n",
    "import tqdm\n",
    "from sklearn.cluster import KMeans\n",
    "\n",
    "from thejoker import JokerSamples\n",
    "\n",
    "from twoface.config import TWOFACE_CACHE_PATH\n",
    "from twoface.samples_analysis import unimodal_P, MAP_sample\n",
    "from twoface.db import (db_connect, AllStar, AllVisit, AllVisitToAllStar, NessRG,\n",
    "                        StarResult, Status, JokerRun)\n",
    "from twoface.plot import plot_two_panel, plot_phase_fold, _RV_LBL\n",
    "from twoface.mass import get_m2_min, mf"
   ]
  },
  {
   "cell_type": "code",
   "execution_count": null,
   "metadata": {},
   "outputs": [],
   "source": [
    "Session, _ = db_connect(path.join(TWOFACE_CACHE_PATH, 'apogee.sqlite'))\n",
    "session = Session()\n",
    "\n",
    "plot_path = '../../paper/1-catalog/figures/'\n",
    "table_path = '../../paper/1-catalog/tables/'\n",
    "\n",
    "samples_file = path.join(TWOFACE_CACHE_PATH, 'apogee-jitter.hdf5')\n",
    "mcmc_samples_file = path.join(TWOFACE_CACHE_PATH, 'apogee-jitter-mcmc.hdf5')"
   ]
  },
  {
   "cell_type": "code",
   "execution_count": null,
   "metadata": {},
   "outputs": [],
   "source": [
    "run = session.query(JokerRun).limit(1).one()\n",
    "joker_pars = run.get_joker_params()"
   ]
  },
  {
   "cell_type": "code",
   "execution_count": null,
   "metadata": {},
   "outputs": [],
   "source": [
    "high_K_stars = session.query(AllStar).join(StarResult).filter(StarResult.status_id.in_([1, 4]))\\\n",
    "                      .filter(StarResult.high_K).all()\n",
    "print(len(high_K_stars))\n",
    "print(session.query(AllStar).join(StarResult).filter(StarResult.high_K).count())"
   ]
  },
  {
   "cell_type": "markdown",
   "metadata": {},
   "source": [
    "Remove ones that are already identified as unimodal:"
   ]
  },
  {
   "cell_type": "code",
   "execution_count": null,
   "metadata": {},
   "outputs": [],
   "source": [
    "unimodal = QTable.read(path.join(table_path, 'highK-unimodal.fits'))\n",
    "mask = np.logical_not(np.isin(np.array([s.apogee_id for s in high_K_stars], dtype='U20'), \n",
    "                              unimodal['APOGEE_ID']))\n",
    "high_K_stars = np.array(high_K_stars)[mask]"
   ]
  },
  {
   "cell_type": "markdown",
   "metadata": {},
   "source": [
    "# Make the catalog:"
   ]
  },
  {
   "cell_type": "code",
   "execution_count": null,
   "metadata": {},
   "outputs": [],
   "source": [
    "def is_n_modal(data, samples, n_clusters=2):\n",
    "    clf = KMeans(n_clusters=n_clusters)\n",
    "    \n",
    "    ecc = samples['e'].value\n",
    "    lnP = np.log(samples['P'].value).reshape(-1, 1)\n",
    "    y = clf.fit_predict(lnP)\n",
    "\n",
    "    data = star.apogeervdata()\n",
    "    \n",
    "    unimodals = []\n",
    "    means = []\n",
    "    for j in np.unique(y):\n",
    "        sub_samples = samples[y==j]\n",
    "        if len(sub_samples) == 1:\n",
    "            unimodals.append(True)\n",
    "            means.append(sub_samples)\n",
    "        else:\n",
    "            unimodals.append(unimodal_P(sub_samples, data))\n",
    "            means.append(MAP_sample(data, sub_samples, joker_pars))\n",
    "        \n",
    "    return all(unimodals), means"
   ]
  },
  {
   "cell_type": "code",
   "execution_count": null,
   "metadata": {},
   "outputs": [],
   "source": [
    "bimodal = []\n",
    "MAP_samples = []\n",
    "nsamples = []\n",
    "\n",
    "n = 0\n",
    "with h5py.File(samples_file, 'r') as f:\n",
    "    for star in tqdm.tqdm(high_K_stars):\n",
    "        samples = JokerSamples.from_hdf5(f[star.apogee_id])\n",
    "        data = star.apogeervdata()\n",
    "        \n",
    "        if len(samples) > 1:\n",
    "            is_bimodal, MAP = is_n_modal(data, samples, n_clusters=2)\n",
    "            bimodal.append(is_bimodal)\n",
    "            MAP_samples.append(MAP)\n",
    "            \n",
    "        else:\n",
    "            bimodal.append(False)\n",
    "        \n",
    "        nsamples.append(len(samples))\n",
    "\n",
    "nsamples = np.array(nsamples)\n",
    "bimodal = np.array(bimodal)\n",
    "MAP_samples = np.array(MAP_samples)\n",
    "bimodal.sum()"
   ]
  },
  {
   "cell_type": "code",
   "execution_count": null,
   "metadata": {},
   "outputs": [],
   "source": [
    "bimodal.sum()"
   ]
  },
  {
   "cell_type": "markdown",
   "metadata": {},
   "source": [
    "Most of these only have a few samples:"
   ]
  },
  {
   "cell_type": "code",
   "execution_count": null,
   "metadata": {},
   "outputs": [],
   "source": [
    "plt.hist(nsamples[bimodal], bins='auto');"
   ]
  },
  {
   "cell_type": "code",
   "execution_count": null,
   "metadata": {},
   "outputs": [],
   "source": [
    "bi_stars = np.array(high_K_stars)[bimodal]\n",
    "bi_MAP_samples = np.array(MAP_samples)[bimodal]\n",
    "assert len(bi_MAP_samples) == len(bi_stars)"
   ]
  },
  {
   "cell_type": "code",
   "execution_count": null,
   "metadata": {},
   "outputs": [],
   "source": [
    "catalog = {'APOGEE_ID':[], 'P':[], 'e':[], 'K':[]}\n",
    "\n",
    "for samples, star in zip(bi_MAP_samples, bi_stars):\n",
    "    for s in samples:\n",
    "        catalog['APOGEE_ID'].append(star.apogee_id)\n",
    "        catalog['P'].append(s['P'])\n",
    "        catalog['e'].append(s['e'])\n",
    "        catalog['K'].append(s['K'])\n",
    "    \n",
    "catalog['P'] = u.Quantity(catalog['P'])\n",
    "catalog['K'] = u.Quantity(catalog['K'])\n",
    "catalog = Table(catalog)"
   ]
  },
  {
   "cell_type": "markdown",
   "metadata": {},
   "source": [
    "## Add Ness masses:"
   ]
  },
  {
   "cell_type": "code",
   "execution_count": null,
   "metadata": {},
   "outputs": [],
   "source": [
    "ness_tbl = Table.read('../../data/NessRG.fits')\n",
    "ness_tbl.rename_column('2MASS', 'APOGEE_ID')\n",
    "ness_tbl = ness_tbl[np.isin(ness_tbl['APOGEE_ID'], catalog['APOGEE_ID'])]\n",
    "\n",
    "# trim the duplicates...\n",
    "_, unq_idx = np.unique(ness_tbl['APOGEE_ID'], return_index=True)\n",
    "ness_tbl = ness_tbl[unq_idx]\n",
    "\n",
    "tbl_with_ness = join(catalog, ness_tbl, keys='APOGEE_ID', join_type='outer')\n",
    "assert len(tbl_with_ness) == len(catalog)"
   ]
  },
  {
   "cell_type": "code",
   "execution_count": null,
   "metadata": {},
   "outputs": [],
   "source": [
    "np.isfinite(tbl_with_ness['lnM']).sum()"
   ]
  },
  {
   "cell_type": "code",
   "execution_count": null,
   "metadata": {},
   "outputs": [],
   "source": [
    "rnd = np.random.RandomState(seed=42)\n",
    "N = rnd.normal\n",
    "\n",
    "m1 = np.full(len(tbl_with_ness), np.nan) * u.Msun\n",
    "m2_min = np.full(len(tbl_with_ness), np.nan) * u.Msun\n",
    "\n",
    "for i, row in tqdm.tqdm(enumerate(tbl_with_ness)):\n",
    "    if tbl_with_ness['lnM'].mask[i]:\n",
    "        continue\n",
    "        \n",
    "    m1_ = np.exp(row['lnM']) * u.Msun\n",
    "    mass_func = mf(P=row['P'] * catalog['P'].unit, \n",
    "                   K=row['K'] * catalog['K'].unit, \n",
    "                   e=row['e'])\n",
    "    \n",
    "    m1[i] = m1_\n",
    "    m2_min[i] = get_m2_min(m1_, mass_func)\n",
    "    \n",
    "tbl_with_ness['M1'] = m1\n",
    "tbl_with_ness['M2_min'] = m2_min\n",
    "\n",
    "tbl_with_ness['M1'].mask = np.isnan(tbl_with_ness['M1'])\n",
    "tbl_with_ness['M2_min'].mask = np.isnan(tbl_with_ness['M1'])"
   ]
  },
  {
   "cell_type": "markdown",
   "metadata": {},
   "source": [
    "## Add APOGEE DR14 info:"
   ]
  },
  {
   "cell_type": "code",
   "execution_count": null,
   "metadata": {},
   "outputs": [],
   "source": [
    "allstar_tbl = fits.getdata('/Users/adrian/data/APOGEE_DR14/allStar-l31c.2.fits')\n",
    "allstar_tbl = allstar_tbl[np.isin(allstar_tbl['APOGEE_ID'], tbl_with_ness['APOGEE_ID'])]\n",
    "\n",
    "# trim the duplicates...\n",
    "_, unq_idx = np.unique(allstar_tbl['APOGEE_ID'], return_index=True)\n",
    "allstar_tbl = allstar_tbl[unq_idx]\n",
    "assert len(allstar_tbl) == len(tbl_with_ness)//2\n",
    "\n",
    "allstar_tbl = Table(allstar_tbl)\n",
    "allstar_tbl.rename_column('K', 'KS')\n",
    "allstar_tbl.rename_column('K_ERR', 'KS_ERR')"
   ]
  },
  {
   "cell_type": "code",
   "execution_count": null,
   "metadata": {},
   "outputs": [],
   "source": [
    "output_catalog = join(tbl_with_ness[catalog.colnames + ['M1', 'M2_min']], allstar_tbl, keys='APOGEE_ID')\n",
    "output_catalog[:1]"
   ]
  },
  {
   "cell_type": "markdown",
   "metadata": {},
   "source": [
    "## By-eye vetting: \n",
    "\n",
    "Plot all of the stars, see what orbits look like bad (2) or questionable (1) fits:"
   ]
  },
  {
   "cell_type": "code",
   "execution_count": null,
   "metadata": {},
   "outputs": [],
   "source": [
    "# with h5py.File(samples_file, 'r') as f:\n",
    "#     for star in tqdm.tqdm(np.array(high_K_stars)[bimodal]):\n",
    "#         samples = JokerSamples.from_hdf5(f[star.apogee_id])\n",
    "#         data = star.apogeervdata()\n",
    "        \n",
    "#         fig = plot_two_panel(data, samples, \n",
    "#                              plot_data_orbits_kw=dict(highlight_P_extrema=False))\n",
    "#         fig.savefig('../../plots/bimodal/{0}.png'.format(star.apogee_id), dpi=200)\n",
    "#         plt.close(fig)"
   ]
  },
  {
   "cell_type": "code",
   "execution_count": null,
   "metadata": {},
   "outputs": [],
   "source": [
    "# bimodal:\n",
    "suspect = ['2M09490802+3649393', '2M09494588+3711256', \n",
    "           '2M10244885+1336456', '2M13412997+2836185',\n",
    "           '2M15125534+6748381']\n",
    "\n",
    "check = ['2M18525864-0031500']\n",
    "\n",
    "\n",
    "clean_flag = np.zeros(len(catalog), dtype=int)\n",
    "clean_flag[np.isin(output_catalog['APOGEE_ID'], check)] = 1\n",
    "clean_flag[np.isin(output_catalog['APOGEE_ID'], suspect)] = 2\n",
    "output_catalog['clean_flag'] = clean_flag"
   ]
  },
  {
   "cell_type": "code",
   "execution_count": null,
   "metadata": {},
   "outputs": [],
   "source": [
    "np.isin(output_catalog['APOGEE_ID'], suspect).sum()"
   ]
  },
  {
   "cell_type": "code",
   "execution_count": null,
   "metadata": {},
   "outputs": [],
   "source": [
    "output_catalog.write(path.join(table_path, 'highK-bimodal.fits'), overwrite=True)\n",
    "# output_catalog[:4].write('../../paper/1-catalog/tables/bimodal-top.tex', overwrite=True)"
   ]
  },
  {
   "cell_type": "markdown",
   "metadata": {},
   "source": [
    "--- \n",
    "\n",
    "# Make paper figure:"
   ]
  },
  {
   "cell_type": "code",
   "execution_count": null,
   "metadata": {},
   "outputs": [],
   "source": [
    "catalog = Table.read(path.join(table_path, 'highK-bimodal.fits'))\n",
    "len(catalog)"
   ]
  },
  {
   "cell_type": "code",
   "execution_count": null,
   "metadata": {},
   "outputs": [],
   "source": [
    "np.random.seed(111)\n",
    "\n",
    "rc = {\n",
    "    'axes.labelsize': 18,\n",
    "    'xtick.labelsize': 14,\n",
    "    'ytick.labelsize': 14\n",
    "}\n",
    "    \n",
    "# rand_subset = np.random.choice(catalog['APOGEE_ID'].astype('U20'), \n",
    "#                                size=4, \n",
    "#                                replace=False)\n",
    "rand_subset = ['2M18041328-2958182',\n",
    "               '2M19114515-0725486',\n",
    "               '2M20184780+2023122',\n",
    "               '2M22030551+6844336']\n",
    "    \n",
    "with mpl.rc_context(rc):\n",
    "    gs = GridSpec(4, 3)\n",
    "    fig = plt.figure(figsize=(8., 9.5))\n",
    "    for j, apogee_id in enumerate(rand_subset):\n",
    "        ax1 = fig.add_subplot(gs[j, :2])\n",
    "        ax2 = fig.add_subplot(gs[j, 2])\n",
    "\n",
    "        if j == 0:\n",
    "            ax1.set_title('High-$K$, bimodal', fontsize=20)\n",
    "        \n",
    "        star = AllStar.get_apogee_id(session, apogee_id)\n",
    "        data = star.apogeervdata()\n",
    "\n",
    "        with h5py.File(samples_file, 'r') as f:\n",
    "            samples = JokerSamples.from_hdf5(f[star.apogee_id])\n",
    "\n",
    "        fig = plot_two_panel(data, samples, axes=[ax1, ax2], tight=False,\n",
    "                             plot_data_orbits_kw=dict(n_times=16384, \n",
    "                                                      n_orbits=128,\n",
    "                                                      highlight_P_extrema=False,\n",
    "                                                      xlim_choice='data',\n",
    "                                                      relative_to_t0=True,\n",
    "                                                      plot_kwargs=dict(linewidth=0.2,\n",
    "                                                                       rasterized=True)))\n",
    "\n",
    "        xlim = ax1.get_xlim()\n",
    "        ylim = ax1.get_ylim()\n",
    "\n",
    "        ax1.text(xlim[0] + (xlim[1]-xlim[0])/20,\n",
    "                 ylim[1] - (ylim[1]-ylim[0])/20,\n",
    "                 star.apogee_id, \n",
    "                 fontsize=15, va='top', ha='left')\n",
    "\n",
    "        ax1.set_xlabel('')\n",
    "        ax2.set_xlabel('')\n",
    "        \n",
    "        logP = np.log10(samples['P'].to(u.day).value)\n",
    "        span = np.ptp(logP)\n",
    "#         ax2.set_xlim(10**(logP.min()-0.75),\n",
    "#                      10**(logP.max()+0.75))\n",
    "#         ax2.set_xlim(10**(logP.min()-0.5*span),\n",
    "#                      10**(logP.max()+0.5*span))\n",
    "\n",
    "    ax1.set_xlabel(r'${\\rm BMJD} - t_0$ [day]')\n",
    "    ax2.set_xlabel('period, $P$ [day]')\n",
    "\n",
    "    fig.tight_layout()\n",
    "    fig.subplots_adjust(left=0.125, right=0.95, hspace=0.2, wspace=0.4)\n",
    "    \n",
    "    fig.savefig(path.join(plot_path, 'highK-bimodal.pdf'), dpi=250)"
   ]
  },
  {
   "cell_type": "markdown",
   "metadata": {},
   "source": [
    "---\n",
    "(old idea)\n",
    "\n",
    "#### Stars with samples that have small dispersion, or PTP lnP:"
   ]
  },
  {
   "cell_type": "code",
   "execution_count": null,
   "metadata": {},
   "outputs": [],
   "source": [
    "stats = []\n",
    "with h5py.File(samples_file, 'r') as f:\n",
    "    for star in tqdm.tqdm(high_K_stars):\n",
    "        logP = np.log10(f[star.apogee_id]['P'][:])\n",
    "        stats.append([np.ptp(logP), np.std(logP)])\n",
    "stats = np.array(stats)"
   ]
  },
  {
   "cell_type": "code",
   "execution_count": null,
   "metadata": {},
   "outputs": [],
   "source": [
    "fig, ax = plt.subplots(1, 1, figsize=(6,6))\n",
    "ax.scatter(stats[:, 0], 3*stats[:, 1], alpha=0.25, linewidth=0)\n",
    "ax.set_xlim(-0.02, 5)\n",
    "ax.set_ylim(-0.02, 5)"
   ]
  },
  {
   "cell_type": "code",
   "execution_count": null,
   "metadata": {},
   "outputs": [],
   "source": [
    "((stats[:, 0] < 1) | bimodal).sum()"
   ]
  },
  {
   "cell_type": "code",
   "execution_count": null,
   "metadata": {},
   "outputs": [],
   "source": [
    "star = np.array(high_K_stars)[(stats[:, 0] < 1) & np.logical_not(bimodal)][11]\n",
    "\n",
    "data = star.apogeervdata()\n",
    "with h5py.File(samples_file, 'r') as f:\n",
    "    samples = JokerSamples.from_hdf5(f[star.apogee_id])\n",
    "    \n",
    "_ = plot_two_panel(data, samples, plot_data_orbits_kw=dict(highlight_P_extrema=False))"
   ]
  },
  {
   "cell_type": "code",
   "execution_count": null,
   "metadata": {},
   "outputs": [],
   "source": []
  },
  {
   "cell_type": "code",
   "execution_count": null,
   "metadata": {},
   "outputs": [],
   "source": []
  }
 ],
 "metadata": {
  "kernelspec": {
   "display_name": "Python [conda env:twoface]",
   "language": "python",
   "name": "conda-env-twoface-py"
  },
  "language_info": {
   "codemirror_mode": {
    "name": "ipython",
    "version": 3
   },
   "file_extension": ".py",
   "mimetype": "text/x-python",
   "name": "python",
   "nbconvert_exporter": "python",
   "pygments_lexer": "ipython3",
   "version": "3.6.2"
  }
 },
 "nbformat": 4,
 "nbformat_minor": 2
}