{
 "cells": [
  {
   "cell_type": "code",
   "execution_count": null,
   "metadata": {
    "collapsed": true
   },
   "outputs": [],
   "source": [
    "import os\n",
    "from os import path\n",
    "from astropy.io import fits\n",
    "import astropy.units as u\n",
    "from astropy.table import Table\n",
    "from astropy.constants import G\n",
    "\n",
    "import numpy as np\n",
    "import matplotlib.pyplot as plt\n",
    "%matplotlib inline\n",
    "import h5py\n",
    "from sqlalchemy import func\n",
    "from scipy.optimize import root\n",
    "\n",
    "from twoface.db import (db_connect, AllStar, AllVisit, AllVisitToAllStar, RedClump,\n",
    "                        StarResult, Status, JokerRun, initialize_db)\n",
    "\n",
    "from thejoker import JokerParams, TheJoker, JokerSamples\n",
    "from twoface.sample_prior import make_prior_cache\n",
    "from twoface.io import load_samples\n",
    "from twoface.plot import plot_data_orbits\n",
    "\n",
    "from scipy.misc import logsumexp"
   ]
  },
  {
   "cell_type": "code",
   "execution_count": null,
   "metadata": {
    "collapsed": true
   },
   "outputs": [],
   "source": [
    "# Here we intentionally use the old run:\n",
    "TWOFACE_CACHE_PATH = '../../cache/run2/'"
   ]
  },
  {
   "cell_type": "code",
   "execution_count": null,
   "metadata": {
    "collapsed": true
   },
   "outputs": [],
   "source": [
    "with h5py.File(path.join(TWOFACE_CACHE_PATH, 'apogee-jitter.hdf5')) as f:\n",
    "    print(len(f.keys()))"
   ]
  },
  {
   "cell_type": "code",
   "execution_count": null,
   "metadata": {
    "collapsed": true
   },
   "outputs": [],
   "source": [
    "Session, _ = db_connect(path.join(TWOFACE_CACHE_PATH, 'apogee.sqlite'))\n",
    "session = Session()"
   ]
  },
  {
   "cell_type": "code",
   "execution_count": null,
   "metadata": {
    "collapsed": true
   },
   "outputs": [],
   "source": [
    "# load the run parameters:\n",
    "run = session.query(JokerRun).filter(JokerRun.name == 'apogee-jitter').one()\n",
    "\n",
    "# load the posterior samples:\n",
    "samples_file = path.join(TWOFACE_CACHE_PATH, '{0}.hdf5'.format(run.name))"
   ]
  },
  {
   "cell_type": "code",
   "execution_count": null,
   "metadata": {
    "collapsed": true
   },
   "outputs": [],
   "source": [
    "def ln_normal(x, mu, std):\n",
    "    return -0.5*( ((x-mu) / std)**2 + np.log(2*np.pi*std**2))\n",
    "\n",
    "def ln_normal_mixture(x, amp, mu, std):\n",
    "    n_components = len(amp)\n",
    "    \n",
    "    lls = []\n",
    "    for j in range(n_components):\n",
    "        lls.append(ln_normal(x, mu[j], std[j]) + np.log(amp[j]))\n",
    "    \n",
    "    return logsumexp(lls, axis=0)"
   ]
  },
  {
   "cell_type": "markdown",
   "metadata": {},
   "source": [
    "### Load data by getting particular stars:"
   ]
  },
  {
   "cell_type": "code",
   "execution_count": null,
   "metadata": {
    "collapsed": true
   },
   "outputs": [],
   "source": [
    "# The aspcapflag bitmask removes STAR_WARN\n",
    "# The starflag bitmask removes SUSPECT_BROAD_LINES \n",
    "# The logg cut remove TRGB stars - too much intrinsic jitter\n",
    "stars = session.query(AllStar).join(StarResult, JokerRun, Status, AllVisitToAllStar, AllVisit)\\\n",
    "                              .filter(Status.id > 0)\\\n",
    "                              .filter(JokerRun.name == 'apogee-jitter')\\\n",
    "                              .filter(AllStar.aspcapflag.op('&')(2**np.array([7, 23])) == 0)\\\n",
    "                              .filter(AllStar.starflag.op('&')(2**np.array([17])) == 0)\\\n",
    "                              .filter(AllStar.logg > 2)\\\n",
    "                              .group_by(AllStar.apstar_id)\\\n",
    "                              .having(func.count(AllVisit.id) >= 10)\\\n",
    "                              .all()\n",
    "print(len(stars))"
   ]
  },
  {
   "cell_type": "code",
   "execution_count": null,
   "metadata": {
    "collapsed": true
   },
   "outputs": [],
   "source": [
    "K_n = []\n",
    "apogee_ids = []\n",
    "with h5py.File(samples_file) as f:\n",
    "    # Values that aren't filled get set to nan\n",
    "    N = len(stars)\n",
    "    y_nk = np.full((N, 256), np.nan)\n",
    "    \n",
    "    for n, key in enumerate([s.apogee_id for s in stars]):\n",
    "        K = len(f[key]['jitter'])\n",
    "        \n",
    "        s = f[key]['jitter'][:] * 1000. # km/s to m/s\n",
    "        y_nk[n,:K] = np.log(s**2)\n",
    "        K_n.append(K)\n",
    "        apogee_ids.append(key)\n",
    "\n",
    "K_n = np.array(K_n)\n",
    "apogee_ids = np.array(apogee_ids)\n",
    "\n",
    "# for nulling out the probability for non-existing samples\n",
    "mask = np.zeros_like(y_nk)\n",
    "mask[y_nk == 9999.] = -np.inf"
   ]
  },
  {
   "cell_type": "code",
   "execution_count": null,
   "metadata": {
    "collapsed": true
   },
   "outputs": [],
   "source": [
    "plt.hist(K_n)\n",
    "plt.yscale('log')\n",
    "plt.xlabel('$K_n$')"
   ]
  },
  {
   "cell_type": "markdown",
   "metadata": {},
   "source": [
    "### Hierarchical inference of jitter parameter distribution"
   ]
  },
  {
   "cell_type": "code",
   "execution_count": null,
   "metadata": {
    "collapsed": true
   },
   "outputs": [],
   "source": [
    "x = np.random.random(size=1000)\n",
    "%timeit ln_normal_mixture(x, [0.2, 0.8], [1, 10], [1, 5])\n",
    "%timeit ln_normal(x, 0.2, 0.8)"
   ]
  },
  {
   "cell_type": "code",
   "execution_count": null,
   "metadata": {
    "collapsed": true
   },
   "outputs": [],
   "source": [
    "class Model:\n",
    "    \n",
    "    def __init__(self, y_nk, K_n, ln_p0, n_components=1):\n",
    "        self.y = y_nk\n",
    "        self.K = K_n\n",
    "        self.ln_p0 = ln_p0\n",
    "        self.n_components = int(n_components)\n",
    "        \n",
    "        self.ln_norm_func = ln_normal\n",
    "        if self.n_components > 1:\n",
    "            self.ln_norm_func = ln_normal_mixture\n",
    "\n",
    "    def ln_likelihood(self, **kwargs):\n",
    "        \"\"\" Original, single Gaussian implementation \"\"\"\n",
    "        delta_ln_prior = self.ln_norm_func(self.y, **kwargs) - self.ln_p0\n",
    "        delta_ln_prior[np.isnan(delta_ln_prior)] = -np.inf\n",
    "        return logsumexp(delta_ln_prior, axis=1) - np.log(self.K)\n",
    "    \n",
    "    def ln_prior(self, **kwargs):\n",
    "        lp = 0.\n",
    "        \n",
    "        amp = kwargs.get('amp', None)\n",
    "        if amp is not None:\n",
    "            amp = np.array(amp)\n",
    "            if amp.sum() > 1:\n",
    "                return -np.inf\n",
    "            \n",
    "            if np.any(amp < 0):\n",
    "                return -np.inf\n",
    "        \n",
    "        # enforce ordering of the means\n",
    "        if not np.allclose(np.argsort(kwargs['mu']), np.arange(self.n_components)):\n",
    "            return -np.inf\n",
    "        \n",
    "        # 1/sigma prior\n",
    "        lp += -np.sum(np.log(kwargs['std'])) \n",
    "        \n",
    "        return lp\n",
    "    \n",
    "    def unpack_pars(self, pars):\n",
    "        # TODO:\n",
    "        if self.n_components == 1:\n",
    "            mu, std = pars\n",
    "            return dict(mu=mu, std=std)\n",
    "            \n",
    "        else:\n",
    "            amp = np.concatenate((pars[:self.n_components-1], [1-sum(pars[:self.n_components-1])]))\n",
    "            mu = pars[self.n_components-1:2*self.n_components-1]\n",
    "            std = pars[2*self.n_components-1:]\n",
    "            return dict(amp=amp, mu=mu, std=std)\n",
    "    \n",
    "    def pack_pars(self, mu, std, amp=None):\n",
    "        pass\n",
    "\n",
    "    def ln_prob(self, pars_vec):\n",
    "        pars_kw = self.unpack_pars(pars_vec)\n",
    "        \n",
    "        lp = self.ln_prior(**pars_kw)\n",
    "        if not np.isfinite(lp):\n",
    "            return -np.inf\n",
    "\n",
    "        ll_n = self.ln_likelihood(**pars_kw)\n",
    "        if not np.all(np.isfinite(ll_n)):\n",
    "            return -np.inf\n",
    "\n",
    "        return np.sum(ll_n)\n",
    "    \n",
    "    def __call__(self, p):\n",
    "        return self.ln_prob(p)"
   ]
  },
  {
   "cell_type": "code",
   "execution_count": null,
   "metadata": {
    "collapsed": true
   },
   "outputs": [],
   "source": [
    "# slc = (slice(0,3),) # single\n",
    "# slc = np.array([512,777])# + list(range(100))) # the two minmax stars above\n",
    "slc = (slice(None),) # all\n",
    "# slc = np.array([225, 139])\n",
    "\n",
    "mm = Model(y_nk[slc], K_n[slc], ln_p0[slc], n_components=1)\n",
    "mm([-2, 4.]), mm([2, 4.])"
   ]
  },
  {
   "cell_type": "code",
   "execution_count": null,
   "metadata": {
    "collapsed": true
   },
   "outputs": [],
   "source": [
    "bins = np.linspace(-5, 18, 55)\n",
    "\n",
    "_n_sub = y_nk[slc].shape[0]\n",
    "for _n in range(min(_n_sub, 8)):\n",
    "    plt.hist(y_nk[slc][_n][np.isfinite(y_nk[slc][_n])], bins=bins, \n",
    "             alpha=0.5, label='star {0}'.format(_n))\n",
    "\n",
    "plt.legend(loc='best')\n",
    "    \n",
    "vals = np.linspace(bins.min(), bins.max(), 1000)\n",
    "# lls = ln_normal_mixture(vals, [0.2, 0.8], [0, 1.], [6., 2.])\n",
    "# plt.plot(vals, np.exp(lls))"
   ]
  },
  {
   "cell_type": "code",
   "execution_count": null,
   "metadata": {
    "collapsed": true
   },
   "outputs": [],
   "source": [
    "mm = Model(y_nk[slc], K_n[slc], ln_p0[slc])\n",
    "\n",
    "# Single-component likelihood\n",
    "sigma_y = 2.\n",
    "# sigma_y = np.std(y_nk[slc].ravel())\n",
    "\n",
    "lls = []\n",
    "vals = np.linspace(-5, 15, 128)\n",
    "for val in vals:\n",
    "    lls.append(mm([val, sigma_y]).sum())\n",
    "    \n",
    "fig, axes = plt.subplots(1, 2, figsize=(12,5), sharex=True)\n",
    "\n",
    "axes[0].plot(vals, lls)\n",
    "axes[0].set_ylabel(r'$\\ln p(\\{D_n\\}|\\alpha)$')\n",
    "axes[1].plot(vals, np.exp(lls - np.max(lls)))\n",
    "axes[1].set_ylabel(r'$p(\\{D_n\\}|\\alpha)$')\n",
    "\n",
    "# axes[1].axvline(np.mean(y_nk[slc].ravel()))\n",
    "\n",
    "axes[0].set_xlabel(r'$\\mu_y$')\n",
    "axes[1].set_xlabel(r'$\\mu_y$')\n",
    "\n",
    "axes[0].xaxis.set_ticks(np.arange(vals.min(), vals.max()+1, 2))\n",
    "\n",
    "fig.tight_layout()"
   ]
  },
  {
   "cell_type": "code",
   "execution_count": null,
   "metadata": {
    "collapsed": true
   },
   "outputs": [],
   "source": [
    "# Mixture model\n",
    "mmix = Model(y_nk[slc], K_n[slc], ln_p0[slc], \n",
    "             n_components=2)\n",
    "\n",
    "lls = []\n",
    "vals = np.linspace(-5, 15, 128)\n",
    "for val in vals:\n",
    "    lls.append(mmix([0.8, val, 10, 2, 2]))\n",
    "    \n",
    "fig, axes = plt.subplots(1, 2, figsize=(12,5), sharex=True)\n",
    "\n",
    "axes[0].plot(vals, lls)\n",
    "axes[0].set_ylabel(r'$\\ln p(\\{D_n\\}|\\alpha)$')\n",
    "axes[1].plot(vals, np.exp(lls - np.max(lls)))\n",
    "axes[1].set_ylabel(r'$p(\\{D_n\\}|\\alpha)$')\n",
    "\n",
    "# axes[1].axvline(np.mean(y_nk[slc].ravel()))\n",
    "\n",
    "axes[0].set_xlabel(r'$\\mu_y$')\n",
    "axes[1].set_xlabel(r'$\\mu_y$')\n",
    "\n",
    "axes[0].xaxis.set_ticks(np.arange(vals.min(), vals.max()+1, 2))\n",
    "\n",
    "fig.tight_layout()"
   ]
  },
  {
   "cell_type": "markdown",
   "metadata": {},
   "source": [
    "---"
   ]
  },
  {
   "cell_type": "code",
   "execution_count": null,
   "metadata": {
    "collapsed": true
   },
   "outputs": [],
   "source": [
    "mmix = Model(y_nk[slc], K_n[slc], ln_p0[slc], \n",
    "             n_components=1)"
   ]
  },
  {
   "cell_type": "code",
   "execution_count": null,
   "metadata": {
    "collapsed": true
   },
   "outputs": [],
   "source": [
    "mu_grid = np.linspace(-10, 20, 27)\n",
    "# var_grid = np.linspace(0.1, 10, 25)**2\n",
    "std_grid = np.logspace(-3, 1.5, 25)\n",
    "mu_grid, std_grid = np.meshgrid(mu_grid, std_grid)\n",
    "\n",
    "probs = np.array([mm([m, v]) \n",
    "                  for (m, v) in zip(mu_grid.ravel(), std_grid.ravel())])"
   ]
  },
  {
   "cell_type": "code",
   "execution_count": null,
   "metadata": {
    "collapsed": true
   },
   "outputs": [],
   "source": [
    "probs.min(), probs.max()"
   ]
  },
  {
   "cell_type": "code",
   "execution_count": null,
   "metadata": {
    "collapsed": true
   },
   "outputs": [],
   "source": [
    "mu_grid.ravel()[probs.argmax()], std_grid.ravel()[probs.argmax()]"
   ]
  },
  {
   "cell_type": "code",
   "execution_count": null,
   "metadata": {
    "collapsed": true
   },
   "outputs": [],
   "source": [
    "plt.figure(figsize=(6,5))\n",
    "\n",
    "plt.pcolormesh(mu_grid, std_grid,\n",
    "               probs.reshape(mu_grid.shape),\n",
    "               cmap='Blues', vmin=-1000, vmax=probs.max())\n",
    "# plt.pcolormesh(mu_grid, std_grid,\n",
    "#                np.exp(probs.reshape(mu_grid.shape)),\n",
    "#                cmap='Blues')\n",
    "\n",
    "plt.yscale('log')\n",
    "plt.colorbar()\n",
    "plt.xlabel(r'$\\mu_y$')\n",
    "plt.ylabel(r'$\\sigma_y$')"
   ]
  },
  {
   "cell_type": "markdown",
   "metadata": {},
   "source": [
    "---"
   ]
  },
  {
   "cell_type": "code",
   "execution_count": null,
   "metadata": {
    "collapsed": true
   },
   "outputs": [],
   "source": [
    "from scipy.optimize import minimize"
   ]
  },
  {
   "cell_type": "code",
   "execution_count": null,
   "metadata": {
    "collapsed": true
   },
   "outputs": [],
   "source": [
    "mmix = Model(y_nk[slc], K_n[slc], ln_p0[slc], \n",
    "             n_components=1)"
   ]
  },
  {
   "cell_type": "code",
   "execution_count": null,
   "metadata": {
    "collapsed": true
   },
   "outputs": [],
   "source": [
    "# p0 = [0.8, 7, 10, 2, 2]\n",
    "p0 = [10., 2]\n",
    "mmix(p0)"
   ]
  },
  {
   "cell_type": "code",
   "execution_count": null,
   "metadata": {
    "collapsed": true
   },
   "outputs": [],
   "source": [
    "res = minimize(lambda *args: -mmix(*args), x0=p0)"
   ]
  },
  {
   "cell_type": "code",
   "execution_count": null,
   "metadata": {
    "collapsed": true
   },
   "outputs": [],
   "source": [
    "res.x"
   ]
  },
  {
   "cell_type": "code",
   "execution_count": null,
   "metadata": {
    "collapsed": true
   },
   "outputs": [],
   "source": [
    "y = np.linspace(-10, 20, 256)\n",
    "\n",
    "min_pars = mmix.unpack_pars(res.x)\n",
    "ll = mmix.ln_norm_func(y, **min_pars)\n",
    "\n",
    "fig,axes = plt.subplots(1, 2, figsize=(12,5))\n",
    "\n",
    "axes[0].plot(y, np.exp(ll), marker='')\n",
    "axes[0].set_xlim(-10, 20)\n",
    "axes[0].set_xlabel(r'$y=\\ln\\left(\\frac{s}{1\\,{\\rm m}\\,{\\rm s}^{-1}} \\right)^2$')\n",
    "\n",
    "s = np.sqrt(np.exp(y))\n",
    "axes[1].plot(s, np.exp(ll) * 2/s, marker='')\n",
    "axes[1].set_xlim(-0.1, 400)\n",
    "axes[1].set_xlabel('jitter, $s$ [{0:latex_inline}]'.format(u.m/u.s))\n",
    "\n",
    "fig.savefig()"
   ]
  },
  {
   "cell_type": "markdown",
   "metadata": {},
   "source": [
    "---"
   ]
  },
  {
   "cell_type": "code",
   "execution_count": null,
   "metadata": {
    "collapsed": true
   },
   "outputs": [],
   "source": [
    "import emcee"
   ]
  },
  {
   "cell_type": "code",
   "execution_count": null,
   "metadata": {
    "collapsed": true
   },
   "outputs": [],
   "source": [
    "mmix = Model(y_nk[slc], K_n[slc], ln_p0[slc], \n",
    "             n_components=2)"
   ]
  },
  {
   "cell_type": "code",
   "execution_count": null,
   "metadata": {
    "collapsed": true
   },
   "outputs": [],
   "source": [
    "ndim = 5\n",
    "nwalkers = 8*ndim\n",
    "p0 = np.random.normal([0.7, 7, 10, 2, 2], [1E-3]*ndim, size=(nwalkers, ndim))\n",
    "\n",
    "for pp in p0:\n",
    "    assert np.all(np.isfinite(mmix(pp)))"
   ]
  },
  {
   "cell_type": "code",
   "execution_count": null,
   "metadata": {
    "collapsed": true
   },
   "outputs": [],
   "source": [
    "mmix([0.8, 7, 10, 2, 2])"
   ]
  },
  {
   "cell_type": "code",
   "execution_count": null,
   "metadata": {
    "collapsed": true
   },
   "outputs": [],
   "source": []
  }
 ],
 "metadata": {
  "anaconda-cloud": {},
  "kernelspec": {
   "display_name": "Python [conda env:twoface]",
   "language": "python",
   "name": "conda-env-twoface-py"
  },
  "language_info": {
   "codemirror_mode": {
    "name": "ipython",
    "version": 3
   },
   "file_extension": ".py",
   "mimetype": "text/x-python",
   "name": "python",
   "nbconvert_exporter": "python",
   "pygments_lexer": "ipython3",
   "version": "3.6.4"
  }
 },
 "nbformat": 4,
 "nbformat_minor": 2
}