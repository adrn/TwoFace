{
 "cells": [
  {
   "cell_type": "code",
   "execution_count": null,
   "metadata": {
    "collapsed": true
   },
   "outputs": [],
   "source": [
    "import os\n",
    "from os import path\n",
    "from astropy.time import Time\n",
    "from astropy.io import fits, ascii\n",
    "import astropy.units as u\n",
    "from astropy.table import Table\n",
    "from astropy.constants import G\n",
    "\n",
    "import numpy as np\n",
    "import matplotlib.pyplot as plt\n",
    "%matplotlib inline\n",
    "import h5py\n",
    "from sqlalchemy import func\n",
    "from scipy.optimize import root\n",
    "from scipy.stats import norm\n",
    "import tqdm\n",
    "\n",
    "from thejoker import JokerSamples\n",
    "from thejoker.sampler import JokerParams, TheJoker\n",
    "from thejoker.plot import plot_rv_curves\n",
    "\n",
    "from twoface.config import TWOFACE_CACHE_PATH\n",
    "from twoface.db import (db_connect, AllStar, AllVisit, AllVisitToAllStar, \n",
    "                        StarResult, Status, JokerRun, initialize_db)\n",
    "from twoface.data import APOGEERVData\n",
    "from twoface.plot import plot_data_orbits"
   ]
  },
  {
   "cell_type": "code",
   "execution_count": null,
   "metadata": {
    "collapsed": true
   },
   "outputs": [],
   "source": [
    "TWOFACE_CACHE_PATH = path.abspath('../cache/')\n",
    "samples_file = path.join(TWOFACE_CACHE_PATH, 'apogee-jitter.hdf5')\n",
    "residuals_file = path.join(TWOFACE_CACHE_PATH, 'residuals.hdf5')\n",
    "figures_path = '../../paper/1-catalog/figures/'"
   ]
  },
  {
   "cell_type": "code",
   "execution_count": null,
   "metadata": {
    "collapsed": true
   },
   "outputs": [],
   "source": [
    "Session, _ = db_connect(path.join(TWOFACE_CACHE_PATH, 'apogee.sqlite'))\n",
    "session = Session()"
   ]
  },
  {
   "cell_type": "code",
   "execution_count": null,
   "metadata": {},
   "outputs": [],
   "source": [
    "# stars = session.query(AllStar).join(StarResult, JokerRun, Status)\\\n",
    "#                .filter(JokerRun.name == 'apogee-jitter')\\\n",
    "#                .filter(Status.id == 2).all()\n",
    "\n",
    "# logg cut removes large jitter stars\n",
    "stars = session.query(AllStar).join(StarResult, Status, AllVisitToAllStar, AllVisit)\\\n",
    "                              .filter(Status.id > 0)\\\n",
    "                              .filter(AllStar.logg > 2)\\\n",
    "                              .group_by(AllStar.apstar_id)\\\n",
    "                              .having(func.count(AllVisit.id) >= 10)\\\n",
    "                              .all()\n",
    "len(stars)"
   ]
  },
  {
   "cell_type": "code",
   "execution_count": null,
   "metadata": {},
   "outputs": [],
   "source": [
    "if not path.exists(residuals_file):\n",
    "    rows = None\n",
    "    with h5py.File(samples_file, 'r') as f:\n",
    "        for star in tqdm.tqdm(stars):\n",
    "            data = star.apogeervdata()\n",
    "            samples = JokerSamples.from_hdf5(f[star.apogee_id])\n",
    "\n",
    "            chi2s = []\n",
    "            for j in range(len(samples)):\n",
    "                orbit = samples.get_orbit(j)\n",
    "                chi2 = np.sum( ((data.rv - orbit.radial_velocity(data.t)) / data.stddev)**2 ).value\n",
    "                chi2s.append(chi2)\n",
    "\n",
    "            best_sample = samples[np.argmin(chi2s)]\n",
    "            orbit = best_sample.get_orbit(0)\n",
    "\n",
    "            resid = (data.rv - orbit.radial_velocity(data.t)).to(u.km/u.s).value\n",
    "            norm_resid = ((data.rv - orbit.radial_velocity(data.t)) / data.stddev).decompose().value\n",
    "            norm_resid_jitter = ((data.rv - orbit.radial_velocity(data.t)) / np.sqrt(data.stddev**2 + best_sample['jitter']**2)).decompose().value\n",
    "\n",
    "            plate = [int(v.plate) for v in star.visits]\n",
    "            fiber = [int(v.fiberid) for v in star.visits]\n",
    "            mjd = [int(v.mjd) for v in star.visits]\n",
    "\n",
    "            if rows is None:\n",
    "                rows = list(zip(plate, fiber, mjd, resid, norm_resid, norm_resid_jitter))\n",
    "\n",
    "            else:\n",
    "                these_rows = list(zip(plate, fiber, mjd, resid, norm_resid, norm_resid_jitter))\n",
    "                rows = rows + these_rows\n",
    "\n",
    "    tbl = np.array(rows, dtype=[('plate', int), ('fiber', int), ('mjd', int), \n",
    "                                ('resid', float), ('norm_resid', float), \n",
    "                                ('norm_jitter', float)])\n",
    "    tbl = Table(tbl)\n",
    "    tbl.write(residuals_file, path='/residuals')\n",
    "    \n",
    "tbl = Table.read(residuals_file, path='/residuals')"
   ]
  },
  {
   "cell_type": "code",
   "execution_count": null,
   "metadata": {},
   "outputs": [],
   "source": [
    "from scipy.stats import binned_statistic"
   ]
  },
  {
   "cell_type": "code",
   "execution_count": null,
   "metadata": {},
   "outputs": [],
   "source": [
    "fig, axes = plt.subplots(3, 1, figsize=(12, 12), sharey=True)\n",
    "\n",
    "style = dict(marker='.', linestyle='none', alpha=0.25, ms=3, color='k')\n",
    "axes[0].plot(tbl['plate'], tbl['resid'], **style)\n",
    "axes[0].set_xlabel('PLATEID')\n",
    "\n",
    "axes[1].plot(tbl['fiber'], tbl['resid'], **style)\n",
    "axes[1].set_xlabel('FIBERID')\n",
    "axes[1].set_ylabel('Residual [{0:latex_inline}]'.format(u.km/u.s))\n",
    "\n",
    "axes[2].plot(tbl['mjd'], tbl['resid'], **style)\n",
    "axes[2].set_xlabel('MJD')\n",
    "\n",
    "percentiles = [1, 5, 15, 85, 95, 99]\n",
    "_colors = ['#edf8b1', '#7fcdbb', '#2c7fb8']\n",
    "colors = _colors + _colors[::-1]\n",
    "for i, name in enumerate(['plate', 'fiber', 'mjd']):\n",
    "    for j, p in enumerate(percentiles):\n",
    "        bins = np.linspace(tbl[name].min(), tbl[name].max(), 64)\n",
    "        bin_c = (bins[:-1]+bins[1:]) / 2.\n",
    "        stats = binned_statistic(tbl[name], tbl['resid'], \n",
    "                                 statistic=lambda x: np.percentile(x, p), \n",
    "                                 bins=bins)\n",
    "        \n",
    "        axes[i].plot(bin_c, stats.statistic, drawstyle='steps-mid', \n",
    "                     marker='', color=colors[j], alpha=0.8)\n",
    "\n",
    "axes[0].set_yscale('symlog', linthreshy=1E-1)\n",
    "axes[0].set_ylim(-100, 100)\n",
    "\n",
    "for ax in axes:\n",
    "    ax.axhline(1., zorder=-10, alpha=0.5, color='tab:orange', linestyle='--', linewidth=1.)\n",
    "    ax.axhline(-1., zorder=-10, alpha=0.5, color='tab:orange', linestyle='--', linewidth=1.)\n",
    "    ax.axhspan(-0.1, 0.1, zorder=-10, color='#eeeeee')\n",
    "\n",
    "fig.tight_layout()"
   ]
  },
  {
   "cell_type": "code",
   "execution_count": null,
   "metadata": {},
   "outputs": [],
   "source": [
    "fig, ax = plt.subplots(1, 1, figsize=(12, 4.5), sharey=True)\n",
    "\n",
    "style = dict(marker='.', linestyle='none', alpha=0.5, ms=3)\n",
    "ax.plot(tbl['fiber'], np.abs(tbl['resid']), **style)\n",
    "ax.set_xlabel('FIBERID')\n",
    "ax.set_ylabel('abs(residual) [{0:latex_inline}]'.format(u.km/u.s))\n",
    "ax.set_yscale('log')\n",
    "ax.set_ylim(0.1, 100)\n",
    "\n",
    "fig.tight_layout()"
   ]
  },
  {
   "cell_type": "code",
   "execution_count": null,
   "metadata": {},
   "outputs": [],
   "source": [
    "plt.hist(tbl['resid'].ravel(), bins=np.linspace(-10, 10, 256), normed=True);\n",
    "\n",
    "r_grid = np.linspace(-10, 10, 1024)\n",
    "plt.plot(r_grid, norm.pdf(r_grid, 0, 0.15), marker='')\n",
    "\n",
    "plt.yscale('log')\n",
    "plt.ylim(1E-4, 1E1)\n",
    "plt.xlabel('residual [{0:latex_inline}]'.format(u.km/u.s))"
   ]
  },
  {
   "cell_type": "code",
   "execution_count": null,
   "metadata": {
    "collapsed": true
   },
   "outputs": [],
   "source": [
    "plt.hist(tbl['norm_resid'].ravel(), bins=np.linspace(-10, 10, 256), normed=True);\n",
    "\n",
    "r_grid = np.linspace(-10, 10, 1024)\n",
    "plt.plot(r_grid, norm.pdf(r_grid, 0, 1), marker='')\n",
    "\n",
    "plt.yscale('log')\n",
    "plt.ylim(1E-4, 1E1)\n",
    "plt.xlabel('residual [{0:latex_inline}]'.format(u.km/u.s))"
   ]
  },
  {
   "cell_type": "code",
   "execution_count": null,
   "metadata": {},
   "outputs": [],
   "source": [
    "fig, ax = plt.subplots(1, 1, figsize=(6, 5))\n",
    "\n",
    "ax.hist(tbl['norm_jitter'].ravel(), bins=np.linspace(-10, 10, 128), \n",
    "        normed=True, rasterized=True)\n",
    "\n",
    "r_grid = np.linspace(-10, 10, 1024)\n",
    "ax.plot(r_grid, norm.pdf(r_grid, 0, 1), marker='', \n",
    "        linewidth=3, linestyle='--')\n",
    "\n",
    "ax.set_yscale('log')\n",
    "ax.set_ylim(1E-4, 1E0)\n",
    "ax.set_xlabel('normalized visit residuals, $R_{nk}$')\n",
    "ax.set_ylabel('density')\n",
    "\n",
    "fig.tight_layout()\n",
    "fig.savefig(path.join(figures_path, 'residuals.pdf'), dpi=250)"
   ]
  },
  {
   "cell_type": "code",
   "execution_count": null,
   "metadata": {},
   "outputs": [],
   "source": []
  }
 ],
 "metadata": {
  "anaconda-cloud": {},
  "kernelspec": {
   "display_name": "Python [conda env:twoface]",
   "language": "python",
   "name": "conda-env-twoface-py"
  },
  "language_info": {
   "codemirror_mode": {
    "name": "ipython",
    "version": 3
   },
   "file_extension": ".py",
   "mimetype": "text/x-python",
   "name": "python",
   "nbconvert_exporter": "python",
   "pygments_lexer": "ipython3",
   "version": "3.6.2"
  }
 },
 "nbformat": 4,
 "nbformat_minor": 2
}