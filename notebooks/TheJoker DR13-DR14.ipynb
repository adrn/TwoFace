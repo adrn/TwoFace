{
 "cells": [
  {
   "cell_type": "code",
   "execution_count": null,
   "metadata": {
    "collapsed": true
   },
   "outputs": [],
   "source": [
    "from os import path\n",
    "\n",
    "# Third-party\n",
    "from astropy.io import fits\n",
    "from astropy.table import Table, join\n",
    "import astropy.coordinates as coord\n",
    "from astropy.stats import mad_std\n",
    "from astropy.time import Time\n",
    "import astropy.units as u\n",
    "import matplotlib as mpl\n",
    "import matplotlib.pyplot as plt\n",
    "import numpy as np\n",
    "%matplotlib inline\n",
    "\n",
    "from thejoker.data import RVData\n",
    "from thejoker.sampler import JokerParams, TheJoker\n",
    "from thejoker.plot import plot_rv_curves\n",
    "\n",
    "from twoface.sample_prior import make_prior_cache"
   ]
  },
  {
   "cell_type": "code",
   "execution_count": null,
   "metadata": {
    "collapsed": true
   },
   "outputs": [],
   "source": [
    "star_columns = ['APOGEE_ID', 'NVISITS', 'TEFF', 'TEFF_ERR', 'LOGG', 'LOGG_ERR', 'M_H', 'M_H_ERR']\n",
    "visit_columns = ['VISIT_ID', 'APOGEE_ID', 'MJD', 'JD', 'VREL', 'VRELERR', 'VHELIO', 'SNR', 'CHISQ']"
   ]
  },
  {
   "cell_type": "code",
   "execution_count": null,
   "metadata": {},
   "outputs": [],
   "source": [
    "ness_tbl = Table.read(\"../data/NessRG.fits\")"
   ]
  },
  {
   "cell_type": "code",
   "execution_count": null,
   "metadata": {
    "collapsed": true
   },
   "outputs": [],
   "source": [
    "def read_table(filename, columns):\n",
    "    tbl = fits.getdata(filename)\n",
    "    return Table(tbl.view(tbl.dtype, np.ndarray)[columns])"
   ]
  },
  {
   "cell_type": "code",
   "execution_count": null,
   "metadata": {
    "collapsed": true
   },
   "outputs": [],
   "source": [
    "allstar_dr13 = read_table('/Users/adrian/Data/APOGEE_DR13/allStar-l30e.2.fits', star_columns)\n",
    "allvisit_dr13 = read_table('/Users/adrian/Data/APOGEE_DR13/allVisit-l30e.2.fits', visit_columns)\n",
    "\n",
    "allstar_dr14 = read_table('/Users/adrian/Data/APOGEE_DR14/allStar-l31c.2.fits', star_columns)\n",
    "allvisit_dr14 = read_table('/Users/adrian/Data/APOGEE_DR14/allVisit-l31c.2.fits', visit_columns)"
   ]
  },
  {
   "cell_type": "code",
   "execution_count": null,
   "metadata": {
    "collapsed": true
   },
   "outputs": [],
   "source": [
    "_, uniq_idx = np.unique(allstar_dr13['APOGEE_ID'], return_index=True)\n",
    "dr13 = join(allvisit_dr13, allstar_dr13[uniq_idx], join_type='left',\n",
    "            keys='APOGEE_ID')\n",
    "\n",
    "_, uniq_idx = np.unique(allstar_dr14['APOGEE_ID'], return_index=True)\n",
    "dr14 = join(allvisit_dr14, allstar_dr14[uniq_idx], join_type='left',\n",
    "            keys='APOGEE_ID')"
   ]
  },
  {
   "cell_type": "code",
   "execution_count": null,
   "metadata": {},
   "outputs": [],
   "source": [
    "both = join(dr13, dr14, \n",
    "            join_type=\"inner\", keys=['APOGEE_ID', 'JD'],\n",
    "            table_names=['dr13', 'dr14'])\n",
    "print(len(both))"
   ]
  },
  {
   "cell_type": "markdown",
   "metadata": {},
   "source": [
    "Restrict to only stars with Melissa masses:"
   ]
  },
  {
   "cell_type": "code",
   "execution_count": null,
   "metadata": {
    "collapsed": true
   },
   "outputs": [],
   "source": [
    "both = both[np.isin(both['APOGEE_ID'], ness_tbl['2MASS'])]"
   ]
  },
  {
   "cell_type": "code",
   "execution_count": null,
   "metadata": {
    "collapsed": true
   },
   "outputs": [],
   "source": [
    "assert np.all(both['MJD_dr13'] == both['MJD_dr14'])"
   ]
  },
  {
   "cell_type": "markdown",
   "metadata": {},
   "source": [
    "## Restrict to red giants"
   ]
  },
  {
   "cell_type": "code",
   "execution_count": null,
   "metadata": {},
   "outputs": [],
   "source": [
    "mask = (both['LOGG_dr14'] < 3) & (both['LOGG_dr14'] > -999)\n",
    "mask.sum()"
   ]
  },
  {
   "cell_type": "code",
   "execution_count": null,
   "metadata": {
    "collapsed": true
   },
   "outputs": [],
   "source": [
    "df = both[mask].to_pandas()\n",
    "grouped = df.groupby('APOGEE_ID')"
   ]
  },
  {
   "cell_type": "code",
   "execution_count": null,
   "metadata": {
    "collapsed": true
   },
   "outputs": [],
   "source": [
    "visits4 = grouped.filter(lambda x: len(x) == 4)\n",
    "visits8 = grouped.filter(lambda x: len(x) == 8)\n",
    "visits16 = grouped.filter(lambda x: len(x) == 16)"
   ]
  },
  {
   "cell_type": "markdown",
   "metadata": {},
   "source": [
    "Grab random APOGEE ID's from these 3 classes:"
   ]
  },
  {
   "cell_type": "code",
   "execution_count": null,
   "metadata": {
    "collapsed": true
   },
   "outputs": [],
   "source": [
    "# np.random.seed(100)\n",
    "np.random.seed(42)\n",
    "\n",
    "apogee_ids = []\n",
    "apogee_ids.append(np.random.choice(np.array(visits4['APOGEE_ID']).astype(str)))\n",
    "apogee_ids.append(np.random.choice(np.array(visits8['APOGEE_ID']).astype(str)))\n",
    "apogee_ids.append(np.random.choice(np.array(visits16['APOGEE_ID']).astype(str)))"
   ]
  },
  {
   "cell_type": "markdown",
   "metadata": {},
   "source": [
    "Set up _The Joker_:"
   ]
  },
  {
   "cell_type": "code",
   "execution_count": null,
   "metadata": {
    "collapsed": true
   },
   "outputs": [],
   "source": [
    "prior_file = 'dr14_dr13_prior_samples.h5'\n",
    "params = JokerParams(P_min=8*u.day, P_max=512*u.day)\n",
    "joker = TheJoker(params)"
   ]
  },
  {
   "cell_type": "code",
   "execution_count": null,
   "metadata": {
    "collapsed": true
   },
   "outputs": [],
   "source": [
    "if not path.exists(prior_file):\n",
    "    make_prior_cache(prior_file, joker,\n",
    "                     N=2**22, max_batch_size=2**18)"
   ]
  },
  {
   "cell_type": "code",
   "execution_count": null,
   "metadata": {},
   "outputs": [],
   "source": [
    "ap_id = apogee_ids[1]\n",
    "\n",
    "rows = both[both['APOGEE_ID'] == ap_id]\n",
    "\n",
    "data_dr13 = RVData(t=Time(rows['JD'], format='jd', scale='utc'), \n",
    "                   rv=np.array(rows['VHELIO_dr13']).astype('<f8') * u.km/u.s,\n",
    "                   stddev=np.array(rows['VRELERR_dr13']).astype('<f8') * u.km/u.s)\n",
    "\n",
    "data_dr14 = RVData(t=Time(rows['JD'], format='jd', scale='utc'), \n",
    "                   rv=np.array(rows['VHELIO_dr14']).astype('<f8') * u.km/u.s,\n",
    "                   stddev=np.array(rows['VRELERR_dr14']).astype('<f8') * u.km/u.s)\n",
    "\n",
    "fig,ax = plt.subplots(1, 1, figsize=(8,6))\n",
    "data_dr13.plot(ax=ax, color='tab:blue')\n",
    "data_dr14.plot(ax=ax, color='tab:orange')"
   ]
  },
  {
   "cell_type": "code",
   "execution_count": null,
   "metadata": {
    "collapsed": true
   },
   "outputs": [],
   "source": [
    "samples_dr13 = joker.iterative_rejection_sample(data_dr13, n_requested_samples=128, \n",
    "                                                prior_cache_file=prior_file) \n",
    "\n",
    "samples_dr14 = joker.iterative_rejection_sample(data_dr14, n_requested_samples=128, \n",
    "                                                prior_cache_file=prior_file) "
   ]
  },
  {
   "cell_type": "code",
   "execution_count": null,
   "metadata": {},
   "outputs": [],
   "source": [
    "span = np.ptp(data_dr13.t.mjd)\n",
    "t_grid = np.linspace(data_dr13.t.mjd.min()-0.2*span, \n",
    "                     data_dr13.t.mjd.max()+0.2*span, \n",
    "                     1024)\n",
    "\n",
    "fig, axes = plt.subplots(2, 1, figsize=(8,10), sharex=True, sharey=True)\n",
    "axes[0].set_xlim(t_grid.min(), t_grid.max())\n",
    "\n",
    "_ = plot_rv_curves(samples_dr13, t_grid, rv_unit=u.km/u.s, data=data_dr13, \n",
    "                   ax=axes[0], plot_kwargs=dict(color='#888888'), \n",
    "                   add_labels=False)\n",
    "\n",
    "_ = plot_rv_curves(samples_dr14, t_grid, rv_unit=u.km/u.s, data=data_dr14, \n",
    "                   ax=axes[1], plot_kwargs=dict(color='#888888'))\n",
    "\n",
    "rv_min = min(data_dr13.rv.to(u.km/u.s).value.min(),\n",
    "             data_dr14.rv.to(u.km/u.s).value.min())\n",
    "rv_max = max(data_dr13.rv.to(u.km/u.s).value.max(),\n",
    "             data_dr14.rv.to(u.km/u.s).value.max())\n",
    "yspan = rv_max-rv_min\n",
    "\n",
    "axes[0].set_ylim(rv_min-0.2*yspan, rv_max+0.2*yspan)\n",
    "\n",
    "axes[0].set_title('DR13')\n",
    "axes[1].set_title('DR14')\n",
    "\n",
    "fig.set_facecolor('w')\n",
    "fig.tight_layout()"
   ]
  },
  {
   "cell_type": "code",
   "execution_count": null,
   "metadata": {},
   "outputs": [],
   "source": [
    "fig, axes = plt.subplots(2, 1, figsize=(8, 10), \n",
    "                         sharex=True, sharey=True)\n",
    "\n",
    "axes[0].scatter(samples_dr13['P'].value, \n",
    "                samples_dr13['K'].to(u.km/u.s).value,\n",
    "                marker='.', color='k', alpha=0.45)\n",
    "\n",
    "axes[1].scatter(samples_dr14['P'].value, \n",
    "                samples_dr14['K'].to(u.km/u.s).value,\n",
    "                marker='.', color='k', alpha=0.45)\n",
    "\n",
    "axes[1].set_xlabel(\"$P$ [day]\")\n",
    "axes[0].set_ylabel(\"$K$ [km/s]\")\n",
    "axes[1].set_ylabel(\"$K$ [km/s]\")\n",
    "axes[0].set_xscale('log')\n",
    "\n",
    "fig.tight_layout()"
   ]
  },
  {
   "cell_type": "code",
   "execution_count": null,
   "metadata": {
    "collapsed": true
   },
   "outputs": [],
   "source": [
    "from twobody.celestial.transforms import mf, a1_sini"
   ]
  },
  {
   "cell_type": "code",
   "execution_count": null,
   "metadata": {},
   "outputs": [],
   "source": [
    "a1_sini(samples['P'], samples['K'], samples['ecc']).to(u.Rsun)"
   ]
  },
  {
   "cell_type": "code",
   "execution_count": null,
   "metadata": {
    "collapsed": true
   },
   "outputs": [],
   "source": []
  },
  {
   "cell_type": "code",
   "execution_count": null,
   "metadata": {},
   "outputs": [],
   "source": [
    "plt.hist(np.sqrt(np.exp(np.random.normal(5, 6, size=100000)))/1000., bins=np.logspace(-5, 1, 32))\n",
    "plt.xscale('log')"
   ]
  },
  {
   "cell_type": "code",
   "execution_count": null,
   "metadata": {
    "collapsed": true
   },
   "outputs": [],
   "source": []
  }
 ],
 "metadata": {
  "kernelspec": {
   "display_name": "Python [conda env:twoface]",
   "language": "python",
   "name": "conda-env-twoface-py"
  },
  "language_info": {
   "codemirror_mode": {
    "name": "ipython",
    "version": 3
   },
   "file_extension": ".py",
   "mimetype": "text/x-python",
   "name": "python",
   "nbconvert_exporter": "python",
   "pygments_lexer": "ipython3",
   "version": "3.6.2"
  }
 },
 "nbformat": 4,
 "nbformat_minor": 2
}