{
 "cells": [
  {
   "cell_type": "code",
   "execution_count": null,
   "metadata": {
    "collapsed": true
   },
   "outputs": [],
   "source": [
    "import os\n",
    "from os import path\n",
    "from astropy.time import Time\n",
    "from astropy.io import fits, ascii\n",
    "import astropy.units as u\n",
    "from astropy.table import Table\n",
    "from astropy.constants import G\n",
    "\n",
    "import numpy as np\n",
    "import matplotlib.pyplot as plt\n",
    "%matplotlib inline\n",
    "import h5py\n",
    "from sqlalchemy import func\n",
    "from scipy.optimize import root\n",
    "from scipy.stats import scoreatpercentile\n",
    "import tqdm\n",
    "\n",
    "from thejoker import JokerSamples\n",
    "from thejoker.sampler import JokerParams, TheJoker\n",
    "from thejoker.plot import plot_rv_curves\n",
    "\n",
    "from twoface.config import TWOFACE_CACHE_PATH\n",
    "from twoface.db import (db_connect, AllStar, AllVisit, AllVisitToAllStar, \n",
    "                        StarResult, Status, JokerRun, initialize_db)\n",
    "from twoface.data import APOGEERVData\n",
    "from twoface.plot import plot_data_orbits, plot_two_panel, plot_phase_fold_residual\n",
    "from twoface.mass import m2_func\n",
    "from twoface.samples_analysis import unimodal_P"
   ]
  },
  {
   "cell_type": "code",
   "execution_count": null,
   "metadata": {
    "collapsed": true
   },
   "outputs": [],
   "source": [
    "samples_file = path.join(TWOFACE_CACHE_PATH, 'apogee-jitter.hdf5')\n",
    "Session, _ = db_connect(path.join(TWOFACE_CACHE_PATH, 'apogee.sqlite'))\n",
    "session = Session()"
   ]
  },
  {
   "cell_type": "markdown",
   "metadata": {},
   "source": [
    "---\n",
    "\n",
    "HACK"
   ]
  },
  {
   "cell_type": "code",
   "execution_count": null,
   "metadata": {},
   "outputs": [],
   "source": [
    "stars = session.query(AllStar).join(StarResult, JokerRun, Status).filter(Status.id > 0).all()\n",
    "apogee_ids = np.array([star.apogee_id for star in stars])"
   ]
  },
  {
   "cell_type": "code",
   "execution_count": null,
   "metadata": {},
   "outputs": [],
   "source": [
    "qs = [1, 5, 25, 50, 75, 95, 99]\n",
    "lnK_perc = np.zeros((len(stars), len(qs)))\n",
    "\n",
    "with h5py.File(samples_file, 'r') as f:\n",
    "    for i, star in enumerate(stars):\n",
    "        lnK = np.log(f[star.apogee_id]['K'][:])\n",
    "        lnK_perc[i] = np.percentile(lnK, qs)"
   ]
  },
  {
   "cell_type": "code",
   "execution_count": null,
   "metadata": {},
   "outputs": [],
   "source": [
    "fig, ax = plt.subplots(1, 1, figsize=(8, 6))\n",
    "\n",
    "_, bins, _ = ax.hist(lnK_perc[:, 0], bins='auto', alpha=0.4, label='1');\n",
    "ax.hist(lnK_perc[:, 1], bins=bins, alpha=0.4, label='5');\n",
    "ax.hist(lnK_perc[:, 2], bins=bins, alpha=0.4, label='25');\n",
    "ax.legend(title=r'$\\ln K$ percentile', fontsize=16)\n",
    "\n",
    "ax.axvline(0., zorder=10, color='k', alpha=0.5, linestyle='--')\n",
    "\n",
    "ax.set_yscale('log')\n",
    "ax.set_xlabel(r'$\\ln\\left(\\frac{K}{{\\rm km}\\,{\\rm s}^{-1}}\\right)$')\n",
    "ax.xaxis.set_ticks(np.arange(-10, 8+1, 2));"
   ]
  },
  {
   "cell_type": "markdown",
   "metadata": {},
   "source": [
    "Period dist. stats"
   ]
  },
  {
   "cell_type": "code",
   "execution_count": null,
   "metadata": {},
   "outputs": [],
   "source": [
    "stars = session.query(AllStar).join(StarResult, JokerRun, Status).filter(Status.id == 4).all()\n",
    "apogee_ids = np.array([star.apogee_id for star in stars])"
   ]
  },
  {
   "cell_type": "code",
   "execution_count": null,
   "metadata": {
    "collapsed": true
   },
   "outputs": [],
   "source": [
    "%%time\n",
    "unimodals = []\n",
    "kurtosis = []\n",
    "skewness = []\n",
    "with h5py.File(samples_file, 'r') as f:\n",
    "    for star in stars:\n",
    "        samples = JokerSamples.from_hdf5(f[star.apogee_id])\n",
    "        P_uni = unimodal_P(samples, star.apogeervdata())\n",
    "        unimodals.append(P_uni)\n",
    "        \n",
    "        lnP = np.log(samples['P'].value)\n",
    "        \n",
    "        # ~kurtosis\n",
    "        pers = np.percentile(lnP, [2.5, 97.5, 16, 84])\n",
    "        diffs = pers[1::2] - pers[::2]\n",
    "        kurtosis.append(diffs[1] / diffs[0])\n",
    "        \n",
    "        # ~skewness\n",
    "        Q1, Q2, Q3 = np.percentile(lnP, [25, 50, 75])\n",
    "        skewness.append( (Q3+Q1-2*Q2) / (Q3-Q1) )\n",
    "\n",
    "unimodals = np.array(unimodals)\n",
    "kurtosis = np.array(kurtosis)\n",
    "skewness = np.array(skewness)"
   ]
  },
  {
   "cell_type": "code",
   "execution_count": null,
   "metadata": {
    "collapsed": true
   },
   "outputs": [],
   "source": [
    "unimodals.sum()"
   ]
  },
  {
   "cell_type": "code",
   "execution_count": null,
   "metadata": {
    "collapsed": true
   },
   "outputs": [],
   "source": [
    "fig, ax = plt.subplots(1, 1, figsize=(6, 6))\n",
    "ax.scatter(kurtosis, skewness, marker='.', linewidth=0, alpha=0.2, s=3)\n",
    "ax.scatter(0.5, 0.)"
   ]
  },
  {
   "cell_type": "code",
   "execution_count": null,
   "metadata": {
    "collapsed": true
   },
   "outputs": [],
   "source": [
    "test = (np.abs(kurtosis-0.5) < 0.01) & np.abs(skewness < 0.01)\n",
    "test.sum()"
   ]
  },
  {
   "cell_type": "code",
   "execution_count": null,
   "metadata": {
    "collapsed": true
   },
   "outputs": [],
   "source": [
    "with h5py.File(samples_file) as f:\n",
    "    for apogee_id in apogee_ids[test][:5]:\n",
    "        star = AllStar.get_apogee_id(session, apogee_id)\n",
    "        data = star.apogeervdata()\n",
    "        samples = JokerSamples.from_hdf5(f[apogee_id])\n",
    "        fig = plot_two_panel(data, samples, plot_data_orbits_kw=dict(xlim_choice='tight'))\n",
    "        \n",
    "        lnP = np.log(samples['P'].value)\n",
    "        pers = np.percentile(lnP, [2.5, 97.5, 16, 84])\n",
    "        diffs = pers[1::2] - pers[::2]\n",
    "        fig.axes[0].set_title(\"{:.3f}\".format(diffs[1]/diffs[0]))"
   ]
  },
  {
   "cell_type": "code",
   "execution_count": null,
   "metadata": {
    "collapsed": true,
    "scrolled": false
   },
   "outputs": [],
   "source": [
    "with h5py.File(samples_file) as f:\n",
    "    for apogee_id in apogee_ids[unimodals][20:]:\n",
    "        star = AllStar.get_apogee_id(session, apogee_id)\n",
    "        data = star.apogeervdata()\n",
    "        samples = JokerSamples.from_hdf5(f[apogee_id])\n",
    "        fig = plot_two_panel(data, samples, plot_data_orbits_kw=dict(xlim_choice='tight'))\n",
    "        \n",
    "        lnP = np.log(samples['P'].value)\n",
    "        pers = np.percentile(lnP, [2.5, 97.5, 16, 84])\n",
    "        diffs = pers[1::2] - pers[::2]\n",
    "        fig.axes[0].set_title(\"{:.3f}\".format(diffs[1]/diffs[0]))"
   ]
  },
  {
   "cell_type": "markdown",
   "metadata": {},
   "source": [
    "## Compute acceleration metrics"
   ]
  },
  {
   "cell_type": "code",
   "execution_count": null,
   "metadata": {
    "collapsed": true
   },
   "outputs": [],
   "source": [
    "%%time\n",
    "\n",
    "all_acc = None\n",
    "all_apogee_ids = []\n",
    "with h5py.File(samples_file) as f:\n",
    "    for i, key in enumerate(f):\n",
    "        if all_acc is None:\n",
    "            all_acc = np.full((len(f), n_samples), np.nan)\n",
    "            K_unit = u.Unit(f[key]['K'].attrs['unit'])\n",
    "            P_unit = u.Unit(f[key]['P'].attrs['unit'])\n",
    "        \n",
    "        _n = len(f[key]['K'][:])\n",
    "        all_acc[i, :_n] = f[key]['K'][:] / f[key]['P'][:]\n",
    "        all_apogee_ids.append(key)\n",
    "        \n",
    "all_acc = all_acc * K_unit / P_unit\n",
    "all_apogee_ids = np.array(all_apogee_ids)"
   ]
  },
  {
   "cell_type": "code",
   "execution_count": null,
   "metadata": {
    "collapsed": true
   },
   "outputs": [],
   "source": [
    "acc_per = np.nanpercentile(all_acc, 10, axis=1)"
   ]
  },
  {
   "cell_type": "code",
   "execution_count": null,
   "metadata": {
    "collapsed": true
   },
   "outputs": [],
   "source": [
    "fig, ax = plt.subplots(1, 1)\n",
    "\n",
    "ax.hist(acc_per, \n",
    "        bins=np.logspace(-6, 2, 64));\n",
    "ax.set_xscale('log')\n",
    "ax.set_yscale('log')\n",
    "\n",
    "ax.set_xlabel('$K / P$ [{0:latex_inline}]'.format(K_unit/P_unit))\n",
    "ax.set_ylabel('$N$')\n",
    "ax.set_title('10th percentile acc.')"
   ]
  },
  {
   "cell_type": "code",
   "execution_count": null,
   "metadata": {
    "collapsed": true
   },
   "outputs": [],
   "source": [
    "[(x, (acc_per > x).sum()) for x in 10**np.arange(-3, 1+0.1, 0.5)]"
   ]
  },
  {
   "cell_type": "markdown",
   "metadata": {},
   "source": [
    "# Stars with constraining data:"
   ]
  },
  {
   "cell_type": "code",
   "execution_count": null,
   "metadata": {
    "collapsed": true
   },
   "outputs": [],
   "source": [
    "# needs more samples\n",
    "stars1 = session.query(AllStar).join(StarResult, JokerRun, Status)\\\n",
    "                .filter(JokerRun.name == 'apogee-jitter')\\\n",
    "                .filter(Status.id == 1).all()\n",
    "\n",
    "# needs mcmc\n",
    "stars2 = session.query(AllStar).join(StarResult, JokerRun, Status)\\\n",
    "                .filter(JokerRun.name == 'apogee-jitter')\\\n",
    "                .filter(Status.id == 2).all()\n",
    "\n",
    "# HACK: only stars that pass Marie's cuts\n",
    "# stars2 = session.query(AllStar).join(StarResult, JokerRun, Status)\\\n",
    "#                 .filter(JokerRun.name == 'apogee-jitter')\\\n",
    "#                 .filter((AllStar.logg < 3.5) & (AllStar.logg > -9999))\\\n",
    "#                 .filter(Status.id == 2)\\\n",
    "#                 .filter(AllStar.martig_filter).all() # only look at RGB for now\n",
    "            \n",
    "len(stars1), len(stars2)"
   ]
  },
  {
   "cell_type": "code",
   "execution_count": null,
   "metadata": {
    "collapsed": true
   },
   "outputs": [],
   "source": [
    "os.makedirs('../plots/needs-mcmc', exist_ok=True)\n",
    "\n",
    "for star in stars2:\n",
    "    with h5py.File(samples_file) as f:\n",
    "        samples = JokerSamples.from_hdf5(f[star.apogee_id])\n",
    "    data = star.apogeervdata()\n",
    "    \n",
    "    fig = plot_two_panel(data, samples)\n",
    "    fig.savefig('../plots/needs-mcmc/{0}-2panel.png'.format(star.apogee_id), dpi=200)\n",
    "    \n",
    "    fig = plot_phase_fold(data, samples[0])\n",
    "    fig.savefig('../plots/needs-mcmc/{0}-residual.png'.format(star.apogee_id), dpi=200)\n",
    "    \n",
    "    plt.close('all')"
   ]
  },
  {
   "cell_type": "code",
   "execution_count": null,
   "metadata": {
    "collapsed": true
   },
   "outputs": [],
   "source": [
    "all_m1 = u.Quantity([x.martig_mass for x in session.query(AllStar).filter(AllStar.martig_filter).all()])\n",
    "plt.hist(all_m1.value, bins='auto');"
   ]
  },
  {
   "cell_type": "markdown",
   "metadata": {},
   "source": [
    "## Stars with large acceleration"
   ]
  },
  {
   "cell_type": "code",
   "execution_count": null,
   "metadata": {
    "collapsed": true
   },
   "outputs": [],
   "source": [
    "mask = ((acc_per > 1e-2) & (np.isin(all_apogee_ids, [x.apogee_id for x in stars1+stars2])))\n",
    "sub_apogee_ids = all_apogee_ids[mask]\n",
    "mask.sum()"
   ]
  },
  {
   "cell_type": "code",
   "execution_count": null,
   "metadata": {
    "collapsed": true
   },
   "outputs": [],
   "source": [
    "aid = sub_apogee_ids[10]\n",
    "star = session.query(AllStar).filter(AllStar.apogee_id == aid).limit(1).one()\n",
    "\n",
    "with h5py.File(samples_file) as f:\n",
    "    samples = JokerSamples.from_hdf5(f[star.apogee_id])\n",
    "\n",
    "_ = make_two_panel(star)"
   ]
  },
  {
   "cell_type": "code",
   "execution_count": null,
   "metadata": {
    "collapsed": true
   },
   "outputs": [],
   "source": [
    "%%time \n",
    "\n",
    "mean_Ps = []\n",
    "mean_es = []\n",
    "loggs = []\n",
    "used_apogee_ids = []\n",
    "with h5py.File(samples_file) as f:\n",
    "    for aid in sub_apogee_ids:\n",
    "        samples = JokerSamples.from_hdf5(f[aid])\n",
    "        star = session.query(AllStar).filter(AllStar.apogee_id == aid).limit(1).one()\n",
    "        data = star.apogeervdata()\n",
    "        if unimodal_P(samples, data):\n",
    "            mean_Ps.append(np.mean(samples['P']))\n",
    "            mean_es.append(np.mean(samples['e']))\n",
    "            loggs.append(star.logg)\n",
    "            used_apogee_ids.append(aid)\n",
    "            \n",
    "mean_Ps = u.Quantity(mean_Ps)\n",
    "mean_es = u.Quantity(mean_es)\n",
    "loggs = np.array(loggs)\n",
    "used_apogee_ids = np.array(used_apogee_ids)"
   ]
  },
  {
   "cell_type": "code",
   "execution_count": null,
   "metadata": {
    "collapsed": true
   },
   "outputs": [],
   "source": [
    "fig, ax = plt.subplots(1, 1, figsize=(7.2, 6))\n",
    "\n",
    "c = ax.scatter(mean_Ps[loggs > 1.5], mean_es[loggs > 1.5], c=loggs[loggs > 1.5],\n",
    "               marker='o', alpha=0.85, linewidth=1, s=28,\n",
    "               edgecolor='#666666', cmap='viridis_r', vmin=1.5, vmax=3.5)\n",
    "ax.set_xscale('log')\n",
    "cb = fig.colorbar(c)\n",
    "cb.set_label(r'$\\log g$')\n",
    "\n",
    "ax.set_xlim(0.8, 500)\n",
    "ax.set_ylim(-0.05, 1.)\n",
    "\n",
    "ax.set_xlabel(r'mean $P$ [day]')\n",
    "ax.set_ylabel(r'eccentricity $e$')\n",
    "fig.savefig('../plots/P_e_prelim_logg.png', dpi=256)"
   ]
  },
  {
   "cell_type": "code",
   "execution_count": null,
   "metadata": {
    "collapsed": true
   },
   "outputs": [],
   "source": [
    "aid = used_apogee_ids[(loggs > 1.5) & (loggs < 2.5) & (mean_Ps < 10*u.day)][2]\n",
    "star = session.query(AllStar).filter(AllStar.apogee_id == aid).limit(1).one()\n",
    "print(2 * (0.015 ** (1/3.*star.logg)))\n",
    "\n",
    "apogee_id = star.apogee_id\n",
    "\n",
    "with h5py.File(samples_file) as f:\n",
    "    samples = JokerSamples.from_hdf5(f[apogee_id])\n",
    "\n",
    "_ = make_two_panel(star)"
   ]
  },
  {
   "cell_type": "markdown",
   "metadata": {},
   "source": [
    "---"
   ]
  },
  {
   "cell_type": "code",
   "execution_count": null,
   "metadata": {
    "collapsed": true
   },
   "outputs": [],
   "source": [
    "m2_mins = []\n",
    "for star in stars2:\n",
    "    with h5py.File(samples_file, mode='r') as f:\n",
    "        samples = JokerSamples.from_hdf5(f[star.apogee_id])\n",
    "\n",
    "    orbit = samples.get_orbit(0)\n",
    "    res = root(func, x0=100., args=(orbit.elements.m_f.value, .5))\n",
    "    m2_mins.append(res.x[0])"
   ]
  },
  {
   "cell_type": "code",
   "execution_count": null,
   "metadata": {
    "collapsed": true
   },
   "outputs": [],
   "source": [
    "all_pars = None\n",
    "for star in stars2:\n",
    "    data = star.apogeervdata(clean=True)\n",
    "    \n",
    "    with h5py.File(samples_file, mode='r') as f:\n",
    "        samples = JokerSamples.from_hdf5(f[star.apogee_id])\n",
    "    \n",
    "    orbit = samples.get_orbit(0)\n",
    "    \n",
    "    if all_pars is None:\n",
    "        all_pars = Table()\n",
    "        \n",
    "        for key in samples.keys():\n",
    "            all_pars[key] = samples[key][:1]\n",
    "            \n",
    "        all_pars['snr'] = [star.snr]\n",
    "        all_pars['logg'] = [star.logg]\n",
    "        all_pars['fe_h'] = [star.fe_h]\n",
    "        all_pars['fe_h_err'] = [star.fe_h_err]\n",
    "        all_pars['nvisits'] = [len(data)]\n",
    "        \n",
    "    else:\n",
    "        row = dict(samples[:1])\n",
    "        row['snr'] = [star.snr]\n",
    "        row['logg'] = [star.logg]\n",
    "        row['fe_h'] = [star.fe_h]\n",
    "        row['fe_h_err'] = [star.fe_h_err]\n",
    "        row['nvisits'] = [len(data)]\n",
    "        all_pars.add_row(row)"
   ]
  },
  {
   "cell_type": "code",
   "execution_count": null,
   "metadata": {
    "collapsed": true
   },
   "outputs": [],
   "source": [
    "all_pars['m2_min'] = m2_mins * u.Msun\n",
    "all_pars['chi2'] = chisqs"
   ]
  },
  {
   "cell_type": "code",
   "execution_count": null,
   "metadata": {
    "collapsed": true
   },
   "outputs": [],
   "source": [
    "fig, ax = plt.subplots(1, 1, figsize=(12, 5))\n",
    "cb_in = ax.scatter(all_pars['P'], all_pars['e'], \n",
    "                   c=all_pars['chi2'], marker='.',\n",
    "                   vmin=1, vmax=50, cmap='Greys_r')\n",
    "ax.set_xscale('log')\n",
    "\n",
    "cb = fig.colorbar(cb_in)\n",
    "cb.set_label(r'$\\chi^2$')\n",
    "\n",
    "ax.set_xlabel('$P$ [{0:latex_inline}]'.format(all_pars['P'].unit))\n",
    "ax.set_ylabel('$e$')"
   ]
  },
  {
   "cell_type": "code",
   "execution_count": null,
   "metadata": {
    "collapsed": true,
    "scrolled": false
   },
   "outputs": [],
   "source": [
    "fig, ax = plt.subplots(1, 1, figsize=(8, 5))\n",
    "\n",
    "sub = all_pars[all_pars['snr']>100]\n",
    "cb_in = ax.scatter(sub['P'], sub['e'], marker='.', cmap='magma_r',\n",
    "                   c=sub['nvisits'], vmin=3, vmax=20)\n",
    "ax.set_xscale('log')\n",
    "ax.set_xlim(1, 2000)\n",
    "ax.set_xlabel('$P$ [{0:latex_inline}]'.format(all_pars['P'].unit))\n",
    "ax.set_ylabel('$e$')\n",
    "ax.set_title('SNR > 100')\n",
    "\n",
    "cb = fig.colorbar(cb_in)\n",
    "cb.set_label('$N$ visits')"
   ]
  },
  {
   "cell_type": "code",
   "execution_count": null,
   "metadata": {
    "collapsed": true
   },
   "outputs": [],
   "source": [
    "fig, ax = plt.subplots(1, 1, figsize=(6, 5))\n",
    "\n",
    "sub = all_pars[ (all_pars['snr'] > 100) & \n",
    "                (all_pars['fe_h'] > -999)]\n",
    "\n",
    "print(len(sub))\n",
    "\n",
    "ax.errorbar(sub['P'], sub['fe_h'], yerr=sub['fe_h_err'],\n",
    "            linestyle='none', marker='.', color='k')\n",
    "\n",
    "ax.set_xscale('log')\n",
    "ax.set_xlim(1, 2000)\n",
    "\n",
    "# ax.set_xlabel('[Fe/H]')\n",
    "# ax.set_ylabel(r'$M_{2, {\\rm min}}$ ' + '[{0:latex_inline}]'.format(u.Msun))\n",
    "\n",
    "# ax.set_title('log$g$ < 3.25, $\\chi^2$ < 30')\n",
    "fig.tight_layout()"
   ]
  },
  {
   "cell_type": "code",
   "execution_count": null,
   "metadata": {
    "collapsed": true
   },
   "outputs": [],
   "source": [
    "fig, ax = plt.subplots(1, 1, figsize=(6, 5))\n",
    "\n",
    "sub = all_pars[ (all_pars['logg'] < 3.25) & \n",
    "                (all_pars['logg'] > -999) & \n",
    "                (all_pars['fe_h'] > -999) &\n",
    "                (all_pars['chi2'] < 30)]\n",
    "\n",
    "print(len(sub))\n",
    "\n",
    "ax.errorbar(sub['fe_h'], sub['m2_min'], xerr=sub['fe_h_err'],\n",
    "            linestyle='none', marker='.', color='k')\n",
    "ax.set_yscale('log')\n",
    "\n",
    "ax.set_ylabel(r'$M_{2, {\\rm min}}$ ' + '[{0:latex_inline}]'.format(u.Msun))\n",
    "ax.set_xlabel('[Fe/H]')\n",
    "\n",
    "ax.set_title('log$g$ < 3.25, $\\chi^2$ < 30')\n",
    "fig.tight_layout()"
   ]
  },
  {
   "cell_type": "code",
   "execution_count": null,
   "metadata": {
    "collapsed": true
   },
   "outputs": [],
   "source": [
    "fig, ax = plt.subplots(1, 1, figsize=(6, 5))\n",
    "\n",
    "c = ax.scatter(sub['chi2'], sub['m2_min'], c=sub['nvisits'], \n",
    "               vmin=3, vmax=20, marker='.')\n",
    "ax.set_yscale('log')\n",
    "ax.set_ylim(1E-3, 1e2)\n",
    "ax.set_xlim(0, 50)\n",
    "\n",
    "ax.set_xlabel(r'$\\chi^2$')\n",
    "ax.set_ylabel(r'$M_{2, {\\rm min}}$ ' + '[{0:latex_inline}]'.format(u.Msun))\n",
    "\n",
    "cb = fig.colorbar(c)\n",
    "cb.set_label('$N$ visits')"
   ]
  },
  {
   "cell_type": "code",
   "execution_count": null,
   "metadata": {
    "collapsed": true
   },
   "outputs": [],
   "source": [
    "fig, axes = plt.subplots(1, 2, sharex=True, figsize=(10,4))\n",
    "\n",
    "n, bins, _ = axes[0].hist(all_pars['M0'], bins='auto');\n",
    "binc = (bins[:-1]+bins[1:])/2.\n",
    "axes[0].errorbar(binc, n, np.sqrt(n), marker='', linestyle='none')\n",
    "axes[0].set_xlabel('$M_0$ [rad]')\n",
    "\n",
    "n, bins, _ = axes[1].hist(all_pars['omega'], bins='auto');\n",
    "binc = (bins[:-1]+bins[1:])/2.\n",
    "axes[1].errorbar(binc, n, np.sqrt(n), marker='', linestyle='none')\n",
    "axes[1].set_xlabel('$\\omega$ [rad]')\n",
    "\n",
    "axes[1].axvline(np.pi)"
   ]
  },
  {
   "cell_type": "code",
   "execution_count": null,
   "metadata": {
    "collapsed": true
   },
   "outputs": [],
   "source": [
    "from scipy.stats import beta"
   ]
  },
  {
   "cell_type": "code",
   "execution_count": null,
   "metadata": {
    "collapsed": true
   },
   "outputs": [],
   "source": [
    "sub = all_pars[all_pars['snr'] > 100]\n",
    "bins = np.linspace(0, 1, 13)\n",
    "\n",
    "fig, axes = plt.subplots(1, 2, figsize=(10, 5), sharex=True)\n",
    "\n",
    "mask = sub['P'] < 20\n",
    "axes[0].hist(sub[mask]['e'], bins=bins, normed=True, alpha=0.8);\n",
    "axes[0].set_title(r'$P < 20\\,{{\\rm d}}$ ({0} stars)'.format(mask.sum()))\n",
    "\n",
    "axes[1].hist(sub[~mask]['e'], bins=bins, normed=True, alpha=0.8);\n",
    "axes[1].set_title(r'$P > 20\\,{{\\rm d}}$ ({0} stars)'.format(np.logical_not(mask).sum()))\n",
    "\n",
    "ecc = np.linspace(0, 1, 100)\n",
    "for ax in axes:\n",
    "    ax.plot(ecc, beta.pdf(ecc, 0.867, 3.03), marker='', label='prior')\n",
    "    ax.set_xlabel('eccentricity, $e$')\n",
    "    \n",
    "fig.tight_layout()"
   ]
  },
  {
   "cell_type": "code",
   "execution_count": null,
   "metadata": {
    "collapsed": true
   },
   "outputs": [],
   "source": []
  },
  {
   "cell_type": "markdown",
   "metadata": {},
   "source": [
    "---\n",
    "\n",
    "## Estimate primary mass using Martig et al. fits\n",
    "\n",
    "From FPARAM, do cuts:\n",
    "* M_H > -0.8\n",
    "* 4000 < TEFF < 5000\n",
    "* 1.8 < LOGG < 3.3\n",
    "* -0.25 C_M < 0.15\n",
    "* -0.1 < N_M < 0.45\n",
    "* -0.1 < CN_M < 0.15\n",
    "* -0.6 < C_N < 0.2\n",
    "\n",
    "FPARAM: \n",
    "* 0 - Teff\n",
    "* 1 - logg\n",
    "* 2 - vmicro\n",
    "* 3 - [M/H]\n",
    "* 4 - [C/M]\n",
    "* 5 - [N/M]\n",
    "\n",
    "*Now all in twoface/mass.py*"
   ]
  },
  {
   "cell_type": "code",
   "execution_count": null,
   "metadata": {
    "collapsed": true
   },
   "outputs": [],
   "source": [
    "stars = session.query(AllStar).join(StarResult, JokerRun)\\\n",
    "               .group_by(AllStar.apstar_id)\\\n",
    "               .filter(JokerRun.name == 'apogee-jitter')\\\n",
    "               .filter(StarResult.status_id > 0)\\\n",
    "               .filter(AllStar.martig_filter).all()\n",
    "len(stars)"
   ]
  },
  {
   "cell_type": "code",
   "execution_count": null,
   "metadata": {
    "collapsed": true
   },
   "outputs": [],
   "source": [
    "def get_m2_samples(star, samples, n_mass_samples=128):\n",
    "\n",
    "    # Estimate secondary mass\n",
    "    Merr = 0.25 # from Martig et al.\n",
    "    m1s = np.random.normal(star.martig_mass, Merr, size=n_mass_samples) * u.Msun\n",
    "    sini = np.sin(np.arccos(1 - np.random.uniform(size=n_mass_samples)))\n",
    "    mfs = mf(samples['P'], samples['K'], samples['ecc']).to(u.Msun).value\n",
    "\n",
    "    m2s = []\n",
    "    for k in range(len(mfs)):\n",
    "        for i in range(n_mass_samples):\n",
    "            res = root(m2_func, 0.1, args=(m1s.value[i], sini[i], mfs[k]))\n",
    "            if not res.success:\n",
    "                print(\"Failed\")\n",
    "                m2s.append(1E-10)\n",
    "                continue\n",
    "\n",
    "            m2s.append(res.x[0])\n",
    "    m2s = m2s*u.Msun\n",
    "    m2s = m2s.reshape(len(samples), n_mass_samples)\n",
    "    return m2s\n",
    "\n",
    "def get_m2_min_samples(star, samples, n_mass_samples=128):\n",
    "\n",
    "    # Estimate secondary mass\n",
    "    Merr = 0.25 # from Martig et al.\n",
    "    m1s = np.random.normal(star.martig_mass, Merr, size=n_mass_samples) * u.Msun\n",
    "    mfs = mf(samples['P'], samples['K'], samples['ecc']).to(u.Msun).value\n",
    "\n",
    "    m2s = []\n",
    "    failure = False\n",
    "    for k in range(len(mfs)):\n",
    "        for i in range(n_mass_samples):\n",
    "            res = root(m2_func, 0.1, args=(m1s.value[i], 1., mfs[k]))\n",
    "            if not res.success:\n",
    "                failure = True\n",
    "                m2s.append(1E-10)\n",
    "                print(k, m1s.value[i], mfs[k])\n",
    "                continue\n",
    "\n",
    "            m2s.append(res.x[0])\n",
    "    m2s = m2s*u.Msun\n",
    "    m2s = m2s.reshape(len(samples), n_mass_samples)\n",
    "    \n",
    "    if failure:\n",
    "        print(\"Star {0}: failed to compute m2 for some samples.\".format(star.apogee_id))\n",
    "    \n",
    "    return m2s"
   ]
  },
  {
   "cell_type": "code",
   "execution_count": null,
   "metadata": {
    "collapsed": true
   },
   "outputs": [],
   "source": [
    "def m2_samples_plot(star, ax=None, min=True):\n",
    "        \n",
    "    if ax is None:\n",
    "        fig, ax = plt.subplots(1, 1)\n",
    "    \n",
    "    else:\n",
    "        fig = ax.figure\n",
    "\n",
    "    # load posterior samples from The Joker\n",
    "    samples = load_samples(samples_file, star.apogee_id)\n",
    "    if min:\n",
    "        m2s = get_m2_min_samples(star, samples)\n",
    "        xlabel = r'M_{2, {\\rm min}}'\n",
    "    else:\n",
    "        m2s = get_m2_samples(star, samples)\n",
    "        xlabel = r'M_2'\n",
    "    \n",
    "    # bins = np.linspace(0.1, 10, 41)\n",
    "    bins = np.logspace(-3, 1, 31)\n",
    "    ax.set_xscale('log')\n",
    "        \n",
    "    # Now also r_peri^2\n",
    "    # a1 = np.cbrt(samples['P'][:,None]**2 / (4*np.pi**2 / (G * (m1s[None]+m2s))))\n",
    "    # r_peri2 = (m1s[None]/m2s) * a1.to(u.au) * (1-samples['ecc'][:,None])\n",
    "    \n",
    "    ax.hist(m2s.to(u.Msun).value.ravel(), bins=bins, normed=True)\n",
    "    ax.set_xlabel('${0}$ [{1:latex_inline}]'.format(xlabel, u.Msun))\n",
    "#     ax.set_xscale('log')\n",
    "\n",
    "    return fig, ax"
   ]
  },
  {
   "cell_type": "code",
   "execution_count": null,
   "metadata": {
    "collapsed": true
   },
   "outputs": [],
   "source": [
    "m1s = np.array([s.martig_mass for s in stars])"
   ]
  },
  {
   "cell_type": "code",
   "execution_count": null,
   "metadata": {
    "collapsed": true
   },
   "outputs": [],
   "source": [
    "K_percentiles = np.zeros((len(stars), 3))\n",
    "i = 0\n",
    "for star in tqdm.tqdm(stars):\n",
    "    samples = load_samples(samples_file, star.apogee_id)\n",
    "    K_percentiles[i] = scoreatpercentile(samples['K'].to(u.km/u.s).value, [15., 50., 85])\n",
    "    i += 1"
   ]
  },
  {
   "cell_type": "code",
   "execution_count": null,
   "metadata": {
    "collapsed": true
   },
   "outputs": [],
   "source": [
    "m2_min_percentiles = np.zeros((len(stars), 3))\n",
    "i = 0\n",
    "for star in tqdm.tqdm(stars):\n",
    "    m2s = get_m2_min_samples(star, load_samples(samples_file, star.apogee_id),\n",
    "                             n_mass_samples=8)\n",
    "    m2_min_percentiles[i] = scoreatpercentile(m2s.value.ravel(), [15., 50., 85])\n",
    "    i += 1"
   ]
  },
  {
   "cell_type": "code",
   "execution_count": null,
   "metadata": {
    "collapsed": true
   },
   "outputs": [],
   "source": [
    "# Where the companion is probably massive\n",
    "big_m2_idx, = np.where(m2_min_percentiles[:,0] > 1.)\n",
    "print(len(big_m2_idx))\n",
    "\n",
    "# Where the companion mass is well-constrained\n",
    "constrained_m2_idx, = np.where(((m2_min_percentiles[:,2] - m2_min_percentiles[:,0]) < 0.1) & \n",
    "                                (m2_min_percentiles[:,0] > 0.01) & \n",
    "                                (K_percentiles[:,0] > 0.4))\n",
    "print(len(constrained_m2_idx))\n",
    "\n",
    "# Most of these are negative primary masses lol\n",
    "# bigger_m2_idx, = np.where(m2_min_percentiles[:,0] > m1s)\n",
    "# print(len(bigger_m2_idx))"
   ]
  },
  {
   "cell_type": "code",
   "execution_count": null,
   "metadata": {
    "collapsed": true
   },
   "outputs": [],
   "source": [
    "# star = stars[big_m2_idx[0]]\n",
    "star = stars[constrained_m2_idx[61]]\n",
    "# star = stars[bigger_m2_idx[3]]\n",
    "\n",
    "data = star.apogeervdata(clean=True)\n",
    "samples = load_samples(samples_file, star.apogee_id)\n",
    "\n",
    "fig, axes = plt.subplots(1, 2, figsize=(10,5))\n",
    "\n",
    "_ = plot_data_orbits(data, samples, ax=axes[0], xlim_choice='tight')\n",
    "_ = m2_samples_plot(star, min=True, ax=axes[1])\n",
    "\n",
    "axes[1].set_xlim(0, 8)\n",
    "axes[1].axvspan(star.martig_mass-0.25, star.martig_mass+0.25, \n",
    "                color='tab:orange', alpha=0.4, linewidth=0)\n",
    "axes[1].axvline(star.martig_mass, color='tab:orange', alpha=0.6)"
   ]
  },
  {
   "cell_type": "code",
   "execution_count": null,
   "metadata": {
    "collapsed": true
   },
   "outputs": [],
   "source": [
    "# x = np.random.uniform(0., 10, size=10000)\n",
    "# plt.hist(x, bins=np.logspace(-3, 1, 51), log=True, normed=True);\n",
    "# # n, bins, _ = np.histogram(x, bins=np.logspace(-3, 1, 51), log=True);\n",
    "# plt.xscale('log')"
   ]
  },
  {
   "cell_type": "markdown",
   "metadata": {},
   "source": [
    "---\n",
    "\n",
    "### Make a bunch of plots:"
   ]
  },
  {
   "cell_type": "code",
   "execution_count": null,
   "metadata": {
    "collapsed": true
   },
   "outputs": [],
   "source": [
    "stars = session.query(AllStar)\\\n",
    "               .join(StarResult, JokerRun, Status)\\\n",
    "               .filter(Status.id == 1).all()"
   ]
  },
  {
   "cell_type": "code",
   "execution_count": null,
   "metadata": {
    "collapsed": true
   },
   "outputs": [],
   "source": [
    "def make_plots(star, save=False):\n",
    "    \n",
    "    if len(star.results) != 1:\n",
    "        raise NotImplementedError()\n",
    "        \n",
    "    msg = '-'.join(star.results[0].status.message.split())\n",
    "    plot_path = '../plots/{0}'.format(msg)\n",
    "    \n",
    "    if not path.exists(plot_path):\n",
    "        os.makedirs(plot_path)\n",
    "        \n",
    "    run = star.results[0].jokerrun\n",
    "\n",
    "    # get the RV data for this star\n",
    "    data = star.apogeervdata()\n",
    "    data = data[data.stddev < 10*u.km/u.s]\n",
    "\n",
    "    # load posterior samples from The Joker\n",
    "    samples_path = path.join(TWOFACE_CACHE_PATH, '{0}.hdf5'.format(run.name))\n",
    "    samples_dict = load_samples(samples_path, star.apogee_id)\n",
    "\n",
    "    samples = JokerSamples(trend_cls=VelocityTrend1, **samples_dict)\n",
    "\n",
    "    # Plot the data with orbits on top\n",
    "    fig = plot_data_orbits(data, samples, jitter=run.jitter, \n",
    "                           xlim_choice='wide', title=star.apogee_id)\n",
    "    fig.set_tight_layout(True)\n",
    "    \n",
    "    if save:\n",
    "        fig.savefig(path.join(plot_path, '{0}-orbits.png'.format(star.apogee_id)), \n",
    "                    dpi=250)\n",
    "\n",
    "    # fig = plot_data_orbits(data, samples, jitter=run.jitter,\n",
    "    #                        xlim_choice='tight', title=star.apogee_id)\n",
    "    # fig.set_tight_layout(True)\n",
    "    \n",
    "    # plot samples\n",
    "    fig, axes = plt.subplots(1, 2, figsize=(12, 6), sharey=True)\n",
    "    \n",
    "    ax = axes[0]\n",
    "    ax.scatter(samples['P'].value,\n",
    "               samples['K'].to(u.km/u.s).value,\n",
    "               marker='.', color='k', alpha=0.45)\n",
    "\n",
    "    ax.set_xlabel(\"$P$ [day]\")\n",
    "    ax.set_ylabel(\"$K$ [{0:latex_inline}]\".format(u.km/u.s))\n",
    "    ax.set_xscale('log')\n",
    "    ax.set_yscale('log')\n",
    "    \n",
    "    ax.set_xlim(8, 32768)\n",
    "    ax.set_ylim(1E-3, 1E3)\n",
    "    \n",
    "    # plot 2\n",
    "    ax = axes[1]\n",
    "    ax.scatter(samples['ecc'],\n",
    "               samples['K'].to(u.km/u.s).value,\n",
    "               marker='.', color='k', alpha=0.45)\n",
    "    ax.set_xlabel(\"$e$\")\n",
    "    ax.set_xlim(0, 1)\n",
    "    \n",
    "    if save:\n",
    "        fig.savefig(path.join(plot_path, '{0}-samples.png'.format(star.apogee_id)), \n",
    "                        dpi=250)\n",
    "    \n",
    "    # HACK: estimate secondary masses\n",
    "    # As a total hack, for now, assume 1.25 +/- 0.25 Msun (what the Martig sample looks like)\n",
    "    n_mass_samples = 128\n",
    "    m1s = np.random.normal(1.25, 0.25, size=n_mass_samples) * u.Msun\n",
    "    sini = np.sin(np.arccos(1 - np.random.uniform(size=n_mass_samples)))\n",
    "    mfs = mf(samples['P'], samples['K'], samples['ecc']).to(u.Msun).value\n",
    "\n",
    "    m2s = []\n",
    "    for k in range(len(mfs)):\n",
    "        for i in range(n_mass_samples):\n",
    "            res = root(m2_func, 0.1, args=(m1s.value[i], sini[i], mfs[k]))\n",
    "            if not res.success:\n",
    "                print(\"Failed\")\n",
    "                m2s.append(1E-10)\n",
    "                continue\n",
    "\n",
    "            m2s.append(res.x[0])\n",
    "    m2s = m2s*u.Msun\n",
    "    m2s = m2s.reshape(len(samples), n_mass_samples)\n",
    "    \n",
    "    if np.median(m2s) < 0.02*u.Msun:\n",
    "        M_unit = u.Mjup\n",
    "        bins = np.logspace(0, 3, 51)\n",
    "    else:\n",
    "        M_unit = u.Msun\n",
    "        bins = np.logspace(-3, 2, 51)\n",
    "        \n",
    "    # Now also r_peri^2\n",
    "    a1 = np.cbrt(samples['P'][:,None]**2 / (4*np.pi**2 / (G * (m1s[None]+m2s))))\n",
    "    r_peri2 = (m1s[None]/m2s) * a1.to(u.au) * (1-samples['ecc'][:,None])\n",
    "    \n",
    "    fig,axes = plt.subplots(1, 2, figsize=(12,6))\n",
    "    \n",
    "    ax = axes[0]\n",
    "    ax.hist(m2s.to(M_unit).value.ravel(), bins=bins)\n",
    "    ax.set_xlabel('$M$ [{0:latex_inline}]'.format(M_unit))\n",
    "    ax.set_xscale('log')\n",
    "    \n",
    "    ax = axes[1]\n",
    "    ax.hist(r_peri2.to(u.au).value.ravel(), bins=np.logspace(-3, 2, 64))\n",
    "    ax.axvline((10*u.R_sun).to(u.au).value, \n",
    "               color='tab:red', zorder=-10, alpha=0.2) # RC radius\n",
    "    ax.axvline(1., color='tab:red', zorder=-10, alpha=0.2) # RGB radius\n",
    "    ax.set_xlabel(r'$r_{\\rm peri, 2}$ [AU]')\n",
    "    ax.set_xscale('log')\n",
    "    \n",
    "    fig.tight_layout()\n",
    "    \n",
    "    if save:\n",
    "        fig.savefig(path.join(plot_path, '{0}-m2.png'.format(star.apogee_id)), \n",
    "                    dpi=250)\n",
    "\n",
    "    if save:\n",
    "        plt.close('all')"
   ]
  },
  {
   "cell_type": "code",
   "execution_count": null,
   "metadata": {
    "collapsed": true,
    "scrolled": true
   },
   "outputs": [],
   "source": [
    "np.random.seed(42)\n",
    "for i in np.random.choice(len(stars), size=16, replace=False):\n",
    "    print(i)\n",
    "    star = stars[i]\n",
    "    make_plots(star, save=True)"
   ]
  }
 ],
 "metadata": {
  "anaconda-cloud": {},
  "kernelspec": {
   "display_name": "Python [conda env:twoface]",
   "language": "python",
   "name": "conda-env-twoface-py"
  },
  "language_info": {
   "codemirror_mode": {
    "name": "ipython",
    "version": 3
   },
   "file_extension": ".py",
   "mimetype": "text/x-python",
   "name": "python",
   "nbconvert_exporter": "python",
   "pygments_lexer": "ipython3",
   "version": "3.6.2"
  }
 },
 "nbformat": 4,
 "nbformat_minor": 2
}